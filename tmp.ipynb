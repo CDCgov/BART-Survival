{
 "cells": [
  {
   "cell_type": "code",
   "execution_count": 3,
   "metadata": {},
   "outputs": [],
   "source": [
    "from bart_survival import simulation"
   ]
  },
  {
   "cell_type": "code",
   "execution_count": 74,
   "metadata": {},
   "outputs": [],
   "source": [
    "import importlib\n",
    "import numpy as np\n",
    "\n",
    "# creates a random number generator\n",
    "rng = np.random.default_rng(1)"
   ]
  },
  {
   "cell_type": "code",
   "execution_count": 77,
   "metadata": {},
   "outputs": [
    {
     "data": {
      "text/plain": [
       "array([[1.00000000e+00, 1.00000000e+00, 3.11800000e+00, 8.27700000e+01,\n",
       "        5.49593688e-01],\n",
       "       [0.00000000e+00, 0.00000000e+00, 4.23300000e+00, 4.09200000e+01,\n",
       "        2.75591132e-02]])"
      ]
     },
     "execution_count": 77,
     "metadata": {},
     "output_type": "execute_result"
    }
   ],
   "source": [
    "importlib.reload(simulation)\n",
    "rng = np.random.default_rng(1)\n",
    "x_mat = simulation.get_x_matrix(\n",
    "    N = 2,\n",
    "    x_vars = 5, \n",
    "    VAR_CLASS = [2,2,10,100], \n",
    "    VAR_PROB = [.6, .8, None, None],\n",
    "    rng = rng\n",
    ")\n",
    "x_mat"
   ]
  },
  {
   "cell_type": "code",
   "execution_count": 80,
   "metadata": {},
   "outputs": [],
   "source": [
    "with open(\"tmp.txt\", \"a\") as f:\n",
    "    f.write(\"\\n\")\n",
    "    f.write(str(x_mat))"
   ]
  },
  {
   "cell_type": "code",
   "execution_count": 82,
   "metadata": {},
   "outputs": [
    {
     "ename": "AssertionError",
     "evalue": "",
     "output_type": "error",
     "traceback": [
      "\u001b[0;31m---------------------------------------------------------------------------\u001b[0m",
      "\u001b[0;31mAssertionError\u001b[0m                            Traceback (most recent call last)",
      "Cell \u001b[0;32mIn[82], line 1\u001b[0m\n\u001b[0;32m----> 1\u001b[0m \u001b[39massert\u001b[39;00m(np\u001b[39m.\u001b[39mallclose(x_mat, [[\u001b[39m1.00000000e+00\u001b[39m, \u001b[39m1.00000000e+00\u001b[39m, \u001b[39m3.11800000e+00\u001b[39m, \u001b[39m8.27700000e+01\u001b[39m, \u001b[39m6.49593688e-01\u001b[39m],[\u001b[39m0.00000000e+00\u001b[39m, \u001b[39m0.00000000e+00\u001b[39m, \u001b[39m4.23300000e+00\u001b[39m, \u001b[39m4.09200000e+01\u001b[39m, \u001b[39m2.75591132e-02\u001b[39m]]))\n",
      "\u001b[0;31mAssertionError\u001b[0m: "
     ]
    }
   ],
   "source": [
    "\n",
    "assert(np.allclose(x_mat, [[1.00000000e+00, 1.00000000e+00, 3.11800000e+00, 8.27700000e+01, 5.49593688e-01],[0.00000000e+00, 0.00000000e+00, 4.23300000e+00, 4.09200000e+01, 2.75591132e-02]]))"
   ]
  },
  {
   "cell_type": "code",
   "execution_count": 133,
   "metadata": {},
   "outputs": [
    {
     "data": {
      "text/plain": [
       "2.718281828459045"
      ]
     },
     "execution_count": 133,
     "metadata": {},
     "output_type": "execute_result"
    }
   ],
   "source": [
    "np.exp(1)"
   ]
  },
  {
   "cell_type": "code",
   "execution_count": 191,
   "metadata": {},
   "outputs": [
    {
     "data": {
      "text/plain": [
       "0.4054651081081644"
      ]
     },
     "execution_count": 191,
     "metadata": {},
     "output_type": "execute_result"
    }
   ],
   "source": [
    "np.log(1.5)"
   ]
  },
  {
   "cell_type": "code",
   "execution_count": 371,
   "metadata": {},
   "outputs": [
    {
     "name": "stdout",
     "output_type": "stream",
     "text": [
      "mean shape 1.0\n",
      "mean scale 7.450387894581262\n",
      "mean time draws 8.556659855351331\n"
     ]
    }
   ],
   "source": [
    "importlib.reload(simulation)\n",
    "rng = np.random.default_rng(2)\n",
    "# x_mat = np.array([[1],[1],[1],[1]])\n",
    "x_mat = np.repeat([1,0],10).reshape(-1,1)\n",
    "\n",
    "\n",
    "\n",
    "event_dict, sv_true, sv_scale_true = simulation.simulate_survival(\n",
    "    x_mat = x_mat,\n",
    "    scale_f = \"np.exp(1 + 1.5*x_mat[:,0])\",\n",
    "    shape_f = \"1\",\n",
    "    eos = None,\n",
    "    cens_scale=None,\n",
    "    time_scale=None,\n",
    "    true_only=False,\n",
    "    rng = rng\n",
    ")\n",
    "\n",
    "assert (\n",
    "    np.allclose(sv_true[\"sv_true\"][0], np.exp(-np.cumsum(sv_true[\"hz_true\"], axis = 1))[0])\n",
    ")\n",
    "\n",
    "# check HR returned == expected \n",
    "# event_dict, sv_true, sv_scale_true"
   ]
  },
  {
   "cell_type": "code",
   "execution_count": 392,
   "metadata": {},
   "outputs": [
    {
     "name": "stdout",
     "output_type": "stream",
     "text": [
      "mean shape 1.0\n",
      "mean scale 7.450387894581262\n",
      "mean time draws 8.556659855351331\n",
      "0.22313016014842985\n",
      "0.22313016014842982\n"
     ]
    }
   ],
   "source": [
    "# Check that HR returned is correct\n",
    "importlib.reload(simulation)\n",
    "rng = np.random.default_rng(2)\n",
    "# x_mat = np.array([[1],[1],[1],[1]])\n",
    "x_mat = np.repeat([1,0],10).reshape(-1,1)\n",
    "\n",
    "\n",
    "\n",
    "event_dict, sv_true, sv_scale_true = simulation.simulate_survival(\n",
    "    x_mat = x_mat,\n",
    "    scale_f = \"np.exp(1 + 1.5*x_mat[:,0])\",\n",
    "    shape_f = \"1\",\n",
    "    eos = None,\n",
    "    cens_scale=None,\n",
    "    time_scale=None,\n",
    "    true_only=False,\n",
    "    rng = rng\n",
    ")\n",
    "\n",
    "hz = sv_true[\"hz_true\"]\n",
    "# print(hz)\n",
    "hr = hz[1,:]/hz[10,:]\n",
    "print(hr[0])\n",
    "exp_hr = np.power(np.exp(-1.5), 1)\n",
    "print(exp_hr)\n",
    "assert(np.allclose(hr[0],exp_hr))\n",
    "# assert (\n",
    "    # np.allclose(sv_true[\"sv_true\"][0], np.exp(-np.cumsum(sv_true[\"hz_true\"], axis = 1))[0])\n",
    "# )"
   ]
  },
  {
   "cell_type": "code",
   "execution_count": 426,
   "metadata": {},
   "outputs": [
    {
     "name": "stdout",
     "output_type": "stream",
     "text": [
      "mean shape 1.0\n",
      "mean scale 149.64504114868228\n",
      "mean time draws 171.86510746381683\n",
      "(20, 180)\n"
     ]
    }
   ],
   "source": [
    "# Check that eos and time_scale work correctly\n",
    "importlib.reload(simulation)\n",
    "rng = np.random.default_rng(2)\n",
    "# x_mat = np.array([[1],[1],[1],[1]])\n",
    "x_mat = np.repeat([1,0],10).reshape(-1,1)\n",
    "\n",
    "event_dict, sv_true, sv_scale_true = simulation.simulate_survival(\n",
    "    x_mat = x_mat,\n",
    "    scale_f = \"np.exp(4 + 1.5*x_mat[:,0])\",\n",
    "    shape_f = \"1\",\n",
    "    eos = 180,\n",
    "    cens_scale=None,\n",
    "    time_scale=30,\n",
    "    true_only=False,\n",
    "    rng = rng\n",
    ")\n",
    "# eos set to 180\n",
    "assert(event_dict[\"t_event\"].max() == 180)\n",
    "ev_msk = event_dict[\"t_event\"]==180\n",
    "assert(all(event_dict[\"status\"][ev_msk] == False) == True)\n",
    "\n",
    "# check scaling worked\n",
    "tdiff = sv_scale_true[\"true_times\"][1] - sv_scale_true[\"true_times\"][0] \n",
    "assert(tdiff == 30)\n",
    "assert(sv_scale_true[\"scale_times\"].shape[0] == 180/30)"
   ]
  },
  {
   "cell_type": "code",
   "execution_count": 427,
   "metadata": {},
   "outputs": [
    {
     "data": {
      "text/plain": [
       "array([  1,   2,   3,   4,   5,   6,   7,   8,   9,  10,  11,  12,  13,\n",
       "        14,  15,  16,  17,  18,  19,  20,  21,  22,  23,  24,  25,  26,\n",
       "        27,  28,  29,  30,  31,  32,  33,  34,  35,  36,  37,  38,  39,\n",
       "        40,  41,  42,  43,  44,  45,  46,  47,  48,  49,  50,  51,  52,\n",
       "        53,  54,  55,  56,  57,  58,  59,  60,  61,  62,  63,  64,  65,\n",
       "        66,  67,  68,  69,  70,  71,  72,  73,  74,  75,  76,  77,  78,\n",
       "        79,  80,  81,  82,  83,  84,  85,  86,  87,  88,  89,  90,  91,\n",
       "        92,  93,  94,  95,  96,  97,  98,  99, 100, 101, 102, 103, 104,\n",
       "       105, 106, 107, 108, 109, 110, 111, 112, 113, 114, 115, 116, 117,\n",
       "       118, 119, 120, 121, 122, 123, 124, 125, 126, 127, 128, 129, 130,\n",
       "       131, 132, 133, 134, 135, 136, 137, 138, 139, 140, 141, 142, 143,\n",
       "       144, 145, 146, 147, 148, 149, 150, 151, 152, 153, 154, 155, 156,\n",
       "       157, 158, 159, 160, 161, 162, 163, 164, 165, 166, 167, 168, 169,\n",
       "       170, 171, 172, 173, 174, 175, 176, 177, 178, 179, 180])"
      ]
     },
     "execution_count": 427,
     "metadata": {},
     "output_type": "execute_result"
    }
   ],
   "source": [
    "sv_true[\"true_times\"]"
   ]
  },
  {
   "cell_type": "code",
   "execution_count": 428,
   "metadata": {},
   "outputs": [
    {
     "data": {
      "text/plain": [
       "{'sv_true': array([[0.88461466, 0.78254309, 0.69224909, 0.61237369, 0.54171475,\n",
       "         0.4792088 ],\n",
       "        [0.88461466, 0.78254309, 0.69224909, 0.61237369, 0.54171475,\n",
       "         0.4792088 ],\n",
       "        [0.88461466, 0.78254309, 0.69224909, 0.61237369, 0.54171475,\n",
       "         0.4792088 ],\n",
       "        [0.88461466, 0.78254309, 0.69224909, 0.61237369, 0.54171475,\n",
       "         0.4792088 ],\n",
       "        [0.88461466, 0.78254309, 0.69224909, 0.61237369, 0.54171475,\n",
       "         0.4792088 ],\n",
       "        [0.88461466, 0.78254309, 0.69224909, 0.61237369, 0.54171475,\n",
       "         0.4792088 ],\n",
       "        [0.88461466, 0.78254309, 0.69224909, 0.61237369, 0.54171475,\n",
       "         0.4792088 ],\n",
       "        [0.88461466, 0.78254309, 0.69224909, 0.61237369, 0.54171475,\n",
       "         0.4792088 ],\n",
       "        [0.88461466, 0.78254309, 0.69224909, 0.61237369, 0.54171475,\n",
       "         0.4792088 ],\n",
       "        [0.88461466, 0.78254309, 0.69224909, 0.61237369, 0.54171475,\n",
       "         0.4792088 ],\n",
       "        [0.57725616, 0.33322467, 0.19235599, 0.11103868, 0.06409776,\n",
       "         0.03700083],\n",
       "        [0.57725616, 0.33322467, 0.19235599, 0.11103868, 0.06409776,\n",
       "         0.03700083],\n",
       "        [0.57725616, 0.33322467, 0.19235599, 0.11103868, 0.06409776,\n",
       "         0.03700083],\n",
       "        [0.57725616, 0.33322467, 0.19235599, 0.11103868, 0.06409776,\n",
       "         0.03700083],\n",
       "        [0.57725616, 0.33322467, 0.19235599, 0.11103868, 0.06409776,\n",
       "         0.03700083],\n",
       "        [0.57725616, 0.33322467, 0.19235599, 0.11103868, 0.06409776,\n",
       "         0.03700083],\n",
       "        [0.57725616, 0.33322467, 0.19235599, 0.11103868, 0.06409776,\n",
       "         0.03700083],\n",
       "        [0.57725616, 0.33322467, 0.19235599, 0.11103868, 0.06409776,\n",
       "         0.03700083],\n",
       "        [0.57725616, 0.33322467, 0.19235599, 0.11103868, 0.06409776,\n",
       "         0.03700083],\n",
       "        [0.57725616, 0.33322467, 0.19235599, 0.11103868, 0.06409776,\n",
       "         0.03700083]]),\n",
       " 'hz_true': array([[0.00408677, 0.00408677, 0.00408677, 0.00408677, 0.00408677,\n",
       "         0.00408677],\n",
       "        [0.00408677, 0.00408677, 0.00408677, 0.00408677, 0.00408677,\n",
       "         0.00408677],\n",
       "        [0.00408677, 0.00408677, 0.00408677, 0.00408677, 0.00408677,\n",
       "         0.00408677],\n",
       "        [0.00408677, 0.00408677, 0.00408677, 0.00408677, 0.00408677,\n",
       "         0.00408677],\n",
       "        [0.00408677, 0.00408677, 0.00408677, 0.00408677, 0.00408677,\n",
       "         0.00408677],\n",
       "        [0.00408677, 0.00408677, 0.00408677, 0.00408677, 0.00408677,\n",
       "         0.00408677],\n",
       "        [0.00408677, 0.00408677, 0.00408677, 0.00408677, 0.00408677,\n",
       "         0.00408677],\n",
       "        [0.00408677, 0.00408677, 0.00408677, 0.00408677, 0.00408677,\n",
       "         0.00408677],\n",
       "        [0.00408677, 0.00408677, 0.00408677, 0.00408677, 0.00408677,\n",
       "         0.00408677],\n",
       "        [0.00408677, 0.00408677, 0.00408677, 0.00408677, 0.00408677,\n",
       "         0.00408677],\n",
       "        [0.01831564, 0.01831564, 0.01831564, 0.01831564, 0.01831564,\n",
       "         0.01831564],\n",
       "        [0.01831564, 0.01831564, 0.01831564, 0.01831564, 0.01831564,\n",
       "         0.01831564],\n",
       "        [0.01831564, 0.01831564, 0.01831564, 0.01831564, 0.01831564,\n",
       "         0.01831564],\n",
       "        [0.01831564, 0.01831564, 0.01831564, 0.01831564, 0.01831564,\n",
       "         0.01831564],\n",
       "        [0.01831564, 0.01831564, 0.01831564, 0.01831564, 0.01831564,\n",
       "         0.01831564],\n",
       "        [0.01831564, 0.01831564, 0.01831564, 0.01831564, 0.01831564,\n",
       "         0.01831564],\n",
       "        [0.01831564, 0.01831564, 0.01831564, 0.01831564, 0.01831564,\n",
       "         0.01831564],\n",
       "        [0.01831564, 0.01831564, 0.01831564, 0.01831564, 0.01831564,\n",
       "         0.01831564],\n",
       "        [0.01831564, 0.01831564, 0.01831564, 0.01831564, 0.01831564,\n",
       "         0.01831564],\n",
       "        [0.01831564, 0.01831564, 0.01831564, 0.01831564, 0.01831564,\n",
       "         0.01831564]]),\n",
       " 'true_times': array([ 30,  60,  90, 120, 150, 180]),\n",
       " 'scale_times': array([1., 2., 3., 4., 5., 6.])}"
      ]
     },
     "execution_count": 428,
     "metadata": {},
     "output_type": "execute_result"
    }
   ],
   "source": [
    "sv_scale_true"
   ]
  },
  {
   "cell_type": "code",
   "execution_count": 389,
   "metadata": {},
   "outputs": [
    {
     "data": {
      "text/plain": [
       "0.9320390859672263"
      ]
     },
     "execution_count": 389,
     "metadata": {},
     "output_type": "execute_result"
    }
   ],
   "source": []
  },
  {
   "cell_type": "code",
   "execution_count": 370,
   "metadata": {},
   "outputs": [
    {
     "name": "stdout",
     "output_type": "stream",
     "text": [
      "(20, 36)\n",
      "(20, 36)\n",
      "[ 1  2  3  4  5  6  7  8  9 10 11 12 13 14 15 16 17 18 19 20 21 22 23 24\n",
      " 25 26 27 28 29 30 31 32 33 34 35 36]\n",
      "[0.92119366 0.84859775 0.78172286 0.72011814 0.66336826 0.61109064\n",
      " 0.56293282 0.51857014 0.47770352 0.44005745 0.40537813 0.37343176\n",
      " 0.34400297 0.31689336 0.29192015 0.26891499 0.24772278 0.22820065\n",
      " 0.21021699 0.19365056 0.17838967 0.16433143 0.15138107 0.13945128\n",
      " 0.12846164 0.11833804 0.10901226 0.1004214  0.09250756 0.08521737\n",
      " 0.0785017  0.07231527 0.06661637 0.06136658 0.0565305  0.05207554]\n",
      "[0.92119366 0.84859775 0.78172286 0.72011814 0.66336826 0.61109064\n",
      " 0.56293282 0.51857014 0.47770352 0.44005745 0.40537813 0.37343176\n",
      " 0.34400297 0.31689336 0.29192015 0.26891499 0.24772278 0.22820065\n",
      " 0.21021699 0.19365056 0.17838967 0.16433143 0.15138107 0.13945128\n",
      " 0.12846164 0.11833804 0.10901226 0.1004214  0.09250756 0.08521737\n",
      " 0.0785017  0.07231527 0.06661637 0.06136658 0.0565305  0.05207554]\n"
     ]
    }
   ],
   "source": [
    "# sv_scale_true[\"sv_true\"][:,sv_scale_true[\"true_times\"].tolist()]\n",
    "# sv_scale_true[\"sv_true\"][:,1]\n",
    "# sv_scale_true[\"sv_true\"].shape\n",
    "print(sv_true[\"sv_true\"].shape)\n",
    "print(sv_true[\"hz_true\"].shape)\n",
    "print(sv_true[\"true_times\"])\n",
    "\n",
    "print(sv_true[\"sv_true\"][0])\n",
    "print(np.exp(-np.cumsum(sv_true[\"hz_true\"], axis = 1))[0])\n",
    "\n",
    "assert (\n",
    "    np.allclose(sv_true[\"sv_true\"][0], np.exp(-np.cumsum(sv_true[\"hz_true\"], axis = 1))[0])\n",
    ")\n",
    "# sv_true[\"sv_true\"]"
   ]
  },
  {
   "cell_type": "code",
   "execution_count": 347,
   "metadata": {},
   "outputs": [
    {
     "name": "stdout",
     "output_type": "stream",
     "text": [
      "[ 7.3890561  12.18249396]\n",
      "[0.36787944 0.36787944 0.36787944 0.36787944 0.36787944 0.36787944\n",
      " 0.36787944 0.36787944 0.36787944]\n"
     ]
    },
    {
     "data": {
      "text/plain": [
       "0.36787944117144233"
      ]
     },
     "execution_count": 347,
     "metadata": {},
     "output_type": "execute_result"
    }
   ],
   "source": [
    "x_mat = np.array([0,1]).reshape(-1,1)\n",
    "scale_f = \"np.exp(2+.5*x_mat[:,0])\"\n",
    "print(eval(scale_f))\n",
    "scale = eval(scale_f)\n",
    "shape = np.array([2,2])\n",
    "t = np.arange(1,10,1)\n",
    "hz = simulation.weibull_hazard(scale, shape, t)\n",
    "hz_sv = np.exp(-np.cumsum(hz, axis = 1))\n",
    "sv = simulation.weibull_survival(scale, shape, t)\n",
    "# print(sv)\n",
    "# print(hz_sv)\n",
    "# print(hz)\n",
    "\n",
    "hr = hz[1,:]/hz[0,:]\n",
    "print(hr)\n",
    "np.power(np.exp(-.5), 2)\n",
    "\n"
   ]
  },
  {
   "cell_type": "code",
   "execution_count": 218,
   "metadata": {},
   "outputs": [
    {
     "data": {
      "text/plain": [
       "array([0.95143199, 0.95143199, 0.90522284, 0.86125797, 0.81942838,\n",
       "       0.77963038, 0.74176529, 0.70573923, 0.67146288, 0.63885126,\n",
       "       0.60782353, 0.57830275, 0.55021574, 0.52349286, 0.49806785,\n",
       "       0.47387769, 0.4508624 , 0.42896491, 0.40813094, 0.38830883,\n",
       "       0.36944945, 0.35150602, 0.33443407, 0.31819128, 0.30273736,\n",
       "       0.28803401, 0.27404477, 0.26073497, 0.24807159, 0.23602325,\n",
       "       0.22456007, 0.21365363, 0.2032769 , 0.19340415, 0.18401089,\n",
       "       0.17507385, 0.16657086, 0.15848085, 0.15078375, 0.14346048,\n",
       "       0.13649289, 0.1298637 , 0.12355648, 0.11755559, 0.11184615,\n",
       "       0.10641401, 0.10124569, 0.09632839, 0.09164991, 0.08719866,\n",
       "       0.08296359, 0.07893422, 0.07510054, 0.07145305, 0.06798272,\n",
       "       0.06468094, 0.06153951, 0.05855066, 0.05570697, 0.0530014 ,\n",
       "       0.05042722, 0.04797807, 0.04564787, 0.04343085, 0.0413215 ,\n",
       "       0.0393146 , 0.03740516, 0.03558847, 0.03386001, 0.0322155 ,\n",
       "       0.03065085, 0.0291622 , 0.02774585, 0.02639829, 0.02511618])"
      ]
     },
     "execution_count": 218,
     "metadata": {},
     "output_type": "execute_result"
    }
   ],
   "source": [
    "sv_true[\"sv_true\"][0]"
   ]
  },
  {
   "cell_type": "code",
   "execution_count": 197,
   "metadata": {},
   "outputs": [
    {
     "data": {
      "text/plain": [
       "array([[0.04975124, 0.04975124],\n",
       "       [0.13550136, 0.13550136]])"
      ]
     },
     "execution_count": 197,
     "metadata": {},
     "output_type": "execute_result"
    }
   ],
   "source": [
    "importlib.reload(simulation)\n",
    "simulation.weibull_hazard(scale = np.array([20.1,7.38]), shape=np.array([1,1]), t=np.array([1,2]))"
   ]
  },
  {
   "cell_type": "code",
   "execution_count": null,
   "metadata": {},
   "outputs": [],
   "source": []
  },
  {
   "cell_type": "code",
   "execution_count": 201,
   "metadata": {},
   "outputs": [
    {
     "data": {
      "text/plain": [
       "0.9858167945227654"
      ]
     },
     "execution_count": 201,
     "metadata": {},
     "output_type": "execute_result"
    }
   ],
   "source": [
    "# np.exp(.28/.5)\n",
    "# np.log(.135/0.03)\n",
    "# np.log(.04/.135)\n",
    "np.log(20.1/ 7.5)\n"
   ]
  },
  {
   "cell_type": "code",
   "execution_count": 154,
   "metadata": {},
   "outputs": [
    {
     "data": {
      "text/plain": [
       "array([[10., 10.],\n",
       "       [20., 20.]])"
      ]
     },
     "execution_count": 154,
     "metadata": {},
     "output_type": "execute_result"
    }
   ],
   "source": [
    "np.array([10,20]).reshape(-1,1)*np.power(np.array([1,2])/np.array([10,20]).reshape(-1,1), np.array([1,1]).reshape(-1,1)-1)"
   ]
  },
  {
   "cell_type": "code",
   "execution_count": 84,
   "metadata": {},
   "outputs": [
    {
     "data": {
      "text/plain": [
       "({'t_event': array([[14.],\n",
       "         [ 2.],\n",
       "         [30.],\n",
       "         [ 2.]]),\n",
       "  't_event_scale': array([[2.],\n",
       "         [1.],\n",
       "         [3.],\n",
       "         [1.]]),\n",
       "  'status': array([[1.],\n",
       "         [1.],\n",
       "         [0.],\n",
       "         [1.]]),\n",
       "  'cens_percentage': None},\n",
       " {'sv_true': array([[0.95143199, 0.90667782, 0.86402884, 0.823386  , 0.78465496,\n",
       "          0.74774577, 0.71257275, 0.67905422, 0.64711236, 0.616673  ,\n",
       "          0.58766548, 0.56002243, 0.53367968, 0.50857605, 0.48465327,\n",
       "          0.46185579, 0.44013067, 0.41942748, 0.39969814, 0.38089684,\n",
       "          0.36297993, 0.34590581, 0.32963483, 0.31412922, 0.29935298,\n",
       "          0.28527179, 0.27185296, 0.25906534, 0.24687923, 0.23526634,\n",
       "          0.2241997 , 0.21365363],\n",
       "         [0.95143199, 0.90667782, 0.86402884, 0.823386  , 0.78465496,\n",
       "          0.74774577, 0.71257275, 0.67905422, 0.64711236, 0.616673  ,\n",
       "          0.58766548, 0.56002243, 0.53367968, 0.50857605, 0.48465327,\n",
       "          0.46185579, 0.44013067, 0.41942748, 0.39969814, 0.38089684,\n",
       "          0.36297993, 0.34590581, 0.32963483, 0.31412922, 0.29935298,\n",
       "          0.28527179, 0.27185296, 0.25906534, 0.24687923, 0.23526634,\n",
       "          0.2241997 , 0.21365363],\n",
       "         [0.95143199, 0.90667782, 0.86402884, 0.823386  , 0.78465496,\n",
       "          0.74774577, 0.71257275, 0.67905422, 0.64711236, 0.616673  ,\n",
       "          0.58766548, 0.56002243, 0.53367968, 0.50857605, 0.48465327,\n",
       "          0.46185579, 0.44013067, 0.41942748, 0.39969814, 0.38089684,\n",
       "          0.36297993, 0.34590581, 0.32963483, 0.31412922, 0.29935298,\n",
       "          0.28527179, 0.27185296, 0.25906534, 0.24687923, 0.23526634,\n",
       "          0.2241997 , 0.21365363],\n",
       "         [0.95143199, 0.90667782, 0.86402884, 0.823386  , 0.78465496,\n",
       "          0.74774577, 0.71257275, 0.67905422, 0.64711236, 0.616673  ,\n",
       "          0.58766548, 0.56002243, 0.53367968, 0.50857605, 0.48465327,\n",
       "          0.46185579, 0.44013067, 0.41942748, 0.39969814, 0.38089684,\n",
       "          0.36297993, 0.34590581, 0.32963483, 0.31412922, 0.29935298,\n",
       "          0.28527179, 0.27185296, 0.25906534, 0.24687923, 0.23526634,\n",
       "          0.2241997 , 0.21365363]]),\n",
       "  'hz_true': array([[1., 1., 1., 1., 1., 1., 1., 1., 1., 1., 1., 1., 1., 1., 1., 1.,\n",
       "          1., 1., 1., 1., 1., 1., 1., 1., 1., 1., 1., 1., 1., 1., 1., 1.],\n",
       "         [1., 1., 1., 1., 1., 1., 1., 1., 1., 1., 1., 1., 1., 1., 1., 1.,\n",
       "          1., 1., 1., 1., 1., 1., 1., 1., 1., 1., 1., 1., 1., 1., 1., 1.],\n",
       "         [1., 1., 1., 1., 1., 1., 1., 1., 1., 1., 1., 1., 1., 1., 1., 1.,\n",
       "          1., 1., 1., 1., 1., 1., 1., 1., 1., 1., 1., 1., 1., 1., 1., 1.],\n",
       "         [1., 1., 1., 1., 1., 1., 1., 1., 1., 1., 1., 1., 1., 1., 1., 1.,\n",
       "          1., 1., 1., 1., 1., 1., 1., 1., 1., 1., 1., 1., 1., 1., 1., 1.]]),\n",
       "  'true_times': array([ 1.        ,  1.96774194,  2.93548387,  3.90322581,  4.87096774,\n",
       "          5.83870968,  6.80645161,  7.77419355,  8.74193548,  9.70967742,\n",
       "         10.67741935, 11.64516129, 12.61290323, 13.58064516, 14.5483871 ,\n",
       "         15.51612903, 16.48387097, 17.4516129 , 18.41935484, 19.38709677,\n",
       "         20.35483871, 21.32258065, 22.29032258, 23.25806452, 24.22580645,\n",
       "         25.19354839, 26.16129032, 27.12903226, 28.09677419, 29.06451613,\n",
       "         30.03225806, 31.        ])},\n",
       " {'sv_true': array([[0.90667782, 0.56002243, 0.34590581],\n",
       "         [0.90667782, 0.56002243, 0.34590581],\n",
       "         [0.90667782, 0.56002243, 0.34590581],\n",
       "         [0.90667782, 0.56002243, 0.34590581]]),\n",
       "  'hz_true': array([[1., 1., 1.],\n",
       "         [1., 1., 1.],\n",
       "         [1., 1., 1.],\n",
       "         [1., 1., 1.]]),\n",
       "  'true_times': array([ 1, 11, 21]),\n",
       "  'scale_times': array([0.1, 1.1, 2.1])})"
      ]
     },
     "execution_count": 84,
     "metadata": {},
     "output_type": "execute_result"
    }
   ],
   "source": [
    "event_dict, sv_true, sv_scale_true"
   ]
  },
  {
   "cell_type": "code",
   "execution_count": 64,
   "metadata": {},
   "outputs": [
    {
     "name": "stdout",
     "output_type": "stream",
     "text": [
      "['u must be between 0 and 1', 'scale must be > 0', 'shape must be > 0', 't must be > 0']\n"
     ]
    }
   ],
   "source": [
    "# test check_inputs\n",
    "# u, scale, shape, t exceptions\n",
    "# These all throw errors correctly\n",
    "try:\n",
    "    simulation.check_inputs(scale = -1, shape = -1, u =-0.1, t=-1)\n",
    "except Exception as e:\n",
    "    print(e)\n",
    "    errors = str(e)\n",
    "    \n",
    "# simulation.check_inputs(scale = 1, shape = -1, u = 0.1, t=1)\n",
    "# simulation.check_inputs(scale = -1, shape = 1, u = 0, t=1)\n",
    "# simulation.check_inputs(scale = -1, shape = 1, u = 0.1, t=-1)"
   ]
  },
  {
   "cell_type": "code",
   "execution_count": null,
   "metadata": {},
   "outputs": [],
   "source": []
  },
  {
   "cell_type": "code",
   "execution_count": 58,
   "metadata": {},
   "outputs": [],
   "source": [
    "with open(\"tmp.txt\", \"a\") as f:\n",
    "    f.write(str(errors))"
   ]
  },
  {
   "cell_type": "code",
   "execution_count": 71,
   "metadata": {},
   "outputs": [
    {
     "name": "stdout",
     "output_type": "stream",
     "text": [
      "['u must be between 0 and 1', 'scale must be > 0', 'shape must be > 0', 't must be > 0']\n"
     ]
    }
   ],
   "source": [
    "try:\n",
    "        simulation.check_inputs(scale = -1, shape = -1, u = -0.1, t=-1)\n",
    "except Exception as e:\n",
    "        error = str(e)\n",
    "print(error)\n",
    "assert (error == \"['u must be between 0 and 1', 'scale must be > 0', 'shape must be > 0', 't must be > 0']\")\n"
   ]
  },
  {
   "cell_type": "code",
   "execution_count": 38,
   "metadata": {},
   "outputs": [
    {
     "data": {
      "text/plain": [
       "(array([[1.51742713],\n",
       "        [0.83255461],\n",
       "        [0.32459285]]),\n",
       " array([[2., 4.]]),\n",
       " array([[0.36787944, 0.01831564]]))"
      ]
     },
     "execution_count": 38,
     "metadata": {},
     "output_type": "execute_result"
    }
   ],
   "source": [
    "# Check Survival components\n",
    "importlib.reload(simulation)\n",
    "\n",
    "iws = simulation.inverse_weibull_survival(scale = 1,shape =2, u = np.array([.1,.5,.9]))\n",
    "wh = simulation.weibull_hazard(scale=1, shape=2, t=np.array([1,2]))\n",
    "ws = simulation.weibull_survival(scale=1, shape=2, t=np.array([1,2]))\n",
    "# event_dict, sv_true, sv_scale_true\n",
    "\n",
    "iws, wh, ws"
   ]
  },
  {
   "cell_type": "code",
   "execution_count": 45,
   "metadata": {},
   "outputs": [],
   "source": [
    "assert (np.allclose(iws, np.array([[1.51742713],[0.83255461],[0.32459285]])))\n",
    "assert (np.allclose(wh, np.array([[2., 4.]])))\n",
    "assert (np.allclose(ws, np.array([[0.36787944, 0.01831564]])))"
   ]
  },
  {
   "cell_type": "code",
   "execution_count": null,
   "metadata": {},
   "outputs": [],
   "source": []
  }
 ],
 "metadata": {
  "kernelspec": {
   "display_name": ".venv",
   "language": "python",
   "name": ".venv"
  },
  "language_info": {
   "codemirror_mode": {
    "name": "ipython",
    "version": 3
   },
   "file_extension": ".py",
   "mimetype": "text/x-python",
   "name": "python",
   "nbconvert_exporter": "python",
   "pygments_lexer": "ipython3",
   "version": "3.10.12"
  },
  "orig_nbformat": 4,
  "vscode": {
   "interpreter": {
    "hash": "31f2aee4e71d21fbe5cf8b01ff0e069b9275f58929596ceb00d14d90e3e16cd6"
   }
  }
 },
 "nbformat": 4,
 "nbformat_minor": 2
}
