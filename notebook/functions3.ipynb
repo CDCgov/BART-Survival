{
 "cells": [
  {
   "cell_type": "code",
   "execution_count": 1,
   "metadata": {},
   "outputs": [
    {
     "name": "stderr",
     "output_type": "stream",
     "text": [
      "WARNING (pytensor.tensor.blas): Using NumPy C-API based implementation for BLAS functions.\n"
     ]
    }
   ],
   "source": [
    "# notebook for the prm check\n",
    "import pandas as pd\n",
    "import numpy as np\n",
    "import lifelines as ll\n",
    "import sksurv as sks\n",
    "import matplotlib.pyplot as plt\n",
    "from bart_survival import surv_bart as sb\n",
    "# from bart_survival import simulation as sm\n",
    "import lifelines as ll\n",
    "from lifelines import KaplanMeierFitter\n",
    "import subprocess\n",
    "import importlib"
   ]
  },
  {
   "cell_type": "code",
   "execution_count": 2,
   "metadata": {},
   "outputs": [],
   "source": [
    "import sys\n",
    "sys.path.append(\"../py/\")\n",
    "sys.path.append(\"../src/\")\n",
    "import _conditions1 as cn\n",
    "import _functions1 as fn\n",
    "import _sim_iter1 as si\n",
    "import _plot_fx as pltf\n",
    "import sim_adj as sm"
   ]
  },
  {
   "cell_type": "code",
   "execution_count": 17,
   "metadata": {},
   "outputs": [],
   "source": [
    "# SCENARIO = {\n",
    "#     \"type\": \"prm\",\n",
    "#     \"x_vars\": 3, \n",
    "#     \"VAR_CLASS\": [2,2],\n",
    "#     \"VAR_PROB\":[.5,.5],\n",
    "#     # \"scale_f\": \"2.5*x_mat[:,0]\",\n",
    "#     \"scale_f\": \"10 + 0.8*x_mat[:,0] - 1.2 * x_mat[:,1]\",\n",
    "#     \"shape_f\": \"3 - 1.5 * x_mat[:,0]\",\n",
    "#     \"cens_scale\":None\n",
    "# }\n",
    "SCENARIO = {\n",
    "    \"type\": \"param_check_1\",\n",
    "    \"x_vars\": 10, \n",
    "    \"VAR_CLASS\": [2,2,1,1,1],\n",
    "    \"VAR_PROB\":[.5,.5,None,None,None],\n",
    "    # \"scale_f\": \"2.5*x_mat[:,0]\",\n",
    "    \"scale_f\": \"10 + 0.8*x_mat[:,0] - .4*x_mat[:,0]*x_mat[:,2] -.4*x_mat[:,1] + .2*x_mat[:,2] - .2 * x_mat[:,3] + .2 * x_mat[:,4]\",\n",
    "    \"shape_f\": \"2.5 - 1.1 * x_mat[:,0] -.4 * x_mat[:,1]\",\n",
    "    \"cens_scale\":None\n",
    "}\n",
    "\n",
    "SPLT_R = [\n",
    "    \"pmb.ContinuousSplitRule()\", # time\n",
    "    \"pmb.OneHotSplitRule()\",\n",
    "    \"pmb.OneHotSplitRule()\",\n",
    "    \"pmb.ContinuousSplitRule()\",\n",
    "    \"pmb.ContinuousSplitRule()\",\n",
    "    \"pmb.ContinuousSplitRule()\", \n",
    "    \"pmb.ContinuousSplitRule()\", # addl\n",
    "    \"pmb.ContinuousSplitRule()\", \n",
    "    \"pmb.ContinuousSplitRule()\", \n",
    "    \"pmb.ContinuousSplitRule()\", \n",
    "    \"pmb.ContinuousSplitRule()\", \n",
    "]\n",
    "\n",
    "# SPLT_R = [\n",
    "#     \"pmb.ContinuousSplitRule()\",\n",
    "#     \"pmb.OneHotSplitRule()\",\n",
    "#     \"pmb.ContinuousSplitRule()\",\n",
    "#     \"pmb.ContinuousSplitRule()\"\n",
    "# ]\n",
    "\n",
    "EXP_NAME = \"param_eval1\"\n",
    "RUN_NAME = \"param_run1\"\n",
    "N = 400\n",
    "TREES = [10,25,50,100,200]\n",
    "TUNE = [10,100,1000]\n",
    "DRAW = [250, 500, 1000, 2000]\n",
    "CHAINS = 5\n",
    "SEED_ADDL=99\n",
    "ITERS = 10\n",
    "\n",
    "idx = 0\n",
    "MDICT = {\n",
    "\t\"trees\":TREES[idx],\n",
    "\t\"split_rules\": SPLT_R\n",
    "}\n",
    "SDICT = {\n",
    "\t\"draws\": DRAW[idx],\n",
    "\t\"tune\": TUNE[idx],\n",
    "\t\"cores\": CHAINS,\n",
    "\t\"chains\": CHAINS,\n",
    "\t\"compute_convergence_checks\":False\n",
    "}"
   ]
  },
  {
   "cell_type": "code",
   "execution_count": 232,
   "metadata": {},
   "outputs": [
    {
     "data": {
      "text/plain": [
       "<module '_functions1' from '/Users/jacobtiegs/projects/bart_paper/bart_survival_paper/notebook/../py/_functions1.py'>"
      ]
     },
     "execution_count": 232,
     "metadata": {},
     "output_type": "execute_result"
    }
   ],
   "source": [
    "importlib.reload(fn)"
   ]
  },
  {
   "cell_type": "code",
   "execution_count": 18,
   "metadata": {},
   "outputs": [
    {
     "name": "stdout",
     "output_type": "stream",
     "text": [
      "mean shape 1.6869999999999998\n",
      "mean scale 10.409677000000002\n",
      "60.0\n",
      "mean time draws 9.83813053161131\n",
      "good sim\n"
     ]
    },
    {
     "name": "stderr",
     "output_type": "stream",
     "text": [
      "Only 250 samples in chain.\n",
      "Multiprocess sampling (5 chains in 5 jobs)\n",
      "PGBART: [f]\n",
      "WARNING (pytensor.tensor.blas): Using NumPy C-API based implementation for BLAS functions.\n",
      "WARNING (pytensor.tensor.blas): Using NumPy C-API based implementation for BLAS functions.\n",
      "WARNING (pytensor.tensor.blas): Using NumPy C-API based implementation for BLAS functions.\n",
      "WARNING (pytensor.tensor.blas): Using NumPy C-API based implementation for BLAS functions.\n",
      "WARNING (pytensor.tensor.blas): Using NumPy C-API based implementation for BLAS functions.\n"
     ]
    },
    {
     "data": {
      "text/html": [
       "\n",
       "<style>\n",
       "    /* Turns off some styling */\n",
       "    progress {\n",
       "        /* gets rid of default border in Firefox and Opera. */\n",
       "        border: none;\n",
       "        /* Needs to be in here for Safari polyfill so background images work as expected. */\n",
       "        background-size: auto;\n",
       "    }\n",
       "    progress:not([value]), progress:not([value])::-webkit-progress-bar {\n",
       "        background: repeating-linear-gradient(45deg, #7e7e7e, #7e7e7e 10px, #5c5c5c 10px, #5c5c5c 20px);\n",
       "    }\n",
       "    .progress-bar-interrupted, .progress-bar-interrupted::-webkit-progress-bar {\n",
       "        background: #F44336;\n",
       "    }\n",
       "</style>\n"
      ],
      "text/plain": [
       "<IPython.core.display.HTML object>"
      ]
     },
     "metadata": {},
     "output_type": "display_data"
    },
    {
     "data": {
      "text/html": [
       "\n",
       "    <div>\n",
       "      <progress value='1300' class='' max='1300' style='width:300px; height:20px; vertical-align: middle;'></progress>\n",
       "      100.00% [1300/1300 00:07&lt;00:00 Sampling 5 chains, 0 divergences]\n",
       "    </div>\n",
       "    "
      ],
      "text/plain": [
       "<IPython.core.display.HTML object>"
      ]
     },
     "metadata": {},
     "output_type": "display_data"
    },
    {
     "name": "stderr",
     "output_type": "stream",
     "text": [
      "WARNING (pytensor.tensor.blas): Using NumPy C-API based implementation for BLAS functions.\n",
      "Sampling 5 chains for 10 tune and 250 draw iterations (50 + 1_250 draws total) took 21 seconds.\n",
      "Sampling: [f]\n"
     ]
    },
    {
     "data": {
      "text/html": [
       "\n",
       "<style>\n",
       "    /* Turns off some styling */\n",
       "    progress {\n",
       "        /* gets rid of default border in Firefox and Opera. */\n",
       "        border: none;\n",
       "        /* Needs to be in here for Safari polyfill so background images work as expected. */\n",
       "        background-size: auto;\n",
       "    }\n",
       "    progress:not([value]), progress:not([value])::-webkit-progress-bar {\n",
       "        background: repeating-linear-gradient(45deg, #7e7e7e, #7e7e7e 10px, #5c5c5c 10px, #5c5c5c 20px);\n",
       "    }\n",
       "    .progress-bar-interrupted, .progress-bar-interrupted::-webkit-progress-bar {\n",
       "        background: #F44336;\n",
       "    }\n",
       "</style>\n"
      ],
      "text/plain": [
       "<IPython.core.display.HTML object>"
      ]
     },
     "metadata": {},
     "output_type": "display_data"
    },
    {
     "data": {
      "text/html": [
       "\n",
       "    <div>\n",
       "      <progress value='1250' class='' max='1250' style='width:300px; height:20px; vertical-align: middle;'></progress>\n",
       "      100.00% [1250/1250 00:02&lt;00:00]\n",
       "    </div>\n",
       "    "
      ],
      "text/plain": [
       "<IPython.core.display.HTML object>"
      ]
     },
     "metadata": {},
     "output_type": "display_data"
    }
   ],
   "source": [
    "# meta, sv_true, pb_sv = fn.sim_prm_1s(\n",
    "# x_mat, event_dict, sv_true = fn.sim_prm_1s(\n",
    "# ev2 = fn.sim_prm_1s(\n",
    "sv_true, pb_sv, uniq_t, stats, intvs = fn.sim_prm_1s(\n",
    "\tseed=SEED_ADDL, \n",
    "\tn=N, \n",
    "\tscenario_=SCENARIO, \n",
    "\tSPLIT_RULES=SPLT_R, \n",
    "\tmodel_dict=MDICT, \n",
    "\tsampler_dict=SDICT\n",
    "\t)"
   ]
  },
  {
   "cell_type": "code",
   "execution_count": 35,
   "metadata": {},
   "outputs": [],
   "source": [
    "import arviz as az"
   ]
  },
  {
   "cell_type": "code",
   "execution_count": 258,
   "metadata": {},
   "outputs": [
    {
     "data": {
      "text/plain": [
       "[1.0, 1.0, 1.0, 0.7725, 0.525, 0.525, 0.525]"
      ]
     },
     "execution_count": 258,
     "metadata": {},
     "output_type": "execute_result"
    }
   ],
   "source": [
    "stats[\"cov_ci\"].tolist()"
   ]
  },
  {
   "cell_type": "code",
   "execution_count": 19,
   "metadata": {},
   "outputs": [],
   "source": [
    "sv_truet = sv_true[\"sv_true\"][:,(uniq_t-1).astype(\"int\")]\n",
    "pb_svm = pb_sv[\"sv\"].mean(0)"
   ]
  },
  {
   "cell_type": "code",
   "execution_count": 20,
   "metadata": {},
   "outputs": [
    {
     "data": {
      "image/png": "[encoded data removed]",
      "text/plain": [
       "<Figure size 2000x800 with 2 Axes>"
      ]
     },
     "metadata": {},
     "output_type": "display_data"
    }
   ],
   "source": [
    "fig,ax = plt.subplots(1,2, figsize=(20,8))\n",
    "for i in range(100):\n",
    "\tif i == 0:\n",
    "\t\tax[0].step(uniq_t, sv_truet[i,:], color=\"black\", label = \"true\")\n",
    "\t\tax[1].step(uniq_t, sv_truet[i,:], color=\"black\", label= \"true\")\n",
    "\n",
    "\t\tax[0].step(uniq_t, pb_svm[i,:], color = \"blue\", alpha=0.3, label=\"pred\")\n",
    "\t\tax[1].step(uniq_t, pb_svm[i,:], color = \"blue\", alpha=0.3, label = \"pred\")\n",
    "\n",
    "\t\tax[0].step(uniq_t, intvs[0][i, :, 0], color=\"lightblue\", alpha=0.1, label = \"95 hdi\")\n",
    "\t\tax[0].step(uniq_t, intvs[0][i, :, 1], color= \"lightblue\", alpha=0.1)\n",
    "\t\t\n",
    "\t\tax[1].step(uniq_t, intvs[1][0, i, :], color=\"lightblue\", alpha=0.1, label = \"95 ci\")\n",
    "\t\tax[1].step(uniq_t, intvs[1][1, i, :], color= \"lightblue\", alpha=0.1)\n",
    "\t\tax[0].legend()\n",
    "\t\tax[1].legend()\n",
    "\telse:\n",
    "\t\tax[0].step(uniq_t, sv_truet[i,:], color=\"black\")\n",
    "\t\tax[1].step(uniq_t, sv_truet[i,:], color=\"black\")\n",
    "\n",
    "\t\tax[0].step(uniq_t, pb_svm[i,:], color = \"blue\", alpha=0.3)\n",
    "\t\tax[1].step(uniq_t, pb_svm[i,:], color = \"blue\", alpha=0.3)\n",
    "\n",
    "\t\tax[0].step(uniq_t, intvs[0][i, :, 0], color=\"lightblue\", alpha=0.1)\n",
    "\t\tax[0].step(uniq_t, intvs[0][i, :, 1], color= \"lightblue\", alpha=0.1)\n",
    "\t\t\n",
    "\t\tax[1].step(uniq_t, intvs[1][0, i, :], color=\"lightblue\", alpha=0.1)\n",
    "\t\tax[1].step(uniq_t, intvs[1][1, i, :], color= \"lightblue\", alpha=0.1)\n",
    "\t"
   ]
  },
  {
   "cell_type": "code",
   "execution_count": 243,
   "metadata": {},
   "outputs": [
    {
     "data": {
      "text/plain": [
       "array([[8.04197526e-01, 9.99823233e-01],\n",
       "       [6.23800143e-01, 9.92057135e-01],\n",
       "       [3.21602384e-01, 8.34498314e-01],\n",
       "       [1.23712323e-02, 4.17605324e-01],\n",
       "       [2.14698061e-04, 2.23245954e-01],\n",
       "       [3.42395574e-09, 1.33202811e-01],\n",
       "       [1.49772711e-14, 9.05793189e-02]])"
      ]
     },
     "execution_count": 243,
     "metadata": {},
     "output_type": "execute_result"
    }
   ],
   "source": [
    "intvs[0]"
   ]
  },
  {
   "cell_type": "code",
   "execution_count": 194,
   "metadata": {},
   "outputs": [],
   "source": [
    "zzz = az.convert_to_dataset(pb_sv[\"sv\"].reshape(1,1250,400,7))\n",
    "zzz2 = az.hdi(zzz, hdi_prob=.95).x.values\n",
    "ci = np.quantile(pb_sv[\"sv\"], [0.025, 0.975], 0)\n",
    "sv_true_t=sv_true[\"sv_true\"][:,(uniq_t-1).astype(\"int\")]"
   ]
  },
  {
   "cell_type": "code",
   "execution_count": 203,
   "metadata": {},
   "outputs": [
    {
     "data": {
      "text/plain": [
       "(400, 7, 2)"
      ]
     },
     "execution_count": 203,
     "metadata": {},
     "output_type": "execute_result"
    }
   ],
   "source": []
  },
  {
   "cell_type": "code",
   "execution_count": 195,
   "metadata": {},
   "outputs": [
    {
     "data": {
      "text/plain": [
       "array([400, 400, 400, 400, 390, 400, 400])"
      ]
     },
     "execution_count": 195,
     "metadata": {},
     "output_type": "execute_result"
    }
   ],
   "source": [
    "ttot = []\n",
    "for i in range(7):\n",
    "\tt1 = (np.round(zzz2[:,i,0],4) <= np.round(sv_true_t[:,i],4))  & (np.round(sv_true_t[:,i],4) <= np.round(zzz2[:,i,1],4))\n",
    "\t# t1 = (zzz2[:,i,0] <= sv_true_t[:,i])  & (sv_true_t[:,i] <= zzz2[:,i,1])\n",
    "\tttot.append(t1)\n",
    "# print(t1)\n",
    "# print(zzz2[t1 == False, i,0][0])\n",
    "# print(sv_true_t[t1==False,i][0])\n",
    "np.array(ttot).T.sum(0)"
   ]
  },
  {
   "cell_type": "code",
   "execution_count": 221,
   "metadata": {},
   "outputs": [],
   "source": [
    "# np.abs(ci[0,:,:]- ci[1,:,:]).mean(0)\n",
    "# np.abs(zzz2[:,:,0] - zzz2[:,:,1]).mean(0)"
   ]
  },
  {
   "cell_type": "code",
   "execution_count": 201,
   "metadata": {},
   "outputs": [
    {
     "data": {
      "image/png": "[encoded data removed]",
      "text/plain": [
       "<Figure size 640x480 with 1 Axes>"
      ]
     },
     "metadata": {},
     "output_type": "display_data"
    }
   ],
   "source": [
    "for i in range(100):\n",
    "\tplt.step(uniq_t, zzz2[i,:,0], color=\"blue\", alpha=0.1)\n",
    "\tplt.step(uniq_t, zzz2[i,:,1], color=\"blue\", alpha=0.1)\n",
    "\t# plt.step(uniq_t, pb_sv[\"sv\"].mean(0)[i,:])\n",
    "\t# plt.step(uniq_t, ci[0,i,:], color=\"blue\",alpha=.5)\n",
    "\t# plt.step(uniq_t, ci[1,i,:], color=\"blue\",alpha=.5)\n",
    "\tplt.step(uniq_t, sv_true_t[i,:])"
   ]
  }
 ],
 "metadata": {
  "kernelspec": {
   "display_name": "Python 3",
   "language": "python",
   "name": "python3"
  },
  "language_info": {
   "codemirror_mode": {
    "name": "ipython",
    "version": 3
   },
   "file_extension": ".py",
   "mimetype": "text/x-python",
   "name": "python",
   "nbconvert_exporter": "python",
   "pygments_lexer": "ipython3",
   "version": "3.11.8"
  }
 },
 "nbformat": 4,
 "nbformat_minor": 2
}
