{
 "cells": [
  {
   "cell_type": "code",
   "execution_count": 5,
   "metadata": {},
   "outputs": [],
   "source": [
    "import pandas as pd\n",
    "import numpy as np\n",
    "import lifelines as ll\n",
    "import sksurv as sks\n",
    "import matplotlib.pyplot as plt\n",
    "from bart_survival import surv_bart as sb\n",
    "from bart_survival import simulation as sm\n",
    "import lifelines as ll\n",
    "from lifelines import KaplanMeierFitter\n",
    "import subprocess\n",
    "import importlib\n",
    "import _functions1 as fn\n",
    "import _conditions1 as cn"
   ]
  },
  {
   "cell_type": "code",
   "execution_count": 150,
   "metadata": {},
   "outputs": [],
   "source": [
    "SPLIT_RULES =  [\n",
    "    \"pmb.ContinuousSplitRule()\", \n",
    "    # \"pmb.OneHotSplitRule()\"\n",
    "]\n",
    "model_dict = {\"trees\": 5,\n",
    "    \"split_rules\": SPLIT_RULES\n",
    "}\n",
    "sampler_dict = {\n",
    "            \"draws\": 120,\n",
    "            \"tune\": 30,\n",
    "            \"cores\": 6,\n",
    "            \"chains\": 6,\n",
    "            \"compute_convergence_checks\": False\n",
    "        }\n",
    "\n"
   ]
  },
  {
   "cell_type": "code",
   "execution_count": 99,
   "metadata": {},
   "outputs": [
    {
     "data": {
      "text/plain": [
       "<module '_conditions1' from '/home/twj8/projects/bart_survival_paper/notebook/_conditions1.py'>"
      ]
     },
     "execution_count": 99,
     "metadata": {},
     "output_type": "execute_result"
    }
   ],
   "source": [
    "importlib.reload(fn)\n",
    "importlib.reload(cn)"
   ]
  },
  {
   "cell_type": "code",
   "execution_count": 151,
   "metadata": {},
   "outputs": [
    {
     "name": "stdout",
     "output_type": "stream",
     "text": [
      "mean shape 0.7999999999999998\n",
      "mean scale 2.5\n",
      "mean time draws 2.654236196540871\n",
      "cens mean 9.53\n",
      "(237, 1)\n"
     ]
    },
    {
     "name": "stderr",
     "output_type": "stream",
     "text": [
      "Only 120 samples in chain.\n",
      "Multiprocess sampling (6 chains in 6 jobs)\n",
      "PGBART: [f]\n"
     ]
    },
    {
     "name": "stdout",
     "output_type": "stream",
     "text": [
      " |██████████████████████████████████| 100.00% [900/900 00:04<00:00 Sampling 6 chains, 0 divergences]\r"
     ]
    },
    {
     "name": "stderr",
     "output_type": "stream",
     "text": [
      "Sampling 6 chains for 30 tune and 120 draw iterations (180 + 720 draws total) took 5 seconds.\n"
     ]
    },
    {
     "name": "stdout",
     "output_type": "stream",
     "text": [
      "█\r"
     ]
    },
    {
     "name": "stderr",
     "output_type": "stream",
     "text": [
      "Sampling: [f]\n"
     ]
    },
    {
     "name": "stdout",
     "output_type": "stream",
     "text": [
      " |████████████████████████████████████████| 100.00% [720/720 00:01<00:00]\r"
     ]
    },
    {
     "name": "stderr",
     "output_type": "stream",
     "text": [
      "Loading required package: nlme\n",
      "Loading required package: nnet\n",
      "Loading required package: survival\n"
     ]
    },
    {
     "name": "stdout",
     "output_type": "stream",
     "text": [
      "[1] \"/home/twj8/projects/bart_survival_paper/notebook\"\n",
      "*****Calling gbart: type=2\n",
      "*****Data:\n",
      "data:n,p,np: 237, 1, 10\n",
      "y1,yn: 1.000000, 1.000000\n",
      "x1,x[n*p]: 1.000000, 1.000000\n",
      "xp1,xp[np*p]: 1.000000, 11.000000\n",
      "*****Number of Trees: 50\n",
      "*****Number of Cut Points: 9 ... 9\n",
      "*****burn,nd,thin: 250,1670,10\n",
      "*****Prior:beta,alpha,tau,nu,lambda,offset: 2,0.95,0.212132,3,1,-0.373387\n",
      "*****Dirichlet:sparse,theta,omega,a,b,rho,augment: 0,0,1,0.5,1,1,0\n",
      "*****printevery: 100\n",
      "\n",
      "MCMC\n",
      "done 0 (out of 1920)\n",
      "done 100 (out of 1920)\n",
      "done 200 (out of 1920)\n",
      "done 300 (out of 1920)\n",
      "done 400 (out of 1920)\n",
      "done 500 (out of 1920)\n",
      "done 600 (out of 1920)\n",
      "done 700 (out of 1920)\n",
      "done 800 (out of 1920)\n",
      "done 900 (out of 1920)\n",
      "done 1000 (out of 1920)\n",
      "done 1100 (out of 1920)\n",
      "done 1200 (out of 1920)\n",
      "done 1300 (out of 1920)\n",
      "done 1400 (out of 1920)\n",
      "done 1500 (out of 1920)\n",
      "done 1600 (out of 1920)\n",
      "done 1700 (out of 1920)\n",
      "done 1800 (out of 1920)\n",
      "done 1900 (out of 1920)\n",
      "time: 2s\n",
      "trcnt,tecnt: 167,167\n",
      "List of 24\n",
      " $ yhat.train     : num [1:167, 1:237] -0.1496 0.027 -0.1125 0.0659 -0.2297 ...\n",
      " $ yhat.test      : num [1:1002, 1:10] -0.1496 0.027 -0.1125 0.0659 -0.2297 ...\n",
      " $ varcount       : int [1:1002, 1] 54 54 51 51 53 60 51 55 50 57 ...\n",
      "  ..- attr(*, \"dimnames\")=List of 2\n",
      "  .. ..$ : NULL\n",
      "  .. ..$ : chr \"t\"\n",
      " $ varprob        : num [1:1002, 1] 1 1 1 1 1 1 1 1 1 1 ...\n",
      "  ..- attr(*, \"dimnames\")=List of 2\n",
      "  .. ..$ : NULL\n",
      "  .. ..$ : chr \"t\"\n",
      " $ treedraws      :List of 2\n",
      "  ..$ cutpoints:List of 1\n",
      "  .. ..$ t: num [1:9] 1.5 2.5 3.5 4.5 5.5 6.5 8 9.5 10.5\n",
      "  ..$ trees    : chr \"1002 50 1\\n3\\n1 0 3 0.05741874665\\n2 0 0 0.02700896291\\n3 0 0 -0.1450865246\\n3\\n1 0 4 0.02320861156\\n2 0 0 -0.1\"| __truncated__\n",
      " $ proc.time      : 'proc_time' Named num [1:5] 8.498 0.078 1.611 0 0\n",
      "  ..- attr(*, \"names\")= chr [1:5] \"user.self\" \"sys.self\" \"elapsed\" \"user.child\" ...\n",
      " $ hostname       : logi FALSE\n",
      " $ prob.train     : num [1:167, 1:237] 0.441 0.511 0.455 0.526 0.409 ...\n",
      " $ prob.train.mean: num [1:237] 0.465 0.465 0.295 0.311 0.465 ...\n",
      " $ LPML           : num -154\n",
      " $ prob.test      : num [1:1002, 1:10] 0.441 0.511 0.455 0.526 0.409 ...\n",
      " $ prob.test.mean : num [1:10] 0.465 0.295 0.311 0.229 0.251 ...\n",
      " $ ndpost         : num 1002\n",
      " $ offset         : num -0.373\n",
      " $ varcount.mean  : Named num 55.7\n",
      "  ..- attr(*, \"names\")= chr \"t\"\n",
      " $ varprob.mean   : Named num 1\n",
      "  ..- attr(*, \"names\")= chr \"t\"\n",
      " $ rm.const       : int 1\n",
      " $ times          : num [1:10] 1 2 3 4 5 6 7 9 10 11\n",
      " $ K              : int 10\n",
      " $ tx.train       : num [1:237, 1] 1 1 2 3 1 2 3 4 5 6 ...\n",
      "  ..- attr(*, \"dimnames\")=List of 2\n",
      "  .. ..$ : NULL\n",
      "  .. ..$ : chr \"t\"\n",
      " $ type           : chr \"pbart\"\n",
      " $ tx.test        : num [1:10, 1] 1 2 3 4 5 6 7 9 10 11\n",
      "  ..- attr(*, \"dimnames\")=List of 2\n",
      "  .. ..$ : NULL\n",
      "  .. ..$ : chr \"t\"\n",
      " $ surv.test      : num [1:1002, 1:10] 0.559 0.489 0.545 0.474 0.591 ...\n",
      " $ surv.test.mean : num [1:10] 0.535 0.377 0.264 0.204 0.154 ...\n",
      " - attr(*, \"class\")= chr \"survbart\"\n",
      "mean shape 0.7999999999999998\n",
      "mean scale 2.5\n",
      "mean time draws 2.7287152493350653\n",
      "cens mean 9.09\n",
      "(244, 1)\n"
     ]
    },
    {
     "name": "stderr",
     "output_type": "stream",
     "text": [
      "Only 120 samples in chain.\n",
      "Multiprocess sampling (6 chains in 6 jobs)\n",
      "PGBART: [f]\n"
     ]
    },
    {
     "name": "stdout",
     "output_type": "stream",
     "text": [
      " |██████████████████████████████████| 100.00% [900/900 00:05<00:00 Sampling 6 chains, 0 divergences]\r"
     ]
    },
    {
     "name": "stderr",
     "output_type": "stream",
     "text": [
      "Sampling 6 chains for 30 tune and 120 draw iterations (180 + 720 draws total) took 6 seconds.\n"
     ]
    },
    {
     "name": "stdout",
     "output_type": "stream",
     "text": [
      "█\r"
     ]
    },
    {
     "name": "stderr",
     "output_type": "stream",
     "text": [
      "Sampling: [f]\n"
     ]
    },
    {
     "name": "stdout",
     "output_type": "stream",
     "text": [
      " |████████████████████████████████████████| 100.00% [720/720 00:01<00:00]\r"
     ]
    },
    {
     "name": "stderr",
     "output_type": "stream",
     "text": [
      "Loading required package: nlme\n",
      "Loading required package: nnet\n",
      "Loading required package: survival\n"
     ]
    },
    {
     "name": "stdout",
     "output_type": "stream",
     "text": [
      "[1] \"/home/twj8/projects/bart_survival_paper/notebook\"\n",
      "*****Calling gbart: type=2\n",
      "*****Data:\n",
      "data:n,p,np: 244, 1, 11\n",
      "y1,yn: 0.000000, 1.000000\n",
      "x1,x[n*p]: 1.000000, 1.000000\n",
      "xp1,xp[np*p]: 1.000000, 19.000000\n",
      "*****Number of Trees: 50\n",
      "*****Number of Cut Points: 10 ... 10\n",
      "*****burn,nd,thin: 250,1670,10\n",
      "*****Prior:beta,alpha,tau,nu,lambda,offset: 2,0.95,0.212132,3,1,-0.400858\n",
      "*****Dirichlet:sparse,theta,omega,a,b,rho,augment: 0,0,1,0.5,1,1,0\n",
      "*****printevery: 100\n",
      "\n",
      "MCMC\n",
      "done 0 (out of 1920)\n",
      "done 100 (out of 1920)\n",
      "done 200 (out of 1920)\n",
      "done 300 (out of 1920)\n",
      "done 400 (out of 1920)\n",
      "done 500 (out of 1920)\n",
      "done 600 (out of 1920)\n",
      "done 700 (out of 1920)\n",
      "done 800 (out of 1920)\n",
      "done 900 (out of 1920)\n",
      "done 1000 (out of 1920)\n",
      "done 1100 (out of 1920)\n",
      "done 1200 (out of 1920)\n",
      "done 1300 (out of 1920)\n",
      "done 1400 (out of 1920)\n",
      "done 1500 (out of 1920)\n",
      "done 1600 (out of 1920)\n",
      "done 1700 (out of 1920)\n",
      "done 1800 (out of 1920)\n",
      "done 1900 (out of 1920)\n",
      "time: 3s\n",
      "trcnt,tecnt: 167,167\n",
      "List of 24\n",
      " $ yhat.train     : num [1:167, 1:244] -0.0475 -0.2345 -0.0514 -0.2495 -0.0527 ...\n",
      " $ yhat.test      : num [1:1002, 1:11] -0.0475 -0.2345 -0.0514 -0.2495 -0.0527 ...\n",
      " $ varcount       : int [1:1002, 1] 56 62 57 58 49 58 57 57 55 52 ...\n",
      "  ..- attr(*, \"dimnames\")=List of 2\n",
      "  .. ..$ : NULL\n",
      "  .. ..$ : chr \"t\"\n",
      " $ varprob        : num [1:1002, 1] 1 1 1 1 1 1 1 1 1 1 ...\n",
      "  ..- attr(*, \"dimnames\")=List of 2\n",
      "  .. ..$ : NULL\n",
      "  .. ..$ : chr \"t\"\n",
      " $ treedraws      :List of 2\n",
      "  ..$ cutpoints:List of 1\n",
      "  .. ..$ t: num [1:10] 1.5 2.5 3.5 4.5 5.5 6.5 7.5 8.5 10 15\n",
      "  ..$ trees    : chr \"1002 50 1\\n3\\n1 0 7 -0.2741809374\\n2 0 0 -0.1760106623\\n3 0 0 -0.144171704\\n7\\n1 0 3 -0.2323754834\\n2 0 0 0.137\"| __truncated__\n",
      " $ proc.time      : 'proc_time' Named num [1:5] 9.936 0.108 2.373 0 0\n",
      "  ..- attr(*, \"names\")= chr [1:5] \"user.self\" \"sys.self\" \"elapsed\" \"user.child\" ...\n",
      " $ hostname       : logi FALSE\n",
      " $ prob.train     : num [1:167, 1:244] 0.481 0.407 0.479 0.401 0.479 ...\n",
      " $ prob.train.mean: num [1:244] 0.415 0.285 0.415 0.415 0.285 ...\n",
      " $ LPML           : num -160\n",
      " $ prob.test      : num [1:1002, 1:11] 0.481 0.407 0.479 0.401 0.479 ...\n",
      " $ prob.test.mean : num [1:11] 0.415 0.285 0.251 0.428 0.286 ...\n",
      " $ ndpost         : num 1002\n",
      " $ offset         : num -0.401\n",
      " $ varcount.mean  : Named num 56.1\n",
      "  ..- attr(*, \"names\")= chr \"t\"\n",
      " $ varprob.mean   : Named num 1\n",
      "  ..- attr(*, \"names\")= chr \"t\"\n",
      " $ rm.const       : int 1\n",
      " $ times          : num [1:11] 1 2 3 4 5 6 7 8 9 11 ...\n",
      " $ K              : int 11\n",
      " $ tx.train       : num [1:244, 1] 1 2 1 1 2 1 1 2 3 4 ...\n",
      "  ..- attr(*, \"dimnames\")=List of 2\n",
      "  .. ..$ : NULL\n",
      "  .. ..$ : chr \"t\"\n",
      " $ type           : chr \"pbart\"\n",
      " $ tx.test        : num [1:11, 1] 1 2 3 4 5 6 7 8 9 11 ...\n",
      "  ..- attr(*, \"dimnames\")=List of 2\n",
      "  .. ..$ : NULL\n",
      "  .. ..$ : chr \"t\"\n",
      " $ surv.test      : num [1:1002, 1:11] 0.519 0.593 0.521 0.599 0.521 ...\n",
      " $ surv.test.mean : num [1:11] 0.584 0.416 0.314 0.184 0.131 ...\n",
      " - attr(*, \"class\")= chr \"survbart\"\n",
      "mean shape 0.7999999999999998\n",
      "mean scale 2.5\n",
      "mean time draws 3.0854545373966378\n",
      "cens mean 9.15\n",
      "(279, 1)\n"
     ]
    },
    {
     "name": "stderr",
     "output_type": "stream",
     "text": [
      "Only 120 samples in chain.\n",
      "Multiprocess sampling (6 chains in 6 jobs)\n",
      "PGBART: [f]\n"
     ]
    },
    {
     "name": "stdout",
     "output_type": "stream",
     "text": [
      " |██████████████████████████████████| 100.00% [900/900 00:07<00:00 Sampling 6 chains, 0 divergences]\r"
     ]
    },
    {
     "name": "stderr",
     "output_type": "stream",
     "text": [
      "Sampling 6 chains for 30 tune and 120 draw iterations (180 + 720 draws total) took 8 seconds.\n"
     ]
    },
    {
     "name": "stdout",
     "output_type": "stream",
     "text": [
      "█\r"
     ]
    },
    {
     "name": "stderr",
     "output_type": "stream",
     "text": [
      "Sampling: [f]\n"
     ]
    },
    {
     "name": "stdout",
     "output_type": "stream",
     "text": [
      " |████████████████████████████████████████| 100.00% [720/720 00:01<00:00]\r"
     ]
    },
    {
     "name": "stderr",
     "output_type": "stream",
     "text": [
      "Loading required package: nlme\n",
      "Loading required package: nnet\n",
      "Loading required package: survival\n"
     ]
    },
    {
     "name": "stdout",
     "output_type": "stream",
     "text": [
      "[1] \"/home/twj8/projects/bart_survival_paper/notebook\"\n",
      "*****Calling gbart: type=2\n",
      "*****Data:\n",
      "data:n,p,np: 279, 1, 12\n",
      "y1,yn: 0.000000, 1.000000\n",
      "x1,x[n*p]: 1.000000, 5.000000\n",
      "xp1,xp[np*p]: 1.000000, 19.000000\n",
      "*****Number of Trees: 50\n",
      "*****Number of Cut Points: 11 ... 11\n",
      "*****burn,nd,thin: 250,1670,10\n",
      "*****Prior:beta,alpha,tau,nu,lambda,offset: 2,0.95,0.212132,3,1,-0.552443\n",
      "*****Dirichlet:sparse,theta,omega,a,b,rho,augment: 0,0,1,0.5,1,1,0\n",
      "*****printevery: 100\n",
      "\n",
      "MCMC\n",
      "done 0 (out of 1920)\n",
      "done 100 (out of 1920)\n",
      "done 200 (out of 1920)\n",
      "done 300 (out of 1920)\n",
      "done 400 (out of 1920)\n",
      "done 500 (out of 1920)\n",
      "done 600 (out of 1920)\n",
      "done 700 (out of 1920)\n",
      "done 800 (out of 1920)\n",
      "done 900 (out of 1920)\n",
      "done 1000 (out of 1920)\n",
      "done 1100 (out of 1920)\n",
      "done 1200 (out of 1920)\n",
      "done 1300 (out of 1920)\n",
      "done 1400 (out of 1920)\n",
      "done 1500 (out of 1920)\n",
      "done 1600 (out of 1920)\n",
      "done 1700 (out of 1920)\n",
      "done 1800 (out of 1920)\n",
      "done 1900 (out of 1920)\n",
      "time: 2s\n",
      "trcnt,tecnt: 167,167\n",
      "List of 24\n",
      " $ yhat.train     : num [1:167, 1:279] -0.578 -0.432 -0.621 -0.191 -0.557 ...\n",
      " $ yhat.test      : num [1:1002, 1:12] -0.578 -0.432 -0.621 -0.191 -0.557 ...\n",
      " $ varcount       : int [1:1002, 1] 58 61 55 57 61 52 54 56 59 54 ...\n",
      "  ..- attr(*, \"dimnames\")=List of 2\n",
      "  .. ..$ : NULL\n",
      "  .. ..$ : chr \"t\"\n",
      " $ varprob        : num [1:1002, 1] 1 1 1 1 1 1 1 1 1 1 ...\n",
      "  ..- attr(*, \"dimnames\")=List of 2\n",
      "  .. ..$ : NULL\n",
      "  .. ..$ : chr \"t\"\n",
      " $ treedraws      :List of 2\n",
      "  ..$ cutpoints:List of 1\n",
      "  .. ..$ t: num [1:11] 1.5 2.5 3.5 4.5 5.5 6.5 8.5 10.5 11.5 13 ...\n",
      "  ..$ trees    : chr \"1002 50 1\\n5\\n1 0 4 -0.0007601630338\\n2 0 3 0.2833868487\\n4 0 0 0.2985919991\\n5 0 0 0.1225039223\\n3 0 0 0.09154\"| __truncated__\n",
      " $ proc.time      : 'proc_time' Named num [1:5] 10.512 0.142 2.39 0 0\n",
      "  ..- attr(*, \"names\")= chr [1:5] \"user.self\" \"sys.self\" \"elapsed\" \"user.child\" ...\n",
      " $ hostname       : logi FALSE\n",
      " $ prob.train     : num [1:167, 1:279] 0.282 0.333 0.267 0.424 0.289 ...\n",
      " $ prob.train.mean: num [1:279] 0.341 0.325 0.269 0.179 0.341 ...\n",
      " $ LPML           : num -172\n",
      " $ prob.test      : num [1:1002, 1:12] 0.282 0.333 0.267 0.424 0.289 ...\n",
      " $ prob.test.mean : num [1:12] 0.341 0.325 0.269 0.179 0.225 ...\n",
      " $ ndpost         : num 1002\n",
      " $ offset         : num -0.552\n",
      " $ varcount.mean  : Named num 56.4\n",
      "  ..- attr(*, \"names\")= chr \"t\"\n",
      " $ varprob.mean   : Named num 1\n",
      "  ..- attr(*, \"names\")= chr \"t\"\n",
      " $ rm.const       : int 1\n",
      " $ times          : num [1:12] 1 2 3 4 5 6 7 10 11 12 ...\n",
      " $ K              : int 12\n",
      " $ tx.train       : num [1:279, 1] 1 2 3 4 1 2 3 4 1 1 ...\n",
      "  ..- attr(*, \"dimnames\")=List of 2\n",
      "  .. ..$ : NULL\n",
      "  .. ..$ : chr \"t\"\n",
      " $ type           : chr \"pbart\"\n",
      " $ tx.test        : num [1:12, 1] 1 2 3 4 5 6 7 10 11 12 ...\n",
      "  ..- attr(*, \"dimnames\")=List of 2\n",
      "  .. ..$ : NULL\n",
      "  .. ..$ : chr \"t\"\n",
      " $ surv.test      : num [1:1002, 1:12] 0.718 0.667 0.733 0.576 0.711 ...\n",
      " $ surv.test.mean : num [1:12] 0.662 0.451 0.33 0.271 0.207 ...\n",
      " - attr(*, \"class\")= chr \"survbart\"\n",
      "mean shape 0.7999999999999998\n",
      "mean scale 2.5\n",
      "mean time draws 2.6214773145852366\n",
      "cens mean 10.43\n",
      "(281, 1)\n"
     ]
    },
    {
     "name": "stderr",
     "output_type": "stream",
     "text": [
      "Only 120 samples in chain.\n",
      "Multiprocess sampling (6 chains in 6 jobs)\n",
      "PGBART: [f]\n"
     ]
    },
    {
     "name": "stdout",
     "output_type": "stream",
     "text": [
      " |██████████████████████████████████| 100.00% [900/900 00:06<00:00 Sampling 6 chains, 0 divergences]\r"
     ]
    },
    {
     "name": "stderr",
     "output_type": "stream",
     "text": [
      "Sampling 6 chains for 30 tune and 120 draw iterations (180 + 720 draws total) took 7 seconds.\n"
     ]
    },
    {
     "name": "stdout",
     "output_type": "stream",
     "text": [
      "█\r"
     ]
    },
    {
     "name": "stderr",
     "output_type": "stream",
     "text": [
      "Sampling: [f]\n"
     ]
    },
    {
     "name": "stdout",
     "output_type": "stream",
     "text": [
      " |████████████████████████████████████████| 100.00% [720/720 00:01<00:00]\r"
     ]
    },
    {
     "name": "stderr",
     "output_type": "stream",
     "text": [
      "Loading required package: nlme\n",
      "Loading required package: nnet\n",
      "Loading required package: survival\n"
     ]
    },
    {
     "name": "stdout",
     "output_type": "stream",
     "text": [
      "[1] \"/home/twj8/projects/bart_survival_paper/notebook\"\n",
      "*****Calling gbart: type=2\n",
      "*****Data:\n",
      "data:n,p,np: 281, 1, 11\n",
      "y1,yn: 0.000000, 1.000000\n",
      "x1,x[n*p]: 1.000000, 7.000000\n",
      "xp1,xp[np*p]: 1.000000, 12.000000\n",
      "*****Number of Trees: 50\n",
      "*****Number of Cut Points: 10 ... 10\n",
      "*****burn,nd,thin: 250,1670,10\n",
      "*****Prior:beta,alpha,tau,nu,lambda,offset: 2,0.95,0.212132,3,1,-0.447098\n",
      "*****Dirichlet:sparse,theta,omega,a,b,rho,augment: 0,0,1,0.5,1,1,0\n",
      "*****printevery: 100\n",
      "\n",
      "MCMC\n",
      "done 0 (out of 1920)\n",
      "done 100 (out of 1920)\n",
      "done 200 (out of 1920)\n",
      "done 300 (out of 1920)\n",
      "done 400 (out of 1920)\n",
      "done 500 (out of 1920)\n",
      "done 600 (out of 1920)\n",
      "done 700 (out of 1920)\n",
      "done 800 (out of 1920)\n",
      "done 900 (out of 1920)\n",
      "done 1000 (out of 1920)\n",
      "done 1100 (out of 1920)\n",
      "done 1200 (out of 1920)\n",
      "done 1300 (out of 1920)\n",
      "done 1400 (out of 1920)\n",
      "done 1500 (out of 1920)\n",
      "done 1600 (out of 1920)\n",
      "done 1700 (out of 1920)\n",
      "done 1800 (out of 1920)\n",
      "done 1900 (out of 1920)\n",
      "time: 2s\n",
      "trcnt,tecnt: 167,167\n",
      "List of 24\n",
      " $ yhat.train     : num [1:167, 1:281] -0.282 -0.413 -0.13 -0.361 -0.258 ...\n",
      " $ yhat.test      : num [1:1002, 1:11] -0.282 -0.413 -0.13 -0.361 -0.258 ...\n",
      " $ varcount       : int [1:1002, 1] 53 57 51 62 55 51 54 57 58 55 ...\n",
      "  ..- attr(*, \"dimnames\")=List of 2\n",
      "  .. ..$ : NULL\n",
      "  .. ..$ : chr \"t\"\n",
      " $ varprob        : num [1:1002, 1] 1 1 1 1 1 1 1 1 1 1 ...\n",
      "  ..- attr(*, \"dimnames\")=List of 2\n",
      "  .. ..$ : NULL\n",
      "  .. ..$ : chr \"t\"\n",
      " $ treedraws      :List of 2\n",
      "  ..$ cutpoints:List of 1\n",
      "  .. ..$ t: num [1:10] 1.5 2.5 3.5 4.5 5.5 6.5 7.5 8.5 9.5 11\n",
      "  ..$ trees    : chr \"1002 50 1\\n3\\n1 0 6 0.04228347498\\n2 0 0 -0.08626981914\\n3 0 0 0.1564983966\\n3\\n1 0 5 0.2222537504\\n2 0 0 0.069\"| __truncated__\n",
      " $ proc.time      : 'proc_time' Named num [1:5] 10.436 0.092 2.569 0 0\n",
      "  ..- attr(*, \"names\")= chr [1:5] \"user.self\" \"sys.self\" \"elapsed\" \"user.child\" ...\n",
      " $ hostname       : logi FALSE\n",
      " $ prob.train     : num [1:167, 1:281] 0.389 0.34 0.448 0.359 0.398 ...\n",
      " $ prob.train.mean: num [1:281] 0.406 0.303 0.236 0.282 0.312 ...\n",
      " $ LPML           : num -182\n",
      " $ prob.test      : num [1:1002, 1:11] 0.389 0.34 0.448 0.359 0.398 ...\n",
      " $ prob.test.mean : num [1:11] 0.406 0.303 0.236 0.282 0.312 ...\n",
      " $ ndpost         : num 1002\n",
      " $ offset         : num -0.447\n",
      " $ varcount.mean  : Named num 56.4\n",
      "  ..- attr(*, \"names\")= chr \"t\"\n",
      " $ varprob.mean   : Named num 1\n",
      "  ..- attr(*, \"names\")= chr \"t\"\n",
      " $ rm.const       : int 1\n",
      " $ times          : num [1:11] 1 2 3 4 5 6 7 8 9 10 ...\n",
      " $ K              : int 11\n",
      " $ tx.train       : num [1:281, 1] 1 2 3 4 5 6 7 8 1 2 ...\n",
      "  ..- attr(*, \"dimnames\")=List of 2\n",
      "  .. ..$ : NULL\n",
      "  .. ..$ : chr \"t\"\n",
      " $ type           : chr \"pbart\"\n",
      " $ tx.test        : num [1:11, 1] 1 2 3 4 5 6 7 8 9 10 ...\n",
      "  ..- attr(*, \"dimnames\")=List of 2\n",
      "  .. ..$ : NULL\n",
      "  .. ..$ : chr \"t\"\n",
      " $ surv.test      : num [1:1002, 1:11] 0.611 0.66 0.552 0.641 0.602 ...\n",
      " $ surv.test.mean : num [1:11] 0.591 0.413 0.314 0.227 0.158 ...\n",
      " - attr(*, \"class\")= chr \"survbart\"\n",
      "mean shape 0.7999999999999998\n",
      "mean scale 2.5\n",
      "mean time draws 2.173331470315917\n",
      "cens mean 9.88\n",
      "(234, 1)\n"
     ]
    },
    {
     "name": "stderr",
     "output_type": "stream",
     "text": [
      "Only 120 samples in chain.\n",
      "Multiprocess sampling (6 chains in 6 jobs)\n",
      "PGBART: [f]\n"
     ]
    },
    {
     "name": "stdout",
     "output_type": "stream",
     "text": [
      " |██████████████████████████████████| 100.00% [900/900 00:06<00:00 Sampling 6 chains, 0 divergences]\r"
     ]
    },
    {
     "name": "stderr",
     "output_type": "stream",
     "text": [
      "Sampling 6 chains for 30 tune and 120 draw iterations (180 + 720 draws total) took 7 seconds.\n"
     ]
    },
    {
     "name": "stdout",
     "output_type": "stream",
     "text": [
      "█\r"
     ]
    },
    {
     "name": "stderr",
     "output_type": "stream",
     "text": [
      "Sampling: [f]\n"
     ]
    },
    {
     "name": "stdout",
     "output_type": "stream",
     "text": [
      " |████████████████████████████████████████| 100.00% [720/720 00:00<00:00]\r"
     ]
    },
    {
     "name": "stderr",
     "output_type": "stream",
     "text": [
      "Loading required package: nlme\n",
      "Loading required package: nnet\n",
      "Loading required package: survival\n"
     ]
    },
    {
     "name": "stdout",
     "output_type": "stream",
     "text": [
      "[1] \"/home/twj8/projects/bart_survival_paper/notebook\"\n",
      "*****Calling gbart: type=2\n",
      "*****Data:\n",
      "data:n,p,np: 234, 1, 9\n",
      "y1,yn: 1.000000, 1.000000\n",
      "x1,x[n*p]: 1.000000, 2.000000\n",
      "xp1,xp[np*p]: 1.000000, 9.000000\n",
      "*****Number of Trees: 50\n",
      "*****Number of Cut Points: 8 ... 8\n",
      "*****burn,nd,thin: 250,1670,10\n",
      "*****Prior:beta,alpha,tau,nu,lambda,offset: 2,0.95,0.212132,3,1,-0.338425\n",
      "*****Dirichlet:sparse,theta,omega,a,b,rho,augment: 0,0,1,0.5,1,1,0\n",
      "*****printevery: 100\n",
      "\n",
      "MCMC\n",
      "done 0 (out of 1920)\n",
      "done 100 (out of 1920)\n",
      "done 200 (out of 1920)\n",
      "done 300 (out of 1920)\n",
      "done 400 (out of 1920)\n",
      "done 500 (out of 1920)\n",
      "done 600 (out of 1920)\n",
      "done 700 (out of 1920)\n",
      "done 800 (out of 1920)\n",
      "done 900 (out of 1920)\n",
      "done 1000 (out of 1920)\n",
      "done 1100 (out of 1920)\n",
      "done 1200 (out of 1920)\n",
      "done 1300 (out of 1920)\n",
      "done 1400 (out of 1920)\n",
      "done 1500 (out of 1920)\n",
      "done 1600 (out of 1920)\n",
      "done 1700 (out of 1920)\n",
      "done 1800 (out of 1920)\n",
      "done 1900 (out of 1920)\n",
      "time: 2s\n",
      "trcnt,tecnt: 167,167\n",
      "List of 24\n",
      " $ yhat.train     : num [1:167, 1:234] 0.0195 -0.2536 -0.4626 -0.4068 -0.3979 ...\n",
      " $ yhat.test      : num [1:1002, 1:9] 0.0195 -0.2536 -0.4626 -0.4068 -0.3979 ...\n",
      " $ varcount       : int [1:1002, 1] 62 53 51 60 67 59 55 58 63 57 ...\n",
      "  ..- attr(*, \"dimnames\")=List of 2\n",
      "  .. ..$ : NULL\n",
      "  .. ..$ : chr \"t\"\n",
      " $ varprob        : num [1:1002, 1] 1 1 1 1 1 1 1 1 1 1 ...\n",
      "  ..- attr(*, \"dimnames\")=List of 2\n",
      "  .. ..$ : NULL\n",
      "  .. ..$ : chr \"t\"\n",
      " $ treedraws      :List of 2\n",
      "  ..$ cutpoints:List of 1\n",
      "  .. ..$ t: num [1:8] 1.5 2.5 3.5 4.5 5.5 6.5 7.5 8.5\n",
      "  ..$ trees    : chr \"1002 50 1\\n5\\n1 0 6 -0.06818251249\\n2 0 2 -0.04162218301\\n4 0 0 -0.1224576362\\n5 0 0 -0.1731295648\\n3 0 0 0.386\"| __truncated__\n",
      " $ proc.time      : 'proc_time' Named num [1:5] 8.154 0.031 1.633 0 0\n",
      "  ..- attr(*, \"names\")= chr [1:5] \"user.self\" \"sys.self\" \"elapsed\" \"user.child\" ...\n",
      " $ hostname       : logi FALSE\n",
      " $ prob.train     : num [1:167, 1:234] 0.508 0.4 0.322 0.342 0.345 ...\n",
      " $ prob.train.mean: num [1:234] 0.384 0.384 0.394 0.384 0.384 ...\n",
      " $ LPML           : num -158\n",
      " $ prob.test      : num [1:1002, 1:9] 0.508 0.4 0.322 0.342 0.345 ...\n",
      " $ prob.test.mean : num [1:9] 0.384 0.394 0.41 0.23 0.276 ...\n",
      " $ ndpost         : num 1002\n",
      " $ offset         : num -0.338\n",
      " $ varcount.mean  : Named num 57.3\n",
      "  ..- attr(*, \"names\")= chr \"t\"\n",
      " $ varprob.mean   : Named num 1\n",
      "  ..- attr(*, \"names\")= chr \"t\"\n",
      " $ rm.const       : int 1\n",
      " $ times          : num [1:9] 1 2 3 4 5 6 7 8 9\n",
      " $ K              : int 9\n",
      " $ tx.train       : num [1:234, 1] 1 1 2 1 1 2 3 1 2 1 ...\n",
      "  ..- attr(*, \"dimnames\")=List of 2\n",
      "  .. ..$ : NULL\n",
      "  .. ..$ : chr \"t\"\n",
      " $ type           : chr \"pbart\"\n",
      " $ tx.test        : num [1:9, 1] 1 2 3 4 5 6 7 8 9\n",
      "  ..- attr(*, \"dimnames\")=List of 2\n",
      "  .. ..$ : NULL\n",
      "  .. ..$ : chr \"t\"\n",
      " $ surv.test      : num [1:1002, 1:9] 0.492 0.6 0.678 0.658 0.655 ...\n",
      " $ surv.test.mean : num [1:9] 0.618 0.374 0.223 0.172 0.125 ...\n",
      " - attr(*, \"class\")= chr \"survbart\"\n",
      "mean shape 0.7999999999999998\n",
      "mean scale 2.5\n",
      "mean time draws 2.9746657474070277\n",
      "cens mean 8.51\n",
      "(234, 1)\n"
     ]
    },
    {
     "name": "stderr",
     "output_type": "stream",
     "text": [
      "Only 120 samples in chain.\n",
      "Multiprocess sampling (6 chains in 6 jobs)\n",
      "PGBART: [f]\n"
     ]
    },
    {
     "name": "stdout",
     "output_type": "stream",
     "text": [
      " |██████████████████████████████████| 100.00% [900/900 00:06<00:00 Sampling 6 chains, 0 divergences]\r"
     ]
    },
    {
     "name": "stderr",
     "output_type": "stream",
     "text": [
      "Sampling 6 chains for 30 tune and 120 draw iterations (180 + 720 draws total) took 7 seconds.\n"
     ]
    },
    {
     "name": "stdout",
     "output_type": "stream",
     "text": [
      "█\r"
     ]
    },
    {
     "name": "stderr",
     "output_type": "stream",
     "text": [
      "Sampling: [f]\n"
     ]
    },
    {
     "name": "stdout",
     "output_type": "stream",
     "text": [
      " |████████████████████████████████████████| 100.00% [720/720 00:01<00:00]\r"
     ]
    },
    {
     "name": "stderr",
     "output_type": "stream",
     "text": [
      "Loading required package: nlme\n",
      "Loading required package: nnet\n",
      "Loading required package: survival\n"
     ]
    },
    {
     "name": "stdout",
     "output_type": "stream",
     "text": [
      "[1] \"/home/twj8/projects/bart_survival_paper/notebook\"\n",
      "*****Calling gbart: type=2\n",
      "*****Data:\n",
      "data:n,p,np: 234, 1, 10\n",
      "y1,yn: 1.000000, 1.000000\n",
      "x1,x[n*p]: 1.000000, 9.000000\n",
      "xp1,xp[np*p]: 1.000000, 24.000000\n",
      "*****Number of Trees: 50\n",
      "*****Number of Cut Points: 9 ... 9\n",
      "*****burn,nd,thin: 250,1670,10\n",
      "*****Prior:beta,alpha,tau,nu,lambda,offset: 2,0.95,0.212132,3,1,-0.395725\n",
      "*****Dirichlet:sparse,theta,omega,a,b,rho,augment: 0,0,1,0.5,1,1,0\n",
      "*****printevery: 100\n",
      "\n",
      "MCMC\n",
      "done 0 (out of 1920)\n",
      "done 100 (out of 1920)\n",
      "done 200 (out of 1920)\n",
      "done 300 (out of 1920)\n",
      "done 400 (out of 1920)\n",
      "done 500 (out of 1920)\n",
      "done 600 (out of 1920)\n",
      "done 700 (out of 1920)\n",
      "done 800 (out of 1920)\n",
      "done 900 (out of 1920)\n",
      "done 1000 (out of 1920)\n",
      "done 1100 (out of 1920)\n",
      "done 1200 (out of 1920)\n",
      "done 1300 (out of 1920)\n",
      "done 1400 (out of 1920)\n",
      "done 1500 (out of 1920)\n",
      "done 1600 (out of 1920)\n",
      "done 1700 (out of 1920)\n",
      "done 1800 (out of 1920)\n",
      "done 1900 (out of 1920)\n",
      "time: 2s\n",
      "trcnt,tecnt: 167,167\n",
      "List of 24\n",
      " $ yhat.train     : num [1:167, 1:234] -0.2102 -0.0964 -0.1891 -0.196 -0.3876 ...\n",
      " $ yhat.test      : num [1:1002, 1:10] -0.2102 -0.0964 -0.1891 -0.196 -0.3876 ...\n",
      " $ varcount       : int [1:1002, 1] 62 57 56 53 52 65 53 59 57 58 ...\n",
      "  ..- attr(*, \"dimnames\")=List of 2\n",
      "  .. ..$ : NULL\n",
      "  .. ..$ : chr \"t\"\n",
      " $ varprob        : num [1:1002, 1] 1 1 1 1 1 1 1 1 1 1 ...\n",
      "  ..- attr(*, \"dimnames\")=List of 2\n",
      "  .. ..$ : NULL\n",
      "  .. ..$ : chr \"t\"\n",
      " $ treedraws      :List of 2\n",
      "  ..$ cutpoints:List of 1\n",
      "  .. ..$ t: num [1:9] 1.5 2.5 3.5 4.5 5.5 6.5 7.5 8.5 16.5\n",
      "  ..$ trees    : chr \"1002 50 1\\n5\\n1 0 6 0.006585457118\\n2 0 2 0.04862931699\\n4 0 0 0.09183522191\\n5 0 0 0.1207260728\\n3 0 0 -0.2287\"| __truncated__\n",
      " $ proc.time      : 'proc_time' Named num [1:5] 8.702 0.155 1.725 0 0\n",
      "  ..- attr(*, \"names\")= chr [1:5] \"user.self\" \"sys.self\" \"elapsed\" \"user.child\" ...\n",
      " $ hostname       : logi FALSE\n",
      " $ prob.train     : num [1:167, 1:234] 0.417 0.462 0.425 0.422 0.349 ...\n",
      " $ prob.train.mean: num [1:234] 0.429 0.429 0.429 0.255 0.429 ...\n",
      " $ LPML           : num -150\n",
      " $ prob.test      : num [1:1002, 1:10] 0.417 0.462 0.425 0.422 0.349 ...\n",
      " $ prob.test.mean : num [1:10] 0.429 0.255 0.431 0.272 0.217 ...\n",
      " $ ndpost         : num 1002\n",
      " $ offset         : num -0.396\n",
      " $ varcount.mean  : Named num 56.2\n",
      "  ..- attr(*, \"names\")= chr \"t\"\n",
      " $ varprob.mean   : Named num 1\n",
      "  ..- attr(*, \"names\")= chr \"t\"\n",
      " $ rm.const       : int 1\n",
      " $ times          : num [1:10] 1 2 3 4 5 6 7 8 9 24\n",
      " $ K              : int 10\n",
      " $ tx.train       : num [1:234, 1] 1 1 1 2 1 2 3 4 1 2 ...\n",
      "  ..- attr(*, \"dimnames\")=List of 2\n",
      "  .. ..$ : NULL\n",
      "  .. ..$ : chr \"t\"\n",
      " $ type           : chr \"pbart\"\n",
      " $ tx.test        : num [1:10, 1] 1 2 3 4 5 6 7 8 9 24\n",
      "  ..- attr(*, \"dimnames\")=List of 2\n",
      "  .. ..$ : NULL\n",
      "  .. ..$ : chr \"t\"\n",
      " $ surv.test      : num [1:1002, 1:10] 0.583 0.538 0.575 0.578 0.651 ...\n",
      " $ surv.test.mean : num [1:10] 0.573 0.428 0.244 0.179 0.139 ...\n",
      " - attr(*, \"class\")= chr \"survbart\"\n",
      "mean shape 0.7999999999999998\n",
      "mean scale 2.5\n",
      "mean time draws 2.5434985723803574\n",
      "cens mean 8.54\n",
      "(251, 1)\n"
     ]
    },
    {
     "name": "stderr",
     "output_type": "stream",
     "text": [
      "Only 120 samples in chain.\n",
      "Multiprocess sampling (6 chains in 6 jobs)\n",
      "PGBART: [f]\n"
     ]
    },
    {
     "name": "stdout",
     "output_type": "stream",
     "text": [
      " |██████████████████████████████████| 100.00% [900/900 00:05<00:00 Sampling 6 chains, 0 divergences]\r"
     ]
    },
    {
     "name": "stderr",
     "output_type": "stream",
     "text": [
      "Sampling 6 chains for 30 tune and 120 draw iterations (180 + 720 draws total) took 6 seconds.\n"
     ]
    },
    {
     "name": "stdout",
     "output_type": "stream",
     "text": [
      "█\r"
     ]
    },
    {
     "name": "stderr",
     "output_type": "stream",
     "text": [
      "Sampling: [f]\n"
     ]
    },
    {
     "name": "stdout",
     "output_type": "stream",
     "text": [
      " |████████████████████████████████████████| 100.00% [720/720 00:01<00:00]\r"
     ]
    },
    {
     "name": "stderr",
     "output_type": "stream",
     "text": [
      "Loading required package: nlme\n",
      "Loading required package: nnet\n",
      "Loading required package: survival\n"
     ]
    },
    {
     "name": "stdout",
     "output_type": "stream",
     "text": [
      "[1] \"/home/twj8/projects/bart_survival_paper/notebook\"\n",
      "*****Calling gbart: type=2\n",
      "*****Data:\n",
      "data:n,p,np: 251, 1, 10\n",
      "y1,yn: 0.000000, 1.000000\n",
      "x1,x[n*p]: 1.000000, 5.000000\n",
      "xp1,xp[np*p]: 1.000000, 15.000000\n",
      "*****Number of Trees: 50\n",
      "*****Number of Cut Points: 9 ... 9\n",
      "*****burn,nd,thin: 250,1670,10\n",
      "*****Prior:beta,alpha,tau,nu,lambda,offset: 2,0.95,0.212132,3,1,-0.416163\n",
      "*****Dirichlet:sparse,theta,omega,a,b,rho,augment: 0,0,1,0.5,1,1,0\n",
      "*****printevery: 100\n",
      "\n",
      "MCMC\n",
      "done 0 (out of 1920)\n",
      "done 100 (out of 1920)\n",
      "done 200 (out of 1920)\n",
      "done 300 (out of 1920)\n",
      "done 400 (out of 1920)\n",
      "done 500 (out of 1920)\n",
      "done 600 (out of 1920)\n",
      "done 700 (out of 1920)\n",
      "done 800 (out of 1920)\n",
      "done 900 (out of 1920)\n",
      "done 1000 (out of 1920)\n",
      "done 1100 (out of 1920)\n",
      "done 1200 (out of 1920)\n",
      "done 1300 (out of 1920)\n",
      "done 1400 (out of 1920)\n",
      "done 1500 (out of 1920)\n",
      "done 1600 (out of 1920)\n",
      "done 1700 (out of 1920)\n",
      "done 1800 (out of 1920)\n",
      "done 1900 (out of 1920)\n",
      "time: 1s\n",
      "trcnt,tecnt: 167,167\n",
      "List of 24\n",
      " $ yhat.train     : num [1:167, 1:251] -0.159 -0.282 -0.249 -0.21 -0.412 ...\n",
      " $ yhat.test      : num [1:1002, 1:10] -0.159 -0.282 -0.249 -0.21 -0.412 ...\n",
      " $ varcount       : int [1:1002, 1] 59 62 49 60 56 59 67 59 62 52 ...\n",
      "  ..- attr(*, \"dimnames\")=List of 2\n",
      "  .. ..$ : NULL\n",
      "  .. ..$ : chr \"t\"\n",
      " $ varprob        : num [1:1002, 1] 1 1 1 1 1 1 1 1 1 1 ...\n",
      "  ..- attr(*, \"dimnames\")=List of 2\n",
      "  .. ..$ : NULL\n",
      "  .. ..$ : chr \"t\"\n",
      " $ treedraws      :List of 2\n",
      "  ..$ cutpoints:List of 1\n",
      "  .. ..$ t: num [1:9] 1.5 2.5 3.5 4.5 5.5 6.5 7.5 9 12.5\n",
      "  ..$ trees    : chr \"1002 50 1\\n7\\n1 0 0 -0.01098782739\\n2 0 0 0.4328708361\\n3 0 1 -0.3413824816\\n6 0 0 -0.1265728444\\n7 0 6 -0.1469\"| __truncated__\n",
      " $ proc.time      : 'proc_time' Named num [1:5] 9.139 0.092 1.778 0 0\n",
      "  ..- attr(*, \"names\")= chr [1:5] \"user.self\" \"sys.self\" \"elapsed\" \"user.child\" ...\n",
      " $ hostname       : logi FALSE\n",
      " $ prob.train     : num [1:167, 1:251] 0.437 0.389 0.402 0.417 0.34 ...\n",
      " $ prob.train.mean: num [1:251] 0.438 0.316 0.438 0.316 0.297 ...\n",
      " $ LPML           : num -161\n",
      " $ prob.test      : num [1:1002, 1:10] 0.437 0.389 0.402 0.417 0.34 ...\n",
      " $ prob.test.mean : num [1:10] 0.438 0.316 0.297 0.209 0.274 ...\n",
      " $ ndpost         : num 1002\n",
      " $ offset         : num -0.416\n",
      " $ varcount.mean  : Named num 56.1\n",
      "  ..- attr(*, \"names\")= chr \"t\"\n",
      " $ varprob.mean   : Named num 1\n",
      "  ..- attr(*, \"names\")= chr \"t\"\n",
      " $ rm.const       : int 1\n",
      " $ times          : num [1:10] 1 2 3 4 5 6 7 8 10 15\n",
      " $ K              : int 10\n",
      " $ tx.train       : num [1:251, 1] 1 2 1 2 3 1 2 3 1 2 ...\n",
      "  ..- attr(*, \"dimnames\")=List of 2\n",
      "  .. ..$ : NULL\n",
      "  .. ..$ : chr \"t\"\n",
      " $ type           : chr \"pbart\"\n",
      " $ tx.test        : num [1:10, 1] 1 2 3 4 5 6 7 8 10 15\n",
      "  ..- attr(*, \"dimnames\")=List of 2\n",
      "  .. ..$ : NULL\n",
      "  .. ..$ : chr \"t\"\n",
      " $ surv.test      : num [1:1002, 1:10] 0.563 0.611 0.598 0.583 0.66 ...\n",
      " $ surv.test.mean : num [1:10] 0.564 0.386 0.273 0.212 0.155 ...\n",
      " - attr(*, \"class\")= chr \"survbart\"\n",
      "mean shape 0.7999999999999998\n",
      "mean scale 2.5\n",
      "mean time draws 3.1135130630666072\n",
      "cens mean 9.31\n",
      "(268, 1)\n"
     ]
    },
    {
     "name": "stderr",
     "output_type": "stream",
     "text": [
      "Only 120 samples in chain.\n",
      "Multiprocess sampling (6 chains in 6 jobs)\n",
      "PGBART: [f]\n"
     ]
    },
    {
     "name": "stdout",
     "output_type": "stream",
     "text": [
      " |██████████████████████████████████| 100.00% [900/900 00:07<00:00 Sampling 6 chains, 0 divergences]\r"
     ]
    },
    {
     "name": "stderr",
     "output_type": "stream",
     "text": [
      "Sampling 6 chains for 30 tune and 120 draw iterations (180 + 720 draws total) took 8 seconds.\n"
     ]
    },
    {
     "name": "stdout",
     "output_type": "stream",
     "text": [
      "█\r"
     ]
    },
    {
     "name": "stderr",
     "output_type": "stream",
     "text": [
      "Sampling: [f]\n"
     ]
    },
    {
     "name": "stdout",
     "output_type": "stream",
     "text": [
      " |████████████████████████████████████████| 100.00% [720/720 00:01<00:00]\r"
     ]
    },
    {
     "name": "stderr",
     "output_type": "stream",
     "text": [
      "Loading required package: nlme\n",
      "Loading required package: nnet\n",
      "Loading required package: survival\n"
     ]
    },
    {
     "name": "stdout",
     "output_type": "stream",
     "text": [
      "[1] \"/home/twj8/projects/bart_survival_paper/notebook\"\n",
      "*****Calling gbart: type=2\n",
      "*****Data:\n",
      "data:n,p,np: 268, 1, 12\n",
      "y1,yn: 1.000000, 1.000000\n",
      "x1,x[n*p]: 1.000000, 7.000000\n",
      "xp1,xp[np*p]: 1.000000, 19.000000\n",
      "*****Number of Trees: 50\n",
      "*****Number of Cut Points: 11 ... 11\n",
      "*****burn,nd,thin: 250,1670,10\n",
      "*****Prior:beta,alpha,tau,nu,lambda,offset: 2,0.95,0.212132,3,1,-0.539485\n",
      "*****Dirichlet:sparse,theta,omega,a,b,rho,augment: 0,0,1,0.5,1,1,0\n",
      "*****printevery: 100\n",
      "\n",
      "MCMC\n",
      "done 0 (out of 1920)\n",
      "done 100 (out of 1920)\n",
      "done 200 (out of 1920)\n",
      "done 300 (out of 1920)\n",
      "done 400 (out of 1920)\n",
      "done 500 (out of 1920)\n",
      "done 600 (out of 1920)\n",
      "done 700 (out of 1920)\n",
      "done 800 (out of 1920)\n",
      "done 900 (out of 1920)\n",
      "done 1000 (out of 1920)\n",
      "done 1100 (out of 1920)\n",
      "done 1200 (out of 1920)\n",
      "done 1300 (out of 1920)\n",
      "done 1400 (out of 1920)\n",
      "done 1500 (out of 1920)\n",
      "done 1600 (out of 1920)\n",
      "done 1700 (out of 1920)\n",
      "done 1800 (out of 1920)\n",
      "done 1900 (out of 1920)\n",
      "time: 2s\n",
      "trcnt,tecnt: 167,167\n",
      "List of 24\n",
      " $ yhat.train     : num [1:167, 1:268] -0.36 -0.408 -0.444 -0.149 -0.304 ...\n",
      " $ yhat.test      : num [1:1002, 1:12] -0.36 -0.408 -0.444 -0.149 -0.304 ...\n",
      " $ varcount       : int [1:1002, 1] 50 49 55 56 56 54 57 55 51 65 ...\n",
      "  ..- attr(*, \"dimnames\")=List of 2\n",
      "  .. ..$ : NULL\n",
      "  .. ..$ : chr \"t\"\n",
      " $ varprob        : num [1:1002, 1] 1 1 1 1 1 1 1 1 1 1 ...\n",
      "  ..- attr(*, \"dimnames\")=List of 2\n",
      "  .. ..$ : NULL\n",
      "  .. ..$ : chr \"t\"\n",
      " $ treedraws      :List of 2\n",
      "  ..$ cutpoints:List of 1\n",
      "  .. ..$ t: num [1:11] 1.5 2.5 3.5 4.5 5.5 6.5 7.5 9 11 14 ...\n",
      "  ..$ trees    : chr \"1002 50 1\\n3\\n1 0 0 0.3508894005\\n2 0 0 0.09910425685\\n3 0 0 -0.1731386953\\n3\\n1 0 4 -0.05023464431\\n2 0 0 0.00\"| __truncated__\n",
      " $ proc.time      : 'proc_time' Named num [1:5] 10.608 0.126 2.591 0 0\n",
      "  ..- attr(*, \"names\")= chr [1:5] \"user.self\" \"sys.self\" \"elapsed\" \"user.child\" ...\n",
      " $ hostname       : logi FALSE\n",
      " $ prob.train     : num [1:167, 1:268] 0.359 0.342 0.328 0.441 0.381 ...\n",
      " $ prob.train.mean: num [1:268] 0.351 0.351 0.351 0.351 0.321 ...\n",
      " $ LPML           : num -167\n",
      " $ prob.test      : num [1:1002, 1:12] 0.359 0.342 0.328 0.441 0.381 ...\n",
      " $ prob.test.mean : num [1:12] 0.351 0.321 0.219 0.292 0.29 ...\n",
      " $ ndpost         : num 1002\n",
      " $ offset         : num -0.539\n",
      " $ varcount.mean  : Named num 56.7\n",
      "  ..- attr(*, \"names\")= chr \"t\"\n",
      " $ varprob.mean   : Named num 1\n",
      "  ..- attr(*, \"names\")= chr \"t\"\n",
      " $ rm.const       : int 1\n",
      " $ times          : num [1:12] 1 2 3 4 5 6 7 8 10 12 ...\n",
      " $ K              : int 12\n",
      " $ tx.train       : num [1:268, 1] 1 1 1 1 2 3 4 5 1 2 ...\n",
      "  ..- attr(*, \"dimnames\")=List of 2\n",
      "  .. ..$ : NULL\n",
      "  .. ..$ : chr \"t\"\n",
      " $ type           : chr \"pbart\"\n",
      " $ tx.test        : num [1:12, 1] 1 2 3 4 5 6 7 8 10 12 ...\n",
      "  ..- attr(*, \"dimnames\")=List of 2\n",
      "  .. ..$ : NULL\n",
      "  .. ..$ : chr \"t\"\n",
      " $ surv.test      : num [1:1002, 1:12] 0.641 0.658 0.672 0.559 0.619 ...\n",
      " $ surv.test.mean : num [1:12] 0.65 0.442 0.344 0.242 0.173 ...\n",
      " - attr(*, \"class\")= chr \"survbart\"\n",
      "mean shape 0.7999999999999998\n",
      "mean scale 2.5\n",
      "mean time draws 2.736360254937823\n",
      "cens mean 9.41\n",
      "(258, 1)\n"
     ]
    },
    {
     "name": "stderr",
     "output_type": "stream",
     "text": [
      "Only 120 samples in chain.\n",
      "Multiprocess sampling (6 chains in 6 jobs)\n",
      "PGBART: [f]\n"
     ]
    },
    {
     "name": "stdout",
     "output_type": "stream",
     "text": [
      " |██████████████████████████████████| 100.00% [900/900 00:07<00:00 Sampling 6 chains, 0 divergences]\r"
     ]
    },
    {
     "name": "stderr",
     "output_type": "stream",
     "text": [
      "Sampling 6 chains for 30 tune and 120 draw iterations (180 + 720 draws total) took 8 seconds.\n"
     ]
    },
    {
     "name": "stdout",
     "output_type": "stream",
     "text": [
      "█\r"
     ]
    },
    {
     "name": "stderr",
     "output_type": "stream",
     "text": [
      "Sampling: [f]\n"
     ]
    },
    {
     "name": "stdout",
     "output_type": "stream",
     "text": [
      " |████████████████████████████████████████| 100.00% [720/720 00:01<00:00]\r"
     ]
    },
    {
     "name": "stderr",
     "output_type": "stream",
     "text": [
      "Loading required package: nlme\n",
      "Loading required package: nnet\n",
      "Loading required package: survival\n"
     ]
    },
    {
     "name": "stdout",
     "output_type": "stream",
     "text": [
      "[1] \"/home/twj8/projects/bart_survival_paper/notebook\"\n",
      "*****Calling gbart: type=2\n",
      "*****Data:\n",
      "data:n,p,np: 258, 1, 8\n",
      "y1,yn: 0.000000, 0.000000\n",
      "x1,x[n*p]: 1.000000, 1.000000\n",
      "xp1,xp[np*p]: 1.000000, 8.000000\n",
      "*****Number of Trees: 50\n",
      "*****Number of Cut Points: 7 ... 7\n",
      "*****burn,nd,thin: 250,1670,10\n",
      "*****Prior:beta,alpha,tau,nu,lambda,offset: 2,0.95,0.212132,3,1,-0.495631\n",
      "*****Dirichlet:sparse,theta,omega,a,b,rho,augment: 0,0,1,0.5,1,1,0\n",
      "*****printevery: 100\n",
      "\n",
      "MCMC\n",
      "done 0 (out of 1920)\n",
      "done 100 (out of 1920)\n",
      "done 200 (out of 1920)\n",
      "done 300 (out of 1920)\n",
      "done 400 (out of 1920)\n",
      "done 500 (out of 1920)\n",
      "done 600 (out of 1920)\n",
      "done 700 (out of 1920)\n",
      "done 800 (out of 1920)\n",
      "done 900 (out of 1920)\n",
      "done 1000 (out of 1920)\n",
      "done 1100 (out of 1920)\n",
      "done 1200 (out of 1920)\n",
      "done 1300 (out of 1920)\n",
      "done 1400 (out of 1920)\n",
      "done 1500 (out of 1920)\n",
      "done 1600 (out of 1920)\n",
      "done 1700 (out of 1920)\n",
      "done 1800 (out of 1920)\n",
      "done 1900 (out of 1920)\n",
      "time: 2s\n",
      "trcnt,tecnt: 167,167\n",
      "List of 24\n",
      " $ yhat.train     : num [1:167, 1:258] -0.657 -0.488 -0.714 -0.665 -0.417 ...\n",
      " $ yhat.test      : num [1:1002, 1:8] -0.657 -0.488 -0.714 -0.665 -0.417 ...\n",
      " $ varcount       : int [1:1002, 1] 55 62 52 54 57 52 60 55 50 57 ...\n",
      "  ..- attr(*, \"dimnames\")=List of 2\n",
      "  .. ..$ : NULL\n",
      "  .. ..$ : chr \"t\"\n",
      " $ varprob        : num [1:1002, 1] 1 1 1 1 1 1 1 1 1 1 ...\n",
      "  ..- attr(*, \"dimnames\")=List of 2\n",
      "  .. ..$ : NULL\n",
      "  .. ..$ : chr \"t\"\n",
      " $ treedraws      :List of 2\n",
      "  ..$ cutpoints:List of 1\n",
      "  .. ..$ t: num [1:7] 1.5 2.5 3.5 4.5 5.5 6.5 7.5\n",
      "  ..$ trees    : chr \"1002 50 1\\n3\\n1 0 3 -0.1129105699\\n2 0 0 -0.2851168521\\n3 0 0 0.4001944143\\n3\\n1 0 2 0.03490238919\\n2 0 0 0.027\"| __truncated__\n",
      " $ proc.time      : 'proc_time' Named num [1:5] 10.514 0.126 2.479 0 0\n",
      "  ..- attr(*, \"names\")= chr [1:5] \"user.self\" \"sys.self\" \"elapsed\" \"user.child\" ...\n",
      " $ hostname       : logi FALSE\n",
      " $ prob.train     : num [1:167, 1:258] 0.255 0.313 0.238 0.253 0.338 ...\n",
      " $ prob.train.mean: num [1:258] 0.261 0.335 0.283 0.261 0.261 ...\n",
      " $ LPML           : num -163\n",
      " $ prob.test      : num [1:1002, 1:8] 0.255 0.313 0.238 0.253 0.338 ...\n",
      " $ prob.test.mean : num [1:8] 0.261 0.335 0.283 0.468 0.346 ...\n",
      " $ ndpost         : num 1002\n",
      " $ offset         : num -0.496\n",
      " $ varcount.mean  : Named num 56.9\n",
      "  ..- attr(*, \"names\")= chr \"t\"\n",
      " $ varprob.mean   : Named num 1\n",
      "  ..- attr(*, \"names\")= chr \"t\"\n",
      " $ rm.const       : int 1\n",
      " $ times          : num [1:8] 1 2 3 4 5 6 7 8\n",
      " $ K              : int 8\n",
      " $ tx.train       : num [1:258, 1] 1 2 3 1 1 2 3 1 1 1 ...\n",
      "  ..- attr(*, \"dimnames\")=List of 2\n",
      "  .. ..$ : NULL\n",
      "  .. ..$ : chr \"t\"\n",
      " $ type           : chr \"pbart\"\n",
      " $ tx.test        : num [1:8, 1] 1 2 3 4 5 6 7 8\n",
      "  ..- attr(*, \"dimnames\")=List of 2\n",
      "  .. ..$ : NULL\n",
      "  .. ..$ : chr \"t\"\n",
      " $ surv.test      : num [1:1002, 1:8] 0.745 0.687 0.762 0.747 0.662 ...\n",
      " $ surv.test.mean : num [1:8] 0.74 0.494 0.355 0.192 0.127 ...\n",
      " - attr(*, \"class\")= chr \"survbart\"\n",
      "mean shape 0.7999999999999998\n",
      "mean scale 2.5\n",
      "mean time draws 2.6825580692465922\n",
      "cens mean 9.48\n",
      "(222, 1)\n"
     ]
    },
    {
     "name": "stderr",
     "output_type": "stream",
     "text": [
      "Only 120 samples in chain.\n",
      "Multiprocess sampling (6 chains in 6 jobs)\n",
      "PGBART: [f]\n"
     ]
    },
    {
     "name": "stdout",
     "output_type": "stream",
     "text": [
      " |██████████████████████████████████| 100.00% [900/900 00:05<00:00 Sampling 6 chains, 0 divergences]\r"
     ]
    },
    {
     "name": "stderr",
     "output_type": "stream",
     "text": [
      "Sampling 6 chains for 30 tune and 120 draw iterations (180 + 720 draws total) took 6 seconds.\n"
     ]
    },
    {
     "name": "stdout",
     "output_type": "stream",
     "text": [
      "█\r"
     ]
    },
    {
     "name": "stderr",
     "output_type": "stream",
     "text": [
      "Sampling: [f]\n"
     ]
    },
    {
     "name": "stdout",
     "output_type": "stream",
     "text": [
      " |████████████████████████████████████████| 100.00% [720/720 00:01<00:00]\r"
     ]
    },
    {
     "name": "stderr",
     "output_type": "stream",
     "text": [
      "Loading required package: nlme\n",
      "Loading required package: nnet\n",
      "Loading required package: survival\n"
     ]
    },
    {
     "name": "stdout",
     "output_type": "stream",
     "text": [
      "[1] \"/home/twj8/projects/bart_survival_paper/notebook\"\n",
      "*****Calling gbart: type=2\n",
      "*****Data:\n",
      "data:n,p,np: 222, 1, 8\n",
      "y1,yn: 1.000000, 1.000000\n",
      "x1,x[n*p]: 1.000000, 5.000000\n",
      "xp1,xp[np*p]: 1.000000, 15.000000\n",
      "*****Number of Trees: 50\n",
      "*****Number of Cut Points: 7 ... 7\n",
      "*****burn,nd,thin: 250,1670,10\n",
      "*****Prior:beta,alpha,tau,nu,lambda,offset: 2,0.95,0.212132,3,1,-0.393847\n",
      "*****Dirichlet:sparse,theta,omega,a,b,rho,augment: 0,0,1,0.5,1,1,0\n",
      "*****printevery: 100\n",
      "\n",
      "MCMC\n",
      "done 0 (out of 1920)\n",
      "done 100 (out of 1920)\n",
      "done 200 (out of 1920)\n",
      "done 300 (out of 1920)\n",
      "done 400 (out of 1920)\n",
      "done 500 (out of 1920)\n",
      "done 600 (out of 1920)\n",
      "done 700 (out of 1920)\n",
      "done 800 (out of 1920)\n",
      "done 900 (out of 1920)\n",
      "done 1000 (out of 1920)\n",
      "done 1100 (out of 1920)\n",
      "done 1200 (out of 1920)\n",
      "done 1300 (out of 1920)\n",
      "done 1400 (out of 1920)\n",
      "done 1500 (out of 1920)\n",
      "done 1600 (out of 1920)\n",
      "done 1700 (out of 1920)\n",
      "done 1800 (out of 1920)\n",
      "done 1900 (out of 1920)\n",
      "time: 2s\n",
      "trcnt,tecnt: 167,167\n",
      "List of 24\n",
      " $ yhat.train     : num [1:167, 1:222] -0.2333 -0.1812 -0.0289 -0.1613 -0.0871 ...\n",
      " $ yhat.test      : num [1:1002, 1:8] -0.2333 -0.1812 -0.0289 -0.1613 -0.0871 ...\n",
      " $ varcount       : int [1:1002, 1] 55 53 67 63 51 52 63 58 54 54 ...\n",
      "  ..- attr(*, \"dimnames\")=List of 2\n",
      "  .. ..$ : NULL\n",
      "  .. ..$ : chr \"t\"\n",
      " $ varprob        : num [1:1002, 1] 1 1 1 1 1 1 1 1 1 1 ...\n",
      "  ..- attr(*, \"dimnames\")=List of 2\n",
      "  .. ..$ : NULL\n",
      "  .. ..$ : chr \"t\"\n",
      " $ treedraws      :List of 2\n",
      "  ..$ cutpoints:List of 1\n",
      "  .. ..$ t: num [1:7] 1.5 2.5 3.5 4.5 6 8 12\n",
      "  ..$ trees    : chr \"1002 50 1\\n3\\n1 0 0 0.02025347501\\n2 0 0 0.06780287841\\n3 0 0 -0.2324504536\\n3\\n1 0 3 -0.4596306574\\n2 0 0 -0.4\"| __truncated__\n",
      " $ proc.time      : 'proc_time' Named num [1:5] 8.452 0.062 2.585 0 0\n",
      "  ..- attr(*, \"names\")= chr [1:5] \"user.self\" \"sys.self\" \"elapsed\" \"user.child\" ...\n",
      " $ hostname       : logi FALSE\n",
      " $ prob.train     : num [1:167, 1:222] 0.408 0.428 0.488 0.436 0.465 ...\n",
      " $ prob.train.mean: num [1:222] 0.443 0.443 0.315 0.443 0.443 ...\n",
      " $ LPML           : num -143\n",
      " $ prob.test      : num [1:1002, 1:8] 0.408 0.428 0.488 0.436 0.465 ...\n",
      " $ prob.test.mean : num [1:8] 0.443 0.315 0.217 0.154 0.331 ...\n",
      " $ ndpost         : num 1002\n",
      " $ offset         : num -0.394\n",
      " $ varcount.mean  : Named num 56.9\n",
      "  ..- attr(*, \"names\")= chr \"t\"\n",
      " $ varprob.mean   : Named num 1\n",
      "  ..- attr(*, \"names\")= chr \"t\"\n",
      " $ rm.const       : int 1\n",
      " $ times          : num [1:8] 1 2 3 4 5 7 9 15\n",
      " $ K              : int 8\n",
      " $ tx.train       : num [1:222, 1] 1 1 2 1 1 1 1 1 1 1 ...\n",
      "  ..- attr(*, \"dimnames\")=List of 2\n",
      "  .. ..$ : NULL\n",
      "  .. ..$ : chr \"t\"\n",
      " $ type           : chr \"pbart\"\n",
      " $ tx.test        : num [1:8, 1] 1 2 3 4 5 7 9 15\n",
      "  ..- attr(*, \"dimnames\")=List of 2\n",
      "  .. ..$ : NULL\n",
      "  .. ..$ : chr \"t\"\n",
      " $ surv.test      : num [1:1002, 1:8] 0.592 0.572 0.512 0.564 0.535 ...\n",
      " $ surv.test.mean : num [1:8] 0.555 0.38 0.295 0.251 0.169 ...\n",
      " - attr(*, \"class\")= chr \"survbart\"\n"
     ]
    }
   ],
   "source": [
    "meta_lst = []\n",
    "sv_true_lst0 = []\n",
    "k_sv_lst0 = []\n",
    "k_sv_ci_lst0 = []\n",
    "pb_sv_lst0 = []\n",
    "pb_sv_ci_lst0 = []\n",
    "r_sv_lst0 = []\n",
    "r_sv_ci_lst0 = []\n",
    "\n",
    "for i in range(10):\n",
    "    meta, sv_true, k_sv, pb_sv, r_sv = fn.sim_1s(seed=i, n=cn.N[0], scenario=cn.simple_1_1, SPLIT_RULES=SPLIT_RULES, model_dict=model_dict, sampler_dict=sampler_dict)\n",
    "\n",
    "    uniq_t = meta[3][0]\n",
    "    uniq_idx = meta[3][1]\n",
    "\n",
    "    true_t = meta[1]\n",
    "    assert((true_t[uniq_t-1] == uniq_t).all)\n",
    "\n",
    "    sv_t_0 = sv_true[uniq_t-1]\n",
    "    k_sv_0 = k_sv[0][uniq_idx]\n",
    "    k_sv_ci0 = k_sv[1][:,uniq_idx]\n",
    "    p_sv_0 = pb_sv[0][0][uniq_idx]\n",
    "    p_sv_ci0 = pb_sv[0][1][:,uniq_idx]\n",
    "    r_sv_0 = r_sv[0][uniq_idx]\n",
    "    r_sv_ci0 = r_sv[1][:,uniq_idx]\n",
    "\n",
    "    meta_lst.append(meta)\n",
    "    sv_true_lst0.append(sv_t_0)\n",
    "    k_sv_lst0.append(k_sv_0)\n",
    "    k_sv_ci_lst0.append(k_sv_ci0)\n",
    "    pb_sv_lst0.append(p_sv_0)\n",
    "    pb_sv_ci_lst0.append(p_sv_ci0)\n",
    "    r_sv_lst0.append(r_sv_0)\n",
    "    r_sv_ci_lst0.append(r_sv_ci0)\n"
   ]
  },
  {
   "cell_type": "code",
   "execution_count": 152,
   "metadata": {},
   "outputs": [],
   "source": [
    "k,p,r = fn.get_metrics1(\n",
    "    sv_true_lst0,\n",
    "    k_sv_lst0,\n",
    "    k_sv_ci_lst0,\n",
    "    pb_sv_lst0,\n",
    "    pb_sv_ci_lst0,\n",
    "    r_sv_lst0,\n",
    "    r_sv_ci_lst0\n",
    ")"
   ]
  },
  {
   "cell_type": "code",
   "execution_count": 153,
   "metadata": {},
   "outputs": [
    {
     "data": {
      "text/plain": [
       "({'rmse': array([0.06170404, 0.04759273, 0.03732289, 0.02794742, 0.01809611]),\n",
       "  'bias': array([0.01350514, 0.01691515, 0.01714883, 0.00561463, 0.00010585]),\n",
       "  'cov': array([0.9, 1. , 1. , 1. , 1. ]),\n",
       "  'ivl': array([0.18928475, 0.18911484, 0.1583186 , 0.13138245, 0.12431442])},\n",
       " {'rmse': array([0.05834484, 0.04279395, 0.02920793, 0.02661945, 0.02550107]),\n",
       "  'bias': array([ 0.01136376,  0.01517378,  0.01601281,  0.00691405, -0.00024085]),\n",
       "  'cov': array([0.9, 1. , 1. , 1. , 0.9]),\n",
       "  'ivl': array([0.21424172, 0.20661314, 0.16569985, 0.12287989, 0.10064809])},\n",
       " {'rmse': array([0.05962449, 0.04517351, 0.03267144, 0.02642728, 0.02610245]),\n",
       "  'bias': array([0.01135606, 0.01701775, 0.01769248, 0.00825929, 0.00378307]),\n",
       "  'cov': array([0.9, 1. , 1. , 1. , 1. ]),\n",
       "  'ivl': array([0.18542141, 0.18502021, 0.15406603, 0.116948  , 0.09404644])})"
      ]
     },
     "execution_count": 153,
     "metadata": {},
     "output_type": "execute_result"
    }
   ],
   "source": [
    "k,p,r"
   ]
  },
  {
   "cell_type": "code",
   "execution_count": 154,
   "metadata": {},
   "outputs": [
    {
     "data": {
      "text/plain": [
       "<matplotlib.legend.Legend at 0x7ffa1f674370>"
      ]
     },
     "execution_count": 154,
     "metadata": {},
     "output_type": "execute_result"
    },
    {
     "data": {
      "image/png": "[encoded data removed]",
      "text/plain": [
       "<Figure size 640x480 with 1 Axes>"
      ]
     },
     "metadata": {},
     "output_type": "display_data"
    }
   ],
   "source": [
    "p0 = True\n",
    "p0_k = True\n",
    "p0_p = True\n",
    "p0_r = True\n",
    "\n",
    "ttt = meta[1]\n",
    "t = meta[2]\n",
    "# true\n",
    "if p0:\n",
    "    plt.step(ttt, sv_true, color=\"black\", label=\"t0\")\n",
    "#kpm\n",
    "if p0_k:\n",
    "    plt.step(t, k_sv[0], color = \"rosybrown\", label = \"k0\", alpha=0.8)\n",
    "    plt.step(t, k_sv[1][0], color = \"rosybrown\", alpha=0.2)\n",
    "    plt.step(t, k_sv[1][1], color = \"rosybrown\", alpha=0.2)\n",
    "# pb\n",
    "if p0_p:\n",
    "    plt.step(t, pb_sv[0][0], label=\"pb0\", color = \"slateblue\", alpha=0.5)\n",
    "    plt.step(t, pb_sv[0][1][0], color = \"slateblue\", alpha=0.2)\n",
    "    plt.step(t, pb_sv[0][1][1], color = \"slateblue\", alpha=0.2)\n",
    "# #rb\n",
    "if p0_r:\n",
    "    plt.step(t, r_sv[0], color=\"green\", label=\"r0\", alpha=0.5)\n",
    "    plt.step(t, r_sv[1][0], color=\"green\",  alpha=0.2)\n",
    "    plt.step(t, r_sv[1][1], color=\"green\",  alpha=0.2)\n",
    "plt.legend()\n"
   ]
  }
 ],
 "metadata": {
  "kernelspec": {
   "display_name": "Python 3.10.12 ('.paper_venv': venv)",
   "language": "python",
   "name": "python3"
  },
  "language_info": {
   "codemirror_mode": {
    "name": "ipython",
    "version": 3
   },
   "file_extension": ".py",
   "mimetype": "text/x-python",
   "name": "python",
   "nbconvert_exporter": "python",
   "pygments_lexer": "ipython3",
   "version": "3.10.12"
  },
  "orig_nbformat": 4,
  "vscode": {
   "interpreter": {
    "hash": "e45457e90195d1585fce856b4f6dbb6d2ca5f521e76b59d4cfa3c981e92b93bd"
   }
  }
 },
 "nbformat": 4,
 "nbformat_minor": 2
}
