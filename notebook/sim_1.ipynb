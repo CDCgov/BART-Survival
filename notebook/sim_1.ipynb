{
 "cells": [
  {
   "cell_type": "code",
   "execution_count": 1,
   "metadata": {},
   "outputs": [
    {
     "name": "stderr",
     "output_type": "stream",
     "text": [
      "WARNING (pytensor.tensor.blas): Using NumPy C-API based implementation for BLAS functions.\n"
     ]
    }
   ],
   "source": [
    "import pandas as pd\n",
    "import numpy as np\n",
    "import lifelines as ll\n",
    "import sksurv as sks\n",
    "import matplotlib.pyplot as plt\n",
    "from bart_survival import surv_bart as sb\n",
    "from bart_survival import simulation as sm\n",
    "import lifelines as ll\n",
    "from lifelines import KaplanMeierFitter\n",
    "import subprocess"
   ]
  },
  {
   "cell_type": "code",
   "execution_count": 4,
   "metadata": {},
   "outputs": [],
   "source": [
    "from _functions1 import *\n",
    "from _conditions1 import *"
   ]
  },
  {
   "cell_type": "code",
   "execution_count": 7,
   "metadata": {},
   "outputs": [],
   "source": [
    "SPLIT_RULES =  [\n",
    "    \"pmb.ContinuousSplitRule()\", \n",
    "    # \"pmb.OneHotSplitRule()\"\n",
    "]\n",
    "model_dict = {\"trees\": 10,\n",
    "    \"split_rules\": SPLIT_RULES\n",
    "}\n",
    "sampler_dict = {\n",
    "            \"draws\": 120,\n",
    "            \"tune\": 30,\n",
    "            \"cores\": 6,\n",
    "            \"chains\": 6,\n",
    "            \"compute_convergence_checks\": False\n",
    "        }\n",
    "\n"
   ]
  },
  {
   "cell_type": "code",
   "execution_count": 5,
   "metadata": {},
   "outputs": [
    {
     "ename": "NameError",
     "evalue": "name 'SPLIT_RULES' is not defined",
     "output_type": "error",
     "traceback": [
      "\u001b[0;31m---------------------------------------------------------------------------\u001b[0m",
      "\u001b[0;31mNameError\u001b[0m                                 Traceback (most recent call last)",
      "Cell \u001b[0;32mIn[5], line 22\u001b[0m\n\u001b[1;32m     20\u001b[0m \u001b[39mfor\u001b[39;00m i \u001b[39min\u001b[39;00m \u001b[39mrange\u001b[39m(\u001b[39m1\u001b[39m):\n\u001b[1;32m     21\u001b[0m     i_lst\u001b[39m.\u001b[39mappend(i)\n\u001b[0;32m---> 22\u001b[0m     sv_true, cens_perc, uniq_t, qnt_t, qnt_idx, sv_true_r1, k_sv_m, k_sv_q, pb_sv_m, pb_sv_q, r_sv_m, r_sv_q \u001b[39m=\u001b[39m sim_1s(seed\u001b[39m=\u001b[39mi, n\u001b[39m=\u001b[39mN[\u001b[39m0\u001b[39m], scenario\u001b[39m=\u001b[39msimple_1_1, SPLIT_RULES\u001b[39m=\u001b[39mSPLIT_RULES, model_dict\u001b[39m=\u001b[39mmodel_dict, sampler_dict\u001b[39m=\u001b[39msampler_dict)\n\u001b[1;32m     23\u001b[0m     cens_perc_lst\u001b[39m.\u001b[39mappend(cens_perc)\n\u001b[1;32m     24\u001b[0m     uniq_t_lst\u001b[39m.\u001b[39mappend(uniq_t)\n",
      "\u001b[0;31mNameError\u001b[0m: name 'SPLIT_RULES' is not defined"
     ]
    }
   ],
   "source": [
    "i_lst = []\n",
    "sv_true_r1_lst = [] \n",
    "cens_perc_lst = []\n",
    "uniq_t_lst = []\n",
    "qnt_t_lst = []\n",
    "\n",
    "k_cov_lst = []\n",
    "pb_cov_lst = []\n",
    "r_cov_lst = []\n",
    "k_ci_l_lst = []\n",
    "pb_ci_l_lst = []\n",
    "r_ci_l_lst = []\n",
    "k_rmse_lst = []\n",
    "pb_rmse_lst = []\n",
    "r_rmse_lst = []\n",
    "k_bias_lst = [] \n",
    "pb_bias_lst = []\n",
    "r_bias_lst = []\n",
    "\n",
    "for i in range(1):\n",
    "    i_lst.append(i)\n",
    "    sv_true, cens_perc, uniq_t, qnt_t, qnt_idx, sv_true_r1, k_sv_m, k_sv_q, pb_sv_m, pb_sv_q, r_sv_m, r_sv_q = sim_1s(seed=i, n=N[0], scenario=simple_1_1, SPLIT_RULES=SPLIT_RULES, model_dict=model_dict, sampler_dict=sampler_dict)\n",
    "    cens_perc_lst.append(cens_perc)\n",
    "    uniq_t_lst.append(uniq_t)\n",
    "    qnt_t_lst.append(qnt_t)\n",
    "\n",
    "    k_cov, pb_cov, r_cov, k_ci_l, pb_ci_l, r_ci_l, k_rmse, pb_rmse, r_rmse, k_bias, pb_bias, r_bias = get_metrics(\n",
    "        sv_true_r1,\n",
    "        qnt_t, qnt_idx,\n",
    "        k_sv_m, k_sv_q,\n",
    "        pb_sv_m, pb_sv_q,\n",
    "        r_sv_m, r_sv_q\n",
    "    )\n",
    "    k_cov_lst.append(k_cov)\n",
    "    pb_cov_lst.append(pb_cov)\n",
    "    r_cov_lst.append(r_cov)\n",
    "    k_ci_l_lst.append(k_ci_l)\n",
    "    pb_ci_l_lst.append(pb_ci_l)\n",
    "    r_ci_l_lst.append(r_ci_l)\n",
    "    k_rmse_lst.append(k_rmse)\n",
    "    pb_rmse_lst.append(pb_rmse)\n",
    "    r_rmse_lst.append(r_rmse)\n",
    "    k_bias_lst.append(k_bias)\n",
    "    pb_bias_lst.append(pb_bias)\n",
    "    r_bias_lst.append(r_bias)\n",
    "    "
   ]
  },
  {
   "cell_type": "code",
   "execution_count": null,
   "metadata": {},
   "outputs": [],
   "source": [
    "# ttt = np.arange(1, svv.shape[0]+1)\n",
    "ttt = uniq_t\n",
    "plt.step(ttt,pb_sv_m, color = \"blue\", alpha=0.8, label = \"py_bart\")\n",
    "plt.step(ttt, pb_sv_q[0,:], color=\"blue\", alpha=0.2,)\n",
    "plt.step(ttt, pb_sv_q[1,:], color=\"blue\", alpha=0.2)\n",
    "plt.step(ttt, k_sv_m, color=\"green\", alpha=0.8, label=\"km\")\n",
    "plt.step(ttt, k_sv_q[0,:], color=\"green\", alpha=0.2)\n",
    "plt.step(ttt, k_sv_q[1,:], color=\"green\", alpha=0.2)\n",
    "plt.step(ttt, r_sv_m, color = \"red\", alpha=0.8, label=\"r_bart\")\n",
    "plt.step(ttt, r_sv_q[0,:], color = \"red\", alpha=0.2)\n",
    "plt.step(ttt, r_sv_q[1,:], color = \"red\", alpha=0.2)\n",
    "\n",
    "plt.step(sv_true[\"true_times\"], sv_true[\"sv_true\"].mean(0), color = \"orange\", alpha=0.8, label=\"true\")\n",
    "plt.legend()\n"
   ]
  }
 ],
 "metadata": {
  "kernelspec": {
   "display_name": "Python 3.10.12 ('.paper_venv': venv)",
   "language": "python",
   "name": "python3"
  },
  "language_info": {
   "codemirror_mode": {
    "name": "ipython",
    "version": 3
   },
   "file_extension": ".py",
   "mimetype": "text/x-python",
   "name": "python",
   "nbconvert_exporter": "python",
   "pygments_lexer": "ipython3",
   "version": "3.10.12"
  },
  "orig_nbformat": 4,
  "vscode": {
   "interpreter": {
    "hash": "e45457e90195d1585fce856b4f6dbb6d2ca5f521e76b59d4cfa3c981e92b93bd"
   }
  }
 },
 "nbformat": 4,
 "nbformat_minor": 2
}
