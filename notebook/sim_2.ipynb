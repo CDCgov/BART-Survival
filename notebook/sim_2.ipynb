{
 "cells": [
  {
   "cell_type": "code",
   "execution_count": 1,
   "metadata": {},
   "outputs": [
    {
     "name": "stderr",
     "output_type": "stream",
     "text": [
      "WARNING (pytensor.tensor.blas): Using NumPy C-API based implementation for BLAS functions.\n"
     ]
    }
   ],
   "source": [
    "import sys\n",
    "sys.path.append(\"../py/\")\n",
    "\n",
    "import numpy as np\n",
    "import subprocess\n",
    "import importlib\n",
    "import mlflow as ml\n",
    "\n",
    "import _conditions1 as cn\n",
    "import _functions1 as fn\n",
    "import _sim_iter1 as si"
   ]
  },
  {
   "cell_type": "code",
   "execution_count": 2,
   "metadata": {},
   "outputs": [
    {
     "data": {
      "text/plain": [
       "<module '_functions1' from '/home/twj8/projects/bart_survival_paper/notebook/../py/_functions1.py'>"
      ]
     },
     "execution_count": 2,
     "metadata": {},
     "output_type": "execute_result"
    }
   ],
   "source": [
    "importlib.reload(si)\n",
    "importlib.reload(cn)\n",
    "importlib.reload(fn)"
   ]
  },
  {
   "cell_type": "code",
   "execution_count": 3,
   "metadata": {},
   "outputs": [],
   "source": [
    "exp_name = \"test1\"\n",
    "\n",
    "if ml.get_experiment_by_name(exp_name) == None:\n",
    "    exp_id = ml.create_experiment(exp_name)\n",
    "else:\n",
    "    exp_id = ml.set_experiment(exp_name)"
   ]
  },
  {
   "cell_type": "markdown",
   "metadata": {},
   "source": [
    "# Scenario 1"
   ]
  },
  {
   "cell_type": "markdown",
   "metadata": {},
   "source": [
    "this might be a vscode issue. Try creating a py script and running from command line"
   ]
  },
  {
   "cell_type": "code",
   "execution_count": 4,
   "metadata": {},
   "outputs": [
    {
     "data": {
      "text/plain": [
       "<Experiment: artifact_location='file:///home/twj8/projects/bart_survival_paper/notebook/mlruns/584866594852049595', creation_time=1709754375410, experiment_id='584866594852049595', last_update_time=1709754375410, lifecycle_stage='active', name='test1', tags={}>"
      ]
     },
     "execution_count": 4,
     "metadata": {},
     "output_type": "execute_result"
    }
   ],
   "source": [
    "exp_id"
   ]
  },
  {
   "cell_type": "code",
   "execution_count": 5,
   "metadata": {},
   "outputs": [],
   "source": [
    "iters = 2\n",
    "\n",
    "# Cond 1\n",
    "SPLIT_RULES1 =  [\n",
    "    \"pmb.ContinuousSplitRule()\", \n",
    "]\n",
    "model_dict1 = {\"trees\": 20,\n",
    "    \"split_rules\": SPLIT_RULES1\n",
    "}\n",
    "sampler_dict1 = {\n",
    "            \"draws\": 100,\n",
    "            \"tune\": 25,\n",
    "            \"cores\": 7,\n",
    "            \"chains\": 7,\n",
    "            \"compute_convergence_checks\": False\n",
    "        }\n",
    "\n",
    "# Cond 2\n",
    "SPLIT_RULES2 =  [\n",
    "    \"pmb.ContinuousSplitRule()\", \n",
    "    \"pmb.OneHotSplitRule()\"\n",
    "]\n",
    "model_dict2 = {\"trees\": 20,\n",
    "    \"split_rules\": SPLIT_RULES2\n",
    "}\n",
    "sampler_dict2 = {\n",
    "            \"draws\": 100,\n",
    "            \"tune\": 25,\n",
    "            \"cores\": 7,\n",
    "            \"chains\": 7,\n",
    "            \"compute_convergence_checks\": False\n",
    "        }"
   ]
  },
  {
   "cell_type": "code",
   "execution_count": 6,
   "metadata": {},
   "outputs": [],
   "source": [
    "def log_params(name, n, scenario, model_dict, sampler_dict):\n",
    "    n_dict = {\"N\":n}\n",
    "    oname = f\"{name}_{n}_n.json\"\n",
    "    ml.log_dict(n_dict, oname)\n",
    "    oname = f\"{name}_{n}_scenario.json\"\n",
    "    ml.log_dict(scenario, oname)\n",
    "    oname = f\"{name}_{n}_model_dict.json\"\n",
    "    ml.log_dict(model_dict, oname)\n",
    "    oname = f\"{name}_{n}_sampler_dict.json\"\n",
    "    ml.log_dict(sampler_dict, oname)\n",
    "\n",
    "\n",
    "def log_mets(name, n, cens, k, p, r):\n",
    "    cens = {\"cens_retrieved\":cens}\n",
    "    oname = f\"{name}_{n}_cens.json\"\n",
    "    ml.log_dict(cens, oname)\n",
    "    k = dict([(i,k[i].tolist()) for i in k.keys()])\n",
    "    oname = f\"{name}_{n}_met_k.json\"\n",
    "    ml.log_dict(k, oname)\n",
    "    p = dict([(i,p[i].tolist()) for i in p.keys()])\n",
    "    oname = f\"{name}_{n}_met_p.json\"\n",
    "    ml.log_dict(p, oname)\n",
    "    r = dict([(i,r[i].tolist()) for i in r.keys()])\n",
    "    oname = f\"{name}_{n}_met_r.json\"\n",
    "    ml.log_dict(r, oname)\n",
    "\n",
    "\n",
    "def log_figures(name, n, fig):\n",
    "    oname = f\"{name}_{n}.png\"\n",
    "    ml.log_figure(fig, oname)"
   ]
  },
  {
   "cell_type": "code",
   "execution_count": 7,
   "metadata": {},
   "outputs": [
    {
     "name": "stdout",
     "output_type": "stream",
     "text": [
      "mean shape 0.7999999999999998\n",
      "mean scale 2.5\n",
      "mean time draws 2.1245408041070735\n",
      "cens mean 8.96\n",
      "(217, 1)\n"
     ]
    },
    {
     "name": "stderr",
     "output_type": "stream",
     "text": [
      "Only 100 samples in chain.\n",
      "Multiprocess sampling (7 chains in 7 jobs)\n",
      "PGBART: [f]\n"
     ]
    },
    {
     "data": {
      "text/html": [
       "\n",
       "<style>\n",
       "    /* Turns off some styling */\n",
       "    progress {\n",
       "        /* gets rid of default border in Firefox and Opera. */\n",
       "        border: none;\n",
       "        /* Needs to be in here for Safari polyfill so background images work as expected. */\n",
       "        background-size: auto;\n",
       "    }\n",
       "    progress:not([value]), progress:not([value])::-webkit-progress-bar {\n",
       "        background: repeating-linear-gradient(45deg, #7e7e7e, #7e7e7e 10px, #5c5c5c 10px, #5c5c5c 20px);\n",
       "    }\n",
       "    .progress-bar-interrupted, .progress-bar-interrupted::-webkit-progress-bar {\n",
       "        background: #F44336;\n",
       "    }\n",
       "</style>\n"
      ],
      "text/plain": [
       "<IPython.core.display.HTML object>"
      ]
     },
     "metadata": {},
     "output_type": "display_data"
    },
    {
     "data": {
      "text/html": [
       "\n",
       "    <div>\n",
       "      <progress value='875' class='' max='875' style='width:300px; height:20px; vertical-align: middle;'></progress>\n",
       "      100.00% [875/875 00:09&lt;00:00 Sampling 7 chains, 0 divergences]\n",
       "    </div>\n",
       "    "
      ],
      "text/plain": [
       "<IPython.core.display.HTML object>"
      ]
     },
     "metadata": {},
     "output_type": "display_data"
    },
    {
     "name": "stderr",
     "output_type": "stream",
     "text": [
      "Sampling 7 chains for 25 tune and 100 draw iterations (175 + 700 draws total) took 10 seconds.\n",
      "Sampling: [f]\n"
     ]
    },
    {
     "data": {
      "text/html": [
       "\n",
       "<style>\n",
       "    /* Turns off some styling */\n",
       "    progress {\n",
       "        /* gets rid of default border in Firefox and Opera. */\n",
       "        border: none;\n",
       "        /* Needs to be in here for Safari polyfill so background images work as expected. */\n",
       "        background-size: auto;\n",
       "    }\n",
       "    progress:not([value]), progress:not([value])::-webkit-progress-bar {\n",
       "        background: repeating-linear-gradient(45deg, #7e7e7e, #7e7e7e 10px, #5c5c5c 10px, #5c5c5c 20px);\n",
       "    }\n",
       "    .progress-bar-interrupted, .progress-bar-interrupted::-webkit-progress-bar {\n",
       "        background: #F44336;\n",
       "    }\n",
       "</style>\n"
      ],
      "text/plain": [
       "<IPython.core.display.HTML object>"
      ]
     },
     "metadata": {},
     "output_type": "display_data"
    },
    {
     "data": {
      "text/html": [
       "\n",
       "    <div>\n",
       "      <progress value='700' class='' max='700' style='width:300px; height:20px; vertical-align: middle;'></progress>\n",
       "      100.00% [700/700 00:02&lt;00:00]\n",
       "    </div>\n",
       "    "
      ],
      "text/plain": [
       "<IPython.core.display.HTML object>"
      ]
     },
     "metadata": {},
     "output_type": "display_data"
    },
    {
     "name": "stderr",
     "output_type": "stream",
     "text": [
      "Loading required package: nlme\n",
      "Loading required package: nnet\n",
      "Loading required package: survival\n"
     ]
    },
    {
     "name": "stdout",
     "output_type": "stream",
     "text": [
      "[1] \"/home/twj8/projects/bart_survival_paper/notebook\"\n",
      "*****Calling gbart: type=2\n",
      "*****Data:\n",
      "data:n,p,np: 217, 1, 9\n",
      "y1,yn: 1.000000, 1.000000\n",
      "x1,x[n*p]: 1.000000, 1.000000\n",
      "xp1,xp[np*p]: 1.000000, 16.000000\n",
      "*****Number of Trees: 50\n",
      "*****Number of Cut Points: 8 ... 8\n",
      "*****burn,nd,thin: 250,1670,10\n",
      "*****Prior:beta,alpha,tau,nu,lambda,offset: 2,0.95,0.212132,3,1,-0.250962\n",
      "*****Dirichlet:sparse,theta,omega,a,b,rho,augment: 0,0,1,0.5,1,1,0\n",
      "*****printevery: 100\n",
      "\n",
      "MCMC\n",
      "done 0 (out of 1920)\n",
      "done 100 (out of 1920)\n",
      "done 200 (out of 1920)\n",
      "done 300 (out of 1920)\n",
      "done 400 (out of 1920)\n",
      "done 500 (out of 1920)\n",
      "done 600 (out of 1920)\n",
      "done 700 (out of 1920)\n",
      "done 800 (out of 1920)\n",
      "done 900 (out of 1920)\n",
      "done 1000 (out of 1920)\n",
      "done 1100 (out of 1920)\n",
      "done 1200 (out of 1920)\n",
      "done 1300 (out of 1920)\n",
      "done 1400 (out of 1920)\n",
      "done 1500 (out of 1920)\n",
      "done 1600 (out of 1920)\n",
      "done 1700 (out of 1920)\n",
      "done 1800 (out of 1920)\n",
      "done 1900 (out of 1920)\n",
      "time: 1s\n",
      "trcnt,tecnt: 167,167\n",
      "List of 24\n",
      " $ yhat.train     : num [1:167, 1:217] -0.391 -0.3449 0.0175 -0.1312 -0.3296 ...\n",
      " $ yhat.test      : num [1:1002, 1:9] -0.391 -0.3449 0.0175 -0.1312 -0.3296 ...\n",
      " $ varcount       : int [1:1002, 1] 50 58 55 52 53 55 52 57 58 52 ...\n",
      "  ..- attr(*, \"dimnames\")=List of 2\n",
      "  .. ..$ : NULL\n",
      "  .. ..$ : chr \"t\"\n",
      " $ varprob        : num [1:1002, 1] 1 1 1 1 1 1 1 1 1 1 ...\n",
      "  ..- attr(*, \"dimnames\")=List of 2\n",
      "  .. ..$ : NULL\n",
      "  .. ..$ : chr \"t\"\n",
      " $ treedraws      :List of 2\n",
      "  ..$ cutpoints:List of 1\n",
      "  .. ..$ t: num [1:8] 1.5 2.5 3.5 4.5 5.5 6.5 8 12.5\n",
      "  ..$ trees    : chr \"1002 50 1\\n1\\n1 0 0 -0.2329071356\\n3\\n1 0 2 -0.2783063559\\n2 0 0 0.1521119032\\n3 0 0 -0.2260019783\\n5\\n1 0 0 0.\"| __truncated__\n",
      " $ proc.time      : 'proc_time' Named num [1:5] 6.061 0.031 1.138 0 0\n",
      "  ..- attr(*, \"names\")= chr [1:5] \"user.self\" \"sys.self\" \"elapsed\" \"user.child\" ...\n",
      " $ hostname       : logi FALSE\n",
      " $ prob.train     : num [1:167, 1:217] 0.348 0.365 0.507 0.448 0.371 ...\n",
      " $ prob.train.mean: num [1:217] 0.4 0.4 0.472 0.4 0.4 ...\n",
      " $ LPML           : num -150\n",
      " $ prob.test      : num [1:1002, 1:9] 0.348 0.365 0.507 0.448 0.371 ...\n",
      " $ prob.test.mean : num [1:9] 0.4 0.472 0.397 0.261 0.311 ...\n",
      " $ ndpost         : num 1002\n",
      " $ offset         : num -0.251\n",
      " $ varcount.mean  : Named num 55\n",
      "  ..- attr(*, \"names\")= chr \"t\"\n",
      " $ varprob.mean   : Named num 1\n",
      "  ..- attr(*, \"names\")= chr \"t\"\n",
      " $ rm.const       : int 1\n",
      " $ times          : num [1:9] 1 2 3 4 5 6 7 9 16\n",
      " $ K              : int 9\n",
      " $ tx.train       : num [1:217, 1] 1 1 2 1 1 1 1 2 1 1 ...\n",
      "  ..- attr(*, \"dimnames\")=List of 2\n",
      "  .. ..$ : NULL\n",
      "  .. ..$ : chr \"t\"\n",
      " $ type           : chr \"pbart\"\n",
      " $ tx.test        : num [1:9, 1] 1 2 3 4 5 6 7 9 16\n",
      "  ..- attr(*, \"dimnames\")=List of 2\n",
      "  .. ..$ : NULL\n",
      "  .. ..$ : chr \"t\"\n",
      " $ surv.test      : num [1:1002, 1:9] 0.652 0.635 0.493 0.552 0.629 ...\n",
      " $ surv.test.mean : num [1:9] 0.5995 0.3157 0.1912 0.1436 0.0998 ...\n",
      " - attr(*, \"class\")= chr \"survbart\"\n",
      "mean shape 0.7999999999999998\n",
      "mean scale 2.5\n",
      "mean time draws 2.5106583865523464\n",
      "cens mean 9.18\n",
      "(250, 1)\n"
     ]
    },
    {
     "name": "stderr",
     "output_type": "stream",
     "text": [
      "Only 100 samples in chain.\n",
      "Multiprocess sampling (7 chains in 7 jobs)\n",
      "PGBART: [f]\n"
     ]
    },
    {
     "data": {
      "text/html": [
       "\n",
       "<style>\n",
       "    /* Turns off some styling */\n",
       "    progress {\n",
       "        /* gets rid of default border in Firefox and Opera. */\n",
       "        border: none;\n",
       "        /* Needs to be in here for Safari polyfill so background images work as expected. */\n",
       "        background-size: auto;\n",
       "    }\n",
       "    progress:not([value]), progress:not([value])::-webkit-progress-bar {\n",
       "        background: repeating-linear-gradient(45deg, #7e7e7e, #7e7e7e 10px, #5c5c5c 10px, #5c5c5c 20px);\n",
       "    }\n",
       "    .progress-bar-interrupted, .progress-bar-interrupted::-webkit-progress-bar {\n",
       "        background: #F44336;\n",
       "    }\n",
       "</style>\n"
      ],
      "text/plain": [
       "<IPython.core.display.HTML object>"
      ]
     },
     "metadata": {},
     "output_type": "display_data"
    },
    {
     "data": {
      "text/html": [
       "\n",
       "    <div>\n",
       "      <progress value='875' class='' max='875' style='width:300px; height:20px; vertical-align: middle;'></progress>\n",
       "      100.00% [875/875 00:06&lt;00:00 Sampling 7 chains, 0 divergences]\n",
       "    </div>\n",
       "    "
      ],
      "text/plain": [
       "<IPython.core.display.HTML object>"
      ]
     },
     "metadata": {},
     "output_type": "display_data"
    },
    {
     "name": "stderr",
     "output_type": "stream",
     "text": [
      "Sampling 7 chains for 25 tune and 100 draw iterations (175 + 700 draws total) took 7 seconds.\n",
      "Sampling: [f]\n"
     ]
    },
    {
     "data": {
      "text/html": [
       "\n",
       "<style>\n",
       "    /* Turns off some styling */\n",
       "    progress {\n",
       "        /* gets rid of default border in Firefox and Opera. */\n",
       "        border: none;\n",
       "        /* Needs to be in here for Safari polyfill so background images work as expected. */\n",
       "        background-size: auto;\n",
       "    }\n",
       "    progress:not([value]), progress:not([value])::-webkit-progress-bar {\n",
       "        background: repeating-linear-gradient(45deg, #7e7e7e, #7e7e7e 10px, #5c5c5c 10px, #5c5c5c 20px);\n",
       "    }\n",
       "    .progress-bar-interrupted, .progress-bar-interrupted::-webkit-progress-bar {\n",
       "        background: #F44336;\n",
       "    }\n",
       "</style>\n"
      ],
      "text/plain": [
       "<IPython.core.display.HTML object>"
      ]
     },
     "metadata": {},
     "output_type": "display_data"
    },
    {
     "data": {
      "text/html": [
       "\n",
       "    <div>\n",
       "      <progress value='700' class='' max='700' style='width:300px; height:20px; vertical-align: middle;'></progress>\n",
       "      100.00% [700/700 00:03&lt;00:00]\n",
       "    </div>\n",
       "    "
      ],
      "text/plain": [
       "<IPython.core.display.HTML object>"
      ]
     },
     "metadata": {},
     "output_type": "display_data"
    },
    {
     "name": "stderr",
     "output_type": "stream",
     "text": [
      "Loading required package: nlme\n",
      "Loading required package: nnet\n",
      "Loading required package: survival\n"
     ]
    },
    {
     "name": "stdout",
     "output_type": "stream",
     "text": [
      "[1] \"/home/twj8/projects/bart_survival_paper/notebook\"\n",
      "*****Calling gbart: type=2\n",
      "*****Data:\n",
      "data:n,p,np: 250, 1, 10\n",
      "y1,yn: 1.000000, 1.000000\n",
      "x1,x[n*p]: 1.000000, 2.000000\n",
      "xp1,xp[np*p]: 1.000000, 11.000000\n",
      "*****Number of Trees: 50\n",
      "*****Number of Cut Points: 9 ... 9\n",
      "*****burn,nd,thin: 250,1670,10\n",
      "*****Prior:beta,alpha,tau,nu,lambda,offset: 2,0.95,0.212132,3,1,-0.434397\n",
      "*****Dirichlet:sparse,theta,omega,a,b,rho,augment: 0,0,1,0.5,1,1,0\n",
      "*****printevery: 100\n",
      "\n",
      "MCMC\n",
      "done 0 (out of 1920)\n",
      "done 100 (out of 1920)\n",
      "done 200 (out of 1920)\n",
      "done 300 (out of 1920)\n",
      "done 400 (out of 1920)\n",
      "done 500 (out of 1920)\n",
      "done 600 (out of 1920)\n",
      "done 700 (out of 1920)\n",
      "done 800 (out of 1920)\n",
      "done 900 (out of 1920)\n",
      "done 1000 (out of 1920)\n",
      "done 1100 (out of 1920)\n",
      "done 1200 (out of 1920)\n",
      "done 1300 (out of 1920)\n",
      "done 1400 (out of 1920)\n",
      "done 1500 (out of 1920)\n",
      "done 1600 (out of 1920)\n",
      "done 1700 (out of 1920)\n",
      "done 1800 (out of 1920)\n",
      "done 1900 (out of 1920)\n",
      "time: 1s\n",
      "trcnt,tecnt: 167,167\n",
      "List of 24\n",
      " $ yhat.train     : num [1:167, 1:250] -0.246 -0.422 -0.115 -0.146 -0.466 ...\n",
      " $ yhat.test      : num [1:1002, 1:10] -0.246 -0.422 -0.115 -0.146 -0.466 ...\n",
      " $ varcount       : int [1:1002, 1] 52 69 67 61 65 56 60 58 62 61 ...\n",
      "  ..- attr(*, \"dimnames\")=List of 2\n",
      "  .. ..$ : NULL\n",
      "  .. ..$ : chr \"t\"\n",
      " $ varprob        : num [1:1002, 1] 1 1 1 1 1 1 1 1 1 1 ...\n",
      "  ..- attr(*, \"dimnames\")=List of 2\n",
      "  .. ..$ : NULL\n",
      "  .. ..$ : chr \"t\"\n",
      " $ treedraws      :List of 2\n",
      "  ..$ cutpoints:List of 1\n",
      "  .. ..$ t: num [1:9] 1.5 2.5 3.5 4.5 5.5 6.5 7.5 9 10.5\n",
      "  ..$ trees    : chr \"1002 50 1\\n3\\n1 0 6 -0.1268805096\\n2 0 0 -0.4754841555\\n3 0 0 0.3815082663\\n3\\n1 0 1 -0.07113877559\\n2 0 0 -0.4\"| __truncated__\n",
      " $ proc.time      : 'proc_time' Named num [1:5] 9.39 0.093 1.945 0 0\n",
      "  ..- attr(*, \"names\")= chr [1:5] \"user.self\" \"sys.self\" \"elapsed\" \"user.child\" ...\n",
      " $ hostname       : logi FALSE\n",
      " $ prob.train     : num [1:167, 1:250] 0.403 0.337 0.454 0.442 0.321 ...\n",
      " $ prob.train.mean: num [1:250] 0.399 0.399 0.356 0.264 0.399 ...\n",
      " $ LPML           : num -162\n",
      " $ prob.test      : num [1:1002, 1:10] 0.403 0.337 0.454 0.442 0.321 ...\n",
      " $ prob.test.mean : num [1:10] 0.399 0.356 0.264 0.176 0.274 ...\n",
      " $ ndpost         : num 1002\n",
      " $ offset         : num -0.434\n",
      " $ varcount.mean  : Named num 57.9\n",
      "  ..- attr(*, \"names\")= chr \"t\"\n",
      " $ varprob.mean   : Named num 1\n",
      "  ..- attr(*, \"names\")= chr \"t\"\n",
      " $ rm.const       : int 1\n",
      " $ times          : num [1:10] 1 2 3 4 5 6 7 8 10 11\n",
      " $ K              : int 10\n",
      " $ tx.train       : num [1:250, 1] 1 1 2 3 1 1 2 1 2 3 ...\n",
      "  ..- attr(*, \"dimnames\")=List of 2\n",
      "  .. ..$ : NULL\n",
      "  .. ..$ : chr \"t\"\n",
      " $ type           : chr \"pbart\"\n",
      " $ tx.test        : num [1:10, 1] 1 2 3 4 5 6 7 8 10 11\n",
      "  ..- attr(*, \"dimnames\")=List of 2\n",
      "  .. ..$ : NULL\n",
      "  .. ..$ : chr \"t\"\n",
      " $ surv.test      : num [1:1002, 1:10] 0.597 0.663 0.546 0.558 0.679 ...\n",
      " $ surv.test.mean : num [1:10] 0.601 0.386 0.283 0.234 0.171 ...\n",
      " - attr(*, \"class\")= chr \"survbart\"\n",
      "mean shape 0.7999999999999998\n",
      "mean scale 2.5\n",
      "mean time draws 2.1245408041070735\n",
      "cens mean 1.82\n",
      "(132, 1)\n"
     ]
    },
    {
     "name": "stderr",
     "output_type": "stream",
     "text": [
      "Only 100 samples in chain.\n",
      "Multiprocess sampling (7 chains in 7 jobs)\n",
      "PGBART: [f]\n"
     ]
    },
    {
     "data": {
      "text/html": [
       "\n",
       "<style>\n",
       "    /* Turns off some styling */\n",
       "    progress {\n",
       "        /* gets rid of default border in Firefox and Opera. */\n",
       "        border: none;\n",
       "        /* Needs to be in here for Safari polyfill so background images work as expected. */\n",
       "        background-size: auto;\n",
       "    }\n",
       "    progress:not([value]), progress:not([value])::-webkit-progress-bar {\n",
       "        background: repeating-linear-gradient(45deg, #7e7e7e, #7e7e7e 10px, #5c5c5c 10px, #5c5c5c 20px);\n",
       "    }\n",
       "    .progress-bar-interrupted, .progress-bar-interrupted::-webkit-progress-bar {\n",
       "        background: #F44336;\n",
       "    }\n",
       "</style>\n"
      ],
      "text/plain": [
       "<IPython.core.display.HTML object>"
      ]
     },
     "metadata": {},
     "output_type": "display_data"
    },
    {
     "data": {
      "text/html": [
       "\n",
       "    <div>\n",
       "      <progress value='875' class='' max='875' style='width:300px; height:20px; vertical-align: middle;'></progress>\n",
       "      100.00% [875/875 00:07&lt;00:00 Sampling 7 chains, 0 divergences]\n",
       "    </div>\n",
       "    "
      ],
      "text/plain": [
       "<IPython.core.display.HTML object>"
      ]
     },
     "metadata": {},
     "output_type": "display_data"
    },
    {
     "name": "stderr",
     "output_type": "stream",
     "text": [
      "Sampling 7 chains for 25 tune and 100 draw iterations (175 + 700 draws total) took 8 seconds.\n",
      "Sampling: [f]\n"
     ]
    },
    {
     "data": {
      "text/html": [
       "\n",
       "<style>\n",
       "    /* Turns off some styling */\n",
       "    progress {\n",
       "        /* gets rid of default border in Firefox and Opera. */\n",
       "        border: none;\n",
       "        /* Needs to be in here for Safari polyfill so background images work as expected. */\n",
       "        background-size: auto;\n",
       "    }\n",
       "    progress:not([value]), progress:not([value])::-webkit-progress-bar {\n",
       "        background: repeating-linear-gradient(45deg, #7e7e7e, #7e7e7e 10px, #5c5c5c 10px, #5c5c5c 20px);\n",
       "    }\n",
       "    .progress-bar-interrupted, .progress-bar-interrupted::-webkit-progress-bar {\n",
       "        background: #F44336;\n",
       "    }\n",
       "</style>\n"
      ],
      "text/plain": [
       "<IPython.core.display.HTML object>"
      ]
     },
     "metadata": {},
     "output_type": "display_data"
    },
    {
     "data": {
      "text/html": [
       "\n",
       "    <div>\n",
       "      <progress value='700' class='' max='700' style='width:300px; height:20px; vertical-align: middle;'></progress>\n",
       "      100.00% [700/700 00:03&lt;00:00]\n",
       "    </div>\n",
       "    "
      ],
      "text/plain": [
       "<IPython.core.display.HTML object>"
      ]
     },
     "metadata": {},
     "output_type": "display_data"
    },
    {
     "name": "stderr",
     "output_type": "stream",
     "text": [
      "Loading required package: nlme\n",
      "Loading required package: nnet\n",
      "Loading required package: survival\n"
     ]
    },
    {
     "name": "stdout",
     "output_type": "stream",
     "text": [
      "[1] \"/home/twj8/projects/bart_survival_paper/notebook\"\n",
      "*****Calling gbart: type=2\n",
      "*****Data:\n",
      "data:n,p,np: 132, 1, 4\n",
      "y1,yn: 1.000000, 1.000000\n",
      "x1,x[n*p]: 1.000000, 1.000000\n",
      "xp1,xp[np*p]: 1.000000, 4.000000\n",
      "*****Number of Trees: 50\n",
      "*****Number of Cut Points: 3 ... 3\n",
      "*****burn,nd,thin: 250,1670,10\n",
      "*****Prior:beta,alpha,tau,nu,lambda,offset: 2,0.95,0.212132,3,1,-0.191052\n",
      "*****Dirichlet:sparse,theta,omega,a,b,rho,augment: 0,0,1,0.5,1,1,0\n",
      "*****printevery: 100\n",
      "\n",
      "MCMC\n",
      "done 0 (out of 1920)\n",
      "done 100 (out of 1920)\n",
      "done 200 (out of 1920)\n",
      "done 300 (out of 1920)\n",
      "done 400 (out of 1920)\n",
      "done 500 (out of 1920)\n",
      "done 600 (out of 1920)\n",
      "done 700 (out of 1920)\n",
      "done 800 (out of 1920)\n",
      "done 900 (out of 1920)\n",
      "done 1000 (out of 1920)\n",
      "done 1100 (out of 1920)\n",
      "done 1200 (out of 1920)\n",
      "done 1300 (out of 1920)\n",
      "done 1400 (out of 1920)\n",
      "done 1500 (out of 1920)\n",
      "done 1600 (out of 1920)\n",
      "done 1700 (out of 1920)\n",
      "done 1800 (out of 1920)\n",
      "done 1900 (out of 1920)\n",
      "time: 0s\n",
      "trcnt,tecnt: 167,167\n",
      "List of 24\n",
      " $ yhat.train     : num [1:167, 1:132] -0.199 -0.265 -0.176 -0.298 -0.212 ...\n",
      " $ yhat.test      : num [1:1002, 1:4] -0.199 -0.265 -0.176 -0.298 -0.212 ...\n",
      " $ varcount       : int [1:1002, 1] 49 50 57 45 49 50 45 49 48 49 ...\n",
      "  ..- attr(*, \"dimnames\")=List of 2\n",
      "  .. ..$ : NULL\n",
      "  .. ..$ : chr \"t\"\n",
      " $ varprob        : num [1:1002, 1] 1 1 1 1 1 1 1 1 1 1 ...\n",
      "  ..- attr(*, \"dimnames\")=List of 2\n",
      "  .. ..$ : NULL\n",
      "  .. ..$ : chr \"t\"\n",
      " $ treedraws      :List of 2\n",
      "  ..$ cutpoints:List of 1\n",
      "  .. ..$ t: num [1:3] 1.5 2.5 3.5\n",
      "  ..$ trees    : chr \"1002 50 1\\n3\\n1 0 0 -0.3606282153\\n2 0 0 -0.2035893567\\n3 0 0 -0.1002089372\\n3\\n1 0 0 0.07223808177\\n2 0 0 -0.2\"| __truncated__\n",
      " $ proc.time      : 'proc_time' Named num [1:5] 2.672 0.092 0.498 0 0\n",
      "  ..- attr(*, \"names\")= chr [1:5] \"user.self\" \"sys.self\" \"elapsed\" \"user.child\" ...\n",
      " $ hostname       : logi FALSE\n",
      " $ prob.train     : num [1:167, 1:132] 0.421 0.396 0.43 0.383 0.416 ...\n",
      " $ prob.train.mean: num [1:132] 0.4 0.4 0.4 0.4 0.4 ...\n",
      " $ LPML           : num -90.7\n",
      " $ prob.test      : num [1:1002, 1:4] 0.421 0.396 0.43 0.383 0.416 ...\n",
      " $ prob.test.mean : num [1:4] 0.4 0.564 0.233 0.233\n",
      " $ ndpost         : num 1002\n",
      " $ offset         : num -0.191\n",
      " $ varcount.mean  : Named num 49.9\n",
      "  ..- attr(*, \"names\")= chr \"t\"\n",
      " $ varprob.mean   : Named num 1\n",
      "  ..- attr(*, \"names\")= chr \"t\"\n",
      " $ rm.const       : int 1\n",
      " $ times          : num [1:4] 1 2 3 4\n",
      " $ K              : int 4\n",
      " $ tx.train       : num [1:132, 1] 1 1 1 1 1 1 2 1 1 1 ...\n",
      "  ..- attr(*, \"dimnames\")=List of 2\n",
      "  .. ..$ : NULL\n",
      "  .. ..$ : chr \"t\"\n",
      " $ type           : chr \"pbart\"\n",
      " $ tx.test        : num [1:4, 1] 1 2 3 4\n",
      "  ..- attr(*, \"dimnames\")=List of 2\n",
      "  .. ..$ : NULL\n",
      "  .. ..$ : chr \"t\"\n",
      " $ surv.test      : num [1:1002, 1:4] 0.579 0.604 0.57 0.617 0.584 ...\n",
      " $ surv.test.mean : num [1:4] 0.599 0.263 0.201 0.16\n",
      " - attr(*, \"class\")= chr \"survbart\"\n",
      "mean shape 0.7999999999999998\n",
      "mean scale 2.5\n",
      "mean time draws 2.5106583865523464\n",
      "cens mean 1.91\n",
      "(135, 1)\n"
     ]
    },
    {
     "name": "stderr",
     "output_type": "stream",
     "text": [
      "Only 100 samples in chain.\n",
      "Multiprocess sampling (7 chains in 7 jobs)\n",
      "PGBART: [f]\n"
     ]
    },
    {
     "data": {
      "text/html": [
       "\n",
       "<style>\n",
       "    /* Turns off some styling */\n",
       "    progress {\n",
       "        /* gets rid of default border in Firefox and Opera. */\n",
       "        border: none;\n",
       "        /* Needs to be in here for Safari polyfill so background images work as expected. */\n",
       "        background-size: auto;\n",
       "    }\n",
       "    progress:not([value]), progress:not([value])::-webkit-progress-bar {\n",
       "        background: repeating-linear-gradient(45deg, #7e7e7e, #7e7e7e 10px, #5c5c5c 10px, #5c5c5c 20px);\n",
       "    }\n",
       "    .progress-bar-interrupted, .progress-bar-interrupted::-webkit-progress-bar {\n",
       "        background: #F44336;\n",
       "    }\n",
       "</style>\n"
      ],
      "text/plain": [
       "<IPython.core.display.HTML object>"
      ]
     },
     "metadata": {},
     "output_type": "display_data"
    },
    {
     "data": {
      "text/html": [
       "\n",
       "    <div>\n",
       "      <progress value='875' class='' max='875' style='width:300px; height:20px; vertical-align: middle;'></progress>\n",
       "      100.00% [875/875 00:06&lt;00:00 Sampling 7 chains, 0 divergences]\n",
       "    </div>\n",
       "    "
      ],
      "text/plain": [
       "<IPython.core.display.HTML object>"
      ]
     },
     "metadata": {},
     "output_type": "display_data"
    },
    {
     "name": "stderr",
     "output_type": "stream",
     "text": [
      "Sampling 7 chains for 25 tune and 100 draw iterations (175 + 700 draws total) took 7 seconds.\n",
      "Sampling: [f]\n"
     ]
    },
    {
     "data": {
      "text/html": [
       "\n",
       "<style>\n",
       "    /* Turns off some styling */\n",
       "    progress {\n",
       "        /* gets rid of default border in Firefox and Opera. */\n",
       "        border: none;\n",
       "        /* Needs to be in here for Safari polyfill so background images work as expected. */\n",
       "        background-size: auto;\n",
       "    }\n",
       "    progress:not([value]), progress:not([value])::-webkit-progress-bar {\n",
       "        background: repeating-linear-gradient(45deg, #7e7e7e, #7e7e7e 10px, #5c5c5c 10px, #5c5c5c 20px);\n",
       "    }\n",
       "    .progress-bar-interrupted, .progress-bar-interrupted::-webkit-progress-bar {\n",
       "        background: #F44336;\n",
       "    }\n",
       "</style>\n"
      ],
      "text/plain": [
       "<IPython.core.display.HTML object>"
      ]
     },
     "metadata": {},
     "output_type": "display_data"
    },
    {
     "data": {
      "text/html": [
       "\n",
       "    <div>\n",
       "      <progress value='700' class='' max='700' style='width:300px; height:20px; vertical-align: middle;'></progress>\n",
       "      100.00% [700/700 00:03&lt;00:00]\n",
       "    </div>\n",
       "    "
      ],
      "text/plain": [
       "<IPython.core.display.HTML object>"
      ]
     },
     "metadata": {},
     "output_type": "display_data"
    },
    {
     "name": "stderr",
     "output_type": "stream",
     "text": [
      "Loading required package: nlme\n",
      "Loading required package: nnet\n",
      "Loading required package: survival\n"
     ]
    },
    {
     "name": "stdout",
     "output_type": "stream",
     "text": [
      "[1] \"/home/twj8/projects/bart_survival_paper/notebook\"\n",
      "*****Calling gbart: type=2\n",
      "*****Data:\n",
      "data:n,p,np: 135, 1, 3\n",
      "y1,yn: 1.000000, 1.000000\n",
      "x1,x[n*p]: 1.000000, 2.000000\n",
      "xp1,xp[np*p]: 1.000000, 3.000000\n",
      "*****Number of Trees: 50\n",
      "*****Number of Cut Points: 2 ... 2\n",
      "*****burn,nd,thin: 250,1670,10\n",
      "*****Prior:beta,alpha,tau,nu,lambda,offset: 2,0.95,0.212132,3,1,-0.311322\n",
      "*****Dirichlet:sparse,theta,omega,a,b,rho,augment: 0,0,1,0.5,1,1,0\n",
      "*****printevery: 100\n",
      "\n",
      "MCMC\n",
      "done 0 (out of 1920)\n",
      "done 100 (out of 1920)\n",
      "done 200 (out of 1920)\n",
      "done 300 (out of 1920)\n",
      "done 400 (out of 1920)\n",
      "done 500 (out of 1920)\n",
      "done 600 (out of 1920)\n",
      "done 700 (out of 1920)\n",
      "done 800 (out of 1920)\n",
      "done 900 (out of 1920)\n",
      "done 1000 (out of 1920)\n",
      "done 1100 (out of 1920)\n",
      "done 1200 (out of 1920)\n",
      "done 1300 (out of 1920)\n",
      "done 1400 (out of 1920)\n",
      "done 1500 (out of 1920)\n",
      "done 1600 (out of 1920)\n",
      "done 1700 (out of 1920)\n",
      "done 1800 (out of 1920)\n",
      "done 1900 (out of 1920)\n",
      "time: 1s\n",
      "trcnt,tecnt: 167,167\n",
      "List of 24\n",
      " $ yhat.train     : num [1:167, 1:135] -0.119 -0.354 -0.166 -0.403 -0.298 ...\n",
      " $ yhat.test      : num [1:1002, 1:3] -0.119 -0.354 -0.166 -0.403 -0.298 ...\n",
      " $ varcount       : int [1:1002, 1] 55 55 51 51 51 50 52 55 48 50 ...\n",
      "  ..- attr(*, \"dimnames\")=List of 2\n",
      "  .. ..$ : NULL\n",
      "  .. ..$ : chr \"t\"\n",
      " $ varprob        : num [1:1002, 1] 1 1 1 1 1 1 1 1 1 1 ...\n",
      "  ..- attr(*, \"dimnames\")=List of 2\n",
      "  .. ..$ : NULL\n",
      "  .. ..$ : chr \"t\"\n",
      " $ treedraws      :List of 2\n",
      "  ..$ cutpoints:List of 1\n",
      "  .. ..$ t: num [1:2] 1.5 2.5\n",
      "  ..$ trees    : chr \"1002 50 1\\n3\\n1 0 1 0.1870893162\\n2 0 0 0.2557138677\\n3 0 0 0.0470864572\\n3\\n1 0 1 -0.3150850881\\n2 0 0 0.06780\"| __truncated__\n",
      " $ proc.time      : 'proc_time' Named num [1:5] 4.887 0.015 0.923 0 0\n",
      "  ..- attr(*, \"names\")= chr [1:5] \"user.self\" \"sys.self\" \"elapsed\" \"user.child\" ...\n",
      " $ hostname       : logi FALSE\n",
      " $ prob.train     : num [1:167, 1:135] 0.452 0.362 0.434 0.343 0.383 ...\n",
      " $ prob.train.mean: num [1:135] 0.402 0.402 0.305 0.402 0.402 ...\n",
      " $ LPML           : num -92\n",
      " $ prob.test      : num [1:1002, 1:3] 0.452 0.362 0.434 0.343 0.383 ...\n",
      " $ prob.test.mean : num [1:3] 0.402 0.305 0.381\n",
      " $ ndpost         : num 1002\n",
      " $ offset         : num -0.311\n",
      " $ varcount.mean  : Named num 53.7\n",
      "  ..- attr(*, \"names\")= chr \"t\"\n",
      " $ varprob.mean   : Named num 1\n",
      "  ..- attr(*, \"names\")= chr \"t\"\n",
      " $ rm.const       : int 1\n",
      " $ times          : num [1:3] 1 2 3\n",
      " $ K              : int 3\n",
      " $ tx.train       : num [1:135, 1] 1 1 2 1 1 1 1 1 1 1 ...\n",
      "  ..- attr(*, \"dimnames\")=List of 2\n",
      "  .. ..$ : NULL\n",
      "  .. ..$ : chr \"t\"\n",
      " $ type           : chr \"pbart\"\n",
      " $ tx.test        : num [1:3, 1] 1 2 3\n",
      "  ..- attr(*, \"dimnames\")=List of 2\n",
      "  .. ..$ : NULL\n",
      "  .. ..$ : chr \"t\"\n",
      " $ surv.test      : num [1:1002, 1:3] 0.548 0.638 0.566 0.657 0.617 ...\n",
      " $ surv.test.mean : num [1:3] 0.601 0.417 0.261\n",
      " - attr(*, \"class\")= chr \"survbart\"\n",
      "mean shape 1.07\n",
      "mean scale 3.0669999999999997\n",
      "mean time draws 2.492444970752981\n",
      "cens mean 9.94\n",
      "(254, 2)\n"
     ]
    },
    {
     "name": "stderr",
     "output_type": "stream",
     "text": [
      "Only 100 samples in chain.\n",
      "Multiprocess sampling (7 chains in 7 jobs)\n",
      "PGBART: [f]\n"
     ]
    },
    {
     "data": {
      "text/html": [
       "\n",
       "<style>\n",
       "    /* Turns off some styling */\n",
       "    progress {\n",
       "        /* gets rid of default border in Firefox and Opera. */\n",
       "        border: none;\n",
       "        /* Needs to be in here for Safari polyfill so background images work as expected. */\n",
       "        background-size: auto;\n",
       "    }\n",
       "    progress:not([value]), progress:not([value])::-webkit-progress-bar {\n",
       "        background: repeating-linear-gradient(45deg, #7e7e7e, #7e7e7e 10px, #5c5c5c 10px, #5c5c5c 20px);\n",
       "    }\n",
       "    .progress-bar-interrupted, .progress-bar-interrupted::-webkit-progress-bar {\n",
       "        background: #F44336;\n",
       "    }\n",
       "</style>\n"
      ],
      "text/plain": [
       "<IPython.core.display.HTML object>"
      ]
     },
     "metadata": {},
     "output_type": "display_data"
    },
    {
     "data": {
      "text/html": [
       "\n",
       "    <div>\n",
       "      <progress value='875' class='' max='875' style='width:300px; height:20px; vertical-align: middle;'></progress>\n",
       "      100.00% [875/875 00:06&lt;00:00 Sampling 7 chains, 0 divergences]\n",
       "    </div>\n",
       "    "
      ],
      "text/plain": [
       "<IPython.core.display.HTML object>"
      ]
     },
     "metadata": {},
     "output_type": "display_data"
    },
    {
     "name": "stderr",
     "output_type": "stream",
     "text": [
      "Sampling 7 chains for 25 tune and 100 draw iterations (175 + 700 draws total) took 7 seconds.\n",
      "Sampling: [f]\n"
     ]
    },
    {
     "data": {
      "text/html": [
       "\n",
       "<style>\n",
       "    /* Turns off some styling */\n",
       "    progress {\n",
       "        /* gets rid of default border in Firefox and Opera. */\n",
       "        border: none;\n",
       "        /* Needs to be in here for Safari polyfill so background images work as expected. */\n",
       "        background-size: auto;\n",
       "    }\n",
       "    progress:not([value]), progress:not([value])::-webkit-progress-bar {\n",
       "        background: repeating-linear-gradient(45deg, #7e7e7e, #7e7e7e 10px, #5c5c5c 10px, #5c5c5c 20px);\n",
       "    }\n",
       "    .progress-bar-interrupted, .progress-bar-interrupted::-webkit-progress-bar {\n",
       "        background: #F44336;\n",
       "    }\n",
       "</style>\n"
      ],
      "text/plain": [
       "<IPython.core.display.HTML object>"
      ]
     },
     "metadata": {},
     "output_type": "display_data"
    },
    {
     "data": {
      "text/html": [
       "\n",
       "    <div>\n",
       "      <progress value='700' class='' max='700' style='width:300px; height:20px; vertical-align: middle;'></progress>\n",
       "      100.00% [700/700 00:02&lt;00:00]\n",
       "    </div>\n",
       "    "
      ],
      "text/plain": [
       "<IPython.core.display.HTML object>"
      ]
     },
     "metadata": {},
     "output_type": "display_data"
    },
    {
     "name": "stderr",
     "output_type": "stream",
     "text": [
      "Loading required package: nlme\n",
      "Loading required package: nnet\n",
      "Loading required package: survival\n"
     ]
    },
    {
     "name": "stdout",
     "output_type": "stream",
     "text": [
      "[1] \"/home/twj8/projects/bart_survival_paper/notebook\"\n",
      "*****Calling gbart: type=2\n",
      "*****Data:\n",
      "data:n,p,np: 254, 2, 20\n",
      "y1,yn: 1.000000, 1.000000\n",
      "x1,x[n*p]: 1.000000, 0.000000\n",
      "xp1,xp[np*p]: 1.000000, 1.000000\n",
      "*****Number of Trees: 50\n",
      "*****Number of Cut Points: 9 ... 1\n",
      "*****burn,nd,thin: 250,1670,10\n",
      "*****Prior:beta,alpha,tau,nu,lambda,offset: 2,0.95,0.212132,3,1,-0.405596\n",
      "*****Dirichlet:sparse,theta,omega,a,b,rho,augment: 0,0,1,0.5,1,2,0\n",
      "*****printevery: 100\n",
      "\n",
      "MCMC\n",
      "done 0 (out of 1920)\n",
      "done 100 (out of 1920)\n",
      "done 200 (out of 1920)\n",
      "done 300 (out of 1920)\n",
      "done 400 (out of 1920)\n",
      "done 500 (out of 1920)\n",
      "done 600 (out of 1920)\n",
      "done 700 (out of 1920)\n",
      "done 800 (out of 1920)\n",
      "done 900 (out of 1920)\n",
      "done 1000 (out of 1920)\n",
      "done 1100 (out of 1920)\n",
      "done 1200 (out of 1920)\n",
      "done 1300 (out of 1920)\n",
      "done 1400 (out of 1920)\n",
      "done 1500 (out of 1920)\n",
      "done 1600 (out of 1920)\n",
      "done 1700 (out of 1920)\n",
      "done 1800 (out of 1920)\n",
      "done 1900 (out of 1920)\n",
      "time: 1s\n",
      "trcnt,tecnt: 167,167\n",
      "mean shape 1.07\n",
      "mean scale 3.0669999999999997\n",
      "mean time draws 2.889266847753417\n",
      "cens mean 10.22\n",
      "(282, 2)\n"
     ]
    },
    {
     "name": "stderr",
     "output_type": "stream",
     "text": [
      "Only 100 samples in chain.\n",
      "Multiprocess sampling (7 chains in 7 jobs)\n",
      "PGBART: [f]\n"
     ]
    },
    {
     "data": {
      "text/html": [
       "\n",
       "<style>\n",
       "    /* Turns off some styling */\n",
       "    progress {\n",
       "        /* gets rid of default border in Firefox and Opera. */\n",
       "        border: none;\n",
       "        /* Needs to be in here for Safari polyfill so background images work as expected. */\n",
       "        background-size: auto;\n",
       "    }\n",
       "    progress:not([value]), progress:not([value])::-webkit-progress-bar {\n",
       "        background: repeating-linear-gradient(45deg, #7e7e7e, #7e7e7e 10px, #5c5c5c 10px, #5c5c5c 20px);\n",
       "    }\n",
       "    .progress-bar-interrupted, .progress-bar-interrupted::-webkit-progress-bar {\n",
       "        background: #F44336;\n",
       "    }\n",
       "</style>\n"
      ],
      "text/plain": [
       "<IPython.core.display.HTML object>"
      ]
     },
     "metadata": {},
     "output_type": "display_data"
    },
    {
     "data": {
      "text/html": [
       "\n",
       "    <div>\n",
       "      <progress value='875' class='' max='875' style='width:300px; height:20px; vertical-align: middle;'></progress>\n",
       "      100.00% [875/875 00:07&lt;00:00 Sampling 7 chains, 0 divergences]\n",
       "    </div>\n",
       "    "
      ],
      "text/plain": [
       "<IPython.core.display.HTML object>"
      ]
     },
     "metadata": {},
     "output_type": "display_data"
    },
    {
     "name": "stderr",
     "output_type": "stream",
     "text": [
      "Sampling 7 chains for 25 tune and 100 draw iterations (175 + 700 draws total) took 8 seconds.\n",
      "Sampling: [f]\n"
     ]
    },
    {
     "data": {
      "text/html": [
       "\n",
       "<style>\n",
       "    /* Turns off some styling */\n",
       "    progress {\n",
       "        /* gets rid of default border in Firefox and Opera. */\n",
       "        border: none;\n",
       "        /* Needs to be in here for Safari polyfill so background images work as expected. */\n",
       "        background-size: auto;\n",
       "    }\n",
       "    progress:not([value]), progress:not([value])::-webkit-progress-bar {\n",
       "        background: repeating-linear-gradient(45deg, #7e7e7e, #7e7e7e 10px, #5c5c5c 10px, #5c5c5c 20px);\n",
       "    }\n",
       "    .progress-bar-interrupted, .progress-bar-interrupted::-webkit-progress-bar {\n",
       "        background: #F44336;\n",
       "    }\n",
       "</style>\n"
      ],
      "text/plain": [
       "<IPython.core.display.HTML object>"
      ]
     },
     "metadata": {},
     "output_type": "display_data"
    },
    {
     "data": {
      "text/html": [
       "\n",
       "    <div>\n",
       "      <progress value='700' class='' max='700' style='width:300px; height:20px; vertical-align: middle;'></progress>\n",
       "      100.00% [700/700 00:02&lt;00:00]\n",
       "    </div>\n",
       "    "
      ],
      "text/plain": [
       "<IPython.core.display.HTML object>"
      ]
     },
     "metadata": {},
     "output_type": "display_data"
    },
    {
     "name": "stderr",
     "output_type": "stream",
     "text": [
      "Loading required package: nlme\n",
      "Loading required package: nnet\n",
      "Loading required package: survival\n"
     ]
    },
    {
     "name": "stdout",
     "output_type": "stream",
     "text": [
      "[1] \"/home/twj8/projects/bart_survival_paper/notebook\"\n",
      "*****Calling gbart: type=2\n",
      "*****Data:\n",
      "data:n,p,np: 282, 2, 22\n",
      "y1,yn: 1.000000, 1.000000\n",
      "x1,x[n*p]: 1.000000, 0.000000\n",
      "xp1,xp[np*p]: 1.000000, 1.000000\n",
      "*****Number of Trees: 50\n",
      "*****Number of Cut Points: 10 ... 1\n",
      "*****burn,nd,thin: 250,1670,10\n",
      "*****Prior:beta,alpha,tau,nu,lambda,offset: 2,0.95,0.212132,3,1,-0.561483\n",
      "*****Dirichlet:sparse,theta,omega,a,b,rho,augment: 0,0,1,0.5,1,2,0\n",
      "*****printevery: 100\n",
      "\n",
      "MCMC\n",
      "done 0 (out of 1920)\n",
      "done 100 (out of 1920)\n",
      "done 200 (out of 1920)\n",
      "done 300 (out of 1920)\n",
      "done 400 (out of 1920)\n",
      "done 500 (out of 1920)\n",
      "done 600 (out of 1920)\n",
      "done 700 (out of 1920)\n",
      "done 800 (out of 1920)\n",
      "done 900 (out of 1920)\n",
      "done 1000 (out of 1920)\n",
      "done 1100 (out of 1920)\n",
      "done 1200 (out of 1920)\n",
      "done 1300 (out of 1920)\n",
      "done 1400 (out of 1920)\n",
      "done 1500 (out of 1920)\n",
      "done 1600 (out of 1920)\n",
      "done 1700 (out of 1920)\n",
      "done 1800 (out of 1920)\n",
      "done 1900 (out of 1920)\n",
      "time: 1s\n",
      "trcnt,tecnt: 167,167\n",
      "mean shape 1.07\n",
      "mean scale 3.0669999999999997\n",
      "mean time draws 2.492444970752981\n",
      "cens mean 2.76\n",
      "(172, 2)\n"
     ]
    },
    {
     "name": "stderr",
     "output_type": "stream",
     "text": [
      "Only 100 samples in chain.\n",
      "Multiprocess sampling (7 chains in 7 jobs)\n",
      "PGBART: [f]\n"
     ]
    },
    {
     "data": {
      "text/html": [
       "\n",
       "<style>\n",
       "    /* Turns off some styling */\n",
       "    progress {\n",
       "        /* gets rid of default border in Firefox and Opera. */\n",
       "        border: none;\n",
       "        /* Needs to be in here for Safari polyfill so background images work as expected. */\n",
       "        background-size: auto;\n",
       "    }\n",
       "    progress:not([value]), progress:not([value])::-webkit-progress-bar {\n",
       "        background: repeating-linear-gradient(45deg, #7e7e7e, #7e7e7e 10px, #5c5c5c 10px, #5c5c5c 20px);\n",
       "    }\n",
       "    .progress-bar-interrupted, .progress-bar-interrupted::-webkit-progress-bar {\n",
       "        background: #F44336;\n",
       "    }\n",
       "</style>\n"
      ],
      "text/plain": [
       "<IPython.core.display.HTML object>"
      ]
     },
     "metadata": {},
     "output_type": "display_data"
    },
    {
     "data": {
      "text/html": [
       "\n",
       "    <div>\n",
       "      <progress value='875' class='' max='875' style='width:300px; height:20px; vertical-align: middle;'></progress>\n",
       "      100.00% [875/875 00:06&lt;00:00 Sampling 7 chains, 0 divergences]\n",
       "    </div>\n",
       "    "
      ],
      "text/plain": [
       "<IPython.core.display.HTML object>"
      ]
     },
     "metadata": {},
     "output_type": "display_data"
    },
    {
     "name": "stderr",
     "output_type": "stream",
     "text": [
      "Sampling 7 chains for 25 tune and 100 draw iterations (175 + 700 draws total) took 7 seconds.\n",
      "Sampling: [f]\n"
     ]
    },
    {
     "data": {
      "text/html": [
       "\n",
       "<style>\n",
       "    /* Turns off some styling */\n",
       "    progress {\n",
       "        /* gets rid of default border in Firefox and Opera. */\n",
       "        border: none;\n",
       "        /* Needs to be in here for Safari polyfill so background images work as expected. */\n",
       "        background-size: auto;\n",
       "    }\n",
       "    progress:not([value]), progress:not([value])::-webkit-progress-bar {\n",
       "        background: repeating-linear-gradient(45deg, #7e7e7e, #7e7e7e 10px, #5c5c5c 10px, #5c5c5c 20px);\n",
       "    }\n",
       "    .progress-bar-interrupted, .progress-bar-interrupted::-webkit-progress-bar {\n",
       "        background: #F44336;\n",
       "    }\n",
       "</style>\n"
      ],
      "text/plain": [
       "<IPython.core.display.HTML object>"
      ]
     },
     "metadata": {},
     "output_type": "display_data"
    },
    {
     "data": {
      "text/html": [
       "\n",
       "    <div>\n",
       "      <progress value='700' class='' max='700' style='width:300px; height:20px; vertical-align: middle;'></progress>\n",
       "      100.00% [700/700 00:02&lt;00:00]\n",
       "    </div>\n",
       "    "
      ],
      "text/plain": [
       "<IPython.core.display.HTML object>"
      ]
     },
     "metadata": {},
     "output_type": "display_data"
    },
    {
     "name": "stderr",
     "output_type": "stream",
     "text": [
      "Loading required package: nlme\n",
      "Loading required package: nnet\n",
      "Loading required package: survival\n"
     ]
    },
    {
     "name": "stdout",
     "output_type": "stream",
     "text": [
      "[1] \"/home/twj8/projects/bart_survival_paper/notebook\"\n",
      "*****Calling gbart: type=2\n",
      "*****Data:\n",
      "data:n,p,np: 172, 2, 12\n",
      "y1,yn: 1.000000, 1.000000\n",
      "x1,x[n*p]: 1.000000, 0.000000\n",
      "xp1,xp[np*p]: 1.000000, 1.000000\n",
      "*****Number of Trees: 50\n",
      "*****Number of Cut Points: 5 ... 1\n",
      "*****burn,nd,thin: 250,1670,10\n",
      "*****Prior:beta,alpha,tau,nu,lambda,offset: 2,0.95,0.212132,3,1,-0.468349\n",
      "*****Dirichlet:sparse,theta,omega,a,b,rho,augment: 0,0,1,0.5,1,2,0\n",
      "*****printevery: 100\n",
      "\n",
      "MCMC\n",
      "done 0 (out of 1920)\n",
      "done 100 (out of 1920)\n",
      "done 200 (out of 1920)\n",
      "done 300 (out of 1920)\n",
      "done 400 (out of 1920)\n",
      "done 500 (out of 1920)\n",
      "done 600 (out of 1920)\n",
      "done 700 (out of 1920)\n",
      "done 800 (out of 1920)\n",
      "done 900 (out of 1920)\n",
      "done 1000 (out of 1920)\n",
      "done 1100 (out of 1920)\n",
      "done 1200 (out of 1920)\n",
      "done 1300 (out of 1920)\n",
      "done 1400 (out of 1920)\n",
      "done 1500 (out of 1920)\n",
      "done 1600 (out of 1920)\n",
      "done 1700 (out of 1920)\n",
      "done 1800 (out of 1920)\n",
      "done 1900 (out of 1920)\n",
      "time: 1s\n",
      "trcnt,tecnt: 167,167\n",
      "mean shape 1.07\n",
      "mean scale 3.0669999999999997\n",
      "mean time draws 2.889266847753417\n",
      "cens mean 2.78\n",
      "(175, 2)\n"
     ]
    },
    {
     "name": "stderr",
     "output_type": "stream",
     "text": [
      "Only 100 samples in chain.\n",
      "Multiprocess sampling (7 chains in 7 jobs)\n",
      "PGBART: [f]\n"
     ]
    },
    {
     "data": {
      "text/html": [
       "\n",
       "<style>\n",
       "    /* Turns off some styling */\n",
       "    progress {\n",
       "        /* gets rid of default border in Firefox and Opera. */\n",
       "        border: none;\n",
       "        /* Needs to be in here for Safari polyfill so background images work as expected. */\n",
       "        background-size: auto;\n",
       "    }\n",
       "    progress:not([value]), progress:not([value])::-webkit-progress-bar {\n",
       "        background: repeating-linear-gradient(45deg, #7e7e7e, #7e7e7e 10px, #5c5c5c 10px, #5c5c5c 20px);\n",
       "    }\n",
       "    .progress-bar-interrupted, .progress-bar-interrupted::-webkit-progress-bar {\n",
       "        background: #F44336;\n",
       "    }\n",
       "</style>\n"
      ],
      "text/plain": [
       "<IPython.core.display.HTML object>"
      ]
     },
     "metadata": {},
     "output_type": "display_data"
    },
    {
     "data": {
      "text/html": [
       "\n",
       "    <div>\n",
       "      <progress value='875' class='' max='875' style='width:300px; height:20px; vertical-align: middle;'></progress>\n",
       "      100.00% [875/875 00:07&lt;00:00 Sampling 7 chains, 0 divergences]\n",
       "    </div>\n",
       "    "
      ],
      "text/plain": [
       "<IPython.core.display.HTML object>"
      ]
     },
     "metadata": {},
     "output_type": "display_data"
    },
    {
     "name": "stderr",
     "output_type": "stream",
     "text": [
      "Sampling 7 chains for 25 tune and 100 draw iterations (175 + 700 draws total) took 8 seconds.\n",
      "Sampling: [f]\n"
     ]
    },
    {
     "data": {
      "text/html": [
       "\n",
       "<style>\n",
       "    /* Turns off some styling */\n",
       "    progress {\n",
       "        /* gets rid of default border in Firefox and Opera. */\n",
       "        border: none;\n",
       "        /* Needs to be in here for Safari polyfill so background images work as expected. */\n",
       "        background-size: auto;\n",
       "    }\n",
       "    progress:not([value]), progress:not([value])::-webkit-progress-bar {\n",
       "        background: repeating-linear-gradient(45deg, #7e7e7e, #7e7e7e 10px, #5c5c5c 10px, #5c5c5c 20px);\n",
       "    }\n",
       "    .progress-bar-interrupted, .progress-bar-interrupted::-webkit-progress-bar {\n",
       "        background: #F44336;\n",
       "    }\n",
       "</style>\n"
      ],
      "text/plain": [
       "<IPython.core.display.HTML object>"
      ]
     },
     "metadata": {},
     "output_type": "display_data"
    },
    {
     "data": {
      "text/html": [
       "\n",
       "    <div>\n",
       "      <progress value='700' class='' max='700' style='width:300px; height:20px; vertical-align: middle;'></progress>\n",
       "      100.00% [700/700 00:02&lt;00:00]\n",
       "    </div>\n",
       "    "
      ],
      "text/plain": [
       "<IPython.core.display.HTML object>"
      ]
     },
     "metadata": {},
     "output_type": "display_data"
    },
    {
     "name": "stderr",
     "output_type": "stream",
     "text": [
      "Loading required package: nlme\n",
      "Loading required package: nnet\n",
      "Loading required package: survival\n"
     ]
    },
    {
     "name": "stdout",
     "output_type": "stream",
     "text": [
      "[1] \"/home/twj8/projects/bart_survival_paper/notebook\"\n",
      "*****Calling gbart: type=2\n",
      "*****Data:\n",
      "data:n,p,np: 175, 2, 10\n",
      "y1,yn: 1.000000, 1.000000\n",
      "x1,x[n*p]: 1.000000, 0.000000\n",
      "xp1,xp[np*p]: 1.000000, 1.000000\n",
      "*****Number of Trees: 50\n",
      "*****Number of Cut Points: 4 ... 1\n",
      "*****burn,nd,thin: 250,1670,10\n",
      "*****Prior:beta,alpha,tau,nu,lambda,offset: 2,0.95,0.212132,3,1,-0.549216\n",
      "*****Dirichlet:sparse,theta,omega,a,b,rho,augment: 0,0,1,0.5,1,2,0\n",
      "*****printevery: 100\n",
      "\n",
      "MCMC\n",
      "done 0 (out of 1920)\n",
      "done 100 (out of 1920)\n",
      "done 200 (out of 1920)\n",
      "done 300 (out of 1920)\n",
      "done 400 (out of 1920)\n",
      "done 500 (out of 1920)\n",
      "done 600 (out of 1920)\n",
      "done 700 (out of 1920)\n",
      "done 800 (out of 1920)\n",
      "done 900 (out of 1920)\n",
      "done 1000 (out of 1920)\n",
      "done 1100 (out of 1920)\n",
      "done 1200 (out of 1920)\n",
      "done 1300 (out of 1920)\n",
      "done 1400 (out of 1920)\n",
      "done 1500 (out of 1920)\n",
      "done 1600 (out of 1920)\n",
      "done 1700 (out of 1920)\n",
      "done 1800 (out of 1920)\n",
      "done 1900 (out of 1920)\n",
      "time: 1s\n",
      "trcnt,tecnt: 167,167\n",
      "mean shape 0.8\n",
      "mean scale 2.5\n",
      "mean time draws 2.614634240483391\n",
      "cens mean 8.605\n",
      "(508, 1)\n"
     ]
    },
    {
     "name": "stderr",
     "output_type": "stream",
     "text": [
      "Only 100 samples in chain.\n",
      "Multiprocess sampling (7 chains in 7 jobs)\n",
      "PGBART: [f]\n"
     ]
    },
    {
     "data": {
      "text/html": [
       "\n",
       "<style>\n",
       "    /* Turns off some styling */\n",
       "    progress {\n",
       "        /* gets rid of default border in Firefox and Opera. */\n",
       "        border: none;\n",
       "        /* Needs to be in here for Safari polyfill so background images work as expected. */\n",
       "        background-size: auto;\n",
       "    }\n",
       "    progress:not([value]), progress:not([value])::-webkit-progress-bar {\n",
       "        background: repeating-linear-gradient(45deg, #7e7e7e, #7e7e7e 10px, #5c5c5c 10px, #5c5c5c 20px);\n",
       "    }\n",
       "    .progress-bar-interrupted, .progress-bar-interrupted::-webkit-progress-bar {\n",
       "        background: #F44336;\n",
       "    }\n",
       "</style>\n"
      ],
      "text/plain": [
       "<IPython.core.display.HTML object>"
      ]
     },
     "metadata": {},
     "output_type": "display_data"
    },
    {
     "data": {
      "text/html": [
       "\n",
       "    <div>\n",
       "      <progress value='875' class='' max='875' style='width:300px; height:20px; vertical-align: middle;'></progress>\n",
       "      100.00% [875/875 00:07&lt;00:00 Sampling 7 chains, 0 divergences]\n",
       "    </div>\n",
       "    "
      ],
      "text/plain": [
       "<IPython.core.display.HTML object>"
      ]
     },
     "metadata": {},
     "output_type": "display_data"
    },
    {
     "name": "stderr",
     "output_type": "stream",
     "text": [
      "Sampling 7 chains for 25 tune and 100 draw iterations (175 + 700 draws total) took 8 seconds.\n",
      "Sampling: [f]\n"
     ]
    },
    {
     "data": {
      "text/html": [
       "\n",
       "<style>\n",
       "    /* Turns off some styling */\n",
       "    progress {\n",
       "        /* gets rid of default border in Firefox and Opera. */\n",
       "        border: none;\n",
       "        /* Needs to be in here for Safari polyfill so background images work as expected. */\n",
       "        background-size: auto;\n",
       "    }\n",
       "    progress:not([value]), progress:not([value])::-webkit-progress-bar {\n",
       "        background: repeating-linear-gradient(45deg, #7e7e7e, #7e7e7e 10px, #5c5c5c 10px, #5c5c5c 20px);\n",
       "    }\n",
       "    .progress-bar-interrupted, .progress-bar-interrupted::-webkit-progress-bar {\n",
       "        background: #F44336;\n",
       "    }\n",
       "</style>\n"
      ],
      "text/plain": [
       "<IPython.core.display.HTML object>"
      ]
     },
     "metadata": {},
     "output_type": "display_data"
    },
    {
     "data": {
      "text/html": [
       "\n",
       "    <div>\n",
       "      <progress value='700' class='' max='700' style='width:300px; height:20px; vertical-align: middle;'></progress>\n",
       "      100.00% [700/700 00:03&lt;00:00]\n",
       "    </div>\n",
       "    "
      ],
      "text/plain": [
       "<IPython.core.display.HTML object>"
      ]
     },
     "metadata": {},
     "output_type": "display_data"
    },
    {
     "name": "stderr",
     "output_type": "stream",
     "text": [
      "Loading required package: nlme\n",
      "Loading required package: nnet\n",
      "Loading required package: survival\n"
     ]
    },
    {
     "name": "stdout",
     "output_type": "stream",
     "text": [
      "[1] \"/home/twj8/projects/bart_survival_paper/notebook\"\n",
      "*****Calling gbart: type=2\n",
      "*****Data:\n",
      "data:n,p,np: 508, 1, 13\n",
      "y1,yn: 1.000000, 1.000000\n",
      "x1,x[n*p]: 1.000000, 3.000000\n",
      "xp1,xp[np*p]: 1.000000, 14.000000\n",
      "*****Number of Trees: 50\n",
      "*****Number of Cut Points: 12 ... 12\n",
      "*****burn,nd,thin: 250,1670,10\n",
      "*****Prior:beta,alpha,tau,nu,lambda,offset: 2,0.95,0.212132,3,1,-0.454309\n",
      "*****Dirichlet:sparse,theta,omega,a,b,rho,augment: 0,0,1,0.5,1,1,0\n",
      "*****printevery: 100\n",
      "\n",
      "MCMC\n",
      "done 0 (out of 1920)\n",
      "done 100 (out of 1920)\n",
      "done 200 (out of 1920)\n",
      "done 300 (out of 1920)\n",
      "done 400 (out of 1920)\n",
      "done 500 (out of 1920)\n",
      "done 600 (out of 1920)\n",
      "done 700 (out of 1920)\n",
      "done 800 (out of 1920)\n",
      "done 900 (out of 1920)\n",
      "done 1000 (out of 1920)\n",
      "done 1100 (out of 1920)\n",
      "done 1200 (out of 1920)\n",
      "done 1300 (out of 1920)\n",
      "done 1400 (out of 1920)\n",
      "done 1500 (out of 1920)\n",
      "done 1600 (out of 1920)\n",
      "done 1700 (out of 1920)\n",
      "done 1800 (out of 1920)\n",
      "done 1900 (out of 1920)\n",
      "time: 3s\n",
      "trcnt,tecnt: 167,167\n",
      "List of 24\n",
      " $ yhat.train     : num [1:167, 1:508] -0.314 -0.274 -0.488 -0.347 -0.262 ...\n",
      " $ yhat.test      : num [1:1002, 1:13] -0.314 -0.274 -0.488 -0.347 -0.262 ...\n",
      " $ varcount       : int [1:1002, 1] 58 50 57 56 58 60 60 59 54 51 ...\n",
      "  ..- attr(*, \"dimnames\")=List of 2\n",
      "  .. ..$ : NULL\n",
      "  .. ..$ : chr \"t\"\n",
      " $ varprob        : num [1:1002, 1] 1 1 1 1 1 1 1 1 1 1 ...\n",
      "  ..- attr(*, \"dimnames\")=List of 2\n",
      "  .. ..$ : NULL\n",
      "  .. ..$ : chr \"t\"\n",
      " $ treedraws      :List of 2\n",
      "  ..$ cutpoints:List of 1\n",
      "  .. ..$ t: num [1:12] 1.5 2.5 3.5 4.5 5.5 6.5 7.5 8.5 9.5 10.5 ...\n",
      "  ..$ trees    : chr \"1002 50 1\\n3\\n1 0 8 0.0001043845565\\n2 0 0 -0.2456439094\\n3 0 0 -0.1116747661\\n3\\n1 0 6 -0.1818403987\\n2 0 0 0.\"| __truncated__\n",
      " $ proc.time      : 'proc_time' Named num [1:5] 14.952 0.078 2.959 0 0\n",
      "  ..- attr(*, \"names\")= chr [1:5] \"user.self\" \"sys.self\" \"elapsed\" \"user.child\" ...\n",
      " $ hostname       : logi FALSE\n",
      " $ prob.train     : num [1:167, 1:508] 0.377 0.392 0.313 0.364 0.397 ...\n",
      " $ prob.train.mean: num [1:508] 0.38 0.38 0.38 0.306 0.355 ...\n",
      " $ LPML           : num -320\n",
      " $ prob.test      : num [1:1002, 1:13] 0.377 0.392 0.313 0.364 0.397 ...\n",
      " $ prob.test.mean : num [1:13] 0.38 0.306 0.355 0.298 0.261 ...\n",
      " $ ndpost         : num 1002\n",
      " $ offset         : num -0.454\n",
      " $ varcount.mean  : Named num 58.4\n",
      "  ..- attr(*, \"names\")= chr \"t\"\n",
      " $ varprob.mean   : Named num 1\n",
      "  ..- attr(*, \"names\")= chr \"t\"\n",
      " $ rm.const       : int 1\n",
      " $ times          : num [1:13] 1 2 3 4 5 6 7 8 9 10 ...\n",
      " $ K              : int 13\n",
      " $ tx.train       : num [1:508, 1] 1 1 1 2 3 4 5 1 2 3 ...\n",
      "  ..- attr(*, \"dimnames\")=List of 2\n",
      "  .. ..$ : NULL\n",
      "  .. ..$ : chr \"t\"\n",
      " $ type           : chr \"pbart\"\n",
      " $ tx.test        : num [1:13, 1] 1 2 3 4 5 6 7 8 9 10 ...\n",
      "  ..- attr(*, \"dimnames\")=List of 2\n",
      "  .. ..$ : NULL\n",
      "  .. ..$ : chr \"t\"\n",
      " $ surv.test      : num [1:1002, 1:13] 0.623 0.608 0.687 0.636 0.603 ...\n",
      " $ surv.test.mean : num [1:13] 0.617 0.426 0.274 0.192 0.143 ...\n",
      " - attr(*, \"class\")= chr \"survbart\"\n",
      "mean shape 0.8\n",
      "mean scale 2.5\n",
      "mean time draws 3.143809912186516\n",
      "cens mean 8.22\n",
      "(526, 1)\n"
     ]
    },
    {
     "name": "stderr",
     "output_type": "stream",
     "text": [
      "Only 100 samples in chain.\n",
      "Multiprocess sampling (7 chains in 7 jobs)\n",
      "PGBART: [f]\n"
     ]
    },
    {
     "data": {
      "text/html": [
       "\n",
       "<style>\n",
       "    /* Turns off some styling */\n",
       "    progress {\n",
       "        /* gets rid of default border in Firefox and Opera. */\n",
       "        border: none;\n",
       "        /* Needs to be in here for Safari polyfill so background images work as expected. */\n",
       "        background-size: auto;\n",
       "    }\n",
       "    progress:not([value]), progress:not([value])::-webkit-progress-bar {\n",
       "        background: repeating-linear-gradient(45deg, #7e7e7e, #7e7e7e 10px, #5c5c5c 10px, #5c5c5c 20px);\n",
       "    }\n",
       "    .progress-bar-interrupted, .progress-bar-interrupted::-webkit-progress-bar {\n",
       "        background: #F44336;\n",
       "    }\n",
       "</style>\n"
      ],
      "text/plain": [
       "<IPython.core.display.HTML object>"
      ]
     },
     "metadata": {},
     "output_type": "display_data"
    },
    {
     "data": {
      "text/html": [
       "\n",
       "    <div>\n",
       "      <progress value='875' class='' max='875' style='width:300px; height:20px; vertical-align: middle;'></progress>\n",
       "      100.00% [875/875 00:08&lt;00:00 Sampling 7 chains, 0 divergences]\n",
       "    </div>\n",
       "    "
      ],
      "text/plain": [
       "<IPython.core.display.HTML object>"
      ]
     },
     "metadata": {},
     "output_type": "display_data"
    },
    {
     "name": "stderr",
     "output_type": "stream",
     "text": [
      "Sampling 7 chains for 25 tune and 100 draw iterations (175 + 700 draws total) took 9 seconds.\n",
      "Sampling: [f]\n"
     ]
    },
    {
     "data": {
      "text/html": [
       "\n",
       "<style>\n",
       "    /* Turns off some styling */\n",
       "    progress {\n",
       "        /* gets rid of default border in Firefox and Opera. */\n",
       "        border: none;\n",
       "        /* Needs to be in here for Safari polyfill so background images work as expected. */\n",
       "        background-size: auto;\n",
       "    }\n",
       "    progress:not([value]), progress:not([value])::-webkit-progress-bar {\n",
       "        background: repeating-linear-gradient(45deg, #7e7e7e, #7e7e7e 10px, #5c5c5c 10px, #5c5c5c 20px);\n",
       "    }\n",
       "    .progress-bar-interrupted, .progress-bar-interrupted::-webkit-progress-bar {\n",
       "        background: #F44336;\n",
       "    }\n",
       "</style>\n"
      ],
      "text/plain": [
       "<IPython.core.display.HTML object>"
      ]
     },
     "metadata": {},
     "output_type": "display_data"
    },
    {
     "data": {
      "text/html": [
       "\n",
       "    <div>\n",
       "      <progress value='700' class='' max='700' style='width:300px; height:20px; vertical-align: middle;'></progress>\n",
       "      100.00% [700/700 00:03&lt;00:00]\n",
       "    </div>\n",
       "    "
      ],
      "text/plain": [
       "<IPython.core.display.HTML object>"
      ]
     },
     "metadata": {},
     "output_type": "display_data"
    },
    {
     "name": "stderr",
     "output_type": "stream",
     "text": [
      "Loading required package: nlme\n",
      "Loading required package: nnet\n",
      "Loading required package: survival\n"
     ]
    },
    {
     "name": "stdout",
     "output_type": "stream",
     "text": [
      "[1] \"/home/twj8/projects/bart_survival_paper/notebook\"\n",
      "*****Calling gbart: type=2\n",
      "*****Data:\n",
      "data:n,p,np: 526, 1, 12\n",
      "y1,yn: 1.000000, 1.000000\n",
      "x1,x[n*p]: 1.000000, 1.000000\n",
      "xp1,xp[np*p]: 1.000000, 15.000000\n",
      "*****Number of Trees: 50\n",
      "*****Number of Cut Points: 11 ... 11\n",
      "*****burn,nd,thin: 250,1670,10\n",
      "*****Prior:beta,alpha,tau,nu,lambda,offset: 2,0.95,0.212132,3,1,-0.556386\n",
      "*****Dirichlet:sparse,theta,omega,a,b,rho,augment: 0,0,1,0.5,1,1,0\n",
      "*****printevery: 100\n",
      "\n",
      "MCMC\n",
      "done 0 (out of 1920)\n",
      "done 100 (out of 1920)\n",
      "done 200 (out of 1920)\n",
      "done 300 (out of 1920)\n",
      "done 400 (out of 1920)\n",
      "done 500 (out of 1920)\n",
      "done 600 (out of 1920)\n",
      "done 700 (out of 1920)\n",
      "done 800 (out of 1920)\n",
      "done 900 (out of 1920)\n",
      "done 1000 (out of 1920)\n",
      "done 1100 (out of 1920)\n",
      "done 1200 (out of 1920)\n",
      "done 1300 (out of 1920)\n",
      "done 1400 (out of 1920)\n",
      "done 1500 (out of 1920)\n",
      "done 1600 (out of 1920)\n",
      "done 1700 (out of 1920)\n",
      "done 1800 (out of 1920)\n",
      "done 1900 (out of 1920)\n",
      "time: 3s\n",
      "trcnt,tecnt: 167,167\n",
      "List of 24\n",
      " $ yhat.train     : num [1:167, 1:526] -0.512 -0.469 -0.551 -0.712 -0.398 ...\n",
      " $ yhat.test      : num [1:1002, 1:12] -0.512 -0.469 -0.551 -0.712 -0.398 ...\n",
      " $ varcount       : int [1:1002, 1] 55 63 55 70 54 59 60 52 55 60 ...\n",
      "  ..- attr(*, \"dimnames\")=List of 2\n",
      "  .. ..$ : NULL\n",
      "  .. ..$ : chr \"t\"\n",
      " $ varprob        : num [1:1002, 1] 1 1 1 1 1 1 1 1 1 1 ...\n",
      "  ..- attr(*, \"dimnames\")=List of 2\n",
      "  .. ..$ : NULL\n",
      "  .. ..$ : chr \"t\"\n",
      " $ treedraws      :List of 2\n",
      "  ..$ cutpoints:List of 1\n",
      "  .. ..$ t: num [1:11] 1.5 2.5 3.5 4.5 5.5 6.5 7.5 8.5 9.5 11 ...\n",
      "  ..$ trees    : chr \"1002 50 1\\n3\\n1 0 8 0.03702694551\\n2 0 0 -0.2365821089\\n3 0 0 -0.3053564767\\n5\\n1 0 4 0.1645829815\\n2 0 3 -0.03\"| __truncated__\n",
      " $ proc.time      : 'proc_time' Named num [1:5] 13.419 0.062 2.466 0 0\n",
      "  ..- attr(*, \"names\")= chr [1:5] \"user.self\" \"sys.self\" \"elapsed\" \"user.child\" ...\n",
      " $ hostname       : logi FALSE\n",
      " $ prob.train     : num [1:167, 1:526] 0.304 0.319 0.291 0.238 0.345 ...\n",
      " $ prob.train.mean: num [1:526] 0.303 0.303 0.315 0.303 0.315 ...\n",
      " $ LPML           : num -318\n",
      " $ prob.test      : num [1:1002, 1:12] 0.304 0.319 0.291 0.238 0.345 ...\n",
      " $ prob.test.mean : num [1:12] 0.303 0.315 0.297 0.225 0.284 ...\n",
      " $ ndpost         : num 1002\n",
      " $ offset         : num -0.556\n",
      " $ varcount.mean  : Named num 57.2\n",
      "  ..- attr(*, \"names\")= chr \"t\"\n",
      " $ varprob.mean   : Named num 1\n",
      "  ..- attr(*, \"names\")= chr \"t\"\n",
      " $ rm.const       : int 1\n",
      " $ times          : num [1:12] 1 2 3 4 5 6 7 8 9 10 ...\n",
      " $ K              : int 12\n",
      " $ tx.train       : num [1:526, 1] 1 1 2 1 2 1 2 1 1 2 ...\n",
      "  ..- attr(*, \"dimnames\")=List of 2\n",
      "  .. ..$ : NULL\n",
      "  .. ..$ : chr \"t\"\n",
      " $ type           : chr \"pbart\"\n",
      " $ tx.test        : num [1:12, 1] 1 2 3 4 5 6 7 8 9 10 ...\n",
      "  ..- attr(*, \"dimnames\")=List of 2\n",
      "  .. ..$ : NULL\n",
      "  .. ..$ : chr \"t\"\n",
      " $ surv.test      : num [1:1002, 1:12] 0.696 0.681 0.709 0.762 0.655 ...\n",
      " $ surv.test.mean : num [1:12] 0.699 0.477 0.331 0.258 0.182 ...\n",
      " - attr(*, \"class\")= chr \"survbart\"\n",
      "mean shape 0.8\n",
      "mean scale 2.5\n",
      "mean time draws 2.614634240483391\n",
      "cens mean 1.76\n",
      "(270, 1)\n"
     ]
    },
    {
     "name": "stderr",
     "output_type": "stream",
     "text": [
      "Only 100 samples in chain.\n",
      "Multiprocess sampling (7 chains in 7 jobs)\n",
      "PGBART: [f]\n"
     ]
    },
    {
     "data": {
      "text/html": [
       "\n",
       "<style>\n",
       "    /* Turns off some styling */\n",
       "    progress {\n",
       "        /* gets rid of default border in Firefox and Opera. */\n",
       "        border: none;\n",
       "        /* Needs to be in here for Safari polyfill so background images work as expected. */\n",
       "        background-size: auto;\n",
       "    }\n",
       "    progress:not([value]), progress:not([value])::-webkit-progress-bar {\n",
       "        background: repeating-linear-gradient(45deg, #7e7e7e, #7e7e7e 10px, #5c5c5c 10px, #5c5c5c 20px);\n",
       "    }\n",
       "    .progress-bar-interrupted, .progress-bar-interrupted::-webkit-progress-bar {\n",
       "        background: #F44336;\n",
       "    }\n",
       "</style>\n"
      ],
      "text/plain": [
       "<IPython.core.display.HTML object>"
      ]
     },
     "metadata": {},
     "output_type": "display_data"
    },
    {
     "data": {
      "text/html": [
       "\n",
       "    <div>\n",
       "      <progress value='875' class='' max='875' style='width:300px; height:20px; vertical-align: middle;'></progress>\n",
       "      100.00% [875/875 00:07&lt;00:00 Sampling 7 chains, 0 divergences]\n",
       "    </div>\n",
       "    "
      ],
      "text/plain": [
       "<IPython.core.display.HTML object>"
      ]
     },
     "metadata": {},
     "output_type": "display_data"
    },
    {
     "name": "stderr",
     "output_type": "stream",
     "text": [
      "Sampling 7 chains for 25 tune and 100 draw iterations (175 + 700 draws total) took 8 seconds.\n",
      "Sampling: [f]\n"
     ]
    },
    {
     "data": {
      "text/html": [
       "\n",
       "<style>\n",
       "    /* Turns off some styling */\n",
       "    progress {\n",
       "        /* gets rid of default border in Firefox and Opera. */\n",
       "        border: none;\n",
       "        /* Needs to be in here for Safari polyfill so background images work as expected. */\n",
       "        background-size: auto;\n",
       "    }\n",
       "    progress:not([value]), progress:not([value])::-webkit-progress-bar {\n",
       "        background: repeating-linear-gradient(45deg, #7e7e7e, #7e7e7e 10px, #5c5c5c 10px, #5c5c5c 20px);\n",
       "    }\n",
       "    .progress-bar-interrupted, .progress-bar-interrupted::-webkit-progress-bar {\n",
       "        background: #F44336;\n",
       "    }\n",
       "</style>\n"
      ],
      "text/plain": [
       "<IPython.core.display.HTML object>"
      ]
     },
     "metadata": {},
     "output_type": "display_data"
    },
    {
     "data": {
      "text/html": [
       "\n",
       "    <div>\n",
       "      <progress value='700' class='' max='700' style='width:300px; height:20px; vertical-align: middle;'></progress>\n",
       "      100.00% [700/700 00:04&lt;00:00]\n",
       "    </div>\n",
       "    "
      ],
      "text/plain": [
       "<IPython.core.display.HTML object>"
      ]
     },
     "metadata": {},
     "output_type": "display_data"
    },
    {
     "name": "stderr",
     "output_type": "stream",
     "text": [
      "Loading required package: nlme\n",
      "Loading required package: nnet\n",
      "Loading required package: survival\n"
     ]
    },
    {
     "name": "stdout",
     "output_type": "stream",
     "text": [
      "[1] \"/home/twj8/projects/bart_survival_paper/notebook\"\n",
      "*****Calling gbart: type=2\n",
      "*****Data:\n",
      "data:n,p,np: 270, 1, 4\n",
      "y1,yn: 1.000000, 0.000000\n",
      "x1,x[n*p]: 1.000000, 1.000000\n",
      "xp1,xp[np*p]: 1.000000, 4.000000\n",
      "*****Number of Trees: 50\n",
      "*****Number of Cut Points: 3 ... 3\n",
      "*****burn,nd,thin: 250,1670,10\n",
      "*****Prior:beta,alpha,tau,nu,lambda,offset: 2,0.95,0.212132,3,1,-0.380326\n",
      "*****Dirichlet:sparse,theta,omega,a,b,rho,augment: 0,0,1,0.5,1,1,0\n",
      "*****printevery: 100\n",
      "\n",
      "MCMC\n",
      "done 0 (out of 1920)\n",
      "done 100 (out of 1920)\n",
      "done 200 (out of 1920)\n",
      "done 300 (out of 1920)\n",
      "done 400 (out of 1920)\n",
      "done 500 (out of 1920)\n",
      "done 600 (out of 1920)\n",
      "done 700 (out of 1920)\n",
      "done 800 (out of 1920)\n",
      "done 900 (out of 1920)\n",
      "done 1000 (out of 1920)\n",
      "done 1100 (out of 1920)\n",
      "done 1200 (out of 1920)\n",
      "done 1300 (out of 1920)\n",
      "done 1400 (out of 1920)\n",
      "done 1500 (out of 1920)\n",
      "done 1600 (out of 1920)\n",
      "done 1700 (out of 1920)\n",
      "done 1800 (out of 1920)\n",
      "done 1900 (out of 1920)\n",
      "time: 1s\n",
      "trcnt,tecnt: 167,167\n",
      "List of 24\n",
      " $ yhat.train     : num [1:167, 1:270] -0.402 -0.226 -0.275 -0.17 -0.441 ...\n",
      " $ yhat.test      : num [1:1002, 1:4] -0.402 -0.226 -0.275 -0.17 -0.441 ...\n",
      " $ varcount       : int [1:1002, 1] 57 54 59 55 55 63 57 56 57 59 ...\n",
      "  ..- attr(*, \"dimnames\")=List of 2\n",
      "  .. ..$ : NULL\n",
      "  .. ..$ : chr \"t\"\n",
      " $ varprob        : num [1:1002, 1] 1 1 1 1 1 1 1 1 1 1 ...\n",
      "  ..- attr(*, \"dimnames\")=List of 2\n",
      "  .. ..$ : NULL\n",
      "  .. ..$ : chr \"t\"\n",
      " $ treedraws      :List of 2\n",
      "  ..$ cutpoints:List of 1\n",
      "  .. ..$ t: num [1:3] 1.5 2.5 3.5\n",
      "  ..$ trees    : chr \"1002 50 1\\n3\\n1 0 1 0.2249679585\\n2 0 0 -0.04695233222\\n3 0 0 -0.1067281855\\n3\\n1 0 1 0.2435253522\\n2 0 0 0.195\"| __truncated__\n",
      " $ proc.time      : 'proc_time' Named num [1:5] 5.341 0.015 0.966 0 0\n",
      "  ..- attr(*, \"names\")= chr [1:5] \"user.self\" \"sys.self\" \"elapsed\" \"user.child\" ...\n",
      " $ hostname       : logi FALSE\n",
      " $ prob.train     : num [1:167, 1:270] 0.344 0.411 0.392 0.432 0.329 ...\n",
      " $ prob.train.mean: num [1:270] 0.383 0.383 0.383 0.383 0.258 ...\n",
      " $ LPML           : num -177\n",
      " $ prob.test      : num [1:1002, 1:4] 0.344 0.411 0.392 0.432 0.329 ...\n",
      " $ prob.test.mean : num [1:4] 0.383 0.258 0.31 0.228\n",
      " $ ndpost         : num 1002\n",
      " $ offset         : num -0.38\n",
      " $ varcount.mean  : Named num 56.4\n",
      "  ..- attr(*, \"names\")= chr \"t\"\n",
      " $ varprob.mean   : Named num 1\n",
      "  ..- attr(*, \"names\")= chr \"t\"\n",
      " $ rm.const       : int 1\n",
      " $ times          : num [1:4] 1 2 3 4\n",
      " $ K              : int 4\n",
      " $ tx.train       : num [1:270, 1] 1 1 1 1 2 1 1 1 2 1 ...\n",
      "  ..- attr(*, \"dimnames\")=List of 2\n",
      "  .. ..$ : NULL\n",
      "  .. ..$ : chr \"t\"\n",
      " $ type           : chr \"pbart\"\n",
      " $ tx.test        : num [1:4, 1] 1 2 3 4\n",
      "  ..- attr(*, \"dimnames\")=List of 2\n",
      "  .. ..$ : NULL\n",
      "  .. ..$ : chr \"t\"\n",
      " $ surv.test      : num [1:1002, 1:4] 0.656 0.589 0.608 0.568 0.671 ...\n",
      " $ surv.test.mean : num [1:4] 0.616 0.456 0.317 0.243\n",
      " - attr(*, \"class\")= chr \"survbart\"\n",
      "mean shape 0.8\n",
      "mean scale 2.5\n",
      "mean time draws 3.143809912186516\n",
      "cens mean 1.71\n",
      "(275, 1)\n"
     ]
    },
    {
     "name": "stderr",
     "output_type": "stream",
     "text": [
      "Only 100 samples in chain.\n",
      "Multiprocess sampling (7 chains in 7 jobs)\n",
      "PGBART: [f]\n"
     ]
    },
    {
     "data": {
      "text/html": [
       "\n",
       "<style>\n",
       "    /* Turns off some styling */\n",
       "    progress {\n",
       "        /* gets rid of default border in Firefox and Opera. */\n",
       "        border: none;\n",
       "        /* Needs to be in here for Safari polyfill so background images work as expected. */\n",
       "        background-size: auto;\n",
       "    }\n",
       "    progress:not([value]), progress:not([value])::-webkit-progress-bar {\n",
       "        background: repeating-linear-gradient(45deg, #7e7e7e, #7e7e7e 10px, #5c5c5c 10px, #5c5c5c 20px);\n",
       "    }\n",
       "    .progress-bar-interrupted, .progress-bar-interrupted::-webkit-progress-bar {\n",
       "        background: #F44336;\n",
       "    }\n",
       "</style>\n"
      ],
      "text/plain": [
       "<IPython.core.display.HTML object>"
      ]
     },
     "metadata": {},
     "output_type": "display_data"
    },
    {
     "data": {
      "text/html": [
       "\n",
       "    <div>\n",
       "      <progress value='875' class='' max='875' style='width:300px; height:20px; vertical-align: middle;'></progress>\n",
       "      100.00% [875/875 00:05&lt;00:00 Sampling 7 chains, 0 divergences]\n",
       "    </div>\n",
       "    "
      ],
      "text/plain": [
       "<IPython.core.display.HTML object>"
      ]
     },
     "metadata": {},
     "output_type": "display_data"
    },
    {
     "name": "stderr",
     "output_type": "stream",
     "text": [
      "Sampling 7 chains for 25 tune and 100 draw iterations (175 + 700 draws total) took 6 seconds.\n",
      "Sampling: [f]\n"
     ]
    },
    {
     "data": {
      "text/html": [
       "\n",
       "<style>\n",
       "    /* Turns off some styling */\n",
       "    progress {\n",
       "        /* gets rid of default border in Firefox and Opera. */\n",
       "        border: none;\n",
       "        /* Needs to be in here for Safari polyfill so background images work as expected. */\n",
       "        background-size: auto;\n",
       "    }\n",
       "    progress:not([value]), progress:not([value])::-webkit-progress-bar {\n",
       "        background: repeating-linear-gradient(45deg, #7e7e7e, #7e7e7e 10px, #5c5c5c 10px, #5c5c5c 20px);\n",
       "    }\n",
       "    .progress-bar-interrupted, .progress-bar-interrupted::-webkit-progress-bar {\n",
       "        background: #F44336;\n",
       "    }\n",
       "</style>\n"
      ],
      "text/plain": [
       "<IPython.core.display.HTML object>"
      ]
     },
     "metadata": {},
     "output_type": "display_data"
    },
    {
     "data": {
      "text/html": [
       "\n",
       "    <div>\n",
       "      <progress value='700' class='' max='700' style='width:300px; height:20px; vertical-align: middle;'></progress>\n",
       "      100.00% [700/700 00:03&lt;00:00]\n",
       "    </div>\n",
       "    "
      ],
      "text/plain": [
       "<IPython.core.display.HTML object>"
      ]
     },
     "metadata": {},
     "output_type": "display_data"
    },
    {
     "name": "stderr",
     "output_type": "stream",
     "text": [
      "Loading required package: nlme\n",
      "Loading required package: nnet\n",
      "Loading required package: survival\n"
     ]
    },
    {
     "name": "stdout",
     "output_type": "stream",
     "text": [
      "[1] \"/home/twj8/projects/bart_survival_paper/notebook\"\n",
      "*****Calling gbart: type=2\n",
      "*****Data:\n",
      "data:n,p,np: 275, 1, 5\n",
      "y1,yn: 1.000000, 1.000000\n",
      "x1,x[n*p]: 1.000000, 1.000000\n",
      "xp1,xp[np*p]: 1.000000, 5.000000\n",
      "*****Number of Trees: 50\n",
      "*****Number of Cut Points: 4 ... 4\n",
      "*****burn,nd,thin: 250,1670,10\n",
      "*****Prior:beta,alpha,tau,nu,lambda,offset: 2,0.95,0.212132,3,1,-0.529637\n",
      "*****Dirichlet:sparse,theta,omega,a,b,rho,augment: 0,0,1,0.5,1,1,0\n",
      "*****printevery: 100\n",
      "\n",
      "MCMC\n",
      "done 0 (out of 1920)\n",
      "done 100 (out of 1920)\n",
      "done 200 (out of 1920)\n",
      "done 300 (out of 1920)\n",
      "done 400 (out of 1920)\n",
      "done 500 (out of 1920)\n",
      "done 600 (out of 1920)\n",
      "done 700 (out of 1920)\n",
      "done 800 (out of 1920)\n",
      "done 900 (out of 1920)\n",
      "done 1000 (out of 1920)\n",
      "done 1100 (out of 1920)\n",
      "done 1200 (out of 1920)\n",
      "done 1300 (out of 1920)\n",
      "done 1400 (out of 1920)\n",
      "done 1500 (out of 1920)\n",
      "done 1600 (out of 1920)\n",
      "done 1700 (out of 1920)\n",
      "done 1800 (out of 1920)\n",
      "done 1900 (out of 1920)\n",
      "time: 1s\n",
      "trcnt,tecnt: 167,167\n",
      "List of 24\n",
      " $ yhat.train     : num [1:167, 1:275] -0.529 -0.565 -0.488 -0.65 -0.596 ...\n",
      " $ yhat.test      : num [1:1002, 1:5] -0.529 -0.565 -0.488 -0.65 -0.596 ...\n",
      " $ varcount       : int [1:1002, 1] 51 56 51 56 56 47 47 55 52 57 ...\n",
      "  ..- attr(*, \"dimnames\")=List of 2\n",
      "  .. ..$ : NULL\n",
      "  .. ..$ : chr \"t\"\n",
      " $ varprob        : num [1:1002, 1] 1 1 1 1 1 1 1 1 1 1 ...\n",
      "  ..- attr(*, \"dimnames\")=List of 2\n",
      "  .. ..$ : NULL\n",
      "  .. ..$ : chr \"t\"\n",
      " $ treedraws      :List of 2\n",
      "  ..$ cutpoints:List of 1\n",
      "  .. ..$ t: num [1:4] 1.5 2.5 3.5 4.5\n",
      "  ..$ trees    : chr \"1002 50 1\\n3\\n1 0 1 -0.1369269526\\n2 0 0 -0.2196944971\\n3 0 0 -0.2131725795\\n3\\n1 0 0 0.1442381277\\n2 0 0 0.239\"| __truncated__\n",
      " $ proc.time      : 'proc_time' Named num [1:5] 6.06 0.092 1.162 0 0\n",
      "  ..- attr(*, \"names\")= chr [1:5] \"user.self\" \"sys.self\" \"elapsed\" \"user.child\" ...\n",
      " $ hostname       : logi FALSE\n",
      " $ prob.train     : num [1:167, 1:275] 0.298 0.286 0.313 0.258 0.275 ...\n",
      " $ prob.train.mean: num [1:275] 0.302 0.302 0.302 0.302 0.302 ...\n",
      " $ LPML           : num -170\n",
      " $ prob.test      : num [1:1002, 1:5] 0.298 0.286 0.313 0.258 0.275 ...\n",
      " $ prob.test.mean : num [1:5] 0.302 0.336 0.204 0.159 0.159\n",
      " $ ndpost         : num 1002\n",
      " $ offset         : num -0.53\n",
      " $ varcount.mean  : Named num 52.6\n",
      "  ..- attr(*, \"names\")= chr \"t\"\n",
      " $ varprob.mean   : Named num 1\n",
      "  ..- attr(*, \"names\")= chr \"t\"\n",
      " $ rm.const       : int 1\n",
      " $ times          : num [1:5] 1 2 3 4 5\n",
      " $ K              : int 5\n",
      " $ tx.train       : num [1:275, 1] 1 1 1 1 1 1 2 1 1 2 ...\n",
      "  ..- attr(*, \"dimnames\")=List of 2\n",
      "  .. ..$ : NULL\n",
      "  .. ..$ : chr \"t\"\n",
      " $ type           : chr \"pbart\"\n",
      " $ tx.test        : num [1:5, 1] 1 2 3 4 5\n",
      "  ..- attr(*, \"dimnames\")=List of 2\n",
      "  .. ..$ : NULL\n",
      "  .. ..$ : chr \"t\"\n",
      " $ surv.test      : num [1:1002, 1:5] 0.702 0.714 0.687 0.742 0.725 ...\n",
      " $ surv.test.mean : num [1:5] 0.699 0.46 0.366 0.303 0.255\n",
      " - attr(*, \"class\")= chr \"survbart\"\n",
      "mean shape 1.07\n",
      "mean scale 3.0669999999999993\n",
      "mean time draws 2.9569021981121977\n",
      "cens mean 9.51\n",
      "(581, 2)\n"
     ]
    },
    {
     "name": "stderr",
     "output_type": "stream",
     "text": [
      "Only 100 samples in chain.\n",
      "Multiprocess sampling (7 chains in 7 jobs)\n",
      "PGBART: [f]\n"
     ]
    },
    {
     "data": {
      "text/html": [
       "\n",
       "<style>\n",
       "    /* Turns off some styling */\n",
       "    progress {\n",
       "        /* gets rid of default border in Firefox and Opera. */\n",
       "        border: none;\n",
       "        /* Needs to be in here for Safari polyfill so background images work as expected. */\n",
       "        background-size: auto;\n",
       "    }\n",
       "    progress:not([value]), progress:not([value])::-webkit-progress-bar {\n",
       "        background: repeating-linear-gradient(45deg, #7e7e7e, #7e7e7e 10px, #5c5c5c 10px, #5c5c5c 20px);\n",
       "    }\n",
       "    .progress-bar-interrupted, .progress-bar-interrupted::-webkit-progress-bar {\n",
       "        background: #F44336;\n",
       "    }\n",
       "</style>\n"
      ],
      "text/plain": [
       "<IPython.core.display.HTML object>"
      ]
     },
     "metadata": {},
     "output_type": "display_data"
    },
    {
     "data": {
      "text/html": [
       "\n",
       "    <div>\n",
       "      <progress value='875' class='' max='875' style='width:300px; height:20px; vertical-align: middle;'></progress>\n",
       "      100.00% [875/875 00:06&lt;00:00 Sampling 7 chains, 0 divergences]\n",
       "    </div>\n",
       "    "
      ],
      "text/plain": [
       "<IPython.core.display.HTML object>"
      ]
     },
     "metadata": {},
     "output_type": "display_data"
    },
    {
     "name": "stderr",
     "output_type": "stream",
     "text": [
      "Sampling 7 chains for 25 tune and 100 draw iterations (175 + 700 draws total) took 7 seconds.\n",
      "Sampling: [f]\n"
     ]
    },
    {
     "data": {
      "text/html": [
       "\n",
       "<style>\n",
       "    /* Turns off some styling */\n",
       "    progress {\n",
       "        /* gets rid of default border in Firefox and Opera. */\n",
       "        border: none;\n",
       "        /* Needs to be in here for Safari polyfill so background images work as expected. */\n",
       "        background-size: auto;\n",
       "    }\n",
       "    progress:not([value]), progress:not([value])::-webkit-progress-bar {\n",
       "        background: repeating-linear-gradient(45deg, #7e7e7e, #7e7e7e 10px, #5c5c5c 10px, #5c5c5c 20px);\n",
       "    }\n",
       "    .progress-bar-interrupted, .progress-bar-interrupted::-webkit-progress-bar {\n",
       "        background: #F44336;\n",
       "    }\n",
       "</style>\n"
      ],
      "text/plain": [
       "<IPython.core.display.HTML object>"
      ]
     },
     "metadata": {},
     "output_type": "display_data"
    },
    {
     "data": {
      "text/html": [
       "\n",
       "    <div>\n",
       "      <progress value='700' class='' max='700' style='width:300px; height:20px; vertical-align: middle;'></progress>\n",
       "      100.00% [700/700 00:02&lt;00:00]\n",
       "    </div>\n",
       "    "
      ],
      "text/plain": [
       "<IPython.core.display.HTML object>"
      ]
     },
     "metadata": {},
     "output_type": "display_data"
    },
    {
     "name": "stderr",
     "output_type": "stream",
     "text": [
      "Loading required package: nlme\n",
      "Loading required package: nnet\n",
      "Loading required package: survival\n"
     ]
    },
    {
     "name": "stdout",
     "output_type": "stream",
     "text": [
      "[1] \"/home/twj8/projects/bart_survival_paper/notebook\"\n",
      "*****Calling gbart: type=2\n",
      "*****Data:\n",
      "data:n,p,np: 581, 2, 28\n",
      "y1,yn: 0.000000, 1.000000\n",
      "x1,x[n*p]: 1.000000, 1.000000\n",
      "xp1,xp[np*p]: 1.000000, 1.000000\n",
      "*****Number of Trees: 50\n",
      "*****Number of Cut Points: 13 ... 1\n",
      "*****burn,nd,thin: 250,1670,10\n",
      "*****Prior:beta,alpha,tau,nu,lambda,offset: 2,0.95,0.212132,3,1,-0.57102\n",
      "*****Dirichlet:sparse,theta,omega,a,b,rho,augment: 0,0,1,0.5,1,2,0\n",
      "*****printevery: 100\n",
      "\n",
      "MCMC\n",
      "done 0 (out of 1920)\n",
      "done 100 (out of 1920)\n",
      "done 200 (out of 1920)\n",
      "done 300 (out of 1920)\n",
      "done 400 (out of 1920)\n",
      "done 500 (out of 1920)\n",
      "done 600 (out of 1920)\n",
      "done 700 (out of 1920)\n",
      "done 800 (out of 1920)\n",
      "done 900 (out of 1920)\n",
      "done 1000 (out of 1920)\n",
      "done 1100 (out of 1920)\n",
      "done 1200 (out of 1920)\n",
      "done 1300 (out of 1920)\n",
      "done 1400 (out of 1920)\n",
      "done 1500 (out of 1920)\n",
      "done 1600 (out of 1920)\n",
      "done 1700 (out of 1920)\n",
      "done 1800 (out of 1920)\n",
      "done 1900 (out of 1920)\n",
      "time: 3s\n",
      "trcnt,tecnt: 167,167\n",
      "mean shape 1.07\n",
      "mean scale 3.0669999999999993\n",
      "mean time draws 3.390067152337964\n",
      "cens mean 9.1\n",
      "(589, 2)\n"
     ]
    },
    {
     "name": "stderr",
     "output_type": "stream",
     "text": [
      "Only 100 samples in chain.\n",
      "Multiprocess sampling (7 chains in 7 jobs)\n",
      "PGBART: [f]\n"
     ]
    },
    {
     "data": {
      "text/html": [
       "\n",
       "<style>\n",
       "    /* Turns off some styling */\n",
       "    progress {\n",
       "        /* gets rid of default border in Firefox and Opera. */\n",
       "        border: none;\n",
       "        /* Needs to be in here for Safari polyfill so background images work as expected. */\n",
       "        background-size: auto;\n",
       "    }\n",
       "    progress:not([value]), progress:not([value])::-webkit-progress-bar {\n",
       "        background: repeating-linear-gradient(45deg, #7e7e7e, #7e7e7e 10px, #5c5c5c 10px, #5c5c5c 20px);\n",
       "    }\n",
       "    .progress-bar-interrupted, .progress-bar-interrupted::-webkit-progress-bar {\n",
       "        background: #F44336;\n",
       "    }\n",
       "</style>\n"
      ],
      "text/plain": [
       "<IPython.core.display.HTML object>"
      ]
     },
     "metadata": {},
     "output_type": "display_data"
    },
    {
     "data": {
      "text/html": [
       "\n",
       "    <div>\n",
       "      <progress value='875' class='' max='875' style='width:300px; height:20px; vertical-align: middle;'></progress>\n",
       "      100.00% [875/875 00:08&lt;00:00 Sampling 7 chains, 0 divergences]\n",
       "    </div>\n",
       "    "
      ],
      "text/plain": [
       "<IPython.core.display.HTML object>"
      ]
     },
     "metadata": {},
     "output_type": "display_data"
    },
    {
     "name": "stderr",
     "output_type": "stream",
     "text": [
      "Sampling 7 chains for 25 tune and 100 draw iterations (175 + 700 draws total) took 9 seconds.\n",
      "Sampling: [f]\n"
     ]
    },
    {
     "data": {
      "text/html": [
       "\n",
       "<style>\n",
       "    /* Turns off some styling */\n",
       "    progress {\n",
       "        /* gets rid of default border in Firefox and Opera. */\n",
       "        border: none;\n",
       "        /* Needs to be in here for Safari polyfill so background images work as expected. */\n",
       "        background-size: auto;\n",
       "    }\n",
       "    progress:not([value]), progress:not([value])::-webkit-progress-bar {\n",
       "        background: repeating-linear-gradient(45deg, #7e7e7e, #7e7e7e 10px, #5c5c5c 10px, #5c5c5c 20px);\n",
       "    }\n",
       "    .progress-bar-interrupted, .progress-bar-interrupted::-webkit-progress-bar {\n",
       "        background: #F44336;\n",
       "    }\n",
       "</style>\n"
      ],
      "text/plain": [
       "<IPython.core.display.HTML object>"
      ]
     },
     "metadata": {},
     "output_type": "display_data"
    },
    {
     "data": {
      "text/html": [
       "\n",
       "    <div>\n",
       "      <progress value='700' class='' max='700' style='width:300px; height:20px; vertical-align: middle;'></progress>\n",
       "      100.00% [700/700 00:02&lt;00:00]\n",
       "    </div>\n",
       "    "
      ],
      "text/plain": [
       "<IPython.core.display.HTML object>"
      ]
     },
     "metadata": {},
     "output_type": "display_data"
    },
    {
     "name": "stderr",
     "output_type": "stream",
     "text": [
      "Loading required package: nlme\n",
      "Loading required package: nnet\n",
      "Loading required package: survival\n"
     ]
    },
    {
     "name": "stdout",
     "output_type": "stream",
     "text": [
      "[1] \"/home/twj8/projects/bart_survival_paper/notebook\"\n",
      "*****Calling gbart: type=2\n",
      "*****Data:\n",
      "data:n,p,np: 589, 2, 22\n",
      "y1,yn: 1.000000, 1.000000\n",
      "x1,x[n*p]: 1.000000, 1.000000\n",
      "xp1,xp[np*p]: 1.000000, 1.000000\n",
      "*****Number of Trees: 50\n",
      "*****Number of Cut Points: 10 ... 1\n",
      "*****burn,nd,thin: 250,1670,10\n",
      "*****Prior:beta,alpha,tau,nu,lambda,offset: 2,0.95,0.212132,3,1,-0.691957\n",
      "*****Dirichlet:sparse,theta,omega,a,b,rho,augment: 0,0,1,0.5,1,2,0\n",
      "*****printevery: 100\n",
      "\n",
      "MCMC\n",
      "done 0 (out of 1920)\n",
      "done 100 (out of 1920)\n",
      "done 200 (out of 1920)\n",
      "done 300 (out of 1920)\n",
      "done 400 (out of 1920)\n",
      "done 500 (out of 1920)\n",
      "done 600 (out of 1920)\n",
      "done 700 (out of 1920)\n",
      "done 800 (out of 1920)\n",
      "done 900 (out of 1920)\n",
      "done 1000 (out of 1920)\n",
      "done 1100 (out of 1920)\n",
      "done 1200 (out of 1920)\n",
      "done 1300 (out of 1920)\n",
      "done 1400 (out of 1920)\n",
      "done 1500 (out of 1920)\n",
      "done 1600 (out of 1920)\n",
      "done 1700 (out of 1920)\n",
      "done 1800 (out of 1920)\n",
      "done 1900 (out of 1920)\n",
      "time: 3s\n",
      "trcnt,tecnt: 167,167\n",
      "mean shape 1.07\n",
      "mean scale 3.0669999999999993\n",
      "mean time draws 2.9569021981121977\n",
      "cens mean 2.64\n",
      "(358, 2)\n"
     ]
    },
    {
     "name": "stderr",
     "output_type": "stream",
     "text": [
      "Only 100 samples in chain.\n",
      "Multiprocess sampling (7 chains in 7 jobs)\n",
      "PGBART: [f]\n"
     ]
    },
    {
     "data": {
      "text/html": [
       "\n",
       "<style>\n",
       "    /* Turns off some styling */\n",
       "    progress {\n",
       "        /* gets rid of default border in Firefox and Opera. */\n",
       "        border: none;\n",
       "        /* Needs to be in here for Safari polyfill so background images work as expected. */\n",
       "        background-size: auto;\n",
       "    }\n",
       "    progress:not([value]), progress:not([value])::-webkit-progress-bar {\n",
       "        background: repeating-linear-gradient(45deg, #7e7e7e, #7e7e7e 10px, #5c5c5c 10px, #5c5c5c 20px);\n",
       "    }\n",
       "    .progress-bar-interrupted, .progress-bar-interrupted::-webkit-progress-bar {\n",
       "        background: #F44336;\n",
       "    }\n",
       "</style>\n"
      ],
      "text/plain": [
       "<IPython.core.display.HTML object>"
      ]
     },
     "metadata": {},
     "output_type": "display_data"
    },
    {
     "data": {
      "text/html": [
       "\n",
       "    <div>\n",
       "      <progress value='875' class='' max='875' style='width:300px; height:20px; vertical-align: middle;'></progress>\n",
       "      100.00% [875/875 00:06&lt;00:00 Sampling 7 chains, 0 divergences]\n",
       "    </div>\n",
       "    "
      ],
      "text/plain": [
       "<IPython.core.display.HTML object>"
      ]
     },
     "metadata": {},
     "output_type": "display_data"
    },
    {
     "name": "stderr",
     "output_type": "stream",
     "text": [
      "Sampling 7 chains for 25 tune and 100 draw iterations (175 + 700 draws total) took 7 seconds.\n",
      "Sampling: [f]\n"
     ]
    },
    {
     "data": {
      "text/html": [
       "\n",
       "<style>\n",
       "    /* Turns off some styling */\n",
       "    progress {\n",
       "        /* gets rid of default border in Firefox and Opera. */\n",
       "        border: none;\n",
       "        /* Needs to be in here for Safari polyfill so background images work as expected. */\n",
       "        background-size: auto;\n",
       "    }\n",
       "    progress:not([value]), progress:not([value])::-webkit-progress-bar {\n",
       "        background: repeating-linear-gradient(45deg, #7e7e7e, #7e7e7e 10px, #5c5c5c 10px, #5c5c5c 20px);\n",
       "    }\n",
       "    .progress-bar-interrupted, .progress-bar-interrupted::-webkit-progress-bar {\n",
       "        background: #F44336;\n",
       "    }\n",
       "</style>\n"
      ],
      "text/plain": [
       "<IPython.core.display.HTML object>"
      ]
     },
     "metadata": {},
     "output_type": "display_data"
    },
    {
     "data": {
      "text/html": [
       "\n",
       "    <div>\n",
       "      <progress value='700' class='' max='700' style='width:300px; height:20px; vertical-align: middle;'></progress>\n",
       "      100.00% [700/700 00:03&lt;00:00]\n",
       "    </div>\n",
       "    "
      ],
      "text/plain": [
       "<IPython.core.display.HTML object>"
      ]
     },
     "metadata": {},
     "output_type": "display_data"
    },
    {
     "name": "stderr",
     "output_type": "stream",
     "text": [
      "Loading required package: nlme\n",
      "Loading required package: nnet\n",
      "Loading required package: survival\n"
     ]
    },
    {
     "name": "stdout",
     "output_type": "stream",
     "text": [
      "[1] \"/home/twj8/projects/bart_survival_paper/notebook\"\n",
      "*****Calling gbart: type=2\n",
      "*****Data:\n",
      "data:n,p,np: 358, 2, 14\n",
      "y1,yn: 0.000000, 0.000000\n",
      "x1,x[n*p]: 1.000000, 1.000000\n",
      "xp1,xp[np*p]: 1.000000, 1.000000\n",
      "*****Number of Trees: 50\n",
      "*****Number of Cut Points: 6 ... 1\n",
      "*****burn,nd,thin: 250,1670,10\n",
      "*****Prior:beta,alpha,tau,nu,lambda,offset: 2,0.95,0.212132,3,1,-0.618398\n",
      "*****Dirichlet:sparse,theta,omega,a,b,rho,augment: 0,0,1,0.5,1,2,0\n",
      "*****printevery: 100\n",
      "\n",
      "MCMC\n",
      "done 0 (out of 1920)\n",
      "done 100 (out of 1920)\n",
      "done 200 (out of 1920)\n",
      "done 300 (out of 1920)\n",
      "done 400 (out of 1920)\n",
      "done 500 (out of 1920)\n",
      "done 600 (out of 1920)\n",
      "done 700 (out of 1920)\n",
      "done 800 (out of 1920)\n",
      "done 900 (out of 1920)\n",
      "done 1000 (out of 1920)\n",
      "done 1100 (out of 1920)\n",
      "done 1200 (out of 1920)\n",
      "done 1300 (out of 1920)\n",
      "done 1400 (out of 1920)\n",
      "done 1500 (out of 1920)\n",
      "done 1600 (out of 1920)\n",
      "done 1700 (out of 1920)\n",
      "done 1800 (out of 1920)\n",
      "done 1900 (out of 1920)\n",
      "time: 2s\n",
      "trcnt,tecnt: 167,167\n",
      "mean shape 1.07\n",
      "mean scale 3.0669999999999993\n",
      "mean time draws 3.390067152337964\n",
      "cens mean 2.58\n",
      "(371, 2)\n"
     ]
    },
    {
     "name": "stderr",
     "output_type": "stream",
     "text": [
      "Only 100 samples in chain.\n",
      "Multiprocess sampling (7 chains in 7 jobs)\n",
      "PGBART: [f]\n"
     ]
    },
    {
     "data": {
      "text/html": [
       "\n",
       "<style>\n",
       "    /* Turns off some styling */\n",
       "    progress {\n",
       "        /* gets rid of default border in Firefox and Opera. */\n",
       "        border: none;\n",
       "        /* Needs to be in here for Safari polyfill so background images work as expected. */\n",
       "        background-size: auto;\n",
       "    }\n",
       "    progress:not([value]), progress:not([value])::-webkit-progress-bar {\n",
       "        background: repeating-linear-gradient(45deg, #7e7e7e, #7e7e7e 10px, #5c5c5c 10px, #5c5c5c 20px);\n",
       "    }\n",
       "    .progress-bar-interrupted, .progress-bar-interrupted::-webkit-progress-bar {\n",
       "        background: #F44336;\n",
       "    }\n",
       "</style>\n"
      ],
      "text/plain": [
       "<IPython.core.display.HTML object>"
      ]
     },
     "metadata": {},
     "output_type": "display_data"
    },
    {
     "data": {
      "text/html": [
       "\n",
       "    <div>\n",
       "      <progress value='875' class='' max='875' style='width:300px; height:20px; vertical-align: middle;'></progress>\n",
       "      100.00% [875/875 00:07&lt;00:00 Sampling 7 chains, 0 divergences]\n",
       "    </div>\n",
       "    "
      ],
      "text/plain": [
       "<IPython.core.display.HTML object>"
      ]
     },
     "metadata": {},
     "output_type": "display_data"
    },
    {
     "name": "stderr",
     "output_type": "stream",
     "text": [
      "Sampling 7 chains for 25 tune and 100 draw iterations (175 + 700 draws total) took 8 seconds.\n",
      "Sampling: [f]\n"
     ]
    },
    {
     "data": {
      "text/html": [
       "\n",
       "<style>\n",
       "    /* Turns off some styling */\n",
       "    progress {\n",
       "        /* gets rid of default border in Firefox and Opera. */\n",
       "        border: none;\n",
       "        /* Needs to be in here for Safari polyfill so background images work as expected. */\n",
       "        background-size: auto;\n",
       "    }\n",
       "    progress:not([value]), progress:not([value])::-webkit-progress-bar {\n",
       "        background: repeating-linear-gradient(45deg, #7e7e7e, #7e7e7e 10px, #5c5c5c 10px, #5c5c5c 20px);\n",
       "    }\n",
       "    .progress-bar-interrupted, .progress-bar-interrupted::-webkit-progress-bar {\n",
       "        background: #F44336;\n",
       "    }\n",
       "</style>\n"
      ],
      "text/plain": [
       "<IPython.core.display.HTML object>"
      ]
     },
     "metadata": {},
     "output_type": "display_data"
    },
    {
     "data": {
      "text/html": [
       "\n",
       "    <div>\n",
       "      <progress value='700' class='' max='700' style='width:300px; height:20px; vertical-align: middle;'></progress>\n",
       "      100.00% [700/700 00:02&lt;00:00]\n",
       "    </div>\n",
       "    "
      ],
      "text/plain": [
       "<IPython.core.display.HTML object>"
      ]
     },
     "metadata": {},
     "output_type": "display_data"
    },
    {
     "name": "stderr",
     "output_type": "stream",
     "text": [
      "Loading required package: nlme\n",
      "Loading required package: nnet\n",
      "Loading required package: survival\n"
     ]
    },
    {
     "name": "stdout",
     "output_type": "stream",
     "text": [
      "[1] \"/home/twj8/projects/bart_survival_paper/notebook\"\n",
      "*****Calling gbart: type=2\n",
      "*****Data:\n",
      "data:n,p,np: 371, 2, 14\n",
      "y1,yn: 1.000000, 0.000000\n",
      "x1,x[n*p]: 1.000000, 1.000000\n",
      "xp1,xp[np*p]: 1.000000, 1.000000\n",
      "*****Number of Trees: 50\n",
      "*****Number of Cut Points: 6 ... 1\n",
      "*****burn,nd,thin: 250,1670,10\n",
      "*****Prior:beta,alpha,tau,nu,lambda,offset: 2,0.95,0.212132,3,1,-0.724103\n",
      "*****Dirichlet:sparse,theta,omega,a,b,rho,augment: 0,0,1,0.5,1,2,0\n",
      "*****printevery: 100\n",
      "\n",
      "MCMC\n",
      "done 0 (out of 1920)\n",
      "done 100 (out of 1920)\n",
      "done 200 (out of 1920)\n",
      "done 300 (out of 1920)\n",
      "done 400 (out of 1920)\n",
      "done 500 (out of 1920)\n",
      "done 600 (out of 1920)\n",
      "done 700 (out of 1920)\n",
      "done 800 (out of 1920)\n",
      "done 900 (out of 1920)\n",
      "done 1000 (out of 1920)\n",
      "done 1100 (out of 1920)\n",
      "done 1200 (out of 1920)\n",
      "done 1300 (out of 1920)\n",
      "done 1400 (out of 1920)\n",
      "done 1500 (out of 1920)\n",
      "done 1600 (out of 1920)\n",
      "done 1700 (out of 1920)\n",
      "done 1800 (out of 1920)\n",
      "done 1900 (out of 1920)\n",
      "time: 1s\n",
      "trcnt,tecnt: 167,167\n",
      "mean shape 0.8\n",
      "mean scale 2.5\n",
      "mean time draws 3.274046851556635\n",
      "cens mean 9.105\n",
      "(1102, 1)\n"
     ]
    },
    {
     "name": "stderr",
     "output_type": "stream",
     "text": [
      "Only 100 samples in chain.\n",
      "Multiprocess sampling (7 chains in 7 jobs)\n",
      "PGBART: [f]\n"
     ]
    },
    {
     "data": {
      "text/html": [
       "\n",
       "<style>\n",
       "    /* Turns off some styling */\n",
       "    progress {\n",
       "        /* gets rid of default border in Firefox and Opera. */\n",
       "        border: none;\n",
       "        /* Needs to be in here for Safari polyfill so background images work as expected. */\n",
       "        background-size: auto;\n",
       "    }\n",
       "    progress:not([value]), progress:not([value])::-webkit-progress-bar {\n",
       "        background: repeating-linear-gradient(45deg, #7e7e7e, #7e7e7e 10px, #5c5c5c 10px, #5c5c5c 20px);\n",
       "    }\n",
       "    .progress-bar-interrupted, .progress-bar-interrupted::-webkit-progress-bar {\n",
       "        background: #F44336;\n",
       "    }\n",
       "</style>\n"
      ],
      "text/plain": [
       "<IPython.core.display.HTML object>"
      ]
     },
     "metadata": {},
     "output_type": "display_data"
    },
    {
     "data": {
      "text/html": [
       "\n",
       "    <div>\n",
       "      <progress value='875' class='' max='875' style='width:300px; height:20px; vertical-align: middle;'></progress>\n",
       "      100.00% [875/875 00:08&lt;00:00 Sampling 7 chains, 0 divergences]\n",
       "    </div>\n",
       "    "
      ],
      "text/plain": [
       "<IPython.core.display.HTML object>"
      ]
     },
     "metadata": {},
     "output_type": "display_data"
    },
    {
     "name": "stderr",
     "output_type": "stream",
     "text": [
      "Sampling 7 chains for 25 tune and 100 draw iterations (175 + 700 draws total) took 9 seconds.\n",
      "Sampling: [f]\n"
     ]
    },
    {
     "data": {
      "text/html": [
       "\n",
       "<style>\n",
       "    /* Turns off some styling */\n",
       "    progress {\n",
       "        /* gets rid of default border in Firefox and Opera. */\n",
       "        border: none;\n",
       "        /* Needs to be in here for Safari polyfill so background images work as expected. */\n",
       "        background-size: auto;\n",
       "    }\n",
       "    progress:not([value]), progress:not([value])::-webkit-progress-bar {\n",
       "        background: repeating-linear-gradient(45deg, #7e7e7e, #7e7e7e 10px, #5c5c5c 10px, #5c5c5c 20px);\n",
       "    }\n",
       "    .progress-bar-interrupted, .progress-bar-interrupted::-webkit-progress-bar {\n",
       "        background: #F44336;\n",
       "    }\n",
       "</style>\n"
      ],
      "text/plain": [
       "<IPython.core.display.HTML object>"
      ]
     },
     "metadata": {},
     "output_type": "display_data"
    },
    {
     "data": {
      "text/html": [
       "\n",
       "    <div>\n",
       "      <progress value='700' class='' max='700' style='width:300px; height:20px; vertical-align: middle;'></progress>\n",
       "      100.00% [700/700 00:03&lt;00:00]\n",
       "    </div>\n",
       "    "
      ],
      "text/plain": [
       "<IPython.core.display.HTML object>"
      ]
     },
     "metadata": {},
     "output_type": "display_data"
    },
    {
     "name": "stderr",
     "output_type": "stream",
     "text": [
      "Loading required package: nlme\n",
      "Loading required package: nnet\n",
      "Loading required package: survival\n"
     ]
    },
    {
     "name": "stdout",
     "output_type": "stream",
     "text": [
      "[1] \"/home/twj8/projects/bart_survival_paper/notebook\"\n",
      "*****Calling gbart: type=2\n",
      "*****Data:\n",
      "data:n,p,np: 1102, 1, 16\n",
      "y1,yn: 0.000000, 1.000000\n",
      "x1,x[n*p]: 1.000000, 1.000000\n",
      "xp1,xp[np*p]: 1.000000, 19.000000\n",
      "*****Number of Trees: 50\n",
      "*****Number of Cut Points: 15 ... 15\n",
      "*****burn,nd,thin: 250,1670,10\n",
      "*****Prior:beta,alpha,tau,nu,lambda,offset: 2,0.95,0.212132,3,1,-0.576276\n",
      "*****Dirichlet:sparse,theta,omega,a,b,rho,augment: 0,0,1,0.5,1,1,0\n",
      "*****printevery: 100\n",
      "\n",
      "MCMC\n",
      "done 0 (out of 1920)\n",
      "done 100 (out of 1920)\n",
      "done 200 (out of 1920)\n",
      "done 300 (out of 1920)\n",
      "done 400 (out of 1920)\n",
      "done 500 (out of 1920)\n",
      "done 600 (out of 1920)\n",
      "done 700 (out of 1920)\n",
      "done 800 (out of 1920)\n",
      "done 900 (out of 1920)\n",
      "done 1000 (out of 1920)\n",
      "done 1100 (out of 1920)\n",
      "done 1200 (out of 1920)\n",
      "done 1300 (out of 1920)\n",
      "done 1400 (out of 1920)\n",
      "done 1500 (out of 1920)\n",
      "done 1600 (out of 1920)\n",
      "done 1700 (out of 1920)\n",
      "done 1800 (out of 1920)\n",
      "done 1900 (out of 1920)\n",
      "time: 8s\n",
      "trcnt,tecnt: 167,167\n",
      "List of 24\n",
      " $ yhat.train     : num [1:167, 1:1102] -0.489 -0.462 -0.382 -0.368 -0.458 ...\n",
      " $ yhat.test      : num [1:1002, 1:16] -0.489 -0.462 -0.382 -0.368 -0.458 ...\n",
      " $ varcount       : int [1:1002, 1] 55 61 55 54 61 59 55 54 64 57 ...\n",
      "  ..- attr(*, \"dimnames\")=List of 2\n",
      "  .. ..$ : NULL\n",
      "  .. ..$ : chr \"t\"\n",
      " $ varprob        : num [1:1002, 1] 1 1 1 1 1 1 1 1 1 1 ...\n",
      "  ..- attr(*, \"dimnames\")=List of 2\n",
      "  .. ..$ : NULL\n",
      "  .. ..$ : chr \"t\"\n",
      " $ treedraws      :List of 2\n",
      "  ..$ cutpoints:List of 1\n",
      "  .. ..$ t: num [1:15] 1.5 2.5 3.5 4.5 5.5 6.5 7.5 8.5 10 11.5 ...\n",
      "  ..$ trees    : chr \"1002 50 1\\n3\\n1 0 3 0.08635977482\\n2 0 0 0.4004584302\\n3 0 0 -0.03138733136\\n3\\n1 0 2 -0.2203607467\\n2 0 0 -0.2\"| __truncated__\n",
      " $ proc.time      : 'proc_time' Named num [1:5] 38.17 0.266 7.351 0 0\n",
      "  ..- attr(*, \"names\")= chr [1:5] \"user.self\" \"sys.self\" \"elapsed\" \"user.child\" ...\n",
      " $ hostname       : logi FALSE\n",
      " $ prob.train     : num [1:167, 1:1102] 0.312 0.322 0.351 0.356 0.323 ...\n",
      " $ prob.train.mean: num [1:1102] 0.327 0.298 0.283 0.327 0.298 ...\n",
      " $ LPML           : num -656\n",
      " $ prob.test      : num [1:1002, 1:16] 0.312 0.322 0.351 0.356 0.323 ...\n",
      " $ prob.test.mean : num [1:16] 0.327 0.298 0.283 0.203 0.193 ...\n",
      " $ ndpost         : num 1002\n",
      " $ offset         : num -0.576\n",
      " $ varcount.mean  : Named num 57.7\n",
      "  ..- attr(*, \"names\")= chr \"t\"\n",
      " $ varprob.mean   : Named num 1\n",
      "  ..- attr(*, \"names\")= chr \"t\"\n",
      " $ rm.const       : int 1\n",
      " $ times          : num [1:16] 1 2 3 4 5 6 7 8 9 11 ...\n",
      " $ K              : int 16\n",
      " $ tx.train       : num [1:1102, 1] 1 2 3 1 2 1 1 2 3 1 ...\n",
      "  ..- attr(*, \"dimnames\")=List of 2\n",
      "  .. ..$ : NULL\n",
      "  .. ..$ : chr \"t\"\n",
      " $ type           : chr \"pbart\"\n",
      " $ tx.test        : num [1:16, 1] 1 2 3 4 5 6 7 8 9 11 ...\n",
      "  ..- attr(*, \"dimnames\")=List of 2\n",
      "  .. ..$ : NULL\n",
      "  .. ..$ : chr \"t\"\n",
      " $ surv.test      : num [1:1002, 1:16] 0.688 0.678 0.649 0.644 0.677 ...\n",
      " $ surv.test.mean : num [1:16] 0.67 0.469 0.335 0.27 0.219 ...\n",
      " - attr(*, \"class\")= chr \"survbart\"\n",
      "mean shape 0.8\n",
      "mean scale 2.5\n",
      "mean time draws 2.9322464363077625\n",
      "cens mean 8.615\n",
      "(996, 1)\n"
     ]
    },
    {
     "name": "stderr",
     "output_type": "stream",
     "text": [
      "Only 100 samples in chain.\n",
      "Multiprocess sampling (7 chains in 7 jobs)\n",
      "PGBART: [f]\n"
     ]
    },
    {
     "data": {
      "text/html": [
       "\n",
       "<style>\n",
       "    /* Turns off some styling */\n",
       "    progress {\n",
       "        /* gets rid of default border in Firefox and Opera. */\n",
       "        border: none;\n",
       "        /* Needs to be in here for Safari polyfill so background images work as expected. */\n",
       "        background-size: auto;\n",
       "    }\n",
       "    progress:not([value]), progress:not([value])::-webkit-progress-bar {\n",
       "        background: repeating-linear-gradient(45deg, #7e7e7e, #7e7e7e 10px, #5c5c5c 10px, #5c5c5c 20px);\n",
       "    }\n",
       "    .progress-bar-interrupted, .progress-bar-interrupted::-webkit-progress-bar {\n",
       "        background: #F44336;\n",
       "    }\n",
       "</style>\n"
      ],
      "text/plain": [
       "<IPython.core.display.HTML object>"
      ]
     },
     "metadata": {},
     "output_type": "display_data"
    },
    {
     "data": {
      "text/html": [
       "\n",
       "    <div>\n",
       "      <progress value='875' class='' max='875' style='width:300px; height:20px; vertical-align: middle;'></progress>\n",
       "      100.00% [875/875 00:09&lt;00:00 Sampling 7 chains, 0 divergences]\n",
       "    </div>\n",
       "    "
      ],
      "text/plain": [
       "<IPython.core.display.HTML object>"
      ]
     },
     "metadata": {},
     "output_type": "display_data"
    },
    {
     "name": "stderr",
     "output_type": "stream",
     "text": [
      "Sampling 7 chains for 25 tune and 100 draw iterations (175 + 700 draws total) took 10 seconds.\n",
      "Sampling: [f]\n"
     ]
    },
    {
     "data": {
      "text/html": [
       "\n",
       "<style>\n",
       "    /* Turns off some styling */\n",
       "    progress {\n",
       "        /* gets rid of default border in Firefox and Opera. */\n",
       "        border: none;\n",
       "        /* Needs to be in here for Safari polyfill so background images work as expected. */\n",
       "        background-size: auto;\n",
       "    }\n",
       "    progress:not([value]), progress:not([value])::-webkit-progress-bar {\n",
       "        background: repeating-linear-gradient(45deg, #7e7e7e, #7e7e7e 10px, #5c5c5c 10px, #5c5c5c 20px);\n",
       "    }\n",
       "    .progress-bar-interrupted, .progress-bar-interrupted::-webkit-progress-bar {\n",
       "        background: #F44336;\n",
       "    }\n",
       "</style>\n"
      ],
      "text/plain": [
       "<IPython.core.display.HTML object>"
      ]
     },
     "metadata": {},
     "output_type": "display_data"
    },
    {
     "data": {
      "text/html": [
       "\n",
       "    <div>\n",
       "      <progress value='700' class='' max='700' style='width:300px; height:20px; vertical-align: middle;'></progress>\n",
       "      100.00% [700/700 00:03&lt;00:00]\n",
       "    </div>\n",
       "    "
      ],
      "text/plain": [
       "<IPython.core.display.HTML object>"
      ]
     },
     "metadata": {},
     "output_type": "display_data"
    },
    {
     "name": "stderr",
     "output_type": "stream",
     "text": [
      "Loading required package: nlme\n",
      "Loading required package: nnet\n",
      "Loading required package: survival\n"
     ]
    },
    {
     "name": "stdout",
     "output_type": "stream",
     "text": [
      "[1] \"/home/twj8/projects/bart_survival_paper/notebook\"\n",
      "*****Calling gbart: type=2\n",
      "*****Data:\n",
      "data:n,p,np: 996, 1, 11\n",
      "y1,yn: 1.000000, 1.000000\n",
      "x1,x[n*p]: 1.000000, 1.000000\n",
      "xp1,xp[np*p]: 1.000000, 13.000000\n",
      "*****Number of Trees: 50\n",
      "*****Number of Cut Points: 10 ... 10\n",
      "*****burn,nd,thin: 250,1670,10\n",
      "*****Prior:beta,alpha,tau,nu,lambda,offset: 2,0.95,0.212132,3,1,-0.480992\n",
      "*****Dirichlet:sparse,theta,omega,a,b,rho,augment: 0,0,1,0.5,1,1,0\n",
      "*****printevery: 100\n",
      "\n",
      "MCMC\n",
      "done 0 (out of 1920)\n",
      "done 100 (out of 1920)\n",
      "done 200 (out of 1920)\n",
      "done 300 (out of 1920)\n",
      "done 400 (out of 1920)\n",
      "done 500 (out of 1920)\n",
      "done 600 (out of 1920)\n",
      "done 700 (out of 1920)\n",
      "done 800 (out of 1920)\n",
      "done 900 (out of 1920)\n",
      "done 1000 (out of 1920)\n",
      "done 1100 (out of 1920)\n",
      "done 1200 (out of 1920)\n",
      "done 1300 (out of 1920)\n",
      "done 1400 (out of 1920)\n",
      "done 1500 (out of 1920)\n",
      "done 1600 (out of 1920)\n",
      "done 1700 (out of 1920)\n",
      "done 1800 (out of 1920)\n",
      "done 1900 (out of 1920)\n",
      "time: 6s\n",
      "trcnt,tecnt: 167,167\n",
      "List of 24\n",
      " $ yhat.train     : num [1:167, 1:996] -0.323 -0.346 -0.303 -0.287 -0.371 ...\n",
      " $ yhat.test      : num [1:1002, 1:11] -0.323 -0.346 -0.303 -0.287 -0.371 ...\n",
      " $ varcount       : int [1:1002, 1] 61 56 58 51 58 76 56 59 58 57 ...\n",
      "  ..- attr(*, \"dimnames\")=List of 2\n",
      "  .. ..$ : NULL\n",
      "  .. ..$ : chr \"t\"\n",
      " $ varprob        : num [1:1002, 1] 1 1 1 1 1 1 1 1 1 1 ...\n",
      "  ..- attr(*, \"dimnames\")=List of 2\n",
      "  .. ..$ : NULL\n",
      "  .. ..$ : chr \"t\"\n",
      " $ treedraws      :List of 2\n",
      "  ..$ cutpoints:List of 1\n",
      "  .. ..$ t: num [1:10] 1.5 2.5 3.5 4.5 5.5 6.5 7.5 8.5 10 12\n",
      "  ..$ trees    : chr \"1002 50 1\\n3\\n1 0 7 -0.2850823043\\n2 0 0 -0.07922583777\\n3 0 0 -0.0674600367\\n7\\n1 0 6 -0.04556402984\\n2 0 1 0.\"| __truncated__\n",
      " $ proc.time      : 'proc_time' Named num [1:5] 33.888 0.216 6.742 0 0\n",
      "  ..- attr(*, \"names\")= chr [1:5] \"user.self\" \"sys.self\" \"elapsed\" \"user.child\" ...\n",
      " $ hostname       : logi FALSE\n",
      " $ prob.train     : num [1:167, 1:996] 0.373 0.365 0.381 0.387 0.355 ...\n",
      " $ prob.train.mean: num [1:996] 0.377 0.377 0.325 0.242 0.377 ...\n",
      " $ LPML           : num -617\n",
      " $ prob.test      : num [1:1002, 1:11] 0.373 0.365 0.381 0.387 0.355 ...\n",
      " $ prob.test.mean : num [1:11] 0.377 0.325 0.242 0.215 0.207 ...\n",
      " $ ndpost         : num 1002\n",
      " $ offset         : num -0.481\n",
      " $ varcount.mean  : Named num 58.2\n",
      "  ..- attr(*, \"names\")= chr \"t\"\n",
      " $ varprob.mean   : Named num 1\n",
      "  ..- attr(*, \"names\")= chr \"t\"\n",
      " $ rm.const       : int 1\n",
      " $ times          : num [1:11] 1 2 3 4 5 6 7 8 9 11 ...\n",
      " $ K              : int 11\n",
      " $ tx.train       : num [1:996, 1] 1 1 2 3 1 2 1 1 1 2 ...\n",
      "  ..- attr(*, \"dimnames\")=List of 2\n",
      "  .. ..$ : NULL\n",
      "  .. ..$ : chr \"t\"\n",
      " $ type           : chr \"pbart\"\n",
      " $ tx.test        : num [1:11, 1] 1 2 3 4 5 6 7 8 9 11 ...\n",
      "  ..- attr(*, \"dimnames\")=List of 2\n",
      "  .. ..$ : NULL\n",
      "  .. ..$ : chr \"t\"\n",
      " $ surv.test      : num [1:1002, 1:11] 0.627 0.635 0.619 0.613 0.645 ...\n",
      " $ surv.test.mean : num [1:11] 0.623 0.421 0.319 0.25 0.198 ...\n",
      " - attr(*, \"class\")= chr \"survbart\"\n",
      "mean shape 0.8\n",
      "mean scale 2.5\n",
      "mean time draws 3.274046851556635\n",
      "cens mean 1.855\n",
      "(568, 1)\n"
     ]
    },
    {
     "name": "stderr",
     "output_type": "stream",
     "text": [
      "Only 100 samples in chain.\n",
      "Multiprocess sampling (7 chains in 7 jobs)\n",
      "PGBART: [f]\n"
     ]
    },
    {
     "data": {
      "text/html": [
       "\n",
       "<style>\n",
       "    /* Turns off some styling */\n",
       "    progress {\n",
       "        /* gets rid of default border in Firefox and Opera. */\n",
       "        border: none;\n",
       "        /* Needs to be in here for Safari polyfill so background images work as expected. */\n",
       "        background-size: auto;\n",
       "    }\n",
       "    progress:not([value]), progress:not([value])::-webkit-progress-bar {\n",
       "        background: repeating-linear-gradient(45deg, #7e7e7e, #7e7e7e 10px, #5c5c5c 10px, #5c5c5c 20px);\n",
       "    }\n",
       "    .progress-bar-interrupted, .progress-bar-interrupted::-webkit-progress-bar {\n",
       "        background: #F44336;\n",
       "    }\n",
       "</style>\n"
      ],
      "text/plain": [
       "<IPython.core.display.HTML object>"
      ]
     },
     "metadata": {},
     "output_type": "display_data"
    },
    {
     "data": {
      "text/html": [
       "\n",
       "    <div>\n",
       "      <progress value='875' class='' max='875' style='width:300px; height:20px; vertical-align: middle;'></progress>\n",
       "      100.00% [875/875 00:09&lt;00:00 Sampling 7 chains, 0 divergences]\n",
       "    </div>\n",
       "    "
      ],
      "text/plain": [
       "<IPython.core.display.HTML object>"
      ]
     },
     "metadata": {},
     "output_type": "display_data"
    },
    {
     "name": "stderr",
     "output_type": "stream",
     "text": [
      "Sampling 7 chains for 25 tune and 100 draw iterations (175 + 700 draws total) took 10 seconds.\n",
      "Sampling: [f]\n"
     ]
    },
    {
     "data": {
      "text/html": [
       "\n",
       "<style>\n",
       "    /* Turns off some styling */\n",
       "    progress {\n",
       "        /* gets rid of default border in Firefox and Opera. */\n",
       "        border: none;\n",
       "        /* Needs to be in here for Safari polyfill so background images work as expected. */\n",
       "        background-size: auto;\n",
       "    }\n",
       "    progress:not([value]), progress:not([value])::-webkit-progress-bar {\n",
       "        background: repeating-linear-gradient(45deg, #7e7e7e, #7e7e7e 10px, #5c5c5c 10px, #5c5c5c 20px);\n",
       "    }\n",
       "    .progress-bar-interrupted, .progress-bar-interrupted::-webkit-progress-bar {\n",
       "        background: #F44336;\n",
       "    }\n",
       "</style>\n"
      ],
      "text/plain": [
       "<IPython.core.display.HTML object>"
      ]
     },
     "metadata": {},
     "output_type": "display_data"
    },
    {
     "data": {
      "text/html": [
       "\n",
       "    <div>\n",
       "      <progress value='700' class='' max='700' style='width:300px; height:20px; vertical-align: middle;'></progress>\n",
       "      100.00% [700/700 00:04&lt;00:00]\n",
       "    </div>\n",
       "    "
      ],
      "text/plain": [
       "<IPython.core.display.HTML object>"
      ]
     },
     "metadata": {},
     "output_type": "display_data"
    },
    {
     "name": "stderr",
     "output_type": "stream",
     "text": [
      "Loading required package: nlme\n",
      "Loading required package: nnet\n",
      "Loading required package: survival\n"
     ]
    },
    {
     "name": "stdout",
     "output_type": "stream",
     "text": [
      "[1] \"/home/twj8/projects/bart_survival_paper/notebook\"\n",
      "*****Calling gbart: type=2\n",
      "*****Data:\n",
      "data:n,p,np: 568, 1, 7\n",
      "y1,yn: 0.000000, 1.000000\n",
      "x1,x[n*p]: 1.000000, 1.000000\n",
      "xp1,xp[np*p]: 1.000000, 7.000000\n",
      "*****Number of Trees: 50\n",
      "*****Number of Cut Points: 6 ... 6\n",
      "*****burn,nd,thin: 250,1670,10\n",
      "*****Prior:beta,alpha,tau,nu,lambda,offset: 2,0.95,0.212132,3,1,-0.49625\n",
      "*****Dirichlet:sparse,theta,omega,a,b,rho,augment: 0,0,1,0.5,1,1,0\n",
      "*****printevery: 100\n",
      "\n",
      "MCMC\n",
      "done 0 (out of 1920)\n",
      "done 100 (out of 1920)\n",
      "done 200 (out of 1920)\n",
      "done 300 (out of 1920)\n",
      "done 400 (out of 1920)\n",
      "done 500 (out of 1920)\n",
      "done 600 (out of 1920)\n",
      "done 700 (out of 1920)\n",
      "done 800 (out of 1920)\n",
      "done 900 (out of 1920)\n",
      "done 1000 (out of 1920)\n",
      "done 1100 (out of 1920)\n",
      "done 1200 (out of 1920)\n",
      "done 1300 (out of 1920)\n",
      "done 1400 (out of 1920)\n",
      "done 1500 (out of 1920)\n",
      "done 1600 (out of 1920)\n",
      "done 1700 (out of 1920)\n",
      "done 1800 (out of 1920)\n",
      "done 1900 (out of 1920)\n",
      "time: 4s\n",
      "trcnt,tecnt: 167,167\n",
      "List of 24\n",
      " $ yhat.train     : num [1:167, 1:568] -0.454 -0.434 -0.53 -0.505 -0.406 ...\n",
      " $ yhat.test      : num [1:1002, 1:7] -0.454 -0.434 -0.53 -0.505 -0.406 ...\n",
      " $ varcount       : int [1:1002, 1] 48 60 57 57 55 56 57 54 61 61 ...\n",
      "  ..- attr(*, \"dimnames\")=List of 2\n",
      "  .. ..$ : NULL\n",
      "  .. ..$ : chr \"t\"\n",
      " $ varprob        : num [1:1002, 1] 1 1 1 1 1 1 1 1 1 1 ...\n",
      "  ..- attr(*, \"dimnames\")=List of 2\n",
      "  .. ..$ : NULL\n",
      "  .. ..$ : chr \"t\"\n",
      " $ treedraws      :List of 2\n",
      "  ..$ cutpoints:List of 1\n",
      "  .. ..$ t: num [1:6] 1.5 2.5 3.5 4.5 5.5 6.5\n",
      "  ..$ trees    : chr \"1002 50 1\\n3\\n1 0 0 -0.1087753903\\n2 0 0 -0.3471215835\\n3 0 0 0.1518212272\\n1\\n1 0 0 0.1738159995\\n3\\n1 0 1 0.0\"| __truncated__\n",
      " $ proc.time      : 'proc_time' Named num [1:5] 17.405 0.108 3.902 0 0\n",
      "  ..- attr(*, \"names\")= chr [1:5] \"user.self\" \"sys.self\" \"elapsed\" \"user.child\" ...\n",
      " $ hostname       : logi FALSE\n",
      " $ prob.train     : num [1:167, 1:568] 0.325 0.332 0.298 0.307 0.342 ...\n",
      " $ prob.train.mean: num [1:568] 0.329 0.329 0.332 0.329 0.329 ...\n",
      " $ LPML           : num -351\n",
      " $ prob.test      : num [1:1002, 1:7] 0.325 0.332 0.298 0.307 0.342 ...\n",
      " $ prob.test.mean : num [1:7] 0.3294 0.3316 0.1583 0.0804 0.07 ...\n",
      " $ ndpost         : num 1002\n",
      " $ offset         : num -0.496\n",
      " $ varcount.mean  : Named num 56\n",
      "  ..- attr(*, \"names\")= chr \"t\"\n",
      " $ varprob.mean   : Named num 1\n",
      "  ..- attr(*, \"names\")= chr \"t\"\n",
      " $ rm.const       : int 1\n",
      " $ times          : num [1:7] 1 2 3 4 5 6 7\n",
      " $ K              : int 7\n",
      " $ tx.train       : num [1:568, 1] 1 1 2 1 1 2 3 1 2 1 ...\n",
      "  ..- attr(*, \"dimnames\")=List of 2\n",
      "  .. ..$ : NULL\n",
      "  .. ..$ : chr \"t\"\n",
      " $ type           : chr \"pbart\"\n",
      " $ tx.test        : num [1:7, 1] 1 2 3 4 5 6 7\n",
      "  ..- attr(*, \"dimnames\")=List of 2\n",
      "  .. ..$ : NULL\n",
      "  .. ..$ : chr \"t\"\n",
      " $ surv.test      : num [1:1002, 1:7] 0.675 0.668 0.702 0.693 0.658 ...\n",
      " $ surv.test.mean : num [1:7] 0.67 0.446 0.373 0.341 0.317 ...\n",
      " - attr(*, \"class\")= chr \"survbart\"\n",
      "mean shape 0.8\n",
      "mean scale 2.5\n",
      "mean time draws 2.9322464363077625\n",
      "cens mean 1.7975\n",
      "(554, 1)\n"
     ]
    },
    {
     "name": "stderr",
     "output_type": "stream",
     "text": [
      "Only 100 samples in chain.\n",
      "Multiprocess sampling (7 chains in 7 jobs)\n",
      "PGBART: [f]\n"
     ]
    },
    {
     "data": {
      "text/html": [
       "\n",
       "<style>\n",
       "    /* Turns off some styling */\n",
       "    progress {\n",
       "        /* gets rid of default border in Firefox and Opera. */\n",
       "        border: none;\n",
       "        /* Needs to be in here for Safari polyfill so background images work as expected. */\n",
       "        background-size: auto;\n",
       "    }\n",
       "    progress:not([value]), progress:not([value])::-webkit-progress-bar {\n",
       "        background: repeating-linear-gradient(45deg, #7e7e7e, #7e7e7e 10px, #5c5c5c 10px, #5c5c5c 20px);\n",
       "    }\n",
       "    .progress-bar-interrupted, .progress-bar-interrupted::-webkit-progress-bar {\n",
       "        background: #F44336;\n",
       "    }\n",
       "</style>\n"
      ],
      "text/plain": [
       "<IPython.core.display.HTML object>"
      ]
     },
     "metadata": {},
     "output_type": "display_data"
    },
    {
     "data": {
      "text/html": [
       "\n",
       "    <div>\n",
       "      <progress value='875' class='' max='875' style='width:300px; height:20px; vertical-align: middle;'></progress>\n",
       "      100.00% [875/875 00:08&lt;00:00 Sampling 7 chains, 0 divergences]\n",
       "    </div>\n",
       "    "
      ],
      "text/plain": [
       "<IPython.core.display.HTML object>"
      ]
     },
     "metadata": {},
     "output_type": "display_data"
    },
    {
     "name": "stderr",
     "output_type": "stream",
     "text": [
      "Sampling 7 chains for 25 tune and 100 draw iterations (175 + 700 draws total) took 9 seconds.\n",
      "Sampling: [f]\n"
     ]
    },
    {
     "data": {
      "text/html": [
       "\n",
       "<style>\n",
       "    /* Turns off some styling */\n",
       "    progress {\n",
       "        /* gets rid of default border in Firefox and Opera. */\n",
       "        border: none;\n",
       "        /* Needs to be in here for Safari polyfill so background images work as expected. */\n",
       "        background-size: auto;\n",
       "    }\n",
       "    progress:not([value]), progress:not([value])::-webkit-progress-bar {\n",
       "        background: repeating-linear-gradient(45deg, #7e7e7e, #7e7e7e 10px, #5c5c5c 10px, #5c5c5c 20px);\n",
       "    }\n",
       "    .progress-bar-interrupted, .progress-bar-interrupted::-webkit-progress-bar {\n",
       "        background: #F44336;\n",
       "    }\n",
       "</style>\n"
      ],
      "text/plain": [
       "<IPython.core.display.HTML object>"
      ]
     },
     "metadata": {},
     "output_type": "display_data"
    },
    {
     "data": {
      "text/html": [
       "\n",
       "    <div>\n",
       "      <progress value='700' class='' max='700' style='width:300px; height:20px; vertical-align: middle;'></progress>\n",
       "      100.00% [700/700 00:03&lt;00:00]\n",
       "    </div>\n",
       "    "
      ],
      "text/plain": [
       "<IPython.core.display.HTML object>"
      ]
     },
     "metadata": {},
     "output_type": "display_data"
    },
    {
     "name": "stderr",
     "output_type": "stream",
     "text": [
      "Loading required package: nlme\n",
      "Loading required package: nnet\n",
      "Loading required package: survival\n"
     ]
    },
    {
     "name": "stdout",
     "output_type": "stream",
     "text": [
      "[1] \"/home/twj8/projects/bart_survival_paper/notebook\"\n",
      "*****Calling gbart: type=2\n",
      "*****Data:\n",
      "data:n,p,np: 554, 1, 5\n",
      "y1,yn: 1.000000, 1.000000\n",
      "x1,x[n*p]: 1.000000, 1.000000\n",
      "xp1,xp[np*p]: 1.000000, 5.000000\n",
      "*****Number of Trees: 50\n",
      "*****Number of Cut Points: 4 ... 4\n",
      "*****burn,nd,thin: 250,1670,10\n",
      "*****Prior:beta,alpha,tau,nu,lambda,offset: 2,0.95,0.212132,3,1,-0.346134\n",
      "*****Dirichlet:sparse,theta,omega,a,b,rho,augment: 0,0,1,0.5,1,1,0\n",
      "*****printevery: 100\n",
      "\n",
      "MCMC\n",
      "done 0 (out of 1920)\n",
      "done 100 (out of 1920)\n",
      "done 200 (out of 1920)\n",
      "done 300 (out of 1920)\n",
      "done 400 (out of 1920)\n",
      "done 500 (out of 1920)\n",
      "done 600 (out of 1920)\n",
      "done 700 (out of 1920)\n",
      "done 800 (out of 1920)\n",
      "done 900 (out of 1920)\n",
      "done 1000 (out of 1920)\n",
      "done 1100 (out of 1920)\n",
      "done 1200 (out of 1920)\n",
      "done 1300 (out of 1920)\n",
      "done 1400 (out of 1920)\n",
      "done 1500 (out of 1920)\n",
      "done 1600 (out of 1920)\n",
      "done 1700 (out of 1920)\n",
      "done 1800 (out of 1920)\n",
      "done 1900 (out of 1920)\n",
      "time: 3s\n",
      "trcnt,tecnt: 167,167\n",
      "List of 24\n",
      " $ yhat.train     : num [1:167, 1:554] -0.416 -0.308 -0.277 -0.371 -0.428 ...\n",
      " $ yhat.test      : num [1:1002, 1:5] -0.416 -0.308 -0.277 -0.371 -0.428 ...\n",
      " $ varcount       : int [1:1002, 1] 46 51 56 63 59 56 54 49 52 59 ...\n",
      "  ..- attr(*, \"dimnames\")=List of 2\n",
      "  .. ..$ : NULL\n",
      "  .. ..$ : chr \"t\"\n",
      " $ varprob        : num [1:1002, 1] 1 1 1 1 1 1 1 1 1 1 ...\n",
      "  ..- attr(*, \"dimnames\")=List of 2\n",
      "  .. ..$ : NULL\n",
      "  .. ..$ : chr \"t\"\n",
      " $ treedraws      :List of 2\n",
      "  ..$ cutpoints:List of 1\n",
      "  .. ..$ t: num [1:4] 1.5 2.5 3.5 4.5\n",
      "  ..$ trees    : chr \"1002 50 1\\n3\\n1 0 0 0.1555290137\\n2 0 0 -0.4683806526\\n3 0 0 0.2103309559\\n1\\n1 0 0 0.02857130112\\n1\\n1 0 0 0.0\"| __truncated__\n",
      " $ proc.time      : 'proc_time' Named num [1:5] 14.31 0.093 2.618 0 0\n",
      "  ..- attr(*, \"names\")= chr [1:5] \"user.self\" \"sys.self\" \"elapsed\" \"user.child\" ...\n",
      " $ hostname       : logi FALSE\n",
      " $ prob.train     : num [1:167, 1:554] 0.339 0.379 0.391 0.355 0.334 ...\n",
      " $ prob.train.mean: num [1:554] 0.376 0.376 0.376 0.376 0.376 ...\n",
      " $ LPML           : num -366\n",
      " $ prob.test      : num [1:1002, 1:5] 0.339 0.379 0.391 0.355 0.334 ...\n",
      " $ prob.test.mean : num [1:5] 0.376 0.356 0.245 0.319 0.319\n",
      " $ ndpost         : num 1002\n",
      " $ offset         : num -0.346\n",
      " $ varcount.mean  : Named num 52.9\n",
      "  ..- attr(*, \"names\")= chr \"t\"\n",
      " $ varprob.mean   : Named num 1\n",
      "  ..- attr(*, \"names\")= chr \"t\"\n",
      " $ rm.const       : int 1\n",
      " $ times          : num [1:5] 1 2 3 4 5\n",
      " $ K              : int 5\n",
      " $ tx.train       : num [1:554, 1] 1 1 1 1 1 1 2 1 1 1 ...\n",
      "  ..- attr(*, \"dimnames\")=List of 2\n",
      "  .. ..$ : NULL\n",
      "  .. ..$ : chr \"t\"\n",
      " $ type           : chr \"pbart\"\n",
      " $ tx.test        : num [1:5, 1] 1 2 3 4 5\n",
      "  ..- attr(*, \"dimnames\")=List of 2\n",
      "  .. ..$ : NULL\n",
      "  .. ..$ : chr \"t\"\n",
      " $ surv.test      : num [1:1002, 1:5] 0.661 0.621 0.609 0.645 0.666 ...\n",
      " $ surv.test.mean : num [1:5] 0.623 0.399 0.302 0.209 0.149\n",
      " - attr(*, \"class\")= chr \"survbart\"\n",
      "mean shape 1.07\n",
      "mean scale 3.0669999999999993\n",
      "mean time draws 3.4269850329312135\n",
      "cens mean 10.1125\n",
      "(1217, 2)\n"
     ]
    },
    {
     "name": "stderr",
     "output_type": "stream",
     "text": [
      "Only 100 samples in chain.\n",
      "Multiprocess sampling (7 chains in 7 jobs)\n",
      "PGBART: [f]\n"
     ]
    },
    {
     "data": {
      "text/html": [
       "\n",
       "<style>\n",
       "    /* Turns off some styling */\n",
       "    progress {\n",
       "        /* gets rid of default border in Firefox and Opera. */\n",
       "        border: none;\n",
       "        /* Needs to be in here for Safari polyfill so background images work as expected. */\n",
       "        background-size: auto;\n",
       "    }\n",
       "    progress:not([value]), progress:not([value])::-webkit-progress-bar {\n",
       "        background: repeating-linear-gradient(45deg, #7e7e7e, #7e7e7e 10px, #5c5c5c 10px, #5c5c5c 20px);\n",
       "    }\n",
       "    .progress-bar-interrupted, .progress-bar-interrupted::-webkit-progress-bar {\n",
       "        background: #F44336;\n",
       "    }\n",
       "</style>\n"
      ],
      "text/plain": [
       "<IPython.core.display.HTML object>"
      ]
     },
     "metadata": {},
     "output_type": "display_data"
    },
    {
     "data": {
      "text/html": [
       "\n",
       "    <div>\n",
       "      <progress value='875' class='' max='875' style='width:300px; height:20px; vertical-align: middle;'></progress>\n",
       "      100.00% [875/875 00:09&lt;00:00 Sampling 7 chains, 0 divergences]\n",
       "    </div>\n",
       "    "
      ],
      "text/plain": [
       "<IPython.core.display.HTML object>"
      ]
     },
     "metadata": {},
     "output_type": "display_data"
    },
    {
     "name": "stderr",
     "output_type": "stream",
     "text": [
      "Sampling 7 chains for 25 tune and 100 draw iterations (175 + 700 draws total) took 10 seconds.\n",
      "Sampling: [f]\n"
     ]
    },
    {
     "data": {
      "text/html": [
       "\n",
       "<style>\n",
       "    /* Turns off some styling */\n",
       "    progress {\n",
       "        /* gets rid of default border in Firefox and Opera. */\n",
       "        border: none;\n",
       "        /* Needs to be in here for Safari polyfill so background images work as expected. */\n",
       "        background-size: auto;\n",
       "    }\n",
       "    progress:not([value]), progress:not([value])::-webkit-progress-bar {\n",
       "        background: repeating-linear-gradient(45deg, #7e7e7e, #7e7e7e 10px, #5c5c5c 10px, #5c5c5c 20px);\n",
       "    }\n",
       "    .progress-bar-interrupted, .progress-bar-interrupted::-webkit-progress-bar {\n",
       "        background: #F44336;\n",
       "    }\n",
       "</style>\n"
      ],
      "text/plain": [
       "<IPython.core.display.HTML object>"
      ]
     },
     "metadata": {},
     "output_type": "display_data"
    },
    {
     "data": {
      "text/html": [
       "\n",
       "    <div>\n",
       "      <progress value='700' class='' max='700' style='width:300px; height:20px; vertical-align: middle;'></progress>\n",
       "      100.00% [700/700 00:02&lt;00:00]\n",
       "    </div>\n",
       "    "
      ],
      "text/plain": [
       "<IPython.core.display.HTML object>"
      ]
     },
     "metadata": {},
     "output_type": "display_data"
    },
    {
     "name": "stderr",
     "output_type": "stream",
     "text": [
      "Loading required package: nlme\n",
      "Loading required package: nnet\n",
      "Loading required package: survival\n"
     ]
    },
    {
     "name": "stdout",
     "output_type": "stream",
     "text": [
      "[1] \"/home/twj8/projects/bart_survival_paper/notebook\"\n",
      "*****Calling gbart: type=2\n",
      "*****Data:\n",
      "data:n,p,np: 1217, 2, 32\n",
      "y1,yn: 0.000000, 1.000000\n",
      "x1,x[n*p]: 1.000000, 1.000000\n",
      "xp1,xp[np*p]: 1.000000, 1.000000\n",
      "*****Number of Trees: 50\n",
      "*****Number of Cut Points: 15 ... 1\n",
      "*****burn,nd,thin: 250,1670,10\n",
      "*****Prior:beta,alpha,tau,nu,lambda,offset: 2,0.95,0.212132,3,1,-0.669972\n",
      "*****Dirichlet:sparse,theta,omega,a,b,rho,augment: 0,0,1,0.5,1,2,0\n",
      "*****printevery: 100\n",
      "\n",
      "MCMC\n",
      "done 0 (out of 1920)\n",
      "done 100 (out of 1920)\n",
      "done 200 (out of 1920)\n",
      "done 300 (out of 1920)\n",
      "done 400 (out of 1920)\n",
      "done 500 (out of 1920)\n",
      "done 600 (out of 1920)\n",
      "done 700 (out of 1920)\n",
      "done 800 (out of 1920)\n",
      "done 900 (out of 1920)\n",
      "done 1000 (out of 1920)\n",
      "done 1100 (out of 1920)\n",
      "done 1200 (out of 1920)\n",
      "done 1300 (out of 1920)\n",
      "done 1400 (out of 1920)\n",
      "done 1500 (out of 1920)\n",
      "done 1600 (out of 1920)\n",
      "done 1700 (out of 1920)\n",
      "done 1800 (out of 1920)\n",
      "done 1900 (out of 1920)\n",
      "time: 7s\n",
      "trcnt,tecnt: 167,167\n",
      "mean shape 1.07\n",
      "mean scale 3.0669999999999993\n",
      "mean time draws 3.138875443261578\n",
      "cens mean 9.5125\n",
      "(1109, 2)\n"
     ]
    },
    {
     "name": "stderr",
     "output_type": "stream",
     "text": [
      "Only 100 samples in chain.\n",
      "Multiprocess sampling (7 chains in 7 jobs)\n",
      "PGBART: [f]\n"
     ]
    },
    {
     "data": {
      "text/html": [
       "\n",
       "<style>\n",
       "    /* Turns off some styling */\n",
       "    progress {\n",
       "        /* gets rid of default border in Firefox and Opera. */\n",
       "        border: none;\n",
       "        /* Needs to be in here for Safari polyfill so background images work as expected. */\n",
       "        background-size: auto;\n",
       "    }\n",
       "    progress:not([value]), progress:not([value])::-webkit-progress-bar {\n",
       "        background: repeating-linear-gradient(45deg, #7e7e7e, #7e7e7e 10px, #5c5c5c 10px, #5c5c5c 20px);\n",
       "    }\n",
       "    .progress-bar-interrupted, .progress-bar-interrupted::-webkit-progress-bar {\n",
       "        background: #F44336;\n",
       "    }\n",
       "</style>\n"
      ],
      "text/plain": [
       "<IPython.core.display.HTML object>"
      ]
     },
     "metadata": {},
     "output_type": "display_data"
    },
    {
     "data": {
      "text/html": [
       "\n",
       "    <div>\n",
       "      <progress value='875' class='' max='875' style='width:300px; height:20px; vertical-align: middle;'></progress>\n",
       "      100.00% [875/875 00:08&lt;00:00 Sampling 7 chains, 0 divergences]\n",
       "    </div>\n",
       "    "
      ],
      "text/plain": [
       "<IPython.core.display.HTML object>"
      ]
     },
     "metadata": {},
     "output_type": "display_data"
    },
    {
     "name": "stderr",
     "output_type": "stream",
     "text": [
      "Sampling 7 chains for 25 tune and 100 draw iterations (175 + 700 draws total) took 9 seconds.\n",
      "Sampling: [f]\n"
     ]
    },
    {
     "data": {
      "text/html": [
       "\n",
       "<style>\n",
       "    /* Turns off some styling */\n",
       "    progress {\n",
       "        /* gets rid of default border in Firefox and Opera. */\n",
       "        border: none;\n",
       "        /* Needs to be in here for Safari polyfill so background images work as expected. */\n",
       "        background-size: auto;\n",
       "    }\n",
       "    progress:not([value]), progress:not([value])::-webkit-progress-bar {\n",
       "        background: repeating-linear-gradient(45deg, #7e7e7e, #7e7e7e 10px, #5c5c5c 10px, #5c5c5c 20px);\n",
       "    }\n",
       "    .progress-bar-interrupted, .progress-bar-interrupted::-webkit-progress-bar {\n",
       "        background: #F44336;\n",
       "    }\n",
       "</style>\n"
      ],
      "text/plain": [
       "<IPython.core.display.HTML object>"
      ]
     },
     "metadata": {},
     "output_type": "display_data"
    },
    {
     "data": {
      "text/html": [
       "\n",
       "    <div>\n",
       "      <progress value='700' class='' max='700' style='width:300px; height:20px; vertical-align: middle;'></progress>\n",
       "      100.00% [700/700 00:03&lt;00:00]\n",
       "    </div>\n",
       "    "
      ],
      "text/plain": [
       "<IPython.core.display.HTML object>"
      ]
     },
     "metadata": {},
     "output_type": "display_data"
    },
    {
     "name": "stderr",
     "output_type": "stream",
     "text": [
      "Loading required package: nlme\n",
      "Loading required package: nnet\n",
      "Loading required package: survival\n"
     ]
    },
    {
     "name": "stdout",
     "output_type": "stream",
     "text": [
      "[1] \"/home/twj8/projects/bart_survival_paper/notebook\"\n",
      "*****Calling gbart: type=2\n",
      "*****Data:\n",
      "data:n,p,np: 1109, 2, 22\n",
      "y1,yn: 0.000000, 0.000000\n",
      "x1,x[n*p]: 1.000000, 1.000000\n",
      "xp1,xp[np*p]: 1.000000, 1.000000\n",
      "*****Number of Trees: 50\n",
      "*****Number of Cut Points: 10 ... 1\n",
      "*****burn,nd,thin: 250,1670,10\n",
      "*****Prior:beta,alpha,tau,nu,lambda,offset: 2,0.95,0.212132,3,1,-0.603106\n",
      "*****Dirichlet:sparse,theta,omega,a,b,rho,augment: 0,0,1,0.5,1,2,0\n",
      "*****printevery: 100\n",
      "\n",
      "MCMC\n",
      "done 0 (out of 1920)\n",
      "done 100 (out of 1920)\n",
      "done 200 (out of 1920)\n",
      "done 300 (out of 1920)\n",
      "done 400 (out of 1920)\n",
      "done 500 (out of 1920)\n",
      "done 600 (out of 1920)\n",
      "done 700 (out of 1920)\n",
      "done 800 (out of 1920)\n",
      "done 900 (out of 1920)\n",
      "done 1000 (out of 1920)\n",
      "done 1100 (out of 1920)\n",
      "done 1200 (out of 1920)\n",
      "done 1300 (out of 1920)\n",
      "done 1400 (out of 1920)\n",
      "done 1500 (out of 1920)\n",
      "done 1600 (out of 1920)\n",
      "done 1700 (out of 1920)\n",
      "done 1800 (out of 1920)\n",
      "done 1900 (out of 1920)\n",
      "time: 7s\n",
      "trcnt,tecnt: 167,167\n",
      "mean shape 1.07\n",
      "mean scale 3.0669999999999993\n",
      "mean time draws 3.4269850329312135\n",
      "cens mean 2.7925\n",
      "(758, 2)\n"
     ]
    },
    {
     "name": "stderr",
     "output_type": "stream",
     "text": [
      "Only 100 samples in chain.\n",
      "Multiprocess sampling (7 chains in 7 jobs)\n",
      "PGBART: [f]\n"
     ]
    },
    {
     "data": {
      "text/html": [
       "\n",
       "<style>\n",
       "    /* Turns off some styling */\n",
       "    progress {\n",
       "        /* gets rid of default border in Firefox and Opera. */\n",
       "        border: none;\n",
       "        /* Needs to be in here for Safari polyfill so background images work as expected. */\n",
       "        background-size: auto;\n",
       "    }\n",
       "    progress:not([value]), progress:not([value])::-webkit-progress-bar {\n",
       "        background: repeating-linear-gradient(45deg, #7e7e7e, #7e7e7e 10px, #5c5c5c 10px, #5c5c5c 20px);\n",
       "    }\n",
       "    .progress-bar-interrupted, .progress-bar-interrupted::-webkit-progress-bar {\n",
       "        background: #F44336;\n",
       "    }\n",
       "</style>\n"
      ],
      "text/plain": [
       "<IPython.core.display.HTML object>"
      ]
     },
     "metadata": {},
     "output_type": "display_data"
    },
    {
     "data": {
      "text/html": [
       "\n",
       "    <div>\n",
       "      <progress value='875' class='' max='875' style='width:300px; height:20px; vertical-align: middle;'></progress>\n",
       "      100.00% [875/875 00:06&lt;00:00 Sampling 7 chains, 0 divergences]\n",
       "    </div>\n",
       "    "
      ],
      "text/plain": [
       "<IPython.core.display.HTML object>"
      ]
     },
     "metadata": {},
     "output_type": "display_data"
    },
    {
     "name": "stderr",
     "output_type": "stream",
     "text": [
      "Sampling 7 chains for 25 tune and 100 draw iterations (175 + 700 draws total) took 7 seconds.\n",
      "Sampling: [f]\n"
     ]
    },
    {
     "data": {
      "text/html": [
       "\n",
       "<style>\n",
       "    /* Turns off some styling */\n",
       "    progress {\n",
       "        /* gets rid of default border in Firefox and Opera. */\n",
       "        border: none;\n",
       "        /* Needs to be in here for Safari polyfill so background images work as expected. */\n",
       "        background-size: auto;\n",
       "    }\n",
       "    progress:not([value]), progress:not([value])::-webkit-progress-bar {\n",
       "        background: repeating-linear-gradient(45deg, #7e7e7e, #7e7e7e 10px, #5c5c5c 10px, #5c5c5c 20px);\n",
       "    }\n",
       "    .progress-bar-interrupted, .progress-bar-interrupted::-webkit-progress-bar {\n",
       "        background: #F44336;\n",
       "    }\n",
       "</style>\n"
      ],
      "text/plain": [
       "<IPython.core.display.HTML object>"
      ]
     },
     "metadata": {},
     "output_type": "display_data"
    },
    {
     "data": {
      "text/html": [
       "\n",
       "    <div>\n",
       "      <progress value='700' class='' max='700' style='width:300px; height:20px; vertical-align: middle;'></progress>\n",
       "      100.00% [700/700 00:02&lt;00:00]\n",
       "    </div>\n",
       "    "
      ],
      "text/plain": [
       "<IPython.core.display.HTML object>"
      ]
     },
     "metadata": {},
     "output_type": "display_data"
    },
    {
     "name": "stderr",
     "output_type": "stream",
     "text": [
      "Loading required package: nlme\n",
      "Loading required package: nnet\n",
      "Loading required package: survival\n"
     ]
    },
    {
     "name": "stdout",
     "output_type": "stream",
     "text": [
      "[1] \"/home/twj8/projects/bart_survival_paper/notebook\"\n",
      "*****Calling gbart: type=2\n",
      "*****Data:\n",
      "data:n,p,np: 758, 2, 20\n",
      "y1,yn: 0.000000, 1.000000\n",
      "x1,x[n*p]: 1.000000, 1.000000\n",
      "xp1,xp[np*p]: 1.000000, 1.000000\n",
      "*****Number of Trees: 50\n",
      "*****Number of Cut Points: 9 ... 1\n",
      "*****burn,nd,thin: 250,1670,10\n",
      "*****Prior:beta,alpha,tau,nu,lambda,offset: 2,0.95,0.212132,3,1,-0.718749\n",
      "*****Dirichlet:sparse,theta,omega,a,b,rho,augment: 0,0,1,0.5,1,2,0\n",
      "*****printevery: 100\n",
      "\n",
      "MCMC\n",
      "done 0 (out of 1920)\n",
      "done 100 (out of 1920)\n",
      "done 200 (out of 1920)\n",
      "done 300 (out of 1920)\n",
      "done 400 (out of 1920)\n",
      "done 500 (out of 1920)\n",
      "done 600 (out of 1920)\n",
      "done 700 (out of 1920)\n",
      "done 800 (out of 1920)\n",
      "done 900 (out of 1920)\n",
      "done 1000 (out of 1920)\n",
      "done 1100 (out of 1920)\n",
      "done 1200 (out of 1920)\n",
      "done 1300 (out of 1920)\n",
      "done 1400 (out of 1920)\n",
      "done 1500 (out of 1920)\n",
      "done 1600 (out of 1920)\n",
      "done 1700 (out of 1920)\n",
      "done 1800 (out of 1920)\n",
      "done 1900 (out of 1920)\n",
      "time: 3s\n",
      "trcnt,tecnt: 167,167\n",
      "mean shape 1.07\n",
      "mean scale 3.0669999999999993\n",
      "mean time draws 3.138875443261578\n",
      "cens mean 2.6275\n",
      "(710, 2)\n"
     ]
    },
    {
     "name": "stderr",
     "output_type": "stream",
     "text": [
      "Only 100 samples in chain.\n",
      "Multiprocess sampling (7 chains in 7 jobs)\n",
      "PGBART: [f]\n"
     ]
    },
    {
     "data": {
      "text/html": [
       "\n",
       "<style>\n",
       "    /* Turns off some styling */\n",
       "    progress {\n",
       "        /* gets rid of default border in Firefox and Opera. */\n",
       "        border: none;\n",
       "        /* Needs to be in here for Safari polyfill so background images work as expected. */\n",
       "        background-size: auto;\n",
       "    }\n",
       "    progress:not([value]), progress:not([value])::-webkit-progress-bar {\n",
       "        background: repeating-linear-gradient(45deg, #7e7e7e, #7e7e7e 10px, #5c5c5c 10px, #5c5c5c 20px);\n",
       "    }\n",
       "    .progress-bar-interrupted, .progress-bar-interrupted::-webkit-progress-bar {\n",
       "        background: #F44336;\n",
       "    }\n",
       "</style>\n"
      ],
      "text/plain": [
       "<IPython.core.display.HTML object>"
      ]
     },
     "metadata": {},
     "output_type": "display_data"
    },
    {
     "data": {
      "text/html": [
       "\n",
       "    <div>\n",
       "      <progress value='875' class='' max='875' style='width:300px; height:20px; vertical-align: middle;'></progress>\n",
       "      100.00% [875/875 00:07&lt;00:00 Sampling 7 chains, 0 divergences]\n",
       "    </div>\n",
       "    "
      ],
      "text/plain": [
       "<IPython.core.display.HTML object>"
      ]
     },
     "metadata": {},
     "output_type": "display_data"
    },
    {
     "name": "stderr",
     "output_type": "stream",
     "text": [
      "Sampling 7 chains for 25 tune and 100 draw iterations (175 + 700 draws total) took 8 seconds.\n",
      "Sampling: [f]\n"
     ]
    },
    {
     "data": {
      "text/html": [
       "\n",
       "<style>\n",
       "    /* Turns off some styling */\n",
       "    progress {\n",
       "        /* gets rid of default border in Firefox and Opera. */\n",
       "        border: none;\n",
       "        /* Needs to be in here for Safari polyfill so background images work as expected. */\n",
       "        background-size: auto;\n",
       "    }\n",
       "    progress:not([value]), progress:not([value])::-webkit-progress-bar {\n",
       "        background: repeating-linear-gradient(45deg, #7e7e7e, #7e7e7e 10px, #5c5c5c 10px, #5c5c5c 20px);\n",
       "    }\n",
       "    .progress-bar-interrupted, .progress-bar-interrupted::-webkit-progress-bar {\n",
       "        background: #F44336;\n",
       "    }\n",
       "</style>\n"
      ],
      "text/plain": [
       "<IPython.core.display.HTML object>"
      ]
     },
     "metadata": {},
     "output_type": "display_data"
    },
    {
     "data": {
      "text/html": [
       "\n",
       "    <div>\n",
       "      <progress value='700' class='' max='700' style='width:300px; height:20px; vertical-align: middle;'></progress>\n",
       "      100.00% [700/700 00:03&lt;00:00]\n",
       "    </div>\n",
       "    "
      ],
      "text/plain": [
       "<IPython.core.display.HTML object>"
      ]
     },
     "metadata": {},
     "output_type": "display_data"
    },
    {
     "name": "stderr",
     "output_type": "stream",
     "text": [
      "Loading required package: nlme\n",
      "Loading required package: nnet\n",
      "Loading required package: survival\n"
     ]
    },
    {
     "name": "stdout",
     "output_type": "stream",
     "text": [
      "[1] \"/home/twj8/projects/bart_survival_paper/notebook\"\n",
      "*****Calling gbart: type=2\n",
      "*****Data:\n",
      "data:n,p,np: 710, 2, 14\n",
      "y1,yn: 0.000000, 0.000000\n",
      "x1,x[n*p]: 1.000000, 1.000000\n",
      "xp1,xp[np*p]: 1.000000, 1.000000\n",
      "*****Number of Trees: 50\n",
      "*****Number of Cut Points: 6 ... 1\n",
      "*****burn,nd,thin: 250,1670,10\n",
      "*****Prior:beta,alpha,tau,nu,lambda,offset: 2,0.95,0.212132,3,1,-0.594597\n",
      "*****Dirichlet:sparse,theta,omega,a,b,rho,augment: 0,0,1,0.5,1,2,0\n",
      "*****printevery: 100\n",
      "\n",
      "MCMC\n",
      "done 0 (out of 1920)\n",
      "done 100 (out of 1920)\n",
      "done 200 (out of 1920)\n",
      "done 300 (out of 1920)\n",
      "done 400 (out of 1920)\n",
      "done 500 (out of 1920)\n",
      "done 600 (out of 1920)\n",
      "done 700 (out of 1920)\n",
      "done 800 (out of 1920)\n",
      "done 900 (out of 1920)\n",
      "done 1000 (out of 1920)\n",
      "done 1100 (out of 1920)\n",
      "done 1200 (out of 1920)\n",
      "done 1300 (out of 1920)\n",
      "done 1400 (out of 1920)\n",
      "done 1500 (out of 1920)\n",
      "done 1600 (out of 1920)\n",
      "done 1700 (out of 1920)\n",
      "done 1800 (out of 1920)\n",
      "done 1900 (out of 1920)\n",
      "time: 4s\n",
      "trcnt,tecnt: 167,167\n"
     ]
    },
    {
     "data": {
      "image/png": "[encoded data removed]",
      "text/plain": [
       "<Figure size 800x800 with 1 Axes>"
      ]
     },
     "metadata": {},
     "output_type": "display_data"
    },
    {
     "data": {
      "image/png": "[encoded data removed]",
      "text/plain": [
       "<Figure size 800x800 with 1 Axes>"
      ]
     },
     "metadata": {},
     "output_type": "display_data"
    },
    {
     "data": {
      "image/png": "[encoded data removed]",
      "text/plain": [
       "<Figure size 1600x800 with 2 Axes>"
      ]
     },
     "metadata": {},
     "output_type": "display_data"
    },
    {
     "data": {
      "image/png": "[encoded data removed]",
      "text/plain": [
       "<Figure size 1600x800 with 2 Axes>"
      ]
     },
     "metadata": {},
     "output_type": "display_data"
    },
    {
     "data": {
      "image/png": "[encoded data removed]",
      "text/plain": [
       "<Figure size 800x800 with 1 Axes>"
      ]
     },
     "metadata": {},
     "output_type": "display_data"
    },
    {
     "data": {
      "image/png": "[encoded data removed]",
      "text/plain": [
       "<Figure size 800x800 with 1 Axes>"
      ]
     },
     "metadata": {},
     "output_type": "display_data"
    },
    {
     "data": {
      "image/png": "[encoded data removed]",
      "text/plain": [
       "<Figure size 1600x800 with 2 Axes>"
      ]
     },
     "metadata": {},
     "output_type": "display_data"
    },
    {
     "data": {
      "image/png": "[encoded data removed]",
      "text/plain": [
       "<Figure size 1600x800 with 2 Axes>"
      ]
     },
     "metadata": {},
     "output_type": "display_data"
    },
    {
     "data": {
      "image/png": "[encoded data removed]",
      "text/plain": [
       "<Figure size 800x800 with 1 Axes>"
      ]
     },
     "metadata": {},
     "output_type": "display_data"
    },
    {
     "data": {
      "image/png": "[encoded data removed]",
      "text/plain": [
       "<Figure size 800x800 with 1 Axes>"
      ]
     },
     "metadata": {},
     "output_type": "display_data"
    },
    {
     "data": {
      "image/png": "[encoded data removed]",
      "text/plain": [
       "<Figure size 1600x800 with 2 Axes>"
      ]
     },
     "metadata": {},
     "output_type": "display_data"
    },
    {
     "data": {
      "image/png": "[encoded data removed]",
      "text/plain": [
       "<Figure size 1600x800 with 2 Axes>"
      ]
     },
     "metadata": {},
     "output_type": "display_data"
    }
   ],
   "source": [
    "# for i in cn.N:\n",
    "ml.start_run(run_name=\"run4\")\n",
    "ml.log_dict({\"iters\":iters}, \"iters.json\")\n",
    "\n",
    "for N in cn.N:\n",
    "    \n",
    "    # cond 1_1\n",
    "    meta,cens, k,p,r,fig = si.iter_simulation_1s(\n",
    "        iters=iters, \n",
    "        n=N,\n",
    "        scenario= cn.simple_1_1, \n",
    "        SPLIT_RULES=SPLIT_RULES1, \n",
    "        model_dict=model_dict1, \n",
    "        sampler_dict=sampler_dict1\n",
    "    )\n",
    "    log_params(\"1_1\", N, cn.simple_1_1, model_dict1, sampler_dict1)\n",
    "    log_mets(\"1_1\", N, cens, k, p, r)\n",
    "    log_figures(\"1_1\",N,fig)\n",
    "\n",
    "    # cond 1_2\n",
    "    meta, cens,k,p,r, fig= si.iter_simulation_1s(\n",
    "        iters=iters, \n",
    "        n=N,\n",
    "        scenario= cn.simple_1_2, \n",
    "        SPLIT_RULES=SPLIT_RULES1, \n",
    "        model_dict=model_dict1, \n",
    "        sampler_dict=sampler_dict1\n",
    "    )\n",
    "    log_params(\"1_2\", N, cn.simple_1_2, model_dict1, sampler_dict1)\n",
    "    log_mets(\"1_2\", N, cens, k, p, r)\n",
    "    log_figures(\"1_2\",N,fig)\n",
    "    # cond 2_1\n",
    "    meta, cens,k,p,r,fig = si.iter_simulation_2s(\n",
    "        iters=iters, \n",
    "        n=N,\n",
    "        scenario= cn.simple_2_1, \n",
    "        SPLIT_RULES=SPLIT_RULES2, \n",
    "        model_dict=model_dict2, \n",
    "        sampler_dict=sampler_dict2\n",
    "    )\n",
    "    log_params(\"2_1\", N, cn.simple_2_1, model_dict2, sampler_dict2)\n",
    "    log_mets(\"2_1\", N, cens, k, p, r)\n",
    "    log_figures(\"2_1\",N,fig)\n",
    "\n",
    "    #cond 2_2\n",
    "    meta, cens,k,p,r,fig = si.iter_simulation_2s(\n",
    "        iters=iters, \n",
    "        n=N,\n",
    "        scenario= cn.simple_2_2, \n",
    "        SPLIT_RULES=SPLIT_RULES2, \n",
    "        model_dict=model_dict2, \n",
    "        sampler_dict=sampler_dict2\n",
    "    )\n",
    "    log_params(\"2_1\", N, cn.simple_2_2, model_dict2, sampler_dict2)\n",
    "    log_mets(\"2_2\", N, cens, k, p, r)\n",
    "    log_figures(\"2_2\",N,fig)\n",
    "\n",
    "ml.end_run()\n"
   ]
  },
  {
   "cell_type": "code",
   "execution_count": 13,
   "metadata": {},
   "outputs": [],
   "source": [
    "ml.end_run()"
   ]
  },
  {
   "cell_type": "code",
   "execution_count": 7,
   "metadata": {},
   "outputs": [],
   "source": [
    "import multiprocessing as mp"
   ]
  },
  {
   "cell_type": "code",
   "execution_count": 9,
   "metadata": {},
   "outputs": [],
   "source": [
    "mp.parent_process()\n"
   ]
  }
 ],
 "metadata": {
  "kernelspec": {
   "display_name": "Python 3.10.12 ('.paper_venv': venv)",
   "language": "python",
   "name": "python3"
  },
  "language_info": {
   "codemirror_mode": {
    "name": "ipython",
    "version": 3
   },
   "file_extension": ".py",
   "mimetype": "text/x-python",
   "name": "python",
   "nbconvert_exporter": "python",
   "pygments_lexer": "ipython3",
   "version": "3.10.12"
  },
  "orig_nbformat": 4,
  "vscode": {
   "interpreter": {
    "hash": "e45457e90195d1585fce856b4f6dbb6d2ca5f521e76b59d4cfa3c981e92b93bd"
   }
  }
 },
 "nbformat": 4,
 "nbformat_minor": 2
}
