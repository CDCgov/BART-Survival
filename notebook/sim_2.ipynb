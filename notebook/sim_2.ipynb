{
 "cells": [
  {
   "cell_type": "code",
   "execution_count": 1,
   "metadata": {},
   "outputs": [
    {
     "name": "stderr",
     "output_type": "stream",
     "text": [
      "WARNING (pytensor.tensor.blas): Using NumPy C-API based implementation for BLAS functions.\n"
     ]
    }
   ],
   "source": [
    "import sys\n",
    "sys.path.append(\"../py/\")\n",
    "\n",
    "import numpy as np\n",
    "import subprocess\n",
    "import importlib\n",
    "import mlflow as ml\n",
    "\n",
    "import _conditions1 as cn\n",
    "import _functions1 as fn\n",
    "import _sim_iter1 as si"
   ]
  },
  {
   "cell_type": "code",
   "execution_count": 2,
   "metadata": {},
   "outputs": [
    {
     "data": {
      "text/plain": [
       "<module '_functions1' from '/home/twj8/projects/bart_survival_paper/notebook/../py/_functions1.py'>"
      ]
     },
     "execution_count": 2,
     "metadata": {},
     "output_type": "execute_result"
    }
   ],
   "source": [
    "importlib.reload(si)\n",
    "importlib.reload(cn)\n",
    "importlib.reload(fn)"
   ]
  },
  {
   "cell_type": "code",
   "execution_count": 3,
   "metadata": {},
   "outputs": [],
   "source": [
    "exp_name = \"test1\"\n",
    "\n",
    "if ml.get_experiment_by_name(exp_name) == None:\n",
    "    exp_id = ml.create_experiment(exp_name)\n",
    "else:\n",
    "    exp_id = ml.set_experiment(exp_name)"
   ]
  },
  {
   "cell_type": "markdown",
   "metadata": {},
   "source": [
    "# Scenario 1"
   ]
  },
  {
   "cell_type": "code",
   "execution_count": 4,
   "metadata": {},
   "outputs": [
    {
     "data": {
      "text/plain": [
       "<Experiment: artifact_location='file:///home/twj8/projects/bart_survival_paper/notebook/mlruns/584866594852049595', creation_time=1709754375410, experiment_id='584866594852049595', last_update_time=1709754375410, lifecycle_stage='active', name='test1', tags={}>"
      ]
     },
     "execution_count": 4,
     "metadata": {},
     "output_type": "execute_result"
    }
   ],
   "source": [
    "exp_id"
   ]
  },
  {
   "cell_type": "code",
   "execution_count": 5,
   "metadata": {},
   "outputs": [],
   "source": [
    "iters = 5\n",
    "\n",
    "# Cond 1\n",
    "SPLIT_RULES1 =  [\n",
    "    \"pmb.ContinuousSplitRule()\", \n",
    "]\n",
    "model_dict1 = {\"trees\": 20,\n",
    "    \"split_rules\": SPLIT_RULES1\n",
    "}\n",
    "sampler_dict1 = {\n",
    "            \"draws\": 250,\n",
    "            \"tune\": 20,\n",
    "            \"cores\": 7,\n",
    "            \"chains\": 7,\n",
    "            \"compute_convergence_checks\": False\n",
    "        }\n",
    "\n",
    "# Cond 2\n",
    "SPLIT_RULES2 =  [\n",
    "    \"pmb.ContinuousSplitRule()\", \n",
    "    \"pmb.OneHotSplitRule()\"\n",
    "]\n",
    "model_dict2 = {\"trees\": 20,\n",
    "    \"split_rules\": SPLIT_RULES2\n",
    "}\n",
    "sampler_dict2 = {\n",
    "            \"draws\": 2500,\n",
    "            \"tune\": 20,\n",
    "            \"cores\": 7,\n",
    "            \"chains\": 7,\n",
    "            \"compute_convergence_checks\": False\n",
    "        }"
   ]
  },
  {
   "cell_type": "code",
   "execution_count": 6,
   "metadata": {},
   "outputs": [],
   "source": [
    "def log_params(name, n, scenario, model_dict, sampler_dict):\n",
    "    n_dict = {\"N\":n}\n",
    "    oname = f\"{name}_{n}_n.json\"\n",
    "    ml.log_dict(n_dict, oname)\n",
    "    oname = f\"{name}_{n}_scenario.json\"\n",
    "    ml.log_dict(scenario, oname)\n",
    "    oname = f\"{name}_{n}_model_dict.json\"\n",
    "    ml.log_dict(model_dict, oname)\n",
    "    oname = f\"{name}_{n}_sampler_dict.json\"\n",
    "    ml.log_dict(sampler_dict, oname)\n",
    "\n",
    "\n",
    "def log_mets(name, n, cens, k, p, r):\n",
    "    cens = {\"cens_retrieved\":cens}\n",
    "    oname = f\"{name}_{n}_cens.json\"\n",
    "    ml.log_dict(cens, oname)\n",
    "    k = dict([(i,k[i].tolist()) for i in k.keys()])\n",
    "    oname = f\"{name}_{n}_met_k.json\"\n",
    "    ml.log_dict(k, oname)\n",
    "    p = dict([(i,p[i].tolist()) for i in p.keys()])\n",
    "    oname = f\"{name}_{n}_met_p.json\"\n",
    "    ml.log_dict(p, oname)\n",
    "    r = dict([(i,r[i].tolist()) for i in r.keys()])\n",
    "    oname = f\"{name}_{n}_met_r.json\"\n",
    "    ml.log_dict(r, oname)\n",
    "\n",
    "\n",
    "def log_figures(name, n, fig):\n",
    "    oname = f\"{name}_{n}.png\"\n",
    "    ml.log_figure(fig, oname)"
   ]
  },
  {
   "cell_type": "code",
   "execution_count": 7,
   "metadata": {},
   "outputs": [
    {
     "name": "stdout",
     "output_type": "stream",
     "text": [
      "mean shape 0.7999999999999998\n",
      "mean scale 2.5\n",
      "mean time draws 2.1245408041070735\n",
      "cens mean 8.96\n",
      "(217, 1)\n"
     ]
    },
    {
     "name": "stderr",
     "output_type": "stream",
     "text": [
      "Only 250 samples in chain.\n",
      "Multiprocess sampling (7 chains in 7 jobs)\n",
      "PGBART: [f]\n"
     ]
    },
    {
     "data": {
      "text/html": [
       "\n",
       "<style>\n",
       "    /* Turns off some styling */\n",
       "    progress {\n",
       "        /* gets rid of default border in Firefox and Opera. */\n",
       "        border: none;\n",
       "        /* Needs to be in here for Safari polyfill so background images work as expected. */\n",
       "        background-size: auto;\n",
       "    }\n",
       "    progress:not([value]), progress:not([value])::-webkit-progress-bar {\n",
       "        background: repeating-linear-gradient(45deg, #7e7e7e, #7e7e7e 10px, #5c5c5c 10px, #5c5c5c 20px);\n",
       "    }\n",
       "    .progress-bar-interrupted, .progress-bar-interrupted::-webkit-progress-bar {\n",
       "        background: #F44336;\n",
       "    }\n",
       "</style>\n"
      ],
      "text/plain": [
       "<IPython.core.display.HTML object>"
      ]
     },
     "metadata": {},
     "output_type": "display_data"
    },
    {
     "data": {
      "text/html": [
       "\n",
       "    <div>\n",
       "      <progress value='1890' class='' max='1890' style='width:300px; height:20px; vertical-align: middle;'></progress>\n",
       "      100.00% [1890/1890 00:11&lt;00:00 Sampling 7 chains, 0 divergences]\n",
       "    </div>\n",
       "    "
      ],
      "text/plain": [
       "<IPython.core.display.HTML object>"
      ]
     },
     "metadata": {},
     "output_type": "display_data"
    },
    {
     "name": "stderr",
     "output_type": "stream",
     "text": [
      "Sampling 7 chains for 20 tune and 250 draw iterations (140 + 1_750 draws total) took 12 seconds.\n",
      "Sampling: [f]\n"
     ]
    },
    {
     "data": {
      "text/html": [
       "\n",
       "<style>\n",
       "    /* Turns off some styling */\n",
       "    progress {\n",
       "        /* gets rid of default border in Firefox and Opera. */\n",
       "        border: none;\n",
       "        /* Needs to be in here for Safari polyfill so background images work as expected. */\n",
       "        background-size: auto;\n",
       "    }\n",
       "    progress:not([value]), progress:not([value])::-webkit-progress-bar {\n",
       "        background: repeating-linear-gradient(45deg, #7e7e7e, #7e7e7e 10px, #5c5c5c 10px, #5c5c5c 20px);\n",
       "    }\n",
       "    .progress-bar-interrupted, .progress-bar-interrupted::-webkit-progress-bar {\n",
       "        background: #F44336;\n",
       "    }\n",
       "</style>\n"
      ],
      "text/plain": [
       "<IPython.core.display.HTML object>"
      ]
     },
     "metadata": {},
     "output_type": "display_data"
    },
    {
     "data": {
      "text/html": [
       "\n",
       "    <div>\n",
       "      <progress value='1750' class='' max='1750' style='width:300px; height:20px; vertical-align: middle;'></progress>\n",
       "      100.00% [1750/1750 00:10&lt;00:00]\n",
       "    </div>\n",
       "    "
      ],
      "text/plain": [
       "<IPython.core.display.HTML object>"
      ]
     },
     "metadata": {},
     "output_type": "display_data"
    },
    {
     "name": "stderr",
     "output_type": "stream",
     "text": [
      "Loading required package: nlme\n",
      "Loading required package: nnet\n",
      "Loading required package: survival\n"
     ]
    },
    {
     "name": "stdout",
     "output_type": "stream",
     "text": [
      "[1] \"/home/twj8/projects/bart_survival_paper/notebook\"\n",
      "*****Calling gbart: type=2\n",
      "*****Data:\n",
      "data:n,p,np: 217, 1, 9\n",
      "y1,yn: 1.000000, 1.000000\n",
      "x1,x[n*p]: 1.000000, 1.000000\n",
      "xp1,xp[np*p]: 1.000000, 16.000000\n",
      "*****Number of Trees: 50\n",
      "*****Number of Cut Points: 8 ... 8\n",
      "*****burn,nd,thin: 250,1670,10\n",
      "*****Prior:beta,alpha,tau,nu,lambda,offset: 2,0.95,0.212132,3,1,-0.250962\n",
      "*****Dirichlet:sparse,theta,omega,a,b,rho,augment: 0,0,1,0.5,1,1,0\n",
      "*****printevery: 100\n",
      "\n",
      "MCMC\n",
      "done 0 (out of 1920)\n",
      "done 100 (out of 1920)\n",
      "done 200 (out of 1920)\n",
      "done 300 (out of 1920)\n",
      "done 400 (out of 1920)\n",
      "done 500 (out of 1920)\n",
      "done 600 (out of 1920)\n",
      "done 700 (out of 1920)\n",
      "done 800 (out of 1920)\n",
      "done 900 (out of 1920)\n",
      "done 1000 (out of 1920)\n",
      "done 1100 (out of 1920)\n",
      "done 1200 (out of 1920)\n",
      "done 1300 (out of 1920)\n",
      "done 1400 (out of 1920)\n",
      "done 1500 (out of 1920)\n",
      "done 1600 (out of 1920)\n",
      "done 1700 (out of 1920)\n",
      "done 1800 (out of 1920)\n",
      "done 1900 (out of 1920)\n",
      "time: 2s\n",
      "trcnt,tecnt: 167,167\n",
      "List of 24\n",
      " $ yhat.train     : num [1:167, 1:217] -0.391 -0.3449 0.0175 -0.1312 -0.3296 ...\n",
      " $ yhat.test      : num [1:1002, 1:9] -0.391 -0.3449 0.0175 -0.1312 -0.3296 ...\n",
      " $ varcount       : int [1:1002, 1] 50 58 55 52 53 55 52 57 58 52 ...\n",
      "  ..- attr(*, \"dimnames\")=List of 2\n",
      "  .. ..$ : NULL\n",
      "  .. ..$ : chr \"t\"\n",
      " $ varprob        : num [1:1002, 1] 1 1 1 1 1 1 1 1 1 1 ...\n",
      "  ..- attr(*, \"dimnames\")=List of 2\n",
      "  .. ..$ : NULL\n",
      "  .. ..$ : chr \"t\"\n",
      " $ treedraws      :List of 2\n",
      "  ..$ cutpoints:List of 1\n",
      "  .. ..$ t: num [1:8] 1.5 2.5 3.5 4.5 5.5 6.5 8 12.5\n",
      "  ..$ trees    : chr \"1002 50 1\\n1\\n1 0 0 -0.2329071356\\n3\\n1 0 2 -0.2783063559\\n2 0 0 0.1521119032\\n3 0 0 -0.2260019783\\n5\\n1 0 0 0.\"| __truncated__\n",
      " $ proc.time      : 'proc_time' Named num [1:5] 8.749 0.138 1.95 0 0\n",
      "  ..- attr(*, \"names\")= chr [1:5] \"user.self\" \"sys.self\" \"elapsed\" \"user.child\" ...\n",
      " $ hostname       : logi FALSE\n",
      " $ prob.train     : num [1:167, 1:217] 0.348 0.365 0.507 0.448 0.371 ...\n",
      " $ prob.train.mean: num [1:217] 0.4 0.4 0.472 0.4 0.4 ...\n",
      " $ LPML           : num -150\n",
      " $ prob.test      : num [1:1002, 1:9] 0.348 0.365 0.507 0.448 0.371 ...\n",
      " $ prob.test.mean : num [1:9] 0.4 0.472 0.397 0.261 0.311 ...\n",
      " $ ndpost         : num 1002\n",
      " $ offset         : num -0.251\n",
      " $ varcount.mean  : Named num 55\n",
      "  ..- attr(*, \"names\")= chr \"t\"\n",
      " $ varprob.mean   : Named num 1\n",
      "  ..- attr(*, \"names\")= chr \"t\"\n",
      " $ rm.const       : int 1\n",
      " $ times          : num [1:9] 1 2 3 4 5 6 7 9 16\n",
      " $ K              : int 9\n",
      " $ tx.train       : num [1:217, 1] 1 1 2 1 1 1 1 2 1 1 ...\n",
      "  ..- attr(*, \"dimnames\")=List of 2\n",
      "  .. ..$ : NULL\n",
      "  .. ..$ : chr \"t\"\n",
      " $ type           : chr \"pbart\"\n",
      " $ tx.test        : num [1:9, 1] 1 2 3 4 5 6 7 9 16\n",
      "  ..- attr(*, \"dimnames\")=List of 2\n",
      "  .. ..$ : NULL\n",
      "  .. ..$ : chr \"t\"\n",
      " $ surv.test      : num [1:1002, 1:9] 0.652 0.635 0.493 0.552 0.629 ...\n",
      " $ surv.test.mean : num [1:9] 0.5995 0.3157 0.1912 0.1436 0.0998 ...\n",
      " - attr(*, \"class\")= chr \"survbart\"\n",
      "mean shape 0.7999999999999998\n",
      "mean scale 2.5\n",
      "mean time draws 2.5106583865523464\n",
      "cens mean 9.18\n",
      "(250, 1)\n"
     ]
    },
    {
     "name": "stderr",
     "output_type": "stream",
     "text": [
      "Only 250 samples in chain.\n",
      "Multiprocess sampling (7 chains in 7 jobs)\n",
      "PGBART: [f]\n"
     ]
    },
    {
     "data": {
      "text/html": [
       "\n",
       "<style>\n",
       "    /* Turns off some styling */\n",
       "    progress {\n",
       "        /* gets rid of default border in Firefox and Opera. */\n",
       "        border: none;\n",
       "        /* Needs to be in here for Safari polyfill so background images work as expected. */\n",
       "        background-size: auto;\n",
       "    }\n",
       "    progress:not([value]), progress:not([value])::-webkit-progress-bar {\n",
       "        background: repeating-linear-gradient(45deg, #7e7e7e, #7e7e7e 10px, #5c5c5c 10px, #5c5c5c 20px);\n",
       "    }\n",
       "    .progress-bar-interrupted, .progress-bar-interrupted::-webkit-progress-bar {\n",
       "        background: #F44336;\n",
       "    }\n",
       "</style>\n"
      ],
      "text/plain": [
       "<IPython.core.display.HTML object>"
      ]
     },
     "metadata": {},
     "output_type": "display_data"
    },
    {
     "data": {
      "text/html": [
       "\n",
       "    <div>\n",
       "      <progress value='1890' class='' max='1890' style='width:300px; height:20px; vertical-align: middle;'></progress>\n",
       "      100.00% [1890/1890 00:11&lt;00:00 Sampling 7 chains, 0 divergences]\n",
       "    </div>\n",
       "    "
      ],
      "text/plain": [
       "<IPython.core.display.HTML object>"
      ]
     },
     "metadata": {},
     "output_type": "display_data"
    },
    {
     "name": "stderr",
     "output_type": "stream",
     "text": [
      "Sampling 7 chains for 20 tune and 250 draw iterations (140 + 1_750 draws total) took 12 seconds.\n",
      "Sampling: [f]\n"
     ]
    },
    {
     "data": {
      "text/html": [
       "\n",
       "<style>\n",
       "    /* Turns off some styling */\n",
       "    progress {\n",
       "        /* gets rid of default border in Firefox and Opera. */\n",
       "        border: none;\n",
       "        /* Needs to be in here for Safari polyfill so background images work as expected. */\n",
       "        background-size: auto;\n",
       "    }\n",
       "    progress:not([value]), progress:not([value])::-webkit-progress-bar {\n",
       "        background: repeating-linear-gradient(45deg, #7e7e7e, #7e7e7e 10px, #5c5c5c 10px, #5c5c5c 20px);\n",
       "    }\n",
       "    .progress-bar-interrupted, .progress-bar-interrupted::-webkit-progress-bar {\n",
       "        background: #F44336;\n",
       "    }\n",
       "</style>\n"
      ],
      "text/plain": [
       "<IPython.core.display.HTML object>"
      ]
     },
     "metadata": {},
     "output_type": "display_data"
    },
    {
     "data": {
      "text/html": [
       "\n",
       "    <div>\n",
       "      <progress value='1750' class='' max='1750' style='width:300px; height:20px; vertical-align: middle;'></progress>\n",
       "      100.00% [1750/1750 00:08&lt;00:00]\n",
       "    </div>\n",
       "    "
      ],
      "text/plain": [
       "<IPython.core.display.HTML object>"
      ]
     },
     "metadata": {},
     "output_type": "display_data"
    },
    {
     "name": "stderr",
     "output_type": "stream",
     "text": [
      "Loading required package: nlme\n",
      "Loading required package: nnet\n",
      "Loading required package: survival\n"
     ]
    },
    {
     "name": "stdout",
     "output_type": "stream",
     "text": [
      "[1] \"/home/twj8/projects/bart_survival_paper/notebook\"\n",
      "*****Calling gbart: type=2\n",
      "*****Data:\n",
      "data:n,p,np: 250, 1, 10\n",
      "y1,yn: 1.000000, 1.000000\n",
      "x1,x[n*p]: 1.000000, 2.000000\n",
      "xp1,xp[np*p]: 1.000000, 11.000000\n",
      "*****Number of Trees: 50\n",
      "*****Number of Cut Points: 9 ... 9\n",
      "*****burn,nd,thin: 250,1670,10\n",
      "*****Prior:beta,alpha,tau,nu,lambda,offset: 2,0.95,0.212132,3,1,-0.434397\n",
      "*****Dirichlet:sparse,theta,omega,a,b,rho,augment: 0,0,1,0.5,1,1,0\n",
      "*****printevery: 100\n",
      "\n",
      "MCMC\n",
      "done 0 (out of 1920)\n",
      "done 100 (out of 1920)\n",
      "done 200 (out of 1920)\n",
      "done 300 (out of 1920)\n",
      "done 400 (out of 1920)\n",
      "done 500 (out of 1920)\n",
      "done 600 (out of 1920)\n",
      "done 700 (out of 1920)\n",
      "done 800 (out of 1920)\n",
      "done 900 (out of 1920)\n",
      "done 1000 (out of 1920)\n",
      "done 1100 (out of 1920)\n",
      "done 1200 (out of 1920)\n",
      "done 1300 (out of 1920)\n",
      "done 1400 (out of 1920)\n",
      "done 1500 (out of 1920)\n",
      "done 1600 (out of 1920)\n",
      "done 1700 (out of 1920)\n",
      "done 1800 (out of 1920)\n",
      "done 1900 (out of 1920)\n",
      "time: 2s\n",
      "trcnt,tecnt: 167,167\n",
      "List of 24\n",
      " $ yhat.train     : num [1:167, 1:250] -0.246 -0.422 -0.115 -0.146 -0.466 ...\n",
      " $ yhat.test      : num [1:1002, 1:10] -0.246 -0.422 -0.115 -0.146 -0.466 ...\n",
      " $ varcount       : int [1:1002, 1] 52 69 67 61 65 56 60 58 62 61 ...\n",
      "  ..- attr(*, \"dimnames\")=List of 2\n",
      "  .. ..$ : NULL\n",
      "  .. ..$ : chr \"t\"\n",
      " $ varprob        : num [1:1002, 1] 1 1 1 1 1 1 1 1 1 1 ...\n",
      "  ..- attr(*, \"dimnames\")=List of 2\n",
      "  .. ..$ : NULL\n",
      "  .. ..$ : chr \"t\"\n",
      " $ treedraws      :List of 2\n",
      "  ..$ cutpoints:List of 1\n",
      "  .. ..$ t: num [1:9] 1.5 2.5 3.5 4.5 5.5 6.5 7.5 9 10.5\n",
      "  ..$ trees    : chr \"1002 50 1\\n3\\n1 0 6 -0.1268805096\\n2 0 0 -0.4754841555\\n3 0 0 0.3815082663\\n3\\n1 0 1 -0.07113877559\\n2 0 0 -0.4\"| __truncated__\n",
      " $ proc.time      : 'proc_time' Named num [1:5] 6.951 0.062 1.315 0 0\n",
      "  ..- attr(*, \"names\")= chr [1:5] \"user.self\" \"sys.self\" \"elapsed\" \"user.child\" ...\n",
      " $ hostname       : logi FALSE\n",
      " $ prob.train     : num [1:167, 1:250] 0.403 0.337 0.454 0.442 0.321 ...\n",
      " $ prob.train.mean: num [1:250] 0.399 0.399 0.356 0.264 0.399 ...\n",
      " $ LPML           : num -162\n",
      " $ prob.test      : num [1:1002, 1:10] 0.403 0.337 0.454 0.442 0.321 ...\n",
      " $ prob.test.mean : num [1:10] 0.399 0.356 0.264 0.176 0.274 ...\n",
      " $ ndpost         : num 1002\n",
      " $ offset         : num -0.434\n",
      " $ varcount.mean  : Named num 57.9\n",
      "  ..- attr(*, \"names\")= chr \"t\"\n",
      " $ varprob.mean   : Named num 1\n",
      "  ..- attr(*, \"names\")= chr \"t\"\n",
      " $ rm.const       : int 1\n",
      " $ times          : num [1:10] 1 2 3 4 5 6 7 8 10 11\n",
      " $ K              : int 10\n",
      " $ tx.train       : num [1:250, 1] 1 1 2 3 1 1 2 1 2 3 ...\n",
      "  ..- attr(*, \"dimnames\")=List of 2\n",
      "  .. ..$ : NULL\n",
      "  .. ..$ : chr \"t\"\n",
      " $ type           : chr \"pbart\"\n",
      " $ tx.test        : num [1:10, 1] 1 2 3 4 5 6 7 8 10 11\n",
      "  ..- attr(*, \"dimnames\")=List of 2\n",
      "  .. ..$ : NULL\n",
      "  .. ..$ : chr \"t\"\n",
      " $ surv.test      : num [1:1002, 1:10] 0.597 0.663 0.546 0.558 0.679 ...\n",
      " $ surv.test.mean : num [1:10] 0.601 0.386 0.283 0.234 0.171 ...\n",
      " - attr(*, \"class\")= chr \"survbart\"\n",
      "mean shape 0.7999999999999998\n",
      "mean scale 2.5\n",
      "mean time draws 2.5568071068457288\n",
      "cens mean 8.15\n",
      "(259, 1)\n"
     ]
    },
    {
     "name": "stderr",
     "output_type": "stream",
     "text": [
      "Only 250 samples in chain.\n",
      "Multiprocess sampling (7 chains in 7 jobs)\n",
      "PGBART: [f]\n"
     ]
    },
    {
     "data": {
      "text/html": [
       "\n",
       "<style>\n",
       "    /* Turns off some styling */\n",
       "    progress {\n",
       "        /* gets rid of default border in Firefox and Opera. */\n",
       "        border: none;\n",
       "        /* Needs to be in here for Safari polyfill so background images work as expected. */\n",
       "        background-size: auto;\n",
       "    }\n",
       "    progress:not([value]), progress:not([value])::-webkit-progress-bar {\n",
       "        background: repeating-linear-gradient(45deg, #7e7e7e, #7e7e7e 10px, #5c5c5c 10px, #5c5c5c 20px);\n",
       "    }\n",
       "    .progress-bar-interrupted, .progress-bar-interrupted::-webkit-progress-bar {\n",
       "        background: #F44336;\n",
       "    }\n",
       "</style>\n"
      ],
      "text/plain": [
       "<IPython.core.display.HTML object>"
      ]
     },
     "metadata": {},
     "output_type": "display_data"
    },
    {
     "data": {
      "text/html": [
       "\n",
       "    <div>\n",
       "      <progress value='1890' class='' max='1890' style='width:300px; height:20px; vertical-align: middle;'></progress>\n",
       "      100.00% [1890/1890 00:11&lt;00:00 Sampling 7 chains, 0 divergences]\n",
       "    </div>\n",
       "    "
      ],
      "text/plain": [
       "<IPython.core.display.HTML object>"
      ]
     },
     "metadata": {},
     "output_type": "display_data"
    },
    {
     "name": "stderr",
     "output_type": "stream",
     "text": [
      "Sampling 7 chains for 20 tune and 250 draw iterations (140 + 1_750 draws total) took 12 seconds.\n",
      "Sampling: [f]\n"
     ]
    },
    {
     "data": {
      "text/html": [
       "\n",
       "<style>\n",
       "    /* Turns off some styling */\n",
       "    progress {\n",
       "        /* gets rid of default border in Firefox and Opera. */\n",
       "        border: none;\n",
       "        /* Needs to be in here for Safari polyfill so background images work as expected. */\n",
       "        background-size: auto;\n",
       "    }\n",
       "    progress:not([value]), progress:not([value])::-webkit-progress-bar {\n",
       "        background: repeating-linear-gradient(45deg, #7e7e7e, #7e7e7e 10px, #5c5c5c 10px, #5c5c5c 20px);\n",
       "    }\n",
       "    .progress-bar-interrupted, .progress-bar-interrupted::-webkit-progress-bar {\n",
       "        background: #F44336;\n",
       "    }\n",
       "</style>\n"
      ],
      "text/plain": [
       "<IPython.core.display.HTML object>"
      ]
     },
     "metadata": {},
     "output_type": "display_data"
    },
    {
     "data": {
      "text/html": [
       "\n",
       "    <div>\n",
       "      <progress value='1750' class='' max='1750' style='width:300px; height:20px; vertical-align: middle;'></progress>\n",
       "      100.00% [1750/1750 00:10&lt;00:00]\n",
       "    </div>\n",
       "    "
      ],
      "text/plain": [
       "<IPython.core.display.HTML object>"
      ]
     },
     "metadata": {},
     "output_type": "display_data"
    },
    {
     "name": "stderr",
     "output_type": "stream",
     "text": [
      "Loading required package: nlme\n",
      "Loading required package: nnet\n",
      "Loading required package: survival\n"
     ]
    },
    {
     "name": "stdout",
     "output_type": "stream",
     "text": [
      "[1] \"/home/twj8/projects/bart_survival_paper/notebook\"\n",
      "*****Calling gbart: type=2\n",
      "*****Data:\n",
      "data:n,p,np: 259, 1, 10\n",
      "y1,yn: 0.000000, 1.000000\n",
      "x1,x[n*p]: 1.000000, 3.000000\n",
      "xp1,xp[np*p]: 1.000000, 10.000000\n",
      "*****Number of Trees: 50\n",
      "*****Number of Cut Points: 9 ... 9\n",
      "*****burn,nd,thin: 250,1670,10\n",
      "*****Prior:beta,alpha,tau,nu,lambda,offset: 2,0.95,0.212132,3,1,-0.466404\n",
      "*****Dirichlet:sparse,theta,omega,a,b,rho,augment: 0,0,1,0.5,1,1,0\n",
      "*****printevery: 100\n",
      "\n",
      "MCMC\n",
      "done 0 (out of 1920)\n",
      "done 100 (out of 1920)\n",
      "done 200 (out of 1920)\n",
      "done 300 (out of 1920)\n",
      "done 400 (out of 1920)\n",
      "done 500 (out of 1920)\n",
      "done 600 (out of 1920)\n",
      "done 700 (out of 1920)\n",
      "done 800 (out of 1920)\n",
      "done 900 (out of 1920)\n",
      "done 1000 (out of 1920)\n",
      "done 1100 (out of 1920)\n",
      "done 1200 (out of 1920)\n",
      "done 1300 (out of 1920)\n",
      "done 1400 (out of 1920)\n",
      "done 1500 (out of 1920)\n",
      "done 1600 (out of 1920)\n",
      "done 1700 (out of 1920)\n",
      "done 1800 (out of 1920)\n",
      "done 1900 (out of 1920)\n",
      "time: 1s\n",
      "trcnt,tecnt: 167,167\n",
      "List of 24\n",
      " $ yhat.train     : num [1:167, 1:259] -0.317 -0.169 -0.223 -0.205 -0.218 ...\n",
      " $ yhat.test      : num [1:1002, 1:10] -0.317 -0.169 -0.223 -0.205 -0.218 ...\n",
      " $ varcount       : int [1:1002, 1] 60 55 63 45 59 53 59 59 50 57 ...\n",
      "  ..- attr(*, \"dimnames\")=List of 2\n",
      "  .. ..$ : NULL\n",
      "  .. ..$ : chr \"t\"\n",
      " $ varprob        : num [1:1002, 1] 1 1 1 1 1 1 1 1 1 1 ...\n",
      "  ..- attr(*, \"dimnames\")=List of 2\n",
      "  .. ..$ : NULL\n",
      "  .. ..$ : chr \"t\"\n",
      " $ treedraws      :List of 2\n",
      "  ..$ cutpoints:List of 1\n",
      "  .. ..$ t: num [1:9] 1.5 2.5 3.5 4.5 5.5 6.5 7.5 8.5 9.5\n",
      "  ..$ trees    : chr \"1002 50 1\\n3\\n1 0 5 0.05490638623\\n2 0 0 0.3172795421\\n3 0 0 -0.2549780214\\n3\\n1 0 3 0.1863914792\\n2 0 0 -0.044\"| __truncated__\n",
      " $ proc.time      : 'proc_time' Named num [1:5] 8.17 0.047 1.744 0 0\n",
      "  ..- attr(*, \"names\")= chr [1:5] \"user.self\" \"sys.self\" \"elapsed\" \"user.child\" ...\n",
      " $ hostname       : logi FALSE\n",
      " $ prob.train     : num [1:167, 1:259] 0.376 0.433 0.412 0.419 0.414 ...\n",
      " $ prob.train.mean: num [1:259] 0.39 0.291 0.268 0.254 0.216 ...\n",
      " $ LPML           : num -167\n",
      " $ prob.test      : num [1:1002, 1:10] 0.376 0.433 0.412 0.419 0.414 ...\n",
      " $ prob.test.mean : num [1:10] 0.39 0.291 0.268 0.254 0.216 ...\n",
      " $ ndpost         : num 1002\n",
      " $ offset         : num -0.466\n",
      " $ varcount.mean  : Named num 55.6\n",
      "  ..- attr(*, \"names\")= chr \"t\"\n",
      " $ varprob.mean   : Named num 1\n",
      "  ..- attr(*, \"names\")= chr \"t\"\n",
      " $ rm.const       : int 1\n",
      " $ times          : num [1:10] 1 2 3 4 5 6 7 8 9 10\n",
      " $ K              : int 10\n",
      " $ tx.train       : num [1:259, 1] 1 2 3 4 5 6 1 2 1 1 ...\n",
      "  ..- attr(*, \"dimnames\")=List of 2\n",
      "  .. ..$ : NULL\n",
      "  .. ..$ : chr \"t\"\n",
      " $ type           : chr \"pbart\"\n",
      " $ tx.test        : num [1:10, 1] 1 2 3 4 5 6 7 8 9 10\n",
      "  ..- attr(*, \"dimnames\")=List of 2\n",
      "  .. ..$ : NULL\n",
      "  .. ..$ : chr \"t\"\n",
      " $ surv.test      : num [1:1002, 1:10] 0.624 0.567 0.588 0.581 0.586 ...\n",
      " $ surv.test.mean : num [1:10] 0.613 0.437 0.319 0.24 0.188 ...\n",
      " - attr(*, \"class\")= chr \"survbart\"\n",
      "mean shape 0.7999999999999998\n",
      "mean scale 2.5\n",
      "mean time draws 3.249444106085629\n",
      "cens mean 8.21\n",
      "(254, 1)\n"
     ]
    },
    {
     "name": "stderr",
     "output_type": "stream",
     "text": [
      "Only 250 samples in chain.\n",
      "Multiprocess sampling (7 chains in 7 jobs)\n",
      "PGBART: [f]\n"
     ]
    },
    {
     "data": {
      "text/html": [
       "\n",
       "<style>\n",
       "    /* Turns off some styling */\n",
       "    progress {\n",
       "        /* gets rid of default border in Firefox and Opera. */\n",
       "        border: none;\n",
       "        /* Needs to be in here for Safari polyfill so background images work as expected. */\n",
       "        background-size: auto;\n",
       "    }\n",
       "    progress:not([value]), progress:not([value])::-webkit-progress-bar {\n",
       "        background: repeating-linear-gradient(45deg, #7e7e7e, #7e7e7e 10px, #5c5c5c 10px, #5c5c5c 20px);\n",
       "    }\n",
       "    .progress-bar-interrupted, .progress-bar-interrupted::-webkit-progress-bar {\n",
       "        background: #F44336;\n",
       "    }\n",
       "</style>\n"
      ],
      "text/plain": [
       "<IPython.core.display.HTML object>"
      ]
     },
     "metadata": {},
     "output_type": "display_data"
    },
    {
     "data": {
      "text/html": [
       "\n",
       "    <div>\n",
       "      <progress value='1890' class='' max='1890' style='width:300px; height:20px; vertical-align: middle;'></progress>\n",
       "      100.00% [1890/1890 00:10&lt;00:00 Sampling 7 chains, 0 divergences]\n",
       "    </div>\n",
       "    "
      ],
      "text/plain": [
       "<IPython.core.display.HTML object>"
      ]
     },
     "metadata": {},
     "output_type": "display_data"
    },
    {
     "name": "stderr",
     "output_type": "stream",
     "text": [
      "Sampling 7 chains for 20 tune and 250 draw iterations (140 + 1_750 draws total) took 11 seconds.\n",
      "Sampling: [f]\n"
     ]
    },
    {
     "data": {
      "text/html": [
       "\n",
       "<style>\n",
       "    /* Turns off some styling */\n",
       "    progress {\n",
       "        /* gets rid of default border in Firefox and Opera. */\n",
       "        border: none;\n",
       "        /* Needs to be in here for Safari polyfill so background images work as expected. */\n",
       "        background-size: auto;\n",
       "    }\n",
       "    progress:not([value]), progress:not([value])::-webkit-progress-bar {\n",
       "        background: repeating-linear-gradient(45deg, #7e7e7e, #7e7e7e 10px, #5c5c5c 10px, #5c5c5c 20px);\n",
       "    }\n",
       "    .progress-bar-interrupted, .progress-bar-interrupted::-webkit-progress-bar {\n",
       "        background: #F44336;\n",
       "    }\n",
       "</style>\n"
      ],
      "text/plain": [
       "<IPython.core.display.HTML object>"
      ]
     },
     "metadata": {},
     "output_type": "display_data"
    },
    {
     "data": {
      "text/html": [
       "\n",
       "    <div>\n",
       "      <progress value='1750' class='' max='1750' style='width:300px; height:20px; vertical-align: middle;'></progress>\n",
       "      100.00% [1750/1750 00:07&lt;00:00]\n",
       "    </div>\n",
       "    "
      ],
      "text/plain": [
       "<IPython.core.display.HTML object>"
      ]
     },
     "metadata": {},
     "output_type": "display_data"
    },
    {
     "name": "stderr",
     "output_type": "stream",
     "text": [
      "Loading required package: nlme\n",
      "Loading required package: nnet\n",
      "Loading required package: survival\n"
     ]
    },
    {
     "name": "stdout",
     "output_type": "stream",
     "text": [
      "[1] \"/home/twj8/projects/bart_survival_paper/notebook\"\n",
      "*****Calling gbart: type=2\n",
      "*****Data:\n",
      "data:n,p,np: 254, 1, 8\n",
      "y1,yn: 0.000000, 1.000000\n",
      "x1,x[n*p]: 1.000000, 2.000000\n",
      "xp1,xp[np*p]: 1.000000, 9.000000\n",
      "*****Number of Trees: 50\n",
      "*****Number of Cut Points: 7 ... 7\n",
      "*****burn,nd,thin: 250,1670,10\n",
      "*****Prior:beta,alpha,tau,nu,lambda,offset: 2,0.95,0.212132,3,1,-0.560992\n",
      "*****Dirichlet:sparse,theta,omega,a,b,rho,augment: 0,0,1,0.5,1,1,0\n",
      "*****printevery: 100\n",
      "\n",
      "MCMC\n",
      "done 0 (out of 1920)\n",
      "done 100 (out of 1920)\n",
      "done 200 (out of 1920)\n",
      "done 300 (out of 1920)\n",
      "done 400 (out of 1920)\n",
      "done 500 (out of 1920)\n",
      "done 600 (out of 1920)\n",
      "done 700 (out of 1920)\n",
      "done 800 (out of 1920)\n",
      "done 900 (out of 1920)\n",
      "done 1000 (out of 1920)\n",
      "done 1100 (out of 1920)\n",
      "done 1200 (out of 1920)\n",
      "done 1300 (out of 1920)\n",
      "done 1400 (out of 1920)\n",
      "done 1500 (out of 1920)\n",
      "done 1600 (out of 1920)\n",
      "done 1700 (out of 1920)\n",
      "done 1800 (out of 1920)\n",
      "done 1900 (out of 1920)\n",
      "time: 2s\n",
      "trcnt,tecnt: 167,167\n",
      "List of 24\n",
      " $ yhat.train     : num [1:167, 1:254] -0.334 -0.347 -0.29 -0.385 -0.51 ...\n",
      " $ yhat.test      : num [1:1002, 1:8] -0.334 -0.347 -0.29 -0.385 -0.51 ...\n",
      " $ varcount       : int [1:1002, 1] 54 51 56 51 53 57 55 50 48 56 ...\n",
      "  ..- attr(*, \"dimnames\")=List of 2\n",
      "  .. ..$ : NULL\n",
      "  .. ..$ : chr \"t\"\n",
      " $ varprob        : num [1:1002, 1] 1 1 1 1 1 1 1 1 1 1 ...\n",
      "  ..- attr(*, \"dimnames\")=List of 2\n",
      "  .. ..$ : NULL\n",
      "  .. ..$ : chr \"t\"\n",
      " $ treedraws      :List of 2\n",
      "  ..$ cutpoints:List of 1\n",
      "  .. ..$ t: num [1:7] 1.5 2.5 3.5 4.5 5.5 6.5 8\n",
      "  ..$ trees    : chr \"1002 50 1\\n3\\n1 0 1 0.1141185306\\n2 0 0 0.009226764434\\n3 0 0 0.09878471386\\n3\\n1 0 3 -0.0006574121077\\n2 0 0 0\"| __truncated__\n",
      " $ proc.time      : 'proc_time' Named num [1:5] 11.17 0.077 2.404 0 0\n",
      "  ..- attr(*, \"names\")= chr [1:5] \"user.self\" \"sys.self\" \"elapsed\" \"user.child\" ...\n",
      " $ hostname       : logi FALSE\n",
      " $ prob.train     : num [1:167, 1:254] 0.369 0.364 0.386 0.35 0.305 ...\n",
      " $ prob.train.mean: num [1:254] 0.371 0.256 0.151 0.371 0.256 ...\n",
      " $ LPML           : num -152\n",
      " $ prob.test      : num [1:1002, 1:8] 0.369 0.364 0.386 0.35 0.305 ...\n",
      " $ prob.test.mean : num [1:8] 0.371 0.256 0.151 0.199 0.246 ...\n",
      " $ ndpost         : num 1002\n",
      " $ offset         : num -0.561\n",
      " $ varcount.mean  : Named num 54\n",
      "  ..- attr(*, \"names\")= chr \"t\"\n",
      " $ varprob.mean   : Named num 1\n",
      "  ..- attr(*, \"names\")= chr \"t\"\n",
      " $ rm.const       : int 1\n",
      " $ times          : num [1:8] 1 2 3 4 5 6 7 9\n",
      " $ K              : int 8\n",
      " $ tx.train       : num [1:254, 1] 1 2 3 1 2 3 4 5 1 2 ...\n",
      "  ..- attr(*, \"dimnames\")=List of 2\n",
      "  .. ..$ : NULL\n",
      "  .. ..$ : chr \"t\"\n",
      " $ type           : chr \"pbart\"\n",
      " $ tx.test        : num [1:8, 1] 1 2 3 4 5 6 7 9\n",
      "  ..- attr(*, \"dimnames\")=List of 2\n",
      "  .. ..$ : NULL\n",
      "  .. ..$ : chr \"t\"\n",
      " $ surv.test      : num [1:1002, 1:8] 0.631 0.636 0.614 0.65 0.695 ...\n",
      " $ surv.test.mean : num [1:8] 0.631 0.472 0.402 0.321 0.237 ...\n",
      " - attr(*, \"class\")= chr \"survbart\"\n",
      "mean shape 0.7999999999999998\n",
      "mean scale 2.5\n",
      "mean time draws 2.200555602432505\n",
      "cens mean 9.2\n",
      "(221, 1)\n"
     ]
    },
    {
     "name": "stderr",
     "output_type": "stream",
     "text": [
      "Only 250 samples in chain.\n",
      "Multiprocess sampling (7 chains in 7 jobs)\n",
      "PGBART: [f]\n"
     ]
    },
    {
     "data": {
      "text/html": [
       "\n",
       "<style>\n",
       "    /* Turns off some styling */\n",
       "    progress {\n",
       "        /* gets rid of default border in Firefox and Opera. */\n",
       "        border: none;\n",
       "        /* Needs to be in here for Safari polyfill so background images work as expected. */\n",
       "        background-size: auto;\n",
       "    }\n",
       "    progress:not([value]), progress:not([value])::-webkit-progress-bar {\n",
       "        background: repeating-linear-gradient(45deg, #7e7e7e, #7e7e7e 10px, #5c5c5c 10px, #5c5c5c 20px);\n",
       "    }\n",
       "    .progress-bar-interrupted, .progress-bar-interrupted::-webkit-progress-bar {\n",
       "        background: #F44336;\n",
       "    }\n",
       "</style>\n"
      ],
      "text/plain": [
       "<IPython.core.display.HTML object>"
      ]
     },
     "metadata": {},
     "output_type": "display_data"
    },
    {
     "data": {
      "text/html": [
       "\n",
       "    <div>\n",
       "      <progress value='1890' class='' max='1890' style='width:300px; height:20px; vertical-align: middle;'></progress>\n",
       "      100.00% [1890/1890 00:10&lt;00:00 Sampling 7 chains, 0 divergences]\n",
       "    </div>\n",
       "    "
      ],
      "text/plain": [
       "<IPython.core.display.HTML object>"
      ]
     },
     "metadata": {},
     "output_type": "display_data"
    },
    {
     "name": "stderr",
     "output_type": "stream",
     "text": [
      "Sampling 7 chains for 20 tune and 250 draw iterations (140 + 1_750 draws total) took 11 seconds.\n",
      "Sampling: [f]\n"
     ]
    },
    {
     "data": {
      "text/html": [
       "\n",
       "<style>\n",
       "    /* Turns off some styling */\n",
       "    progress {\n",
       "        /* gets rid of default border in Firefox and Opera. */\n",
       "        border: none;\n",
       "        /* Needs to be in here for Safari polyfill so background images work as expected. */\n",
       "        background-size: auto;\n",
       "    }\n",
       "    progress:not([value]), progress:not([value])::-webkit-progress-bar {\n",
       "        background: repeating-linear-gradient(45deg, #7e7e7e, #7e7e7e 10px, #5c5c5c 10px, #5c5c5c 20px);\n",
       "    }\n",
       "    .progress-bar-interrupted, .progress-bar-interrupted::-webkit-progress-bar {\n",
       "        background: #F44336;\n",
       "    }\n",
       "</style>\n"
      ],
      "text/plain": [
       "<IPython.core.display.HTML object>"
      ]
     },
     "metadata": {},
     "output_type": "display_data"
    },
    {
     "data": {
      "text/html": [
       "\n",
       "    <div>\n",
       "      <progress value='1750' class='' max='1750' style='width:300px; height:20px; vertical-align: middle;'></progress>\n",
       "      100.00% [1750/1750 00:06&lt;00:00]\n",
       "    </div>\n",
       "    "
      ],
      "text/plain": [
       "<IPython.core.display.HTML object>"
      ]
     },
     "metadata": {},
     "output_type": "display_data"
    },
    {
     "name": "stderr",
     "output_type": "stream",
     "text": [
      "Loading required package: nlme\n",
      "Loading required package: nnet\n",
      "Loading required package: survival\n"
     ]
    },
    {
     "name": "stdout",
     "output_type": "stream",
     "text": [
      "[1] \"/home/twj8/projects/bart_survival_paper/notebook\"\n",
      "*****Calling gbart: type=2\n",
      "*****Data:\n",
      "data:n,p,np: 221, 1, 8\n",
      "y1,yn: 1.000000, 1.000000\n",
      "x1,x[n*p]: 1.000000, 3.000000\n",
      "xp1,xp[np*p]: 1.000000, 11.000000\n",
      "*****Number of Trees: 50\n",
      "*****Number of Cut Points: 7 ... 7\n",
      "*****burn,nd,thin: 250,1670,10\n",
      "*****Prior:beta,alpha,tau,nu,lambda,offset: 2,0.95,0.212132,3,1,-0.317148\n",
      "*****Dirichlet:sparse,theta,omega,a,b,rho,augment: 0,0,1,0.5,1,1,0\n",
      "*****printevery: 100\n",
      "\n",
      "MCMC\n",
      "done 0 (out of 1920)\n",
      "done 100 (out of 1920)\n",
      "done 200 (out of 1920)\n",
      "done 300 (out of 1920)\n",
      "done 400 (out of 1920)\n",
      "done 500 (out of 1920)\n",
      "done 600 (out of 1920)\n",
      "done 700 (out of 1920)\n",
      "done 800 (out of 1920)\n",
      "done 900 (out of 1920)\n",
      "done 1000 (out of 1920)\n",
      "done 1100 (out of 1920)\n",
      "done 1200 (out of 1920)\n",
      "done 1300 (out of 1920)\n",
      "done 1400 (out of 1920)\n",
      "done 1500 (out of 1920)\n",
      "done 1600 (out of 1920)\n",
      "done 1700 (out of 1920)\n",
      "done 1800 (out of 1920)\n",
      "done 1900 (out of 1920)\n",
      "time: 2s\n",
      "trcnt,tecnt: 167,167\n",
      "List of 24\n",
      " $ yhat.train     : num [1:167, 1:221] -0.317 -0.346 -0.48 -0.121 -0.305 ...\n",
      " $ yhat.test      : num [1:1002, 1:8] -0.317 -0.346 -0.48 -0.121 -0.305 ...\n",
      " $ varcount       : int [1:1002, 1] 54 49 56 62 58 54 55 53 58 52 ...\n",
      "  ..- attr(*, \"dimnames\")=List of 2\n",
      "  .. ..$ : NULL\n",
      "  .. ..$ : chr \"t\"\n",
      " $ varprob        : num [1:1002, 1] 1 1 1 1 1 1 1 1 1 1 ...\n",
      "  ..- attr(*, \"dimnames\")=List of 2\n",
      "  .. ..$ : NULL\n",
      "  .. ..$ : chr \"t\"\n",
      " $ treedraws      :List of 2\n",
      "  ..$ cutpoints:List of 1\n",
      "  .. ..$ t: num [1:7] 1.5 2.5 3.5 4.5 6 8 10\n",
      "  ..$ trees    : chr \"1002 50 1\\n1\\n1 0 0 0.4384465735\\n1\\n1 0 0 -0.2480806601\\n3\\n1 0 1 -0.1246495837\\n2 0 0 0.2063509621\\n3 0 0 0.0\"| __truncated__\n",
      " $ proc.time      : 'proc_time' Named num [1:5] 8.904 0.031 1.88 0 0\n",
      "  ..- attr(*, \"names\")= chr [1:5] \"user.self\" \"sys.self\" \"elapsed\" \"user.child\" ...\n",
      " $ hostname       : logi FALSE\n",
      " $ prob.train     : num [1:167, 1:221] 0.376 0.365 0.316 0.452 0.38 ...\n",
      " $ prob.train.mean: num [1:221] 0.384 0.384 0.384 0.364 0.369 ...\n",
      " $ LPML           : num -152\n",
      " $ prob.test      : num [1:1002, 1:8] 0.376 0.365 0.316 0.452 0.38 ...\n",
      " $ prob.test.mean : num [1:8] 0.384 0.364 0.369 0.405 0.339 ...\n",
      " $ ndpost         : num 1002\n",
      " $ offset         : num -0.317\n",
      " $ varcount.mean  : Named num 53.9\n",
      "  ..- attr(*, \"names\")= chr \"t\"\n",
      " $ varprob.mean   : Named num 1\n",
      "  ..- attr(*, \"names\")= chr \"t\"\n",
      " $ rm.const       : int 1\n",
      " $ times          : num [1:8] 1 2 3 4 5 7 9 11\n",
      " $ K              : int 8\n",
      " $ tx.train       : num [1:221, 1] 1 1 1 2 3 1 2 3 4 5 ...\n",
      "  ..- attr(*, \"dimnames\")=List of 2\n",
      "  .. ..$ : NULL\n",
      "  .. ..$ : chr \"t\"\n",
      " $ type           : chr \"pbart\"\n",
      " $ tx.test        : num [1:8, 1] 1 2 3 4 5 7 9 11\n",
      "  ..- attr(*, \"dimnames\")=List of 2\n",
      "  .. ..$ : NULL\n",
      "  .. ..$ : chr \"t\"\n",
      " $ surv.test      : num [1:1002, 1:8] 0.624 0.635 0.684 0.548 0.62 ...\n",
      " $ surv.test.mean : num [1:8] 0.6194 0.3932 0.2511 0.1459 0.0971 ...\n",
      " - attr(*, \"class\")= chr \"survbart\"\n",
      "mean shape 0.7999999999999998\n",
      "mean scale 2.5\n",
      "mean time draws 2.1245408041070735\n",
      "cens mean 1.82\n",
      "(132, 1)\n"
     ]
    },
    {
     "name": "stderr",
     "output_type": "stream",
     "text": [
      "Only 250 samples in chain.\n",
      "Multiprocess sampling (7 chains in 7 jobs)\n",
      "PGBART: [f]\n"
     ]
    },
    {
     "data": {
      "text/html": [
       "\n",
       "<style>\n",
       "    /* Turns off some styling */\n",
       "    progress {\n",
       "        /* gets rid of default border in Firefox and Opera. */\n",
       "        border: none;\n",
       "        /* Needs to be in here for Safari polyfill so background images work as expected. */\n",
       "        background-size: auto;\n",
       "    }\n",
       "    progress:not([value]), progress:not([value])::-webkit-progress-bar {\n",
       "        background: repeating-linear-gradient(45deg, #7e7e7e, #7e7e7e 10px, #5c5c5c 10px, #5c5c5c 20px);\n",
       "    }\n",
       "    .progress-bar-interrupted, .progress-bar-interrupted::-webkit-progress-bar {\n",
       "        background: #F44336;\n",
       "    }\n",
       "</style>\n"
      ],
      "text/plain": [
       "<IPython.core.display.HTML object>"
      ]
     },
     "metadata": {},
     "output_type": "display_data"
    },
    {
     "data": {
      "text/html": [
       "\n",
       "    <div>\n",
       "      <progress value='1890' class='' max='1890' style='width:300px; height:20px; vertical-align: middle;'></progress>\n",
       "      100.00% [1890/1890 00:10&lt;00:00 Sampling 7 chains, 0 divergences]\n",
       "    </div>\n",
       "    "
      ],
      "text/plain": [
       "<IPython.core.display.HTML object>"
      ]
     },
     "metadata": {},
     "output_type": "display_data"
    },
    {
     "name": "stderr",
     "output_type": "stream",
     "text": [
      "Sampling 7 chains for 20 tune and 250 draw iterations (140 + 1_750 draws total) took 11 seconds.\n",
      "Sampling: [f]\n"
     ]
    },
    {
     "data": {
      "text/html": [
       "\n",
       "<style>\n",
       "    /* Turns off some styling */\n",
       "    progress {\n",
       "        /* gets rid of default border in Firefox and Opera. */\n",
       "        border: none;\n",
       "        /* Needs to be in here for Safari polyfill so background images work as expected. */\n",
       "        background-size: auto;\n",
       "    }\n",
       "    progress:not([value]), progress:not([value])::-webkit-progress-bar {\n",
       "        background: repeating-linear-gradient(45deg, #7e7e7e, #7e7e7e 10px, #5c5c5c 10px, #5c5c5c 20px);\n",
       "    }\n",
       "    .progress-bar-interrupted, .progress-bar-interrupted::-webkit-progress-bar {\n",
       "        background: #F44336;\n",
       "    }\n",
       "</style>\n"
      ],
      "text/plain": [
       "<IPython.core.display.HTML object>"
      ]
     },
     "metadata": {},
     "output_type": "display_data"
    },
    {
     "data": {
      "text/html": [
       "\n",
       "    <div>\n",
       "      <progress value='1750' class='' max='1750' style='width:300px; height:20px; vertical-align: middle;'></progress>\n",
       "      100.00% [1750/1750 00:10&lt;00:00]\n",
       "    </div>\n",
       "    "
      ],
      "text/plain": [
       "<IPython.core.display.HTML object>"
      ]
     },
     "metadata": {},
     "output_type": "display_data"
    },
    {
     "name": "stderr",
     "output_type": "stream",
     "text": [
      "Loading required package: nlme\n",
      "Loading required package: nnet\n",
      "Loading required package: survival\n"
     ]
    },
    {
     "name": "stdout",
     "output_type": "stream",
     "text": [
      "[1] \"/home/twj8/projects/bart_survival_paper/notebook\"\n",
      "*****Calling gbart: type=2\n",
      "*****Data:\n",
      "data:n,p,np: 132, 1, 4\n",
      "y1,yn: 1.000000, 1.000000\n",
      "x1,x[n*p]: 1.000000, 1.000000\n",
      "xp1,xp[np*p]: 1.000000, 4.000000\n",
      "*****Number of Trees: 50\n",
      "*****Number of Cut Points: 3 ... 3\n",
      "*****burn,nd,thin: 250,1670,10\n",
      "*****Prior:beta,alpha,tau,nu,lambda,offset: 2,0.95,0.212132,3,1,-0.191052\n",
      "*****Dirichlet:sparse,theta,omega,a,b,rho,augment: 0,0,1,0.5,1,1,0\n",
      "*****printevery: 100\n",
      "\n",
      "MCMC\n",
      "done 0 (out of 1920)\n",
      "done 100 (out of 1920)\n",
      "done 200 (out of 1920)\n",
      "done 300 (out of 1920)\n",
      "done 400 (out of 1920)\n",
      "done 500 (out of 1920)\n",
      "done 600 (out of 1920)\n",
      "done 700 (out of 1920)\n",
      "done 800 (out of 1920)\n",
      "done 900 (out of 1920)\n",
      "done 1000 (out of 1920)\n",
      "done 1100 (out of 1920)\n",
      "done 1200 (out of 1920)\n",
      "done 1300 (out of 1920)\n",
      "done 1400 (out of 1920)\n",
      "done 1500 (out of 1920)\n",
      "done 1600 (out of 1920)\n",
      "done 1700 (out of 1920)\n",
      "done 1800 (out of 1920)\n",
      "done 1900 (out of 1920)\n",
      "time: 0s\n",
      "trcnt,tecnt: 167,167\n",
      "List of 24\n",
      " $ yhat.train     : num [1:167, 1:132] -0.199 -0.265 -0.176 -0.298 -0.212 ...\n",
      " $ yhat.test      : num [1:1002, 1:4] -0.199 -0.265 -0.176 -0.298 -0.212 ...\n",
      " $ varcount       : int [1:1002, 1] 49 50 57 45 49 50 45 49 48 49 ...\n",
      "  ..- attr(*, \"dimnames\")=List of 2\n",
      "  .. ..$ : NULL\n",
      "  .. ..$ : chr \"t\"\n",
      " $ varprob        : num [1:1002, 1] 1 1 1 1 1 1 1 1 1 1 ...\n",
      "  ..- attr(*, \"dimnames\")=List of 2\n",
      "  .. ..$ : NULL\n",
      "  .. ..$ : chr \"t\"\n",
      " $ treedraws      :List of 2\n",
      "  ..$ cutpoints:List of 1\n",
      "  .. ..$ t: num [1:3] 1.5 2.5 3.5\n",
      "  ..$ trees    : chr \"1002 50 1\\n3\\n1 0 0 -0.3606282153\\n2 0 0 -0.2035893567\\n3 0 0 -0.1002089372\\n3\\n1 0 0 0.07223808177\\n2 0 0 -0.2\"| __truncated__\n",
      " $ proc.time      : 'proc_time' Named num [1:5] 4.513 0.063 0.879 0 0\n",
      "  ..- attr(*, \"names\")= chr [1:5] \"user.self\" \"sys.self\" \"elapsed\" \"user.child\" ...\n",
      " $ hostname       : logi FALSE\n",
      " $ prob.train     : num [1:167, 1:132] 0.421 0.396 0.43 0.383 0.416 ...\n",
      " $ prob.train.mean: num [1:132] 0.4 0.4 0.4 0.4 0.4 ...\n",
      " $ LPML           : num -90.7\n",
      " $ prob.test      : num [1:1002, 1:4] 0.421 0.396 0.43 0.383 0.416 ...\n",
      " $ prob.test.mean : num [1:4] 0.4 0.564 0.233 0.233\n",
      " $ ndpost         : num 1002\n",
      " $ offset         : num -0.191\n",
      " $ varcount.mean  : Named num 49.9\n",
      "  ..- attr(*, \"names\")= chr \"t\"\n",
      " $ varprob.mean   : Named num 1\n",
      "  ..- attr(*, \"names\")= chr \"t\"\n",
      " $ rm.const       : int 1\n",
      " $ times          : num [1:4] 1 2 3 4\n",
      " $ K              : int 4\n",
      " $ tx.train       : num [1:132, 1] 1 1 1 1 1 1 2 1 1 1 ...\n",
      "  ..- attr(*, \"dimnames\")=List of 2\n",
      "  .. ..$ : NULL\n",
      "  .. ..$ : chr \"t\"\n",
      " $ type           : chr \"pbart\"\n",
      " $ tx.test        : num [1:4, 1] 1 2 3 4\n",
      "  ..- attr(*, \"dimnames\")=List of 2\n",
      "  .. ..$ : NULL\n",
      "  .. ..$ : chr \"t\"\n",
      " $ surv.test      : num [1:1002, 1:4] 0.579 0.604 0.57 0.617 0.584 ...\n",
      " $ surv.test.mean : num [1:4] 0.599 0.263 0.201 0.16\n",
      " - attr(*, \"class\")= chr \"survbart\"\n",
      "mean shape 0.7999999999999998\n",
      "mean scale 2.5\n",
      "mean time draws 2.5106583865523464\n",
      "cens mean 1.91\n",
      "(135, 1)\n"
     ]
    },
    {
     "name": "stderr",
     "output_type": "stream",
     "text": [
      "Only 250 samples in chain.\n",
      "Multiprocess sampling (7 chains in 7 jobs)\n",
      "PGBART: [f]\n"
     ]
    },
    {
     "data": {
      "text/html": [
       "\n",
       "<style>\n",
       "    /* Turns off some styling */\n",
       "    progress {\n",
       "        /* gets rid of default border in Firefox and Opera. */\n",
       "        border: none;\n",
       "        /* Needs to be in here for Safari polyfill so background images work as expected. */\n",
       "        background-size: auto;\n",
       "    }\n",
       "    progress:not([value]), progress:not([value])::-webkit-progress-bar {\n",
       "        background: repeating-linear-gradient(45deg, #7e7e7e, #7e7e7e 10px, #5c5c5c 10px, #5c5c5c 20px);\n",
       "    }\n",
       "    .progress-bar-interrupted, .progress-bar-interrupted::-webkit-progress-bar {\n",
       "        background: #F44336;\n",
       "    }\n",
       "</style>\n"
      ],
      "text/plain": [
       "<IPython.core.display.HTML object>"
      ]
     },
     "metadata": {},
     "output_type": "display_data"
    },
    {
     "data": {
      "text/html": [
       "\n",
       "    <div>\n",
       "      <progress value='1890' class='' max='1890' style='width:300px; height:20px; vertical-align: middle;'></progress>\n",
       "      100.00% [1890/1890 00:12&lt;00:00 Sampling 7 chains, 0 divergences]\n",
       "    </div>\n",
       "    "
      ],
      "text/plain": [
       "<IPython.core.display.HTML object>"
      ]
     },
     "metadata": {},
     "output_type": "display_data"
    },
    {
     "name": "stderr",
     "output_type": "stream",
     "text": [
      "Sampling 7 chains for 20 tune and 250 draw iterations (140 + 1_750 draws total) took 13 seconds.\n",
      "Sampling: [f]\n"
     ]
    },
    {
     "data": {
      "text/html": [
       "\n",
       "<style>\n",
       "    /* Turns off some styling */\n",
       "    progress {\n",
       "        /* gets rid of default border in Firefox and Opera. */\n",
       "        border: none;\n",
       "        /* Needs to be in here for Safari polyfill so background images work as expected. */\n",
       "        background-size: auto;\n",
       "    }\n",
       "    progress:not([value]), progress:not([value])::-webkit-progress-bar {\n",
       "        background: repeating-linear-gradient(45deg, #7e7e7e, #7e7e7e 10px, #5c5c5c 10px, #5c5c5c 20px);\n",
       "    }\n",
       "    .progress-bar-interrupted, .progress-bar-interrupted::-webkit-progress-bar {\n",
       "        background: #F44336;\n",
       "    }\n",
       "</style>\n"
      ],
      "text/plain": [
       "<IPython.core.display.HTML object>"
      ]
     },
     "metadata": {},
     "output_type": "display_data"
    },
    {
     "data": {
      "text/html": [
       "\n",
       "    <div>\n",
       "      <progress value='1750' class='' max='1750' style='width:300px; height:20px; vertical-align: middle;'></progress>\n",
       "      100.00% [1750/1750 00:10&lt;00:00]\n",
       "    </div>\n",
       "    "
      ],
      "text/plain": [
       "<IPython.core.display.HTML object>"
      ]
     },
     "metadata": {},
     "output_type": "display_data"
    },
    {
     "name": "stderr",
     "output_type": "stream",
     "text": [
      "Loading required package: nlme\n",
      "Loading required package: nnet\n",
      "Loading required package: survival\n"
     ]
    },
    {
     "name": "stdout",
     "output_type": "stream",
     "text": [
      "[1] \"/home/twj8/projects/bart_survival_paper/notebook\"\n",
      "*****Calling gbart: type=2\n",
      "*****Data:\n",
      "data:n,p,np: 135, 1, 3\n",
      "y1,yn: 1.000000, 1.000000\n",
      "x1,x[n*p]: 1.000000, 2.000000\n",
      "xp1,xp[np*p]: 1.000000, 3.000000\n",
      "*****Number of Trees: 50\n",
      "*****Number of Cut Points: 2 ... 2\n",
      "*****burn,nd,thin: 250,1670,10\n",
      "*****Prior:beta,alpha,tau,nu,lambda,offset: 2,0.95,0.212132,3,1,-0.311322\n",
      "*****Dirichlet:sparse,theta,omega,a,b,rho,augment: 0,0,1,0.5,1,1,0\n",
      "*****printevery: 100\n",
      "\n",
      "MCMC\n",
      "done 0 (out of 1920)\n",
      "done 100 (out of 1920)\n",
      "done 200 (out of 1920)\n",
      "done 300 (out of 1920)\n",
      "done 400 (out of 1920)\n",
      "done 500 (out of 1920)\n",
      "done 600 (out of 1920)\n",
      "done 700 (out of 1920)\n",
      "done 800 (out of 1920)\n",
      "done 900 (out of 1920)\n",
      "done 1000 (out of 1920)\n",
      "done 1100 (out of 1920)\n",
      "done 1200 (out of 1920)\n",
      "done 1300 (out of 1920)\n",
      "done 1400 (out of 1920)\n",
      "done 1500 (out of 1920)\n",
      "done 1600 (out of 1920)\n",
      "done 1700 (out of 1920)\n",
      "done 1800 (out of 1920)\n",
      "done 1900 (out of 1920)\n",
      "time: 1s\n",
      "trcnt,tecnt: 167,167\n",
      "List of 24\n",
      " $ yhat.train     : num [1:167, 1:135] -0.119 -0.354 -0.166 -0.403 -0.298 ...\n",
      " $ yhat.test      : num [1:1002, 1:3] -0.119 -0.354 -0.166 -0.403 -0.298 ...\n",
      " $ varcount       : int [1:1002, 1] 55 55 51 51 51 50 52 55 48 50 ...\n",
      "  ..- attr(*, \"dimnames\")=List of 2\n",
      "  .. ..$ : NULL\n",
      "  .. ..$ : chr \"t\"\n",
      " $ varprob        : num [1:1002, 1] 1 1 1 1 1 1 1 1 1 1 ...\n",
      "  ..- attr(*, \"dimnames\")=List of 2\n",
      "  .. ..$ : NULL\n",
      "  .. ..$ : chr \"t\"\n",
      " $ treedraws      :List of 2\n",
      "  ..$ cutpoints:List of 1\n",
      "  .. ..$ t: num [1:2] 1.5 2.5\n",
      "  ..$ trees    : chr \"1002 50 1\\n3\\n1 0 1 0.1870893162\\n2 0 0 0.2557138677\\n3 0 0 0.0470864572\\n3\\n1 0 1 -0.3150850881\\n2 0 0 0.06780\"| __truncated__\n",
      " $ proc.time      : 'proc_time' Named num [1:5] 5.06 0.06 1.25 0 0\n",
      "  ..- attr(*, \"names\")= chr [1:5] \"user.self\" \"sys.self\" \"elapsed\" \"user.child\" ...\n",
      " $ hostname       : logi FALSE\n",
      " $ prob.train     : num [1:167, 1:135] 0.452 0.362 0.434 0.343 0.383 ...\n",
      " $ prob.train.mean: num [1:135] 0.402 0.402 0.305 0.402 0.402 ...\n",
      " $ LPML           : num -92\n",
      " $ prob.test      : num [1:1002, 1:3] 0.452 0.362 0.434 0.343 0.383 ...\n",
      " $ prob.test.mean : num [1:3] 0.402 0.305 0.381\n",
      " $ ndpost         : num 1002\n",
      " $ offset         : num -0.311\n",
      " $ varcount.mean  : Named num 53.7\n",
      "  ..- attr(*, \"names\")= chr \"t\"\n",
      " $ varprob.mean   : Named num 1\n",
      "  ..- attr(*, \"names\")= chr \"t\"\n",
      " $ rm.const       : int 1\n",
      " $ times          : num [1:3] 1 2 3\n",
      " $ K              : int 3\n",
      " $ tx.train       : num [1:135, 1] 1 1 2 1 1 1 1 1 1 1 ...\n",
      "  ..- attr(*, \"dimnames\")=List of 2\n",
      "  .. ..$ : NULL\n",
      "  .. ..$ : chr \"t\"\n",
      " $ type           : chr \"pbart\"\n",
      " $ tx.test        : num [1:3, 1] 1 2 3\n",
      "  ..- attr(*, \"dimnames\")=List of 2\n",
      "  .. ..$ : NULL\n",
      "  .. ..$ : chr \"t\"\n",
      " $ surv.test      : num [1:1002, 1:3] 0.548 0.638 0.566 0.657 0.617 ...\n",
      " $ surv.test.mean : num [1:3] 0.601 0.417 0.261\n",
      " - attr(*, \"class\")= chr \"survbart\"\n",
      "mean shape 0.7999999999999998\n",
      "mean scale 2.5\n",
      "mean time draws 2.5568071068457288\n",
      "cens mean 1.73\n",
      "(145, 1)\n"
     ]
    },
    {
     "name": "stderr",
     "output_type": "stream",
     "text": [
      "Only 250 samples in chain.\n",
      "Multiprocess sampling (7 chains in 7 jobs)\n",
      "PGBART: [f]\n"
     ]
    },
    {
     "data": {
      "text/html": [
       "\n",
       "<style>\n",
       "    /* Turns off some styling */\n",
       "    progress {\n",
       "        /* gets rid of default border in Firefox and Opera. */\n",
       "        border: none;\n",
       "        /* Needs to be in here for Safari polyfill so background images work as expected. */\n",
       "        background-size: auto;\n",
       "    }\n",
       "    progress:not([value]), progress:not([value])::-webkit-progress-bar {\n",
       "        background: repeating-linear-gradient(45deg, #7e7e7e, #7e7e7e 10px, #5c5c5c 10px, #5c5c5c 20px);\n",
       "    }\n",
       "    .progress-bar-interrupted, .progress-bar-interrupted::-webkit-progress-bar {\n",
       "        background: #F44336;\n",
       "    }\n",
       "</style>\n"
      ],
      "text/plain": [
       "<IPython.core.display.HTML object>"
      ]
     },
     "metadata": {},
     "output_type": "display_data"
    },
    {
     "data": {
      "text/html": [
       "\n",
       "    <div>\n",
       "      <progress value='1890' class='' max='1890' style='width:300px; height:20px; vertical-align: middle;'></progress>\n",
       "      100.00% [1890/1890 00:10&lt;00:00 Sampling 7 chains, 0 divergences]\n",
       "    </div>\n",
       "    "
      ],
      "text/plain": [
       "<IPython.core.display.HTML object>"
      ]
     },
     "metadata": {},
     "output_type": "display_data"
    },
    {
     "name": "stderr",
     "output_type": "stream",
     "text": [
      "Sampling 7 chains for 20 tune and 250 draw iterations (140 + 1_750 draws total) took 11 seconds.\n",
      "Sampling: [f]\n"
     ]
    },
    {
     "data": {
      "text/html": [
       "\n",
       "<style>\n",
       "    /* Turns off some styling */\n",
       "    progress {\n",
       "        /* gets rid of default border in Firefox and Opera. */\n",
       "        border: none;\n",
       "        /* Needs to be in here for Safari polyfill so background images work as expected. */\n",
       "        background-size: auto;\n",
       "    }\n",
       "    progress:not([value]), progress:not([value])::-webkit-progress-bar {\n",
       "        background: repeating-linear-gradient(45deg, #7e7e7e, #7e7e7e 10px, #5c5c5c 10px, #5c5c5c 20px);\n",
       "    }\n",
       "    .progress-bar-interrupted, .progress-bar-interrupted::-webkit-progress-bar {\n",
       "        background: #F44336;\n",
       "    }\n",
       "</style>\n"
      ],
      "text/plain": [
       "<IPython.core.display.HTML object>"
      ]
     },
     "metadata": {},
     "output_type": "display_data"
    },
    {
     "data": {
      "text/html": [
       "\n",
       "    <div>\n",
       "      <progress value='1750' class='' max='1750' style='width:300px; height:20px; vertical-align: middle;'></progress>\n",
       "      100.00% [1750/1750 00:07&lt;00:00]\n",
       "    </div>\n",
       "    "
      ],
      "text/plain": [
       "<IPython.core.display.HTML object>"
      ]
     },
     "metadata": {},
     "output_type": "display_data"
    },
    {
     "name": "stderr",
     "output_type": "stream",
     "text": [
      "Loading required package: nlme\n",
      "Loading required package: nnet\n",
      "Loading required package: survival\n"
     ]
    },
    {
     "name": "stdout",
     "output_type": "stream",
     "text": [
      "[1] \"/home/twj8/projects/bart_survival_paper/notebook\"\n",
      "*****Calling gbart: type=2\n",
      "*****Data:\n",
      "data:n,p,np: 145, 1, 5\n",
      "y1,yn: 0.000000, 0.000000\n",
      "x1,x[n*p]: 1.000000, 1.000000\n",
      "xp1,xp[np*p]: 1.000000, 5.000000\n",
      "*****Number of Trees: 50\n",
      "*****Number of Cut Points: 4 ... 4\n",
      "*****burn,nd,thin: 250,1670,10\n",
      "*****Prior:beta,alpha,tau,nu,lambda,offset: 2,0.95,0.212132,3,1,-0.437058\n",
      "*****Dirichlet:sparse,theta,omega,a,b,rho,augment: 0,0,1,0.5,1,1,0\n",
      "*****printevery: 100\n",
      "\n",
      "MCMC\n",
      "done 0 (out of 1920)\n",
      "done 100 (out of 1920)\n",
      "done 200 (out of 1920)\n",
      "done 300 (out of 1920)\n",
      "done 400 (out of 1920)\n",
      "done 500 (out of 1920)\n",
      "done 600 (out of 1920)\n",
      "done 700 (out of 1920)\n",
      "done 800 (out of 1920)\n",
      "done 900 (out of 1920)\n",
      "done 1000 (out of 1920)\n",
      "done 1100 (out of 1920)\n",
      "done 1200 (out of 1920)\n",
      "done 1300 (out of 1920)\n",
      "done 1400 (out of 1920)\n",
      "done 1500 (out of 1920)\n",
      "done 1600 (out of 1920)\n",
      "done 1700 (out of 1920)\n",
      "done 1800 (out of 1920)\n",
      "done 1900 (out of 1920)\n",
      "time: 1s\n",
      "trcnt,tecnt: 167,167\n",
      "List of 24\n",
      " $ yhat.train     : num [1:167, 1:145] -0.309 -0.446 -0.367 -0.271 -0.353 ...\n",
      " $ yhat.test      : num [1:1002, 1:5] -0.309 -0.446 -0.367 -0.271 -0.353 ...\n",
      " $ varcount       : int [1:1002, 1] 51 55 55 56 49 51 52 55 53 53 ...\n",
      "  ..- attr(*, \"dimnames\")=List of 2\n",
      "  .. ..$ : NULL\n",
      "  .. ..$ : chr \"t\"\n",
      " $ varprob        : num [1:1002, 1] 1 1 1 1 1 1 1 1 1 1 ...\n",
      "  ..- attr(*, \"dimnames\")=List of 2\n",
      "  .. ..$ : NULL\n",
      "  .. ..$ : chr \"t\"\n",
      " $ treedraws      :List of 2\n",
      "  ..$ cutpoints:List of 1\n",
      "  .. ..$ t: num [1:4] 1.5 2.5 3.5 4.5\n",
      "  ..$ trees    : chr \"1002 50 1\\n3\\n1 0 1 0.2772896323\\n2 0 0 0.140782183\\n3 0 0 -0.5019065465\\n3\\n1 0 1 -0.1422424699\\n2 0 0 -0.0178\"| __truncated__\n",
      " $ proc.time      : 'proc_time' Named num [1:5] 5.014 0.141 1.211 0 0\n",
      "  ..- attr(*, \"names\")= chr [1:5] \"user.self\" \"sys.self\" \"elapsed\" \"user.child\" ...\n",
      " $ hostname       : logi FALSE\n",
      " $ prob.train     : num [1:167, 1:145] 0.379 0.328 0.357 0.393 0.362 ...\n",
      " $ prob.train.mean: num [1:145] 0.396 0.199 0.177 0.396 0.396 ...\n",
      " $ LPML           : num -93\n",
      " $ prob.test      : num [1:1002, 1:5] 0.379 0.328 0.357 0.393 0.362 ...\n",
      " $ prob.test.mean : num [1:5] 0.396 0.199 0.177 0.319 0.319\n",
      " $ ndpost         : num 1002\n",
      " $ offset         : num -0.437\n",
      " $ varcount.mean  : Named num 52.7\n",
      "  ..- attr(*, \"names\")= chr \"t\"\n",
      " $ varprob.mean   : Named num 1\n",
      "  ..- attr(*, \"names\")= chr \"t\"\n",
      " $ rm.const       : int 1\n",
      " $ times          : num [1:5] 1 2 3 4 5\n",
      " $ K              : int 5\n",
      " $ tx.train       : num [1:145, 1] 1 2 3 1 1 1 2 3 4 1 ...\n",
      "  ..- attr(*, \"dimnames\")=List of 2\n",
      "  .. ..$ : NULL\n",
      "  .. ..$ : chr \"t\"\n",
      " $ type           : chr \"pbart\"\n",
      " $ tx.test        : num [1:5, 1] 1 2 3 4 5\n",
      "  ..- attr(*, \"dimnames\")=List of 2\n",
      "  .. ..$ : NULL\n",
      "  .. ..$ : chr \"t\"\n",
      " $ surv.test      : num [1:1002, 1:5] 0.621 0.672 0.643 0.607 0.638 ...\n",
      " $ surv.test.mean : num [1:5] 0.611 0.491 0.4 0.274 0.197\n",
      " - attr(*, \"class\")= chr \"survbart\"\n",
      "mean shape 0.7999999999999998\n",
      "mean scale 2.5\n",
      "mean time draws 3.249444106085629\n",
      "cens mean 1.73\n",
      "(132, 1)\n"
     ]
    },
    {
     "name": "stderr",
     "output_type": "stream",
     "text": [
      "Only 250 samples in chain.\n",
      "Multiprocess sampling (7 chains in 7 jobs)\n",
      "PGBART: [f]\n"
     ]
    },
    {
     "data": {
      "text/html": [
       "\n",
       "<style>\n",
       "    /* Turns off some styling */\n",
       "    progress {\n",
       "        /* gets rid of default border in Firefox and Opera. */\n",
       "        border: none;\n",
       "        /* Needs to be in here for Safari polyfill so background images work as expected. */\n",
       "        background-size: auto;\n",
       "    }\n",
       "    progress:not([value]), progress:not([value])::-webkit-progress-bar {\n",
       "        background: repeating-linear-gradient(45deg, #7e7e7e, #7e7e7e 10px, #5c5c5c 10px, #5c5c5c 20px);\n",
       "    }\n",
       "    .progress-bar-interrupted, .progress-bar-interrupted::-webkit-progress-bar {\n",
       "        background: #F44336;\n",
       "    }\n",
       "</style>\n"
      ],
      "text/plain": [
       "<IPython.core.display.HTML object>"
      ]
     },
     "metadata": {},
     "output_type": "display_data"
    },
    {
     "data": {
      "text/html": [
       "\n",
       "    <div>\n",
       "      <progress value='1890' class='' max='1890' style='width:300px; height:20px; vertical-align: middle;'></progress>\n",
       "      100.00% [1890/1890 00:12&lt;00:00 Sampling 7 chains, 0 divergences]\n",
       "    </div>\n",
       "    "
      ],
      "text/plain": [
       "<IPython.core.display.HTML object>"
      ]
     },
     "metadata": {},
     "output_type": "display_data"
    },
    {
     "name": "stderr",
     "output_type": "stream",
     "text": [
      "Sampling 7 chains for 20 tune and 250 draw iterations (140 + 1_750 draws total) took 14 seconds.\n",
      "Sampling: [f]\n"
     ]
    },
    {
     "data": {
      "text/html": [
       "\n",
       "<style>\n",
       "    /* Turns off some styling */\n",
       "    progress {\n",
       "        /* gets rid of default border in Firefox and Opera. */\n",
       "        border: none;\n",
       "        /* Needs to be in here for Safari polyfill so background images work as expected. */\n",
       "        background-size: auto;\n",
       "    }\n",
       "    progress:not([value]), progress:not([value])::-webkit-progress-bar {\n",
       "        background: repeating-linear-gradient(45deg, #7e7e7e, #7e7e7e 10px, #5c5c5c 10px, #5c5c5c 20px);\n",
       "    }\n",
       "    .progress-bar-interrupted, .progress-bar-interrupted::-webkit-progress-bar {\n",
       "        background: #F44336;\n",
       "    }\n",
       "</style>\n"
      ],
      "text/plain": [
       "<IPython.core.display.HTML object>"
      ]
     },
     "metadata": {},
     "output_type": "display_data"
    },
    {
     "data": {
      "text/html": [
       "\n",
       "    <div>\n",
       "      <progress value='1750' class='' max='1750' style='width:300px; height:20px; vertical-align: middle;'></progress>\n",
       "      100.00% [1750/1750 00:07&lt;00:00]\n",
       "    </div>\n",
       "    "
      ],
      "text/plain": [
       "<IPython.core.display.HTML object>"
      ]
     },
     "metadata": {},
     "output_type": "display_data"
    },
    {
     "name": "stderr",
     "output_type": "stream",
     "text": [
      "Loading required package: nlme\n",
      "Loading required package: nnet\n",
      "Loading required package: survival\n"
     ]
    },
    {
     "name": "stdout",
     "output_type": "stream",
     "text": [
      "[1] \"/home/twj8/projects/bart_survival_paper/notebook\"\n",
      "*****Calling gbart: type=2\n",
      "*****Data:\n",
      "data:n,p,np: 132, 1, 4\n",
      "y1,yn: 0.000000, 0.000000\n",
      "x1,x[n*p]: 1.000000, 1.000000\n",
      "xp1,xp[np*p]: 1.000000, 5.000000\n",
      "*****Number of Trees: 50\n",
      "*****Number of Cut Points: 3 ... 3\n",
      "*****burn,nd,thin: 250,1670,10\n",
      "*****Prior:beta,alpha,tau,nu,lambda,offset: 2,0.95,0.212132,3,1,-0.369009\n",
      "*****Dirichlet:sparse,theta,omega,a,b,rho,augment: 0,0,1,0.5,1,1,0\n",
      "*****printevery: 100\n",
      "\n",
      "MCMC\n",
      "done 0 (out of 1920)\n",
      "done 100 (out of 1920)\n",
      "done 200 (out of 1920)\n",
      "done 300 (out of 1920)\n",
      "done 400 (out of 1920)\n",
      "done 500 (out of 1920)\n",
      "done 600 (out of 1920)\n",
      "done 700 (out of 1920)\n",
      "done 800 (out of 1920)\n",
      "done 900 (out of 1920)\n",
      "done 1000 (out of 1920)\n",
      "done 1100 (out of 1920)\n",
      "done 1200 (out of 1920)\n",
      "done 1300 (out of 1920)\n",
      "done 1400 (out of 1920)\n",
      "done 1500 (out of 1920)\n",
      "done 1600 (out of 1920)\n",
      "done 1700 (out of 1920)\n",
      "done 1800 (out of 1920)\n",
      "done 1900 (out of 1920)\n",
      "time: 1s\n",
      "trcnt,tecnt: 167,167\n",
      "List of 24\n",
      " $ yhat.train     : num [1:167, 1:132] -0.4778 -0.3759 -0.386 -0.0893 -0.1085 ...\n",
      " $ yhat.test      : num [1:1002, 1:4] -0.4778 -0.3759 -0.386 -0.0893 -0.1085 ...\n",
      " $ varcount       : int [1:1002, 1] 53 52 47 51 49 50 56 51 48 51 ...\n",
      "  ..- attr(*, \"dimnames\")=List of 2\n",
      "  .. ..$ : NULL\n",
      "  .. ..$ : chr \"t\"\n",
      " $ varprob        : num [1:1002, 1] 1 1 1 1 1 1 1 1 1 1 ...\n",
      "  ..- attr(*, \"dimnames\")=List of 2\n",
      "  .. ..$ : NULL\n",
      "  .. ..$ : chr \"t\"\n",
      " $ treedraws      :List of 2\n",
      "  ..$ cutpoints:List of 1\n",
      "  .. ..$ t: num [1:3] 1.5 2.5 4\n",
      "  ..$ trees    : chr \"1002 50 1\\n3\\n1 0 0 0.1672414309\\n2 0 0 -0.114858335\\n3 0 0 -0.04736376186\\n3\\n1 0 1 0.1997429888\\n2 0 0 -0.004\"| __truncated__\n",
      " $ proc.time      : 'proc_time' Named num [1:5] 4.606 0.093 0.903 0 0\n",
      "  ..- attr(*, \"names\")= chr [1:5] \"user.self\" \"sys.self\" \"elapsed\" \"user.child\" ...\n",
      " $ hostname       : logi FALSE\n",
      " $ prob.train     : num [1:167, 1:132] 0.316 0.354 0.35 0.464 0.457 ...\n",
      " $ prob.train.mean: num [1:132] 0.372 0.372 0.34 0.251 0.372 ...\n",
      " $ LPML           : num -88.8\n",
      " $ prob.test      : num [1:1002, 1:4] 0.316 0.354 0.35 0.464 0.457 ...\n",
      " $ prob.test.mean : num [1:4] 0.372 0.34 0.251 0.251\n",
      " $ ndpost         : num 1002\n",
      " $ offset         : num -0.369\n",
      " $ varcount.mean  : Named num 49.8\n",
      "  ..- attr(*, \"names\")= chr \"t\"\n",
      " $ varprob.mean   : Named num 1\n",
      "  ..- attr(*, \"names\")= chr \"t\"\n",
      " $ rm.const       : int 1\n",
      " $ times          : num [1:4] 1 2 3 5\n",
      " $ K              : int 4\n",
      " $ tx.train       : num [1:132, 1] 1 1 2 3 1 1 1 1 1 1 ...\n",
      "  ..- attr(*, \"dimnames\")=List of 2\n",
      "  .. ..$ : NULL\n",
      "  .. ..$ : chr \"t\"\n",
      " $ type           : chr \"pbart\"\n",
      " $ tx.test        : num [1:4, 1] 1 2 3 5\n",
      "  ..- attr(*, \"dimnames\")=List of 2\n",
      "  .. ..$ : NULL\n",
      "  .. ..$ : chr \"t\"\n",
      " $ surv.test      : num [1:1002, 1:4] 0.684 0.646 0.65 0.536 0.543 ...\n",
      " $ surv.test.mean : num [1:4] 0.629 0.418 0.307 0.233\n",
      " - attr(*, \"class\")= chr \"survbart\"\n",
      "mean shape 0.7999999999999998\n",
      "mean scale 2.5\n",
      "mean time draws 2.200555602432505\n",
      "cens mean 1.86\n",
      "(137, 1)\n"
     ]
    },
    {
     "name": "stderr",
     "output_type": "stream",
     "text": [
      "Only 250 samples in chain.\n",
      "Multiprocess sampling (7 chains in 7 jobs)\n",
      "PGBART: [f]\n"
     ]
    },
    {
     "data": {
      "text/html": [
       "\n",
       "<style>\n",
       "    /* Turns off some styling */\n",
       "    progress {\n",
       "        /* gets rid of default border in Firefox and Opera. */\n",
       "        border: none;\n",
       "        /* Needs to be in here for Safari polyfill so background images work as expected. */\n",
       "        background-size: auto;\n",
       "    }\n",
       "    progress:not([value]), progress:not([value])::-webkit-progress-bar {\n",
       "        background: repeating-linear-gradient(45deg, #7e7e7e, #7e7e7e 10px, #5c5c5c 10px, #5c5c5c 20px);\n",
       "    }\n",
       "    .progress-bar-interrupted, .progress-bar-interrupted::-webkit-progress-bar {\n",
       "        background: #F44336;\n",
       "    }\n",
       "</style>\n"
      ],
      "text/plain": [
       "<IPython.core.display.HTML object>"
      ]
     },
     "metadata": {},
     "output_type": "display_data"
    },
    {
     "data": {
      "text/html": [
       "\n",
       "    <div>\n",
       "      <progress value='1890' class='' max='1890' style='width:300px; height:20px; vertical-align: middle;'></progress>\n",
       "      100.00% [1890/1890 00:12&lt;00:00 Sampling 7 chains, 0 divergences]\n",
       "    </div>\n",
       "    "
      ],
      "text/plain": [
       "<IPython.core.display.HTML object>"
      ]
     },
     "metadata": {},
     "output_type": "display_data"
    },
    {
     "name": "stderr",
     "output_type": "stream",
     "text": [
      "Sampling 7 chains for 20 tune and 250 draw iterations (140 + 1_750 draws total) took 13 seconds.\n",
      "Sampling: [f]\n"
     ]
    },
    {
     "data": {
      "text/html": [
       "\n",
       "<style>\n",
       "    /* Turns off some styling */\n",
       "    progress {\n",
       "        /* gets rid of default border in Firefox and Opera. */\n",
       "        border: none;\n",
       "        /* Needs to be in here for Safari polyfill so background images work as expected. */\n",
       "        background-size: auto;\n",
       "    }\n",
       "    progress:not([value]), progress:not([value])::-webkit-progress-bar {\n",
       "        background: repeating-linear-gradient(45deg, #7e7e7e, #7e7e7e 10px, #5c5c5c 10px, #5c5c5c 20px);\n",
       "    }\n",
       "    .progress-bar-interrupted, .progress-bar-interrupted::-webkit-progress-bar {\n",
       "        background: #F44336;\n",
       "    }\n",
       "</style>\n"
      ],
      "text/plain": [
       "<IPython.core.display.HTML object>"
      ]
     },
     "metadata": {},
     "output_type": "display_data"
    },
    {
     "data": {
      "text/html": [
       "\n",
       "    <div>\n",
       "      <progress value='1750' class='' max='1750' style='width:300px; height:20px; vertical-align: middle;'></progress>\n",
       "      100.00% [1750/1750 00:06&lt;00:00]\n",
       "    </div>\n",
       "    "
      ],
      "text/plain": [
       "<IPython.core.display.HTML object>"
      ]
     },
     "metadata": {},
     "output_type": "display_data"
    },
    {
     "name": "stderr",
     "output_type": "stream",
     "text": [
      "Loading required package: nlme\n",
      "Loading required package: nnet\n",
      "Loading required package: survival\n"
     ]
    },
    {
     "name": "stdout",
     "output_type": "stream",
     "text": [
      "[1] \"/home/twj8/projects/bart_survival_paper/notebook\"\n",
      "*****Calling gbart: type=2\n",
      "*****Data:\n",
      "data:n,p,np: 137, 1, 4\n",
      "y1,yn: 1.000000, 0.000000\n",
      "x1,x[n*p]: 1.000000, 1.000000\n",
      "xp1,xp[np*p]: 1.000000, 4.000000\n",
      "*****Number of Trees: 50\n",
      "*****Number of Cut Points: 3 ... 3\n",
      "*****burn,nd,thin: 250,1670,10\n",
      "*****Prior:beta,alpha,tau,nu,lambda,offset: 2,0.95,0.212132,3,1,-0.230738\n",
      "*****Dirichlet:sparse,theta,omega,a,b,rho,augment: 0,0,1,0.5,1,1,0\n",
      "*****printevery: 100\n",
      "\n",
      "MCMC\n",
      "done 0 (out of 1920)\n",
      "done 100 (out of 1920)\n",
      "done 200 (out of 1920)\n",
      "done 300 (out of 1920)\n",
      "done 400 (out of 1920)\n",
      "done 500 (out of 1920)\n",
      "done 600 (out of 1920)\n",
      "done 700 (out of 1920)\n",
      "done 800 (out of 1920)\n",
      "done 900 (out of 1920)\n",
      "done 1000 (out of 1920)\n",
      "done 1100 (out of 1920)\n",
      "done 1200 (out of 1920)\n",
      "done 1300 (out of 1920)\n",
      "done 1400 (out of 1920)\n",
      "done 1500 (out of 1920)\n",
      "done 1600 (out of 1920)\n",
      "done 1700 (out of 1920)\n",
      "done 1800 (out of 1920)\n",
      "done 1900 (out of 1920)\n",
      "time: 1s\n",
      "trcnt,tecnt: 167,167\n",
      "List of 24\n",
      " $ yhat.train     : num [1:167, 1:137] -0.37 -0.271 -0.323 -0.3 -0.31 ...\n",
      " $ yhat.test      : num [1:1002, 1:4] -0.37 -0.271 -0.323 -0.3 -0.31 ...\n",
      " $ varcount       : int [1:1002, 1] 46 49 46 50 46 45 51 51 47 51 ...\n",
      "  ..- attr(*, \"dimnames\")=List of 2\n",
      "  .. ..$ : NULL\n",
      "  .. ..$ : chr \"t\"\n",
      " $ varprob        : num [1:1002, 1] 1 1 1 1 1 1 1 1 1 1 ...\n",
      "  ..- attr(*, \"dimnames\")=List of 2\n",
      "  .. ..$ : NULL\n",
      "  .. ..$ : chr \"t\"\n",
      " $ treedraws      :List of 2\n",
      "  ..$ cutpoints:List of 1\n",
      "  .. ..$ t: num [1:3] 1.5 2.5 3.5\n",
      "  ..$ trees    : chr \"1002 50 1\\n3\\n1 0 0 0.2945149378\\n2 0 0 0.2129117622\\n3 0 0 0.2052728363\\n3\\n1 0 1 0.06915836761\\n2 0 0 0.27477\"| __truncated__\n",
      " $ proc.time      : 'proc_time' Named num [1:5] 5.107 0.063 1.032 0 0\n",
      "  ..- attr(*, \"names\")= chr [1:5] \"user.self\" \"sys.self\" \"elapsed\" \"user.child\" ...\n",
      " $ hostname       : logi FALSE\n",
      " $ prob.train     : num [1:167, 1:137] 0.356 0.393 0.373 0.382 0.378 ...\n",
      " $ prob.train.mean: num [1:137] 0.385 0.385 0.385 0.385 0.385 ...\n",
      " $ LPML           : num -94.4\n",
      " $ prob.test      : num [1:1002, 1:4] 0.356 0.393 0.373 0.382 0.378 ...\n",
      " $ prob.test.mean : num [1:4] 0.385 0.433 0.618 0.618\n",
      " $ ndpost         : num 1002\n",
      " $ offset         : num -0.231\n",
      " $ varcount.mean  : Named num 49.8\n",
      "  ..- attr(*, \"names\")= chr \"t\"\n",
      " $ varprob.mean   : Named num 1\n",
      "  ..- attr(*, \"names\")= chr \"t\"\n",
      " $ rm.const       : int 1\n",
      " $ times          : num [1:4] 1 2 3 4\n",
      " $ K              : int 4\n",
      " $ tx.train       : num [1:137, 1] 1 1 1 1 1 1 1 1 2 3 ...\n",
      "  ..- attr(*, \"dimnames\")=List of 2\n",
      "  .. ..$ : NULL\n",
      "  .. ..$ : chr \"t\"\n",
      " $ type           : chr \"pbart\"\n",
      " $ tx.test        : num [1:4, 1] 1 2 3 4\n",
      "  ..- attr(*, \"dimnames\")=List of 2\n",
      "  .. ..$ : NULL\n",
      "  .. ..$ : chr \"t\"\n",
      " $ surv.test      : num [1:1002, 1:4] 0.644 0.607 0.627 0.618 0.622 ...\n",
      " $ surv.test.mean : num [1:4] 0.6206 0.3528 0.1301 0.0552\n",
      " - attr(*, \"class\")= chr \"survbart\"\n",
      "mean shape 1.07\n",
      "mean scale 3.0669999999999997\n",
      "mean time draws 2.492444970752981\n",
      "cens mean 9.94\n",
      "(254, 2)\n"
     ]
    },
    {
     "name": "stderr",
     "output_type": "stream",
     "text": [
      "Multiprocess sampling (7 chains in 7 jobs)\n",
      "PGBART: [f]\n"
     ]
    },
    {
     "data": {
      "text/html": [
       "\n",
       "<style>\n",
       "    /* Turns off some styling */\n",
       "    progress {\n",
       "        /* gets rid of default border in Firefox and Opera. */\n",
       "        border: none;\n",
       "        /* Needs to be in here for Safari polyfill so background images work as expected. */\n",
       "        background-size: auto;\n",
       "    }\n",
       "    progress:not([value]), progress:not([value])::-webkit-progress-bar {\n",
       "        background: repeating-linear-gradient(45deg, #7e7e7e, #7e7e7e 10px, #5c5c5c 10px, #5c5c5c 20px);\n",
       "    }\n",
       "    .progress-bar-interrupted, .progress-bar-interrupted::-webkit-progress-bar {\n",
       "        background: #F44336;\n",
       "    }\n",
       "</style>\n"
      ],
      "text/plain": [
       "<IPython.core.display.HTML object>"
      ]
     },
     "metadata": {},
     "output_type": "display_data"
    },
    {
     "data": {
      "text/html": [
       "\n",
       "    <div>\n",
       "      <progress value='17640' class='' max='17640' style='width:300px; height:20px; vertical-align: middle;'></progress>\n",
       "      100.00% [17640/17640 00:43&lt;00:00 Sampling 7 chains, 0 divergences]\n",
       "    </div>\n",
       "    "
      ],
      "text/plain": [
       "<IPython.core.display.HTML object>"
      ]
     },
     "metadata": {},
     "output_type": "display_data"
    },
    {
     "name": "stderr",
     "output_type": "stream",
     "text": [
      "Sampling 7 chains for 20 tune and 2_500 draw iterations (140 + 17_500 draws total) took 44 seconds.\n",
      "Sampling: [f]\n"
     ]
    },
    {
     "data": {
      "text/html": [
       "\n",
       "<style>\n",
       "    /* Turns off some styling */\n",
       "    progress {\n",
       "        /* gets rid of default border in Firefox and Opera. */\n",
       "        border: none;\n",
       "        /* Needs to be in here for Safari polyfill so background images work as expected. */\n",
       "        background-size: auto;\n",
       "    }\n",
       "    progress:not([value]), progress:not([value])::-webkit-progress-bar {\n",
       "        background: repeating-linear-gradient(45deg, #7e7e7e, #7e7e7e 10px, #5c5c5c 10px, #5c5c5c 20px);\n",
       "    }\n",
       "    .progress-bar-interrupted, .progress-bar-interrupted::-webkit-progress-bar {\n",
       "        background: #F44336;\n",
       "    }\n",
       "</style>\n"
      ],
      "text/plain": [
       "<IPython.core.display.HTML object>"
      ]
     },
     "metadata": {},
     "output_type": "display_data"
    },
    {
     "data": {
      "text/html": [
       "\n",
       "    <div>\n",
       "      <progress value='17500' class='' max='17500' style='width:300px; height:20px; vertical-align: middle;'></progress>\n",
       "      100.00% [17500/17500 00:49&lt;00:00]\n",
       "    </div>\n",
       "    "
      ],
      "text/plain": [
       "<IPython.core.display.HTML object>"
      ]
     },
     "metadata": {},
     "output_type": "display_data"
    },
    {
     "name": "stderr",
     "output_type": "stream",
     "text": [
      "Loading required package: nlme\n",
      "Loading required package: nnet\n",
      "Loading required package: survival\n"
     ]
    },
    {
     "name": "stdout",
     "output_type": "stream",
     "text": [
      "[1] \"/home/twj8/projects/bart_survival_paper/notebook\"\n",
      "*****Calling gbart: type=2\n",
      "*****Data:\n",
      "data:n,p,np: 254, 2, 20\n",
      "y1,yn: 1.000000, 1.000000\n",
      "x1,x[n*p]: 1.000000, 0.000000\n",
      "xp1,xp[np*p]: 1.000000, 1.000000\n",
      "*****Number of Trees: 50\n",
      "*****Number of Cut Points: 9 ... 1\n",
      "*****burn,nd,thin: 250,1670,10\n",
      "*****Prior:beta,alpha,tau,nu,lambda,offset: 2,0.95,0.212132,3,1,-0.405596\n",
      "*****Dirichlet:sparse,theta,omega,a,b,rho,augment: 0,0,1,0.5,1,2,0\n",
      "*****printevery: 100\n",
      "\n",
      "MCMC\n",
      "done 0 (out of 1920)\n",
      "done 100 (out of 1920)\n",
      "done 200 (out of 1920)\n",
      "done 300 (out of 1920)\n",
      "done 400 (out of 1920)\n",
      "done 500 (out of 1920)\n",
      "done 600 (out of 1920)\n",
      "done 700 (out of 1920)\n",
      "done 800 (out of 1920)\n",
      "done 900 (out of 1920)\n",
      "done 1000 (out of 1920)\n",
      "done 1100 (out of 1920)\n",
      "done 1200 (out of 1920)\n",
      "done 1300 (out of 1920)\n",
      "done 1400 (out of 1920)\n",
      "done 1500 (out of 1920)\n",
      "done 1600 (out of 1920)\n",
      "done 1700 (out of 1920)\n",
      "done 1800 (out of 1920)\n",
      "done 1900 (out of 1920)\n",
      "time: 2s\n",
      "trcnt,tecnt: 167,167\n",
      "mean shape 1.07\n",
      "mean scale 3.0669999999999997\n",
      "mean time draws 2.889266847753417\n",
      "cens mean 10.22\n",
      "(282, 2)\n"
     ]
    },
    {
     "name": "stderr",
     "output_type": "stream",
     "text": [
      "Multiprocess sampling (7 chains in 7 jobs)\n",
      "PGBART: [f]\n"
     ]
    },
    {
     "data": {
      "text/html": [
       "\n",
       "<style>\n",
       "    /* Turns off some styling */\n",
       "    progress {\n",
       "        /* gets rid of default border in Firefox and Opera. */\n",
       "        border: none;\n",
       "        /* Needs to be in here for Safari polyfill so background images work as expected. */\n",
       "        background-size: auto;\n",
       "    }\n",
       "    progress:not([value]), progress:not([value])::-webkit-progress-bar {\n",
       "        background: repeating-linear-gradient(45deg, #7e7e7e, #7e7e7e 10px, #5c5c5c 10px, #5c5c5c 20px);\n",
       "    }\n",
       "    .progress-bar-interrupted, .progress-bar-interrupted::-webkit-progress-bar {\n",
       "        background: #F44336;\n",
       "    }\n",
       "</style>\n"
      ],
      "text/plain": [
       "<IPython.core.display.HTML object>"
      ]
     },
     "metadata": {},
     "output_type": "display_data"
    },
    {
     "data": {
      "text/html": [
       "\n",
       "    <div>\n",
       "      <progress value='9303' class='' max='17640' style='width:300px; height:20px; vertical-align: middle;'></progress>\n",
       "      52.74% [9303/17640 00:25&lt;00:22 Sampling 7 chains, 0 divergences]\n",
       "    </div>\n",
       "    "
      ],
      "text/plain": [
       "<IPython.core.display.HTML object>"
      ]
     },
     "metadata": {},
     "output_type": "display_data"
    }
   ],
   "source": [
    "# for i in cn.N:\n",
    "ml.start_run(run_name=\"run3\")\n",
    "ml.log_dict({\"iters\":iters}, \"iters.json\")\n",
    "\n",
    "for N in cn.N:\n",
    "    \n",
    "    # cond 1_1\n",
    "    meta,cens, k,p,r,fig = si.iter_simulation_1s(\n",
    "        iters=iters, \n",
    "        n=N,\n",
    "        scenario= cn.simple_1_1, \n",
    "        SPLIT_RULES=SPLIT_RULES1, \n",
    "        model_dict=model_dict1, \n",
    "        sampler_dict=sampler_dict1\n",
    "    )\n",
    "    log_params(\"1_1\", N, cn.simple_1_1, model_dict1, sampler_dict1)\n",
    "    log_mets(\"1_1\", N, cens, k, p, r)\n",
    "    log_figures(\"1_1\",N,fig)\n",
    "\n",
    "    # cond 1_2\n",
    "    meta, cens,k,p,r, fig= si.iter_simulation_1s(\n",
    "        iters=iters, \n",
    "        n=N,\n",
    "        scenario= cn.simple_1_2, \n",
    "        SPLIT_RULES=SPLIT_RULES1, \n",
    "        model_dict=model_dict1, \n",
    "        sampler_dict=sampler_dict1\n",
    "    )\n",
    "    log_params(\"1_2\", N, cn.simple_1_1, model_dict1, sampler_dict1)\n",
    "    log_mets(\"1_2\", N, cens, k, p, r)\n",
    "    log_figures(\"1_2\",N,fig)\n",
    "    # cond 2_1\n",
    "    meta, cens,k,p,r,fig = si.iter_simulation_2s(\n",
    "        iters=iters, \n",
    "        n=N,\n",
    "        scenario= cn.simple_2_1, \n",
    "        SPLIT_RULES=SPLIT_RULES2, \n",
    "        model_dict=model_dict2, \n",
    "        sampler_dict=sampler_dict2\n",
    "    )\n",
    "    log_params(\"2_1\", N, cn.simple_1_1, model_dict1, sampler_dict1)\n",
    "    log_mets(\"2_1\", N, cens, k, p, r)\n",
    "    log_figures(\"2_1\",N,fig)\n",
    "\n",
    "    #cond 2_2\n",
    "    meta, cens,k,p,r,fig = si.iter_simulation_2s(\n",
    "        iters=iters, \n",
    "        n=N,\n",
    "        scenario= cn.simple_2_2, \n",
    "        SPLIT_RULES=SPLIT_RULES2, \n",
    "        model_dict=model_dict2, \n",
    "        sampler_dict=sampler_dict2\n",
    "    )\n",
    "    log_params(\"2_1\", N, cn.simple_1_1, model_dict1, sampler_dict1)\n",
    "    log_mets(\"2_2\", N, cens, k, p, r)\n",
    "    log_figures(\"2_2\",N,fig)\n",
    "\n",
    "ml.end_run()\n"
   ]
  },
  {
   "cell_type": "code",
   "execution_count": 10,
   "metadata": {},
   "outputs": [],
   "source": [
    "ml.end_run()"
   ]
  }
 ],
 "metadata": {
  "kernelspec": {
   "display_name": "Python 3.10.12 ('.paper_venv': venv)",
   "language": "python",
   "name": "python3"
  },
  "language_info": {
   "codemirror_mode": {
    "name": "ipython",
    "version": 3
   },
   "file_extension": ".py",
   "mimetype": "text/x-python",
   "name": "python",
   "nbconvert_exporter": "python",
   "pygments_lexer": "ipython3",
   "version": "3.10.12"
  },
  "orig_nbformat": 4,
  "vscode": {
   "interpreter": {
    "hash": "e45457e90195d1585fce856b4f6dbb6d2ca5f521e76b59d4cfa3c981e92b93bd"
   }
  }
 },
 "nbformat": 4,
 "nbformat_minor": 2
}
