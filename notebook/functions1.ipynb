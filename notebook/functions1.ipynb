{
 "cells": [
  {
   "cell_type": "code",
   "execution_count": 2,
   "metadata": {},
   "outputs": [
    {
     "name": "stderr",
     "output_type": "stream",
     "text": [
      "WARNING (pytensor.tensor.blas): Using NumPy C-API based implementation for BLAS functions.\n"
     ]
    }
   ],
   "source": [
    "import pandas as pd\n",
    "import numpy as np\n",
    "# import lifelines as ll\n",
    "# import sksurv as sks\n",
    "import matplotlib.pyplot as plt\n",
    "from bart_survival import surv_bart as sb\n",
    "from bart_survival import simulation as sm\n",
    "# import lifelines as ll\n",
    "# from lifelines import KaplanMeierFitter\n",
    "import subprocess\n",
    "import importlib"
   ]
  },
  {
   "cell_type": "code",
   "execution_count": 58,
   "metadata": {},
   "outputs": [],
   "source": [
    "import sys\n",
    "sys.path.append(\"../py/\")\n",
    "import _conditions1 as cn\n",
    "import _functions1 as fn\n",
    "import _sim_iter1 as si\n",
    "import _plot_fx as pltf"
   ]
  },
  {
   "cell_type": "code",
   "execution_count": 91,
   "metadata": {},
   "outputs": [],
   "source": [
    "reg_1 = {\n",
    "    \"type\": \"Simple, 1 group, 20% cens\",\n",
    "    \"x_vars\": 1, \n",
    "    \"VAR_CLASS\": [2],\n",
    "    \"VAR_PROB\":[1],\n",
    "    \"scale_f\": \"7*x_mat[:,0]\",\n",
    "    \"shape_f\": \"3\",\n",
    "    # \"cens_scale\":7\n",
    "\t\"cens_scale\":1.3\n",
    "}"
   ]
  },
  {
   "cell_type": "code",
   "execution_count": 109,
   "metadata": {},
   "outputs": [],
   "source": [
    "SPLIT_RULES =  [\n",
    "    \"pmb.ContinuousSplitRule()\", \n",
    "    # \"pmb.ContinuousSplitRule()\", \n",
    "    # \"pmb.OneHotSplitRule()\"\n",
    "]\n",
    "model_dict = {\"trees\": 25,\n",
    "    \"split_rules\": SPLIT_RULES\n",
    "}\n",
    "sampler_dict = {\n",
    "            \"draws\": 400,\n",
    "            \"tune\": 10,\n",
    "            \"cores\": 5,\n",
    "            \"chains\": 5,\n",
    "            \"compute_convergence_checks\": False\n",
    "        }"
   ]
  },
  {
   "cell_type": "code",
   "execution_count": 110,
   "metadata": {},
   "outputs": [
    {
     "name": "stdout",
     "output_type": "stream",
     "text": [
      "mean shape 3.0\n",
      "mean scale 7.0\n",
      "13.0\n",
      "mean time draws 5.89398967915927\n",
      "cens mean 10.45\n",
      "[[3]\n",
      " [5]\n",
      " [6]\n",
      " [8]\n",
      " [9]]\n"
     ]
    },
    {
     "name": "stderr",
     "output_type": "stream",
     "text": [
      "Only 400 samples in chain.\n",
      "Multiprocess sampling (5 chains in 5 jobs)\n",
      "PGBART: [f]\n",
      "WARNING (pytensor.tensor.blas): Using NumPy C-API based implementation for BLAS functions.\n",
      "WARNING (pytensor.tensor.blas): Using NumPy C-API based implementation for BLAS functions.\n",
      "WARNING (pytensor.tensor.blas): Using NumPy C-API based implementation for BLAS functions.\n",
      "WARNING (pytensor.tensor.blas): Using NumPy C-API based implementation for BLAS functions.\n",
      "WARNING (pytensor.tensor.blas): Using NumPy C-API based implementation for BLAS functions.\n"
     ]
    },
    {
     "data": {
      "text/html": [
       "\n",
       "<style>\n",
       "    /* Turns off some styling */\n",
       "    progress {\n",
       "        /* gets rid of default border in Firefox and Opera. */\n",
       "        border: none;\n",
       "        /* Needs to be in here for Safari polyfill so background images work as expected. */\n",
       "        background-size: auto;\n",
       "    }\n",
       "    progress:not([value]), progress:not([value])::-webkit-progress-bar {\n",
       "        background: repeating-linear-gradient(45deg, #7e7e7e, #7e7e7e 10px, #5c5c5c 10px, #5c5c5c 20px);\n",
       "    }\n",
       "    .progress-bar-interrupted, .progress-bar-interrupted::-webkit-progress-bar {\n",
       "        background: #F44336;\n",
       "    }\n",
       "</style>\n"
      ],
      "text/plain": [
       "<IPython.core.display.HTML object>"
      ]
     },
     "metadata": {},
     "output_type": "display_data"
    },
    {
     "data": {
      "text/html": [
       "\n",
       "    <div>\n",
       "      <progress value='2050' class='' max='2050' style='width:300px; height:20px; vertical-align: middle;'></progress>\n",
       "      100.00% [2050/2050 00:09&lt;00:00 Sampling 5 chains, 0 divergences]\n",
       "    </div>\n",
       "    "
      ],
      "text/plain": [
       "<IPython.core.display.HTML object>"
      ]
     },
     "metadata": {},
     "output_type": "display_data"
    },
    {
     "name": "stderr",
     "output_type": "stream",
     "text": [
      "WARNING (pytensor.tensor.blas): Using NumPy C-API based implementation for BLAS functions.\n",
      "Sampling 5 chains for 10 tune and 400 draw iterations (50 + 2_000 draws total) took 23 seconds.\n",
      "Sampling: [f]\n"
     ]
    },
    {
     "data": {
      "text/html": [
       "\n",
       "<style>\n",
       "    /* Turns off some styling */\n",
       "    progress {\n",
       "        /* gets rid of default border in Firefox and Opera. */\n",
       "        border: none;\n",
       "        /* Needs to be in here for Safari polyfill so background images work as expected. */\n",
       "        background-size: auto;\n",
       "    }\n",
       "    progress:not([value]), progress:not([value])::-webkit-progress-bar {\n",
       "        background: repeating-linear-gradient(45deg, #7e7e7e, #7e7e7e 10px, #5c5c5c 10px, #5c5c5c 20px);\n",
       "    }\n",
       "    .progress-bar-interrupted, .progress-bar-interrupted::-webkit-progress-bar {\n",
       "        background: #F44336;\n",
       "    }\n",
       "</style>\n"
      ],
      "text/plain": [
       "<IPython.core.display.HTML object>"
      ]
     },
     "metadata": {},
     "output_type": "display_data"
    },
    {
     "data": {
      "text/html": [
       "\n",
       "    <div>\n",
       "      <progress value='2000' class='' max='2000' style='width:300px; height:20px; vertical-align: middle;'></progress>\n",
       "      100.00% [2000/2000 00:07&lt;00:00]\n",
       "    </div>\n",
       "    "
      ],
      "text/plain": [
       "<IPython.core.display.HTML object>"
      ]
     },
     "metadata": {},
     "output_type": "display_data"
    },
    {
     "name": "stderr",
     "output_type": "stream",
     "text": [
      "Loading required package: nlme\n",
      "Loading required package: nnet\n",
      "Loading required package: survival\n"
     ]
    },
    {
     "name": "stdout",
     "output_type": "stream",
     "text": [
      "[1] \"/Users/jacobtiegs/projects/bart_paper/bart_survival_paper/notebook\"\n",
      "*****Calling gbart: type=2\n",
      "*****Data:\n",
      "data:n,p,np: 241, 1, 5\n",
      "y1,yn: 0.000000, 1.000000\n",
      "x1,x[n*p]: 3.000000, 5.000000\n",
      "xp1,xp[np*p]: 3.000000, 9.000000\n",
      "*****Number of Trees: 50\n",
      "*****Number of Cut Points: 4 ... 4\n",
      "*****burn,nd,thin: 250,1670,10\n",
      "*****Prior:beta,alpha,tau,nu,lambda,offset: 2,0.95,0.212132,3,1,-0.664729\n",
      "*****Dirichlet:sparse,theta,omega,a,b,rho,augment: 0,0,1,0.5,1,1,0\n",
      "*****printevery: 100\n",
      "\n",
      "MCMC\n",
      "done 0 (out of 1920)\n",
      "done 100 (out of 1920)\n",
      "done 200 (out of 1920)\n",
      "done 300 (out of 1920)\n",
      "done 400 (out of 1920)\n",
      "done 500 (out of 1920)\n",
      "done 600 (out of 1920)\n",
      "done 700 (out of 1920)\n",
      "done 800 (out of 1920)\n",
      "done 900 (out of 1920)\n",
      "done 1000 (out of 1920)\n",
      "done 1100 (out of 1920)\n",
      "done 1200 (out of 1920)\n",
      "done 1300 (out of 1920)\n",
      "done 1400 (out of 1920)\n",
      "done 1500 (out of 1920)\n",
      "done 1600 (out of 1920)\n",
      "done 1700 (out of 1920)\n",
      "done 1800 (out of 1920)\n",
      "done 1900 (out of 1920)\n",
      "time: 1s\n",
      "trcnt,tecnt: 167,167\n"
     ]
    }
   ],
   "source": [
    "importlib.reload(fn)\n",
    "c = []\n",
    "for i in range(1):\n",
    "\tmeta, sv_true, k_sv, p_sv, r_sv  = fn.sim_1s(\n",
    "\t# cens= fn.sim_1s(\n",
    "\t\ti, \n",
    "\t\t100,\n",
    "\t\treg_1, \n",
    "\t\tSPLIT_RULES, \n",
    "\t\tmodel_dict, \n",
    "\t\tsampler_dict\n",
    "\t)\n",
    "\t# c.append(cens)\n",
    "\n"
   ]
  },
  {
   "cell_type": "code",
   "execution_count": 111,
   "metadata": {},
   "outputs": [
    {
     "data": {
      "text/plain": [
       "[]"
      ]
     },
     "execution_count": 111,
     "metadata": {},
     "output_type": "execute_result"
    }
   ],
   "source": []
  },
  {
   "cell_type": "code",
   "execution_count": 112,
   "metadata": {},
   "outputs": [
    {
     "data": {
      "text/plain": [
       "[<matplotlib.lines.Line2D at 0x14427a390>]"
      ]
     },
     "execution_count": 112,
     "metadata": {},
     "output_type": "execute_result"
    },
    {
     "data": {
      "image/png": "[encoded data removed]",
      "text/plain": [
       "<Figure size 640x480 with 1 Axes>"
      ]
     },
     "metadata": {},
     "output_type": "display_data"
    }
   ],
   "source": [
    "msk = meta[2].astype(int)-1\n",
    "plt.step(meta[1][msk], sv_true[msk], color = \"black\", where=\"post\")\n",
    "# print(meta[1][meta[2].astype(int)])\n",
    "\n",
    "plt.step(k_sv[2], k_sv[0], where=\"post\", color=\"blue\", alpha=0.5)\n",
    "plt.step(k_sv[2], k_sv[1][0],where=\"post\", color=\"blue\", alpha=0.2)\n",
    "plt.step(k_sv[2], k_sv[1][1],where=\"post\", color=\"blue\", alpha=0.2)\n",
    "\n",
    "plt.step(p_sv[1], p_sv[0][0], where=\"post\", color=\"green\", alpha=0.5)\n",
    "plt.step(p_sv[1], p_sv[0][1][0],where=\"post\", color=\"green\", alpha=0.2)\n",
    "plt.step(p_sv[1], p_sv[0][1][1],where=\"post\", color=\"green\", alpha=0.2)\n",
    "\n",
    "plt.step(p_sv[1], r_sv[0], where=\"post\", color=\"red\", alpha=0.5)\n",
    "plt.step(p_sv[1], r_sv[1][0],where=\"post\", color=\"red\", alpha=0.2)\n",
    "plt.step(p_sv[1], r_sv[1][1],where=\"post\", color=\"red\", alpha=0.2)\n",
    "# k_sv[1]"
   ]
  },
  {
   "cell_type": "markdown",
   "metadata": {},
   "source": [
    "# type 2"
   ]
  },
  {
   "cell_type": "code",
   "execution_count": 292,
   "metadata": {},
   "outputs": [],
   "source": [
    "SPLIT_RULES =  [\n",
    "    \"pmb.ContinuousSplitRule()\", \n",
    "    # \"pmb.ContinuousSplitRule()\", \n",
    "    \"pmb.OneHotSplitRule()\"\n",
    "]\n",
    "model_dict = {\"trees\": 30,\n",
    "    \"split_rules\": SPLIT_RULES\n",
    "}\n",
    "sampler_dict = {\n",
    "            \"draws\": 500,\n",
    "            \"tune\": 30,\n",
    "            \"cores\": 5,\n",
    "            \"chains\": 5,\n",
    "            \"compute_convergence_checks\": False\n",
    "        }"
   ]
  },
  {
   "cell_type": "code",
   "execution_count": 287,
   "metadata": {},
   "outputs": [],
   "source": [
    "reg_1 = {\n",
    "    \"type\": \"Simple, 2 group, 20% cens\",\n",
    "    \"x_vars\": 1, \n",
    "    \"VAR_CLASS\": [2],\n",
    "    \"VAR_PROB\":[.5],\n",
    "    \"scale_f\": \"12 - .5 *x_mat[:,0]\",\n",
    "    \"shape_f\": \"1.2 + 1 *x_mat[:,0]\",\n",
    "    \"cens_scale\":5.9\n",
    "\t# \"cens_scale\":1.1\n",
    "}"
   ]
  },
  {
   "cell_type": "code",
   "execution_count": 293,
   "metadata": {},
   "outputs": [
    {
     "name": "stdout",
     "output_type": "stream",
     "text": [
      "mean shape 1.7399999999999993\n",
      "mean scale 11.73\n",
      "49.0\n",
      "mean time draws 10.544746869353999\n",
      "cens mean 68.125\n",
      "[ 3  6  9 14 19]\n"
     ]
    },
    {
     "name": "stderr",
     "output_type": "stream",
     "text": [
      "Multiprocess sampling (5 chains in 5 jobs)\n",
      "PGBART: [f]\n",
      "WARNING (pytensor.tensor.blas): Using NumPy C-API based implementation for BLAS functions.\n",
      "WARNING (pytensor.tensor.blas): Using NumPy C-API based implementation for BLAS functions.\n",
      "WARNING (pytensor.tensor.blas): Using NumPy C-API based implementation for BLAS functions.\n",
      "WARNING (pytensor.tensor.blas): Using NumPy C-API based implementation for BLAS functions.\n",
      "WARNING (pytensor.tensor.blas): Using NumPy C-API based implementation for BLAS functions.\n"
     ]
    },
    {
     "data": {
      "text/html": [
       "\n",
       "<style>\n",
       "    /* Turns off some styling */\n",
       "    progress {\n",
       "        /* gets rid of default border in Firefox and Opera. */\n",
       "        border: none;\n",
       "        /* Needs to be in here for Safari polyfill so background images work as expected. */\n",
       "        background-size: auto;\n",
       "    }\n",
       "    progress:not([value]), progress:not([value])::-webkit-progress-bar {\n",
       "        background: repeating-linear-gradient(45deg, #7e7e7e, #7e7e7e 10px, #5c5c5c 10px, #5c5c5c 20px);\n",
       "    }\n",
       "    .progress-bar-interrupted, .progress-bar-interrupted::-webkit-progress-bar {\n",
       "        background: #F44336;\n",
       "    }\n",
       "</style>\n"
      ],
      "text/plain": [
       "<IPython.core.display.HTML object>"
      ]
     },
     "metadata": {},
     "output_type": "display_data"
    },
    {
     "data": {
      "text/html": [
       "\n",
       "    <div>\n",
       "      <progress value='2650' class='' max='2650' style='width:300px; height:20px; vertical-align: middle;'></progress>\n",
       "      100.00% [2650/2650 00:43&lt;00:00 Sampling 5 chains, 0 divergences]\n",
       "    </div>\n",
       "    "
      ],
      "text/plain": [
       "<IPython.core.display.HTML object>"
      ]
     },
     "metadata": {},
     "output_type": "display_data"
    },
    {
     "name": "stderr",
     "output_type": "stream",
     "text": [
      "WARNING (pytensor.tensor.blas): Using NumPy C-API based implementation for BLAS functions.\n",
      "Sampling 5 chains for 30 tune and 500 draw iterations (150 + 2_500 draws total) took 57 seconds.\n",
      "Sampling: [f]\n"
     ]
    },
    {
     "data": {
      "text/html": [
       "\n",
       "<style>\n",
       "    /* Turns off some styling */\n",
       "    progress {\n",
       "        /* gets rid of default border in Firefox and Opera. */\n",
       "        border: none;\n",
       "        /* Needs to be in here for Safari polyfill so background images work as expected. */\n",
       "        background-size: auto;\n",
       "    }\n",
       "    progress:not([value]), progress:not([value])::-webkit-progress-bar {\n",
       "        background: repeating-linear-gradient(45deg, #7e7e7e, #7e7e7e 10px, #5c5c5c 10px, #5c5c5c 20px);\n",
       "    }\n",
       "    .progress-bar-interrupted, .progress-bar-interrupted::-webkit-progress-bar {\n",
       "        background: #F44336;\n",
       "    }\n",
       "</style>\n"
      ],
      "text/plain": [
       "<IPython.core.display.HTML object>"
      ]
     },
     "metadata": {},
     "output_type": "display_data"
    },
    {
     "data": {
      "text/html": [
       "\n",
       "    <div>\n",
       "      <progress value='2500' class='' max='2500' style='width:300px; height:20px; vertical-align: middle;'></progress>\n",
       "      100.00% [2500/2500 00:23&lt;00:00]\n",
       "    </div>\n",
       "    "
      ],
      "text/plain": [
       "<IPython.core.display.HTML object>"
      ]
     },
     "metadata": {},
     "output_type": "display_data"
    },
    {
     "name": "stderr",
     "output_type": "stream",
     "text": [
      "Loading required package: nlme\n",
      "Loading required package: nnet\n",
      "Loading required package: survival\n"
     ]
    },
    {
     "name": "stdout",
     "output_type": "stream",
     "text": [
      "[1] \"/Users/jacobtiegs/projects/bart_paper/bart_survival_paper/notebook\"\n",
      "*****Calling gbart: type=2\n",
      "*****Data:\n",
      "data:n,p,np: 628, 2, 10\n",
      "y1,yn: 0.000000, 1.000000\n",
      "x1,x[n*p]: 3.000000, 1.000000\n",
      "xp1,xp[np*p]: 3.000000, 1.000000\n",
      "*****Number of Trees: 50\n",
      "*****Number of Cut Points: 4 ... 1\n",
      "*****burn,nd,thin: 250,1670,10\n",
      "*****Prior:beta,alpha,tau,nu,lambda,offset: 2,0.95,0.212132,3,1,-0.654579\n",
      "*****Dirichlet:sparse,theta,omega,a,b,rho,augment: 0,0,1,0.5,1,2,0\n",
      "*****printevery: 100\n",
      "\n",
      "MCMC\n",
      "done 0 (out of 1920)\n",
      "done 100 (out of 1920)\n",
      "done 200 (out of 1920)\n",
      "done 300 (out of 1920)\n",
      "done 400 (out of 1920)\n",
      "done 500 (out of 1920)\n",
      "done 600 (out of 1920)\n",
      "done 700 (out of 1920)\n",
      "done 800 (out of 1920)\n",
      "done 900 (out of 1920)\n",
      "done 1000 (out of 1920)\n",
      "done 1100 (out of 1920)\n",
      "done 1200 (out of 1920)\n",
      "done 1300 (out of 1920)\n",
      "done 1400 (out of 1920)\n",
      "done 1500 (out of 1920)\n",
      "done 1600 (out of 1920)\n",
      "done 1700 (out of 1920)\n",
      "done 1800 (out of 1920)\n",
      "done 1900 (out of 1920)\n",
      "time: 3s\n",
      "trcnt,tecnt: 167,167\n",
      "[0.82740203 0.64708651 0.49259614 0.30023332 0.17626819]\n",
      "[ 3  6  9 14 19]\n",
      "[ 2  5  8 13 18]\n"
     ]
    }
   ],
   "source": [
    "importlib.reload(si)\n",
    "meta, cens,k,p,r,fig = si.iter_simulation_2s(\n",
    "\titers=1, \n",
    "\tn=200,\n",
    "\t# scenario= cn.simple_1_1, \n",
    "\tscenario=reg_1,\n",
    "\tSPLIT_RULES=SPLIT_RULES, \n",
    "\tmodel_dict=model_dict, \n",
    "\tsampler_dict=sampler_dict\n",
    ")"
   ]
  },
  {
   "cell_type": "code",
   "execution_count": 294,
   "metadata": {},
   "outputs": [
    {
     "data": {
      "image/png": "[encoded data removed]",
      "text/plain": [
       "<Figure size 1600x800 with 3 Axes>"
      ]
     },
     "execution_count": 294,
     "metadata": {},
     "output_type": "execute_result"
    }
   ],
   "source": [
    "fig\n",
    "# meta[0][3][0]"
   ]
  },
  {
   "cell_type": "code",
   "execution_count": 295,
   "metadata": {},
   "outputs": [
    {
     "data": {
      "text/plain": [
       "({'rmse': array([0.00309246, 0.0171692 , 0.05048506, 0.04231969, 0.01655406]),\n",
       "  'bias': array([ 0.00309246,  0.00105914, -0.00168742,  0.02779782, -0.00087325]),\n",
       "  'cov': array([1., 1., 1., 1., 1.]),\n",
       "  'ivl': array([0.12591857, 0.18007275, 0.2019618 , 0.16893349, 0.12199333])},\n",
       " {'rmse': array([0.02122475, 0.03497457, 0.05049195, 0.02985744, 0.01600457]),\n",
       "  'bias': array([ 0.01301141,  0.01137866,  0.02040057,  0.01083331, -0.01600457]),\n",
       "  'cov': array([1., 1., 1., 1., 1.]),\n",
       "  'ivl': array([0.09500013, 0.13651308, 0.15017493, 0.12251074, 0.10088769])},\n",
       " {'rmse': array([0.01588508, 0.03018365, 0.05364043, 0.0364225 , 0.00578708]),\n",
       "  'bias': array([ 0.00333665,  0.00099717,  0.00117577,  0.02468471, -0.00168957]),\n",
       "  'cov': array([1., 1., 1., 1., 1.]),\n",
       "  'ivl': array([0.11345762, 0.17030989, 0.19290763, 0.1531899 , 0.11373706])})"
      ]
     },
     "execution_count": 295,
     "metadata": {},
     "output_type": "execute_result"
    }
   ],
   "source": [
    "# sv_true\n",
    "k, p, r"
   ]
  }
 ],
 "metadata": {
  "kernelspec": {
   "display_name": "Python 3.10.12 ('.paper_venv': venv)",
   "language": "python",
   "name": "python3"
  },
  "language_info": {
   "codemirror_mode": {
    "name": "ipython",
    "version": 3
   },
   "file_extension": ".py",
   "mimetype": "text/x-python",
   "name": "python",
   "nbconvert_exporter": "python",
   "pygments_lexer": "ipython3",
   "version": "3.11.8"
  },
  "orig_nbformat": 4,
  "vscode": {
   "interpreter": {
    "hash": "e45457e90195d1585fce856b4f6dbb6d2ca5f521e76b59d4cfa3c981e92b93bd"
   }
  }
 },
 "nbformat": 4,
 "nbformat_minor": 2
}
