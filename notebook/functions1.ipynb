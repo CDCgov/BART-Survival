{
 "cells": [
  {
   "cell_type": "code",
   "execution_count": 1,
   "metadata": {},
   "outputs": [
    {
     "name": "stderr",
     "output_type": "stream",
     "text": [
      "WARNING (pytensor.tensor.blas): Using NumPy C-API based implementation for BLAS functions.\n"
     ]
    }
   ],
   "source": [
    "import pandas as pd\n",
    "import numpy as np\n",
    "import lifelines as ll\n",
    "import sksurv as sks\n",
    "import matplotlib.pyplot as plt\n",
    "from bart_survival import surv_bart as sb\n",
    "from bart_survival import simulation as sm\n",
    "import lifelines as ll\n",
    "from lifelines import KaplanMeierFitter\n",
    "import subprocess"
   ]
  },
  {
   "cell_type": "code",
   "execution_count": 3,
   "metadata": {},
   "outputs": [
    {
     "name": "stderr",
     "output_type": "stream",
     "text": [
      "WARNING (pytensor.tensor.blas): Using NumPy C-API based implementation for BLAS functions.\n"
     ]
    }
   ],
   "source": [
    "from _functions1 import *"
   ]
  },
  {
   "cell_type": "markdown",
   "metadata": {},
   "source": [
    "# Functions"
   ]
  },
  {
   "cell_type": "markdown",
   "metadata": {},
   "source": [
    "## Simulation Functions"
   ]
  },
  {
   "cell_type": "markdown",
   "metadata": {},
   "source": [
    "2 cens\n",
    "3 smpl\n",
    "5 times\n",
    "== 30 total scenarios"
   ]
  },
  {
   "cell_type": "code",
   "execution_count": 2,
   "metadata": {},
   "outputs": [],
   "source": [
    "rng = np.random.default_rng(99)"
   ]
  },
  {
   "cell_type": "markdown",
   "metadata": {},
   "source": [
    "There is no good way to predetermine censoring. Lower cens_scale == > cens percent. 4 is generally around 20%, .5 generally around 50% censored.\n",
    "Trial to find"
   ]
  },
  {
   "cell_type": "code",
   "execution_count": 2,
   "metadata": {},
   "outputs": [],
   "source": [
    "# cns = []\n",
    "# for i in range(0,1000):\n",
    "#     event_dict, sv_true, sv_scale_true = sm.simulate_survival(\n",
    "#         x_mat = x_mat,\n",
    "#         scale_f=\"2.5*x_mat[:,0]\",\n",
    "#         shape_f=\".8\",\n",
    "#         cens_scale=3.3,\n",
    "#         rng = rng\n",
    "#     )\n",
    "#     # print(event_dict[\"cens_percentage\"])\n",
    "#     cns.append(event_dict[\"status\"][event_dict[\"status\"]==0].shape[0]/event_dict[\"status\"].shape[0])"
   ]
  },
  {
   "cell_type": "code",
   "execution_count": 3,
   "metadata": {},
   "outputs": [],
   "source": [
    "def get_sim(rng, N, type, x_vars, VAR_CLASS, VAR_PROB, scale_f, shape_f, cens_scale):\n",
    "    x_mat = sm.get_x_matrix(\n",
    "        N = N,\n",
    "        x_vars = x_vars, \n",
    "        VAR_CLASS=VAR_CLASS,\n",
    "        VAR_PROB= VAR_PROB\n",
    "    )\n",
    "\n",
    "    event_dict, sv_true, sv_scale_true = sm.simulate_survival(\n",
    "        x_mat = x_mat,\n",
    "        scale_f=scale_f,\n",
    "        shape_f=shape_f,\n",
    "        cens_scale=cens_scale,\n",
    "        rng = rng\n",
    "    )\n",
    "    return type, x_mat, event_dict, sv_true, sv_scale_true"
   ]
  },
  {
   "cell_type": "code",
   "execution_count": 4,
   "metadata": {},
   "outputs": [],
   "source": [
    "#simple\n",
    "N = [100, 200,400]\n",
    "\n",
    "simple_1_1 = {\n",
    "    \"type\": \"Simple, 1 group, 50% cens\",\n",
    "    \"x_vars\": 1, \n",
    "    \"VAR_CLASS\": [2],\n",
    "    \"VAR_PROB\":[1],\n",
    "    \"scale_f\": \"2.5*x_mat[:,0]\",\n",
    "    \"shape_f\": \".8\",\n",
    "    \"cens_scale\":3.3,\n",
    "}\n",
    "simple_1_2 = {\n",
    "    \"type\": \"Simple, 1 group, 50% cens\",\n",
    "    \"x_vars\": 1, \n",
    "    \"VAR_CLASS\": [2],\n",
    "    \"VAR_PROB\":[1],\n",
    "    \"scale_f\": \"2.5*x_mat[:,0]\",\n",
    "    \"shape_f\": \".8\",\n",
    "    \"cens_scale\":.5,\n",
    "}\n",
    "\n",
    "simple_2_1 = {\n",
    "    \"type\": \"Simple, 2 group, 50% cens\",\n",
    "    \"x_vars\": 1, \n",
    "    \"VAR_CLASS\": [2],\n",
    "    \"VAR_PROB\":[.5],\n",
    "    \"scale_f\": \"2.5 + 1.05*x_mat[:,0]\",\n",
    "    \"shape_f\": \".8 + .5*x_mat[:,0]\",\n",
    "    \"cens_scale\":3\n",
    "}\n",
    "\n",
    "simple_2_2 = {\n",
    "    \"type\": \"Simple, 2 group, 50% cens\",\n",
    "    \"x_vars\": 1, \n",
    "    \"VAR_CLASS\": [2],\n",
    "    \"VAR_PROB\":[.5],\n",
    "    \"scale_f\": \"2.5 + 1.05*x_mat[:,0]\",\n",
    "    \"shape_f\": \".8 + .5*x_mat[:,0]\",\n",
    "    \"cens_scale\":.7\n",
    "}\n"
   ]
  },
  {
   "cell_type": "code",
   "execution_count": 6,
   "metadata": {},
   "outputs": [
    {
     "name": "stdout",
     "output_type": "stream",
     "text": [
      "mean shape 1.07\n",
      "mean scale 3.0669999999999997\n",
      "mean time draws 2.706501909533985\n",
      "cens mean 10.5\n"
     ]
    }
   ],
   "source": [
    "# type, x_mat, event_dict, sv_true, sv_scale_true = get_sim(rng, N[0], **simple_2_1)"
   ]
  },
  {
   "cell_type": "code",
   "execution_count": 5,
   "metadata": {},
   "outputs": [],
   "source": [
    "def confirm_cens_perc(event_dict):\n",
    "    return (event_dict[\"status\"]==0).sum()/(event_dict[\"status\"].shape[0])\n",
    "\n",
    "def check_x_mat_ones(x_mat):\n",
    "    assert np.all(x_mat[:,0] == 1)\n",
    "\n",
    "def get_max_time(event_dict):\n",
    "    return event_dict[\"t_event\"].max()\n",
    "\n",
    "def exp_diff_actual(sv_true, msk):\n",
    "    return sv_true[\"sv_true\"][msk] - sv_true[\"sv_true\"][~msk]\n",
    "\n",
    "def expand_kpm_ci(k1_ci, k1):\n",
    "    uq = np.unique(k1, return_counts=True, return_index=True)\n",
    "    up = k1_ci.values[:,1].reshape(-1)\n",
    "    lw = k1_ci.values[:,0].reshape(-1)\n",
    "    long_upper_ci = np.zeros_like(k1)\n",
    "    long_lower_ci = np.zeros_like(k1)\n",
    "    for i in range(uq[1].shape[0]):\n",
    "        uniq_idx = uq[1][i]\n",
    "        repeats = uq[2][i]\n",
    "        lw_tmp = np.repeat(lw[uniq_idx], repeats)\n",
    "        up_tmp = np.repeat(up[uniq_idx], repeats)\n",
    "        long_idx = np.arange(uniq_idx, uniq_idx+repeats)\n",
    "        long_upper_ci[long_idx] = up_tmp\n",
    "        long_lower_ci[long_idx] = lw_tmp\n",
    "    return np.hstack([long_upper_ci.reshape(-1,1), long_lower_ci.reshape(-1,1)])\n",
    "\n",
    "def onepop_kpm(event_dict):\n",
    "    kpm = ll.KaplanMeierFitter()\n",
    "    kpm.fit(durations=event_dict[\"t_event\"], event_observed=event_dict[\"status\"])\n",
    "    # ttt = np.arange(t_max)\n",
    "    k1 = kpm.survival_function_.values\n",
    "    # k1 = kpm.survival_function_at_times(ttt).to_numpy()\n",
    "    k1_ci = kpm.confidence_interval_survival_function_.values\n",
    "    # k1_ci = expand_kpm_ci(k1_ci, k1)\n",
    "    return k1[1:,0], k1_ci[1:,:].T\n",
    "\n",
    "def save_to_csv(event_dict, x_mat):\n",
    "    col = [\"t\",\"s\"] + [\"x\"+str(i) for i in range(x_mat.shape[1])]\n",
    "    df = pd.DataFrame(np.hstack(\n",
    "        [\n",
    "            event_dict[\"t_event\"],\n",
    "            event_dict[\"status\"],\n",
    "            x_mat\n",
    "        ]\n",
    "    ),columns= col)\n",
    "    exp_name = \"exp1_tmp.csv\"\n",
    "    path = f\"../data/{exp_name}\"\n",
    "    df.to_csv(path,index = False)\n",
    "    "
   ]
  },
  {
   "cell_type": "code",
   "execution_count": 6,
   "metadata": {},
   "outputs": [],
   "source": [
    "def get_py_bart_surv(x_mat, event_dict, model_dict, sampler_dict):\n",
    "    y_sk = sb.get_y_sklearn(status = event_dict[\"status\"], t_event=event_dict[\"t_event\"])\n",
    "    trn = sb.get_surv_pre_train(y_sk = y_sk, x_sk = x_mat, weight=None)\n",
    "    post_test = sb.get_posterior_test(y_sk = y_sk, x_test = x_mat)\n",
    "    small_post_x = np.unique(post_test[\"post_x\"][:,0]).reshape(-1,1)\n",
    "    small_coords = np.hstack([np.repeat(0, small_post_x.shape[0]), np.repeat(1, small_post_x.shape[0]), ])\n",
    "    small_post_x = np.vstack([small_post_x, small_post_x])\n",
    "    # assert False\n",
    "\n",
    "    BSM = sb.BartSurvModel(model_config=model_dict, sampler_config=sampler_dict)\n",
    "    # fit with just the time column\n",
    "    BSM.fit(y=trn[\"y\"], X=trn[\"x\"][:,0].reshape(-1,1), weights=trn[\"w\"], coords = trn[\"coord\"], random_seed=99)\n",
    "    # test with just the time column\n",
    "    # post1 = BSM.sample_posterior_predictive(X_pred=post_test[\"post_x\"][:,0].reshape(-1,1), coords=post_test[\"coords\"])\n",
    "    post1 = BSM.sample_posterior_predictive(X_pred=small_post_x, coords=small_coords)\n",
    "    sv_prob = sb.get_sv_prob(post1)\n",
    "    sv_m = sv_prob[\"sv\"].mean(1).mean(0)\n",
    "    uniq_t = BSM.uniq_times\n",
    "    sv_q = np.quantile(sv_prob[\"sv\"].mean(1), [0.025,0.975], axis=0)\n",
    "    return sv_m, sv_q, uniq_t, sv_prob\n",
    "\n",
    "def get_r_bart(event_dict, x_mat):\n",
    "    save_to_csv(event_dict, x_mat)\n",
    "    subprocess.call(\"/usr/bin/Rscript --vanilla ../R/bart_1.R\", shell=True)\n",
    "    r_sv = pd.read_csv(\"../data/exp1_tmp_out2.csv\").values\n",
    "    r_sv_m = r_sv[:,0].T\n",
    "    r_sv_q = r_sv[:,1:].T\n",
    "    return r_sv_m, r_sv_q"
   ]
  },
  {
   "cell_type": "code",
   "execution_count": 7,
   "metadata": {},
   "outputs": [],
   "source": [
    "def get_quant_times(uniq_t, uniq=True):\n",
    "    \"\"\"gets the index of quantile values\n",
    "\n",
    "    Args:\n",
    "        uniq_t (array): Unique values of observed times\n",
    "        uniq (bool, optional): Indicator returns just the unique quantiles if values repeat. Defaults to True.\n",
    "\n",
    "    Returns:\n",
    "        nd.array: Array of indexes of the quantiles.\n",
    "    \"\"\"\n",
    "    qnt_t = np.quantile(uniq_t, [.1, .25, .5, .75, .9], method = \"closest_observation\")\n",
    "    qnt_idx = np.array([(np.abs(uniq_t-i).argmin()) for i in qnt_t])\n",
    "    if uniq:\n",
    "        qnt_t = np.unique(qnt_t)\n",
    "        qnt_idx=np.unique(qnt_idx)\n",
    "\n",
    "\n",
    "    return qnt_t.astype(\"int\"), qnt_idx.astype(\"int\")\n",
    "# pb_uniq_t\n",
    "\n",
    "def coverage(sv_true, tst_ci, qnt_t, qnt_idx):\n",
    "    ci_lst = []\n",
    "    sv_true = sv_true[qnt_t]\n",
    "    tst_ci = tst_ci[:,qnt_idx]\n",
    "    for i in range(sv_true.shape[0]):\n",
    "        in_ci = tst_ci[0,i] <= sv_true[i] <= tst_ci[1,i]\n",
    "        # in_ci = sv_true[i] >= tst_ci[0,i] and sv_true[i] <= tst_ci[1,i]\n",
    "        ci_lst.append(in_ci)\n",
    "    return np.array(ci_lst)\n"
   ]
  },
  {
   "cell_type": "code",
   "execution_count": 28,
   "metadata": {},
   "outputs": [],
   "source": [
    "def rmse_single(sv_true, tst_m, qnt_t, qnt_idx):\n",
    "    rmse = np.sqrt(np.power(sv_true[qnt_t] - tst_m[qnt_idx],2))\n",
    "    return rmse\n",
    "\n",
    "def bias_single(sv_true, tst_m, qnt_t, qnt_idx):\n",
    "    bias = sv_true[qnt_t] - tst_m[qnt_idx]\n",
    "    return bias\n",
    "\n",
    "def ci_length(tst_q, qnt_idx):\n",
    "    ci_l = tst_q[1,qnt_idx]-tst_q[0,qnt_idx]\n",
    "    return ci_l"
   ]
  },
  {
   "cell_type": "code",
   "execution_count": 72,
   "metadata": {},
   "outputs": [],
   "source": [
    "\n",
    "# iterate Z times\n",
    "def sim_1s(seed, n, scenario, SPLIT_RULES, model_dict, sampler_dict):\n",
    "    # set rng as seed given\n",
    "    if type(seed) is int:\n",
    "        rng = np.random.default_rng(seed)\n",
    "    else:\n",
    "        rng = seed\n",
    "    # generate survival simulation\n",
    "    scenario, x_mat, event_dict, sv_true, sv_scale_true = get_sim(rng, n, **scenario)\n",
    "    # type, x_mat, event_dict, sv_true, sv_scale_true = get_sim(rng, N[0], **simple_1_2)\n",
    "    cens_perc = event_dict[\"status\"][event_dict[\"status\"] == 0].shape[0]/event_dict[\"status\"].shape[0]\n",
    "    # get uniq times and quantiles as indexes\n",
    "    uniq_t = np.unique(event_dict[\"t_event\"]) \n",
    "    qnt_t, qnt_idx = get_quant_times(uniq_t, uniq = False)\n",
    "    # singular sv true\n",
    "    sv_true_r1 = sv_true[\"sv_true\"][0,:]\n",
    "    # check x_mat\n",
    "    check_x_mat_ones(x_mat)\n",
    "    # fit kpm\n",
    "    k_sv_m, k_sv_q = onepop_kpm(event_dict)\n",
    "    # fit bart_py\n",
    "    pb_sv_m, pb_sv_q, pb_uniq_t, sv_prob = get_py_bart_surv(x_mat=x_mat, event_dict=event_dict, model_dict=model_dict, sampler_dict=sampler_dict)\n",
    "    # fit bart_r\n",
    "    r_sv_m, r_sv_q = get_r_bart(event_dict, x_mat)\n",
    "    return sv_true, cens_perc, uniq_t, qnt_t, qnt_idx, sv_true_r1, k_sv_m, k_sv_q, pb_sv_m, pb_sv_q, r_sv_m, r_sv_q\n",
    "\n",
    "def get_metrics(\n",
    "    sv_true_r1,\n",
    "    qnt_t, qnt_idx,\n",
    "    k_sv_m, k_sv_q,\n",
    "    pb_sv_m, pb_sv_q,\n",
    "    r_sv_m, r_sv_q\n",
    "):\n",
    "    # coverage probability \n",
    "    k_cov = coverage(sv_true_r1, k_sv_q, qnt_t-1, qnt_idx)\n",
    "    pb_cov = coverage(sv_true_r1, pb_sv_q, qnt_t-1, qnt_idx)\n",
    "    r_cov = coverage(sv_true_r1, r_sv_q, qnt_t-1, qnt_idx)\n",
    "    # interval length\n",
    "    k_ci_l = ci_length(k_sv_q, qnt_idx)\n",
    "    pb_ci_l = ci_length(pb_sv_q, qnt_idx)\n",
    "    r_ci_l = ci_length(r_sv_q, qnt_idx)\n",
    "\n",
    "    #RMSE\n",
    "    k_rmse = rmse_single(sv_true_r1, k_sv_m, qnt_t-1, qnt_idx)\n",
    "    pb_rmse = rmse_single(sv_true_r1, pb_sv_m, qnt_t-1, qnt_idx)\n",
    "    r_rmse = rmse_single(sv_true_r1, r_sv_m, qnt_t-1, qnt_idx)\n",
    "    # bias\n",
    "    k_bias = bias_single(sv_true_r1, k_sv_m, qnt_t-1, qnt_idx)\n",
    "    pb_bias = bias_single(sv_true_r1, pb_sv_m, qnt_t-1, qnt_idx)\n",
    "    r_bias = bias_single(sv_true_r1, r_sv_m, qnt_t-1, qnt_idx)\n",
    "    return k_cov, pb_cov, r_cov, k_ci_l, pb_ci_l, r_ci_l, k_rmse, pb_rmse, r_rmse, k_bias, pb_bias, r_bias\n"
   ]
  },
  {
   "cell_type": "code",
   "execution_count": 137,
   "metadata": {},
   "outputs": [],
   "source": [
    "SPLIT_RULES =  [\n",
    "    \"pmb.ContinuousSplitRule()\", \n",
    "    # \"pmb.OneHotSplitRule()\"\n",
    "]\n",
    "model_dict = {\"trees\": 10,\n",
    "    \"split_rules\": SPLIT_RULES\n",
    "}\n",
    "sampler_dict = {\n",
    "            \"draws\": 200,\n",
    "            \"tune\": 30,\n",
    "            \"cores\": 6,\n",
    "            \"chains\": 6,\n",
    "            \"compute_convergence_checks\": False\n",
    "        }"
   ]
  },
  {
   "cell_type": "code",
   "execution_count": 1,
   "metadata": {},
   "outputs": [],
   "source": [
    "# i_lst = []\n",
    "# sv_true_r1_lst = [] \n",
    "# cens_perc_lst = []\n",
    "# uniq_t_lst = []\n",
    "# qnt_t_lst = []\n",
    "\n",
    "# k_cov_lst = []\n",
    "# pb_cov_lst = []\n",
    "# r_cov_lst = []\n",
    "# k_ci_l_lst = []\n",
    "# pb_ci_l_lst = []\n",
    "# r_ci_l_lst = []\n",
    "# k_rmse_lst = []\n",
    "# pb_rmse_lst = []\n",
    "# r_rmse_lst = []\n",
    "# k_bias_lst = [] \n",
    "# pb_bias_lst = []\n",
    "# r_bias_lst = []\n",
    "\n",
    "# for i in range(1):\n",
    "#     print(i)\n",
    "#     i_lst.append(i)\n",
    "#     sv_true, cens_perc, uniq_t, qnt_t, qnt_idx, sv_true_r1, k_sv_m, k_sv_q, pb_sv_m, pb_sv_q, r_sv_m, r_sv_q = sim_1s(seed=i, n=N[0], scenario=simple_1_1, SPLIT_RULES=SPLIT_RULES, model_dict=model_dict, sampler_dict=sampler_dict)\n",
    "#     cens_perc_lst.append(cens_perc)\n",
    "#     uniq_t_lst.append(uniq_t)\n",
    "#     qnt_t_lst.append(qnt_t)\n",
    "\n",
    "#     k_cov, pb_cov, r_cov, k_ci_l, pb_ci_l, r_ci_l, k_rmse, pb_rmse, r_rmse, k_bias, pb_bias, r_bias = get_metrics(\n",
    "#         sv_true_r1,\n",
    "#         qnt_t, qnt_idx,\n",
    "#         k_sv_m, k_sv_q,\n",
    "#         pb_sv_m, pb_sv_q,\n",
    "#         r_sv_m, r_sv_q\n",
    "#     )\n",
    "#     k_cov_lst.append(k_cov)\n",
    "#     pb_cov_lst.append(pb_cov)\n",
    "#     r_cov_lst.append(r_cov)\n",
    "#     k_ci_l_lst.append(k_ci_l)\n",
    "#     pb_ci_l_lst.append(pb_ci_l)\n",
    "#     r_ci_l_lst.append(r_ci_l)\n",
    "#     k_rmse_lst.append(k_rmse)\n",
    "#     pb_rmse_lst.append(pb_rmse)\n",
    "#     r_rmse_lst.append(r_rmse)\n",
    "#     k_bias_lst.append(k_bias)\n",
    "#     pb_bias_lst.append(pb_bias)\n",
    "#     r_bias_lst.append(r_bias)\n",
    "    "
   ]
  },
  {
   "cell_type": "code",
   "execution_count": 145,
   "metadata": {},
   "outputs": [
    {
     "name": "stdout",
     "output_type": "stream",
     "text": [
      "[0.18883315 0.19374718 0.16994323 0.14269829 0.12422939]\n",
      "[0.17410374 0.17658999 0.14637976 0.10976133 0.08637622]\n",
      "[0.18403567 0.1896887  0.16236159 0.12458268 0.09441894]\n"
     ]
    }
   ],
   "source": [
    "print(np.array(k_ci_l_lst).mean(0))\n",
    "print(np.array(pb_ci_l_lst).mean(0))\n",
    "print(np.array(r_ci_l_lst).mean(0))\n"
   ]
  },
  {
   "cell_type": "code",
   "execution_count": 141,
   "metadata": {},
   "outputs": [
    {
     "name": "stdout",
     "output_type": "stream",
     "text": [
      "0.13864220949816183\n",
      "[0.97 0.95 0.98 0.96 0.97]\n",
      "[0.9  0.93 0.94 0.92 0.92]\n",
      "[0.98 0.97 0.97 0.94 0.94]\n"
     ]
    },
    {
     "data": {
      "text/plain": [
       "(100,)"
      ]
     },
     "execution_count": 141,
     "metadata": {},
     "output_type": "execute_result"
    }
   ],
   "source": [
    "\n",
    "\n",
    "\n",
    "print(np.array(k_cov_lst).sum(0)/100)\n",
    "print(np.array(pb_cov_lst).sum(0)/100)\n",
    "print(np.array(r_cov_lst).sum(0)/100)\n",
    "\n",
    "# np.array(qnt_t_lst).mean(0)\n",
    "print(np.array(cens_perc_lst).shape)\n",
    "# print(np.array(pb_rmse_lst).mean(0))\n",
    "# print(np.array(r_rmse_lst).mean(0))"
   ]
  },
  {
   "cell_type": "code",
   "execution_count": 91,
   "metadata": {},
   "outputs": [
    {
     "data": {
      "text/plain": [
       "<matplotlib.legend.Legend at 0x7fb4d423a140>"
      ]
     },
     "execution_count": 91,
     "metadata": {},
     "output_type": "execute_result"
    },
    {
     "data": {
      "image/png": "[encoded data removed]",
      "text/plain": [
       "<Figure size 640x480 with 1 Axes>"
      ]
     },
     "metadata": {},
     "output_type": "display_data"
    }
   ],
   "source": [
    "\n",
    "# ttt = np.arange(1, svv.shape[0]+1)\n",
    "ttt = uniq_t\n",
    "plt.step(ttt,pb_sv_m, color = \"blue\", alpha=0.8, label = \"py_bart\")\n",
    "plt.step(ttt, pb_sv_q[0,:], color=\"blue\", alpha=0.2,)\n",
    "plt.step(ttt, pb_sv_q[1,:], color=\"blue\", alpha=0.2)\n",
    "plt.step(ttt, k_sv_m, color=\"green\", alpha=0.8, label=\"km\")\n",
    "plt.step(ttt, k_sv_q[0,:], color=\"green\", alpha=0.2)\n",
    "plt.step(ttt, k_sv_q[1,:], color=\"green\", alpha=0.2)\n",
    "plt.step(ttt, r_sv_m, color = \"red\", alpha=0.8, label=\"r_bart\")\n",
    "plt.step(ttt, r_sv_q[0,:], color = \"red\", alpha=0.2)\n",
    "plt.step(ttt, r_sv_q[1,:], color = \"red\", alpha=0.2)\n",
    "\n",
    "plt.step(sv_true[\"true_times\"], sv_true[\"sv_true\"].mean(0), color = \"orange\", alpha=0.8, label=\"true\")\n",
    "plt.legend()\n"
   ]
  }
 ],
 "metadata": {
  "kernelspec": {
   "display_name": "Python 3.10.12 ('.paper_venv': venv)",
   "language": "python",
   "name": "python3"
  },
  "language_info": {
   "codemirror_mode": {
    "name": "ipython",
    "version": 3
   },
   "file_extension": ".py",
   "mimetype": "text/x-python",
   "name": "python",
   "nbconvert_exporter": "python",
   "pygments_lexer": "ipython3",
   "version": "3.10.12"
  },
  "orig_nbformat": 4,
  "vscode": {
   "interpreter": {
    "hash": "e45457e90195d1585fce856b4f6dbb6d2ca5f521e76b59d4cfa3c981e92b93bd"
   }
  }
 },
 "nbformat": 4,
 "nbformat_minor": 2
}
