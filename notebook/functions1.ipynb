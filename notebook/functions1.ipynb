{
 "cells": [
  {
   "cell_type": "code",
   "execution_count": 1,
   "metadata": {},
   "outputs": [
    {
     "name": "stderr",
     "output_type": "stream",
     "text": [
      "WARNING (pytensor.tensor.blas): Using NumPy C-API based implementation for BLAS functions.\n"
     ]
    }
   ],
   "source": [
    "import pandas as pd\n",
    "import numpy as np\n",
    "import lifelines as ll\n",
    "import sksurv as sks\n",
    "import matplotlib.pyplot as plt\n",
    "from bart_survival import surv_bart as sb\n",
    "from bart_survival import simulation as sm\n",
    "import lifelines as ll\n",
    "from lifelines import KaplanMeierFitter\n",
    "import subprocess\n",
    "import importlib"
   ]
  },
  {
   "cell_type": "code",
   "execution_count": 4,
   "metadata": {},
   "outputs": [],
   "source": [
    "import _functions1 as fn\n",
    "from _conditions1 import *"
   ]
  },
  {
   "cell_type": "code",
   "execution_count": 17,
   "metadata": {},
   "outputs": [],
   "source": [
    "SPLIT_RULES =  [\n",
    "    \"pmb.ContinuousSplitRule()\", \n",
    "    # \"pmb.ContinuousSplitRule()\", \n",
    "    \"pmb.OneHotSplitRule()\"\n",
    "]\n",
    "model_dict = {\"trees\": 25,\n",
    "    \"split_rules\": SPLIT_RULES\n",
    "}\n",
    "sampler_dict = {\n",
    "            \"draws\": 100,\n",
    "            \"tune\": 10,\n",
    "            \"cores\": 6,\n",
    "            \"chains\": 6,\n",
    "            \"compute_convergence_checks\": False\n",
    "        }"
   ]
  },
  {
   "cell_type": "code",
   "execution_count": 380,
   "metadata": {},
   "outputs": [
    {
     "data": {
      "text/plain": [
       "<module '_functions1' from '/home/twj8/projects/bart_survival_paper/notebook/_functions1.py'>"
      ]
     },
     "execution_count": 380,
     "metadata": {},
     "output_type": "execute_result"
    }
   ],
   "source": [
    "\n",
    "importlib.reload(fn)"
   ]
  },
  {
   "cell_type": "code",
   "execution_count": 21,
   "metadata": {},
   "outputs": [
    {
     "name": "stdout",
     "output_type": "stream",
     "text": [
      "mean shape 1.07\n",
      "mean scale 3.0669999999999997\n",
      "mean time draws 3.352094597122493\n",
      "cens mean 2.55\n",
      "(176, 2)\n"
     ]
    },
    {
     "name": "stderr",
     "output_type": "stream",
     "text": [
      "Only 100 samples in chain.\n",
      "Multiprocess sampling (6 chains in 6 jobs)\n",
      "PGBART: [f]\n"
     ]
    },
    {
     "data": {
      "text/html": [
       "\n",
       "<style>\n",
       "    /* Turns off some styling */\n",
       "    progress {\n",
       "        /* gets rid of default border in Firefox and Opera. */\n",
       "        border: none;\n",
       "        /* Needs to be in here for Safari polyfill so background images work as expected. */\n",
       "        background-size: auto;\n",
       "    }\n",
       "    progress:not([value]), progress:not([value])::-webkit-progress-bar {\n",
       "        background: repeating-linear-gradient(45deg, #7e7e7e, #7e7e7e 10px, #5c5c5c 10px, #5c5c5c 20px);\n",
       "    }\n",
       "    .progress-bar-interrupted, .progress-bar-interrupted::-webkit-progress-bar {\n",
       "        background: #F44336;\n",
       "    }\n",
       "</style>\n"
      ],
      "text/plain": [
       "<IPython.core.display.HTML object>"
      ]
     },
     "metadata": {},
     "output_type": "display_data"
    },
    {
     "data": {
      "text/html": [
       "\n",
       "    <div>\n",
       "      <progress value='660' class='' max='660' style='width:300px; height:20px; vertical-align: middle;'></progress>\n",
       "      100.00% [660/660 00:05&lt;00:00 Sampling 6 chains, 0 divergences]\n",
       "    </div>\n",
       "    "
      ],
      "text/plain": [
       "<IPython.core.display.HTML object>"
      ]
     },
     "metadata": {},
     "output_type": "display_data"
    },
    {
     "name": "stderr",
     "output_type": "stream",
     "text": [
      "Sampling 6 chains for 10 tune and 100 draw iterations (60 + 600 draws total) took 6 seconds.\n",
      "Sampling: [f]\n"
     ]
    },
    {
     "data": {
      "text/html": [
       "\n",
       "<style>\n",
       "    /* Turns off some styling */\n",
       "    progress {\n",
       "        /* gets rid of default border in Firefox and Opera. */\n",
       "        border: none;\n",
       "        /* Needs to be in here for Safari polyfill so background images work as expected. */\n",
       "        background-size: auto;\n",
       "    }\n",
       "    progress:not([value]), progress:not([value])::-webkit-progress-bar {\n",
       "        background: repeating-linear-gradient(45deg, #7e7e7e, #7e7e7e 10px, #5c5c5c 10px, #5c5c5c 20px);\n",
       "    }\n",
       "    .progress-bar-interrupted, .progress-bar-interrupted::-webkit-progress-bar {\n",
       "        background: #F44336;\n",
       "    }\n",
       "</style>\n"
      ],
      "text/plain": [
       "<IPython.core.display.HTML object>"
      ]
     },
     "metadata": {},
     "output_type": "display_data"
    },
    {
     "data": {
      "text/html": [
       "\n",
       "    <div>\n",
       "      <progress value='600' class='' max='600' style='width:300px; height:20px; vertical-align: middle;'></progress>\n",
       "      100.00% [600/600 00:02&lt;00:00]\n",
       "    </div>\n",
       "    "
      ],
      "text/plain": [
       "<IPython.core.display.HTML object>"
      ]
     },
     "metadata": {},
     "output_type": "display_data"
    },
    {
     "name": "stderr",
     "output_type": "stream",
     "text": [
      "Loading required package: nlme\n",
      "Loading required package: nnet\n",
      "Loading required package: survival\n"
     ]
    },
    {
     "name": "stdout",
     "output_type": "stream",
     "text": [
      "[1] \"/home/twj8/projects/bart_survival_paper/notebook\"\n",
      "*****Calling gbart: type=2\n",
      "*****Data:\n",
      "data:n,p,np: 176, 2, 12\n",
      "y1,yn: 0.000000, 0.000000\n",
      "x1,x[n*p]: 1.000000, 0.000000\n",
      "xp1,xp[np*p]: 1.000000, 1.000000\n",
      "*****Number of Trees: 50\n",
      "*****Number of Cut Points: 5 ... 1\n",
      "*****burn,nd,thin: 250,1670,10\n",
      "*****Prior:beta,alpha,tau,nu,lambda,offset: 2,0.95,0.212132,3,1,-0.554049\n",
      "*****Dirichlet:sparse,theta,omega,a,b,rho,augment: 0,0,1,0.5,1,2,0\n",
      "*****printevery: 100\n",
      "\n",
      "MCMC\n",
      "done 0 (out of 1920)\n",
      "done 100 (out of 1920)\n",
      "done 200 (out of 1920)\n",
      "done 300 (out of 1920)\n",
      "done 400 (out of 1920)\n",
      "done 500 (out of 1920)\n",
      "done 600 (out of 1920)\n",
      "done 700 (out of 1920)\n",
      "done 800 (out of 1920)\n",
      "done 900 (out of 1920)\n",
      "done 1000 (out of 1920)\n",
      "done 1100 (out of 1920)\n",
      "done 1200 (out of 1920)\n",
      "done 1300 (out of 1920)\n",
      "done 1400 (out of 1920)\n",
      "done 1500 (out of 1920)\n",
      "done 1600 (out of 1920)\n",
      "done 1700 (out of 1920)\n",
      "done 1800 (out of 1920)\n",
      "done 1900 (out of 1920)\n",
      "time: 1s\n",
      "trcnt,tecnt: 167,167\n"
     ]
    }
   ],
   "source": [
    "meta, sv_true, k_sv, pb_sv, r_sv = fn.sim_2s(103, 100, simple_2_2, SPLIT_RULES, model_dict, sampler_dict)\n",
    "# k = fn.sim_2s(100, 100, simple_2_1, SPLIT_RULES, model_dict, sampler_dict)"
   ]
  },
  {
   "cell_type": "code",
   "execution_count": 237,
   "metadata": {},
   "outputs": [
    {
     "data": {
      "text/plain": [
       "<module '_functions1' from '/home/twj8/projects/bart_survival_paper/notebook/_functions1.py'>"
      ]
     },
     "execution_count": 237,
     "metadata": {},
     "output_type": "execute_result"
    }
   ],
   "source": [
    "importlib.reload(fn)"
   ]
  },
  {
   "cell_type": "code",
   "execution_count": 236,
   "metadata": {},
   "outputs": [
    {
     "name": "stdout",
     "output_type": "stream",
     "text": [
      "mean shape 1.07\n",
      "mean scale 3.0669999999999997\n",
      "mean time draws 2.9336320953037234\n",
      "cens mean 11.6\n"
     ]
    },
    {
     "data": {
      "text/plain": [
       "(array([ 1,  3,  5,  8, 10]), array([0, 2, 4, 7, 9]))"
      ]
     },
     "execution_count": 236,
     "metadata": {},
     "output_type": "execute_result"
    }
   ],
   "source": [
    "q = fn.sim_2s(3, 100, simple_2_1, SPLIT_RULES, model_dict, sampler_dict)\n"
   ]
  },
  {
   "cell_type": "code",
   "execution_count": 127,
   "metadata": {},
   "outputs": [
    {
     "name": "stdout",
     "output_type": "stream",
     "text": [
      "mean shape 1.07\n",
      "mean scale 3.0669999999999997\n",
      "mean time draws 2.9296297973862475\n",
      "cens mean 10.55\n",
      "(266, 2)\n"
     ]
    },
    {
     "name": "stderr",
     "output_type": "stream",
     "text": [
      "Only 100 samples in chain.\n",
      "Multiprocess sampling (6 chains in 6 jobs)\n",
      "PGBART: [f]\n"
     ]
    },
    {
     "data": {
      "text/html": [
       "\n",
       "<style>\n",
       "    /* Turns off some styling */\n",
       "    progress {\n",
       "        /* gets rid of default border in Firefox and Opera. */\n",
       "        border: none;\n",
       "        /* Needs to be in here for Safari polyfill so background images work as expected. */\n",
       "        background-size: auto;\n",
       "    }\n",
       "    progress:not([value]), progress:not([value])::-webkit-progress-bar {\n",
       "        background: repeating-linear-gradient(45deg, #7e7e7e, #7e7e7e 10px, #5c5c5c 10px, #5c5c5c 20px);\n",
       "    }\n",
       "    .progress-bar-interrupted, .progress-bar-interrupted::-webkit-progress-bar {\n",
       "        background: #F44336;\n",
       "    }\n",
       "</style>\n"
      ],
      "text/plain": [
       "<IPython.core.display.HTML object>"
      ]
     },
     "metadata": {},
     "output_type": "display_data"
    },
    {
     "data": {
      "text/html": [
       "\n",
       "    <div>\n",
       "      <progress value='660' class='' max='660' style='width:300px; height:20px; vertical-align: middle;'></progress>\n",
       "      100.00% [660/660 00:05&lt;00:00 Sampling 6 chains, 0 divergences]\n",
       "    </div>\n",
       "    "
      ],
      "text/plain": [
       "<IPython.core.display.HTML object>"
      ]
     },
     "metadata": {},
     "output_type": "display_data"
    },
    {
     "name": "stderr",
     "output_type": "stream",
     "text": [
      "Sampling 6 chains for 10 tune and 100 draw iterations (60 + 600 draws total) took 7 seconds.\n",
      "Sampling: [f]\n"
     ]
    },
    {
     "data": {
      "text/html": [
       "\n",
       "<style>\n",
       "    /* Turns off some styling */\n",
       "    progress {\n",
       "        /* gets rid of default border in Firefox and Opera. */\n",
       "        border: none;\n",
       "        /* Needs to be in here for Safari polyfill so background images work as expected. */\n",
       "        background-size: auto;\n",
       "    }\n",
       "    progress:not([value]), progress:not([value])::-webkit-progress-bar {\n",
       "        background: repeating-linear-gradient(45deg, #7e7e7e, #7e7e7e 10px, #5c5c5c 10px, #5c5c5c 20px);\n",
       "    }\n",
       "    .progress-bar-interrupted, .progress-bar-interrupted::-webkit-progress-bar {\n",
       "        background: #F44336;\n",
       "    }\n",
       "</style>\n"
      ],
      "text/plain": [
       "<IPython.core.display.HTML object>"
      ]
     },
     "metadata": {},
     "output_type": "display_data"
    },
    {
     "data": {
      "text/html": [
       "\n",
       "    <div>\n",
       "      <progress value='600' class='' max='600' style='width:300px; height:20px; vertical-align: middle;'></progress>\n",
       "      100.00% [600/600 00:01&lt;00:00]\n",
       "    </div>\n",
       "    "
      ],
      "text/plain": [
       "<IPython.core.display.HTML object>"
      ]
     },
     "metadata": {},
     "output_type": "display_data"
    },
    {
     "name": "stderr",
     "output_type": "stream",
     "text": [
      "Loading required package: nlme\n",
      "Loading required package: nnet\n",
      "Loading required package: survival\n"
     ]
    },
    {
     "name": "stdout",
     "output_type": "stream",
     "text": [
      "[1] \"/home/twj8/projects/bart_survival_paper/notebook\"\n",
      "*****Calling gbart: type=2\n",
      "*****Data:\n",
      "data:n,p,np: 266, 2, 20\n",
      "y1,yn: 0.000000, 1.000000\n",
      "x1,x[n*p]: 1.000000, 0.000000\n",
      "xp1,xp[np*p]: 1.000000, 1.000000\n",
      "*****Number of Trees: 50\n",
      "*****Number of Cut Points: 9 ... 1\n",
      "*****burn,nd,thin: 250,1670,10\n",
      "*****Prior:beta,alpha,tau,nu,lambda,offset: 2,0.95,0.212132,3,1,-0.490104\n",
      "*****Dirichlet:sparse,theta,omega,a,b,rho,augment: 0,0,1,0.5,1,2,0\n",
      "*****printevery: 100\n",
      "\n",
      "MCMC\n",
      "done 0 (out of 1920)\n",
      "done 100 (out of 1920)\n",
      "done 200 (out of 1920)\n",
      "done 300 (out of 1920)\n",
      "done 400 (out of 1920)\n",
      "done 500 (out of 1920)\n",
      "done 600 (out of 1920)\n",
      "done 700 (out of 1920)\n",
      "done 800 (out of 1920)\n",
      "done 900 (out of 1920)\n",
      "done 1000 (out of 1920)\n",
      "done 1100 (out of 1920)\n",
      "done 1200 (out of 1920)\n",
      "done 1300 (out of 1920)\n",
      "done 1400 (out of 1920)\n",
      "done 1500 (out of 1920)\n",
      "done 1600 (out of 1920)\n",
      "done 1700 (out of 1920)\n",
      "done 1800 (out of 1920)\n",
      "done 1900 (out of 1920)\n",
      "time: 1s\n",
      "trcnt,tecnt: 167,167\n",
      "mean shape 1.07\n",
      "mean scale 3.0669999999999997\n",
      "mean time draws 2.8921953635392095\n",
      "cens mean 10.1\n",
      "(272, 2)\n"
     ]
    },
    {
     "name": "stderr",
     "output_type": "stream",
     "text": [
      "Only 100 samples in chain.\n",
      "Multiprocess sampling (6 chains in 6 jobs)\n",
      "PGBART: [f]\n"
     ]
    },
    {
     "data": {
      "text/html": [
       "\n",
       "<style>\n",
       "    /* Turns off some styling */\n",
       "    progress {\n",
       "        /* gets rid of default border in Firefox and Opera. */\n",
       "        border: none;\n",
       "        /* Needs to be in here for Safari polyfill so background images work as expected. */\n",
       "        background-size: auto;\n",
       "    }\n",
       "    progress:not([value]), progress:not([value])::-webkit-progress-bar {\n",
       "        background: repeating-linear-gradient(45deg, #7e7e7e, #7e7e7e 10px, #5c5c5c 10px, #5c5c5c 20px);\n",
       "    }\n",
       "    .progress-bar-interrupted, .progress-bar-interrupted::-webkit-progress-bar {\n",
       "        background: #F44336;\n",
       "    }\n",
       "</style>\n"
      ],
      "text/plain": [
       "<IPython.core.display.HTML object>"
      ]
     },
     "metadata": {},
     "output_type": "display_data"
    },
    {
     "data": {
      "text/html": [
       "\n",
       "    <div>\n",
       "      <progress value='660' class='' max='660' style='width:300px; height:20px; vertical-align: middle;'></progress>\n",
       "      100.00% [660/660 00:05&lt;00:00 Sampling 6 chains, 0 divergences]\n",
       "    </div>\n",
       "    "
      ],
      "text/plain": [
       "<IPython.core.display.HTML object>"
      ]
     },
     "metadata": {},
     "output_type": "display_data"
    },
    {
     "name": "stderr",
     "output_type": "stream",
     "text": [
      "Sampling 6 chains for 10 tune and 100 draw iterations (60 + 600 draws total) took 6 seconds.\n",
      "Sampling: [f]\n"
     ]
    },
    {
     "data": {
      "text/html": [
       "\n",
       "<style>\n",
       "    /* Turns off some styling */\n",
       "    progress {\n",
       "        /* gets rid of default border in Firefox and Opera. */\n",
       "        border: none;\n",
       "        /* Needs to be in here for Safari polyfill so background images work as expected. */\n",
       "        background-size: auto;\n",
       "    }\n",
       "    progress:not([value]), progress:not([value])::-webkit-progress-bar {\n",
       "        background: repeating-linear-gradient(45deg, #7e7e7e, #7e7e7e 10px, #5c5c5c 10px, #5c5c5c 20px);\n",
       "    }\n",
       "    .progress-bar-interrupted, .progress-bar-interrupted::-webkit-progress-bar {\n",
       "        background: #F44336;\n",
       "    }\n",
       "</style>\n"
      ],
      "text/plain": [
       "<IPython.core.display.HTML object>"
      ]
     },
     "metadata": {},
     "output_type": "display_data"
    },
    {
     "data": {
      "text/html": [
       "\n",
       "    <div>\n",
       "      <progress value='600' class='' max='600' style='width:300px; height:20px; vertical-align: middle;'></progress>\n",
       "      100.00% [600/600 00:01&lt;00:00]\n",
       "    </div>\n",
       "    "
      ],
      "text/plain": [
       "<IPython.core.display.HTML object>"
      ]
     },
     "metadata": {},
     "output_type": "display_data"
    },
    {
     "name": "stderr",
     "output_type": "stream",
     "text": [
      "Loading required package: nlme\n",
      "Loading required package: nnet\n",
      "Loading required package: survival\n"
     ]
    },
    {
     "name": "stdout",
     "output_type": "stream",
     "text": [
      "[1] \"/home/twj8/projects/bart_survival_paper/notebook\"\n",
      "*****Calling gbart: type=2\n",
      "*****Data:\n",
      "data:n,p,np: 272, 2, 22\n",
      "y1,yn: 0.000000, 1.000000\n",
      "x1,x[n*p]: 1.000000, 0.000000\n",
      "xp1,xp[np*p]: 1.000000, 1.000000\n",
      "*****Number of Trees: 50\n",
      "*****Number of Cut Points: 10 ... 1\n",
      "*****burn,nd,thin: 250,1670,10\n",
      "*****Prior:beta,alpha,tau,nu,lambda,offset: 2,0.95,0.212132,3,1,-0.488776\n",
      "*****Dirichlet:sparse,theta,omega,a,b,rho,augment: 0,0,1,0.5,1,2,0\n",
      "*****printevery: 100\n",
      "\n",
      "MCMC\n",
      "done 0 (out of 1920)\n",
      "done 100 (out of 1920)\n",
      "done 200 (out of 1920)\n",
      "done 300 (out of 1920)\n",
      "done 400 (out of 1920)\n",
      "done 500 (out of 1920)\n",
      "done 600 (out of 1920)\n",
      "done 700 (out of 1920)\n",
      "done 800 (out of 1920)\n",
      "done 900 (out of 1920)\n",
      "done 1000 (out of 1920)\n",
      "done 1100 (out of 1920)\n",
      "done 1200 (out of 1920)\n",
      "done 1300 (out of 1920)\n",
      "done 1400 (out of 1920)\n",
      "done 1500 (out of 1920)\n",
      "done 1600 (out of 1920)\n",
      "done 1700 (out of 1920)\n",
      "done 1800 (out of 1920)\n",
      "done 1900 (out of 1920)\n",
      "time: 2s\n",
      "trcnt,tecnt: 167,167\n",
      "mean shape 1.07\n",
      "mean scale 3.0669999999999997\n",
      "mean time draws 3.2254205246368577\n",
      "cens mean 10.15\n",
      "(312, 2)\n"
     ]
    },
    {
     "name": "stderr",
     "output_type": "stream",
     "text": [
      "Only 100 samples in chain.\n",
      "Multiprocess sampling (6 chains in 6 jobs)\n",
      "PGBART: [f]\n"
     ]
    },
    {
     "data": {
      "text/html": [
       "\n",
       "<style>\n",
       "    /* Turns off some styling */\n",
       "    progress {\n",
       "        /* gets rid of default border in Firefox and Opera. */\n",
       "        border: none;\n",
       "        /* Needs to be in here for Safari polyfill so background images work as expected. */\n",
       "        background-size: auto;\n",
       "    }\n",
       "    progress:not([value]), progress:not([value])::-webkit-progress-bar {\n",
       "        background: repeating-linear-gradient(45deg, #7e7e7e, #7e7e7e 10px, #5c5c5c 10px, #5c5c5c 20px);\n",
       "    }\n",
       "    .progress-bar-interrupted, .progress-bar-interrupted::-webkit-progress-bar {\n",
       "        background: #F44336;\n",
       "    }\n",
       "</style>\n"
      ],
      "text/plain": [
       "<IPython.core.display.HTML object>"
      ]
     },
     "metadata": {},
     "output_type": "display_data"
    },
    {
     "data": {
      "text/html": [
       "\n",
       "    <div>\n",
       "      <progress value='660' class='' max='660' style='width:300px; height:20px; vertical-align: middle;'></progress>\n",
       "      100.00% [660/660 00:06&lt;00:00 Sampling 6 chains, 0 divergences]\n",
       "    </div>\n",
       "    "
      ],
      "text/plain": [
       "<IPython.core.display.HTML object>"
      ]
     },
     "metadata": {},
     "output_type": "display_data"
    },
    {
     "name": "stderr",
     "output_type": "stream",
     "text": [
      "Sampling 6 chains for 10 tune and 100 draw iterations (60 + 600 draws total) took 7 seconds.\n",
      "Sampling: [f]\n"
     ]
    },
    {
     "data": {
      "text/html": [
       "\n",
       "<style>\n",
       "    /* Turns off some styling */\n",
       "    progress {\n",
       "        /* gets rid of default border in Firefox and Opera. */\n",
       "        border: none;\n",
       "        /* Needs to be in here for Safari polyfill so background images work as expected. */\n",
       "        background-size: auto;\n",
       "    }\n",
       "    progress:not([value]), progress:not([value])::-webkit-progress-bar {\n",
       "        background: repeating-linear-gradient(45deg, #7e7e7e, #7e7e7e 10px, #5c5c5c 10px, #5c5c5c 20px);\n",
       "    }\n",
       "    .progress-bar-interrupted, .progress-bar-interrupted::-webkit-progress-bar {\n",
       "        background: #F44336;\n",
       "    }\n",
       "</style>\n"
      ],
      "text/plain": [
       "<IPython.core.display.HTML object>"
      ]
     },
     "metadata": {},
     "output_type": "display_data"
    },
    {
     "data": {
      "text/html": [
       "\n",
       "    <div>\n",
       "      <progress value='600' class='' max='600' style='width:300px; height:20px; vertical-align: middle;'></progress>\n",
       "      100.00% [600/600 00:02&lt;00:00]\n",
       "    </div>\n",
       "    "
      ],
      "text/plain": [
       "<IPython.core.display.HTML object>"
      ]
     },
     "metadata": {},
     "output_type": "display_data"
    },
    {
     "name": "stderr",
     "output_type": "stream",
     "text": [
      "Loading required package: nlme\n",
      "Loading required package: nnet\n",
      "Loading required package: survival\n"
     ]
    },
    {
     "name": "stdout",
     "output_type": "stream",
     "text": [
      "[1] \"/home/twj8/projects/bart_survival_paper/notebook\"\n",
      "*****Calling gbart: type=2\n",
      "*****Data:\n",
      "data:n,p,np: 312, 2, 24\n",
      "y1,yn: 0.000000, 1.000000\n",
      "x1,x[n*p]: 1.000000, 0.000000\n",
      "xp1,xp[np*p]: 1.000000, 1.000000\n",
      "*****Number of Trees: 50\n",
      "*****Number of Cut Points: 11 ... 1\n",
      "*****burn,nd,thin: 250,1670,10\n",
      "*****Prior:beta,alpha,tau,nu,lambda,offset: 2,0.95,0.212132,3,1,-0.67449\n",
      "*****Dirichlet:sparse,theta,omega,a,b,rho,augment: 0,0,1,0.5,1,2,0\n",
      "*****printevery: 100\n",
      "\n",
      "MCMC\n",
      "done 0 (out of 1920)\n",
      "done 100 (out of 1920)\n",
      "done 200 (out of 1920)\n",
      "done 300 (out of 1920)\n",
      "done 400 (out of 1920)\n",
      "done 500 (out of 1920)\n",
      "done 600 (out of 1920)\n",
      "done 700 (out of 1920)\n",
      "done 800 (out of 1920)\n",
      "done 900 (out of 1920)\n",
      "done 1000 (out of 1920)\n",
      "done 1100 (out of 1920)\n",
      "done 1200 (out of 1920)\n",
      "done 1300 (out of 1920)\n",
      "done 1400 (out of 1920)\n",
      "done 1500 (out of 1920)\n",
      "done 1600 (out of 1920)\n",
      "done 1700 (out of 1920)\n",
      "done 1800 (out of 1920)\n",
      "done 1900 (out of 1920)\n",
      "time: 2s\n",
      "trcnt,tecnt: 167,167\n",
      "mean shape 1.07\n",
      "mean scale 3.0669999999999997\n",
      "mean time draws 2.9336320953037234\n",
      "cens mean 11.6\n",
      "(316, 2)\n"
     ]
    },
    {
     "name": "stderr",
     "output_type": "stream",
     "text": [
      "Only 100 samples in chain.\n",
      "Multiprocess sampling (6 chains in 6 jobs)\n",
      "PGBART: [f]\n"
     ]
    },
    {
     "data": {
      "text/html": [
       "\n",
       "<style>\n",
       "    /* Turns off some styling */\n",
       "    progress {\n",
       "        /* gets rid of default border in Firefox and Opera. */\n",
       "        border: none;\n",
       "        /* Needs to be in here for Safari polyfill so background images work as expected. */\n",
       "        background-size: auto;\n",
       "    }\n",
       "    progress:not([value]), progress:not([value])::-webkit-progress-bar {\n",
       "        background: repeating-linear-gradient(45deg, #7e7e7e, #7e7e7e 10px, #5c5c5c 10px, #5c5c5c 20px);\n",
       "    }\n",
       "    .progress-bar-interrupted, .progress-bar-interrupted::-webkit-progress-bar {\n",
       "        background: #F44336;\n",
       "    }\n",
       "</style>\n"
      ],
      "text/plain": [
       "<IPython.core.display.HTML object>"
      ]
     },
     "metadata": {},
     "output_type": "display_data"
    },
    {
     "data": {
      "text/html": [
       "\n",
       "    <div>\n",
       "      <progress value='660' class='' max='660' style='width:300px; height:20px; vertical-align: middle;'></progress>\n",
       "      100.00% [660/660 00:04&lt;00:00 Sampling 6 chains, 0 divergences]\n",
       "    </div>\n",
       "    "
      ],
      "text/plain": [
       "<IPython.core.display.HTML object>"
      ]
     },
     "metadata": {},
     "output_type": "display_data"
    },
    {
     "name": "stderr",
     "output_type": "stream",
     "text": [
      "Sampling 6 chains for 10 tune and 100 draw iterations (60 + 600 draws total) took 5 seconds.\n",
      "Sampling: [f]\n"
     ]
    },
    {
     "data": {
      "text/html": [
       "\n",
       "<style>\n",
       "    /* Turns off some styling */\n",
       "    progress {\n",
       "        /* gets rid of default border in Firefox and Opera. */\n",
       "        border: none;\n",
       "        /* Needs to be in here for Safari polyfill so background images work as expected. */\n",
       "        background-size: auto;\n",
       "    }\n",
       "    progress:not([value]), progress:not([value])::-webkit-progress-bar {\n",
       "        background: repeating-linear-gradient(45deg, #7e7e7e, #7e7e7e 10px, #5c5c5c 10px, #5c5c5c 20px);\n",
       "    }\n",
       "    .progress-bar-interrupted, .progress-bar-interrupted::-webkit-progress-bar {\n",
       "        background: #F44336;\n",
       "    }\n",
       "</style>\n"
      ],
      "text/plain": [
       "<IPython.core.display.HTML object>"
      ]
     },
     "metadata": {},
     "output_type": "display_data"
    },
    {
     "data": {
      "text/html": [
       "\n",
       "    <div>\n",
       "      <progress value='600' class='' max='600' style='width:300px; height:20px; vertical-align: middle;'></progress>\n",
       "      100.00% [600/600 00:02&lt;00:00]\n",
       "    </div>\n",
       "    "
      ],
      "text/plain": [
       "<IPython.core.display.HTML object>"
      ]
     },
     "metadata": {},
     "output_type": "display_data"
    },
    {
     "name": "stderr",
     "output_type": "stream",
     "text": [
      "Loading required package: nlme\n",
      "Loading required package: nnet\n",
      "Loading required package: survival\n"
     ]
    },
    {
     "name": "stdout",
     "output_type": "stream",
     "text": [
      "[1] \"/home/twj8/projects/bart_survival_paper/notebook\"\n",
      "*****Calling gbart: type=2\n",
      "*****Data:\n",
      "data:n,p,np: 316, 2, 22\n",
      "y1,yn: 0.000000, 1.000000\n",
      "x1,x[n*p]: 1.000000, 0.000000\n",
      "xp1,xp[np*p]: 1.000000, 1.000000\n",
      "*****Number of Trees: 50\n",
      "*****Number of Cut Points: 10 ... 1\n",
      "*****burn,nd,thin: 250,1670,10\n",
      "*****Prior:beta,alpha,tau,nu,lambda,offset: 2,0.95,0.212132,3,1,-0.55006\n",
      "*****Dirichlet:sparse,theta,omega,a,b,rho,augment: 0,0,1,0.5,1,2,0\n",
      "*****printevery: 100\n",
      "\n",
      "MCMC\n",
      "done 0 (out of 1920)\n",
      "done 100 (out of 1920)\n",
      "done 200 (out of 1920)\n",
      "done 300 (out of 1920)\n",
      "done 400 (out of 1920)\n",
      "done 500 (out of 1920)\n",
      "done 600 (out of 1920)\n",
      "done 700 (out of 1920)\n",
      "done 800 (out of 1920)\n",
      "done 900 (out of 1920)\n",
      "done 1000 (out of 1920)\n",
      "done 1100 (out of 1920)\n",
      "done 1200 (out of 1920)\n",
      "done 1300 (out of 1920)\n",
      "done 1400 (out of 1920)\n",
      "done 1500 (out of 1920)\n",
      "done 1600 (out of 1920)\n",
      "done 1700 (out of 1920)\n",
      "done 1800 (out of 1920)\n",
      "done 1900 (out of 1920)\n",
      "time: 2s\n",
      "trcnt,tecnt: 167,167\n",
      "mean shape 1.07\n",
      "mean scale 3.0669999999999997\n",
      "mean time draws 2.5308508832212313\n",
      "cens mean 11.01\n",
      "(267, 2)\n"
     ]
    },
    {
     "name": "stderr",
     "output_type": "stream",
     "text": [
      "Only 100 samples in chain.\n",
      "Multiprocess sampling (6 chains in 6 jobs)\n",
      "PGBART: [f]\n"
     ]
    },
    {
     "data": {
      "text/html": [
       "\n",
       "<style>\n",
       "    /* Turns off some styling */\n",
       "    progress {\n",
       "        /* gets rid of default border in Firefox and Opera. */\n",
       "        border: none;\n",
       "        /* Needs to be in here for Safari polyfill so background images work as expected. */\n",
       "        background-size: auto;\n",
       "    }\n",
       "    progress:not([value]), progress:not([value])::-webkit-progress-bar {\n",
       "        background: repeating-linear-gradient(45deg, #7e7e7e, #7e7e7e 10px, #5c5c5c 10px, #5c5c5c 20px);\n",
       "    }\n",
       "    .progress-bar-interrupted, .progress-bar-interrupted::-webkit-progress-bar {\n",
       "        background: #F44336;\n",
       "    }\n",
       "</style>\n"
      ],
      "text/plain": [
       "<IPython.core.display.HTML object>"
      ]
     },
     "metadata": {},
     "output_type": "display_data"
    },
    {
     "data": {
      "text/html": [
       "\n",
       "    <div>\n",
       "      <progress value='660' class='' max='660' style='width:300px; height:20px; vertical-align: middle;'></progress>\n",
       "      100.00% [660/660 00:04&lt;00:00 Sampling 6 chains, 0 divergences]\n",
       "    </div>\n",
       "    "
      ],
      "text/plain": [
       "<IPython.core.display.HTML object>"
      ]
     },
     "metadata": {},
     "output_type": "display_data"
    },
    {
     "name": "stderr",
     "output_type": "stream",
     "text": [
      "Sampling 6 chains for 10 tune and 100 draw iterations (60 + 600 draws total) took 5 seconds.\n",
      "Sampling: [f]\n"
     ]
    },
    {
     "data": {
      "text/html": [
       "\n",
       "<style>\n",
       "    /* Turns off some styling */\n",
       "    progress {\n",
       "        /* gets rid of default border in Firefox and Opera. */\n",
       "        border: none;\n",
       "        /* Needs to be in here for Safari polyfill so background images work as expected. */\n",
       "        background-size: auto;\n",
       "    }\n",
       "    progress:not([value]), progress:not([value])::-webkit-progress-bar {\n",
       "        background: repeating-linear-gradient(45deg, #7e7e7e, #7e7e7e 10px, #5c5c5c 10px, #5c5c5c 20px);\n",
       "    }\n",
       "    .progress-bar-interrupted, .progress-bar-interrupted::-webkit-progress-bar {\n",
       "        background: #F44336;\n",
       "    }\n",
       "</style>\n"
      ],
      "text/plain": [
       "<IPython.core.display.HTML object>"
      ]
     },
     "metadata": {},
     "output_type": "display_data"
    },
    {
     "data": {
      "text/html": [
       "\n",
       "    <div>\n",
       "      <progress value='600' class='' max='600' style='width:300px; height:20px; vertical-align: middle;'></progress>\n",
       "      100.00% [600/600 00:02&lt;00:00]\n",
       "    </div>\n",
       "    "
      ],
      "text/plain": [
       "<IPython.core.display.HTML object>"
      ]
     },
     "metadata": {},
     "output_type": "display_data"
    },
    {
     "name": "stderr",
     "output_type": "stream",
     "text": [
      "Loading required package: nlme\n",
      "Loading required package: nnet\n",
      "Loading required package: survival\n"
     ]
    },
    {
     "name": "stdout",
     "output_type": "stream",
     "text": [
      "[1] \"/home/twj8/projects/bart_survival_paper/notebook\"\n",
      "*****Calling gbart: type=2\n",
      "*****Data:\n",
      "data:n,p,np: 267, 2, 18\n",
      "y1,yn: 1.000000, 1.000000\n",
      "x1,x[n*p]: 1.000000, 0.000000\n",
      "xp1,xp[np*p]: 1.000000, 1.000000\n",
      "*****Number of Trees: 50\n",
      "*****Number of Cut Points: 8 ... 1\n",
      "*****burn,nd,thin: 250,1670,10\n",
      "*****Prior:beta,alpha,tau,nu,lambda,offset: 2,0.95,0.212132,3,1,-0.482834\n",
      "*****Dirichlet:sparse,theta,omega,a,b,rho,augment: 0,0,1,0.5,1,2,0\n",
      "*****printevery: 100\n",
      "\n",
      "MCMC\n",
      "done 0 (out of 1920)\n",
      "done 100 (out of 1920)\n",
      "done 200 (out of 1920)\n",
      "done 300 (out of 1920)\n",
      "done 400 (out of 1920)\n",
      "done 500 (out of 1920)\n",
      "done 600 (out of 1920)\n",
      "done 700 (out of 1920)\n",
      "done 800 (out of 1920)\n",
      "done 900 (out of 1920)\n",
      "done 1000 (out of 1920)\n",
      "done 1100 (out of 1920)\n",
      "done 1200 (out of 1920)\n",
      "done 1300 (out of 1920)\n",
      "done 1400 (out of 1920)\n",
      "done 1500 (out of 1920)\n",
      "done 1600 (out of 1920)\n",
      "done 1700 (out of 1920)\n",
      "done 1800 (out of 1920)\n",
      "done 1900 (out of 1920)\n",
      "time: 2s\n",
      "trcnt,tecnt: 167,167\n",
      "mean shape 1.07\n",
      "mean scale 3.0669999999999997\n",
      "mean time draws 3.215751518623222\n",
      "cens mean 9.35\n",
      "(258, 2)\n"
     ]
    },
    {
     "name": "stderr",
     "output_type": "stream",
     "text": [
      "Only 100 samples in chain.\n",
      "Multiprocess sampling (6 chains in 6 jobs)\n",
      "PGBART: [f]\n"
     ]
    },
    {
     "data": {
      "text/html": [
       "\n",
       "<style>\n",
       "    /* Turns off some styling */\n",
       "    progress {\n",
       "        /* gets rid of default border in Firefox and Opera. */\n",
       "        border: none;\n",
       "        /* Needs to be in here for Safari polyfill so background images work as expected. */\n",
       "        background-size: auto;\n",
       "    }\n",
       "    progress:not([value]), progress:not([value])::-webkit-progress-bar {\n",
       "        background: repeating-linear-gradient(45deg, #7e7e7e, #7e7e7e 10px, #5c5c5c 10px, #5c5c5c 20px);\n",
       "    }\n",
       "    .progress-bar-interrupted, .progress-bar-interrupted::-webkit-progress-bar {\n",
       "        background: #F44336;\n",
       "    }\n",
       "</style>\n"
      ],
      "text/plain": [
       "<IPython.core.display.HTML object>"
      ]
     },
     "metadata": {},
     "output_type": "display_data"
    },
    {
     "data": {
      "text/html": [
       "\n",
       "    <div>\n",
       "      <progress value='660' class='' max='660' style='width:300px; height:20px; vertical-align: middle;'></progress>\n",
       "      100.00% [660/660 00:05&lt;00:00 Sampling 6 chains, 0 divergences]\n",
       "    </div>\n",
       "    "
      ],
      "text/plain": [
       "<IPython.core.display.HTML object>"
      ]
     },
     "metadata": {},
     "output_type": "display_data"
    },
    {
     "name": "stderr",
     "output_type": "stream",
     "text": [
      "Sampling 6 chains for 10 tune and 100 draw iterations (60 + 600 draws total) took 6 seconds.\n",
      "Sampling: [f]\n"
     ]
    },
    {
     "data": {
      "text/html": [
       "\n",
       "<style>\n",
       "    /* Turns off some styling */\n",
       "    progress {\n",
       "        /* gets rid of default border in Firefox and Opera. */\n",
       "        border: none;\n",
       "        /* Needs to be in here for Safari polyfill so background images work as expected. */\n",
       "        background-size: auto;\n",
       "    }\n",
       "    progress:not([value]), progress:not([value])::-webkit-progress-bar {\n",
       "        background: repeating-linear-gradient(45deg, #7e7e7e, #7e7e7e 10px, #5c5c5c 10px, #5c5c5c 20px);\n",
       "    }\n",
       "    .progress-bar-interrupted, .progress-bar-interrupted::-webkit-progress-bar {\n",
       "        background: #F44336;\n",
       "    }\n",
       "</style>\n"
      ],
      "text/plain": [
       "<IPython.core.display.HTML object>"
      ]
     },
     "metadata": {},
     "output_type": "display_data"
    },
    {
     "data": {
      "text/html": [
       "\n",
       "    <div>\n",
       "      <progress value='600' class='' max='600' style='width:300px; height:20px; vertical-align: middle;'></progress>\n",
       "      100.00% [600/600 00:01&lt;00:00]\n",
       "    </div>\n",
       "    "
      ],
      "text/plain": [
       "<IPython.core.display.HTML object>"
      ]
     },
     "metadata": {},
     "output_type": "display_data"
    },
    {
     "name": "stderr",
     "output_type": "stream",
     "text": [
      "Loading required package: nlme\n",
      "Loading required package: nnet\n",
      "Loading required package: survival\n"
     ]
    },
    {
     "name": "stdout",
     "output_type": "stream",
     "text": [
      "[1] \"/home/twj8/projects/bart_survival_paper/notebook\"\n",
      "*****Calling gbart: type=2\n",
      "*****Data:\n",
      "data:n,p,np: 258, 2, 20\n",
      "y1,yn: 0.000000, 1.000000\n",
      "x1,x[n*p]: 1.000000, 0.000000\n",
      "xp1,xp[np*p]: 1.000000, 1.000000\n",
      "*****Number of Trees: 50\n",
      "*****Number of Cut Points: 9 ... 1\n",
      "*****burn,nd,thin: 250,1670,10\n",
      "*****Prior:beta,alpha,tau,nu,lambda,offset: 2,0.95,0.212132,3,1,-0.540072\n",
      "*****Dirichlet:sparse,theta,omega,a,b,rho,augment: 0,0,1,0.5,1,2,0\n",
      "*****printevery: 100\n",
      "\n",
      "MCMC\n",
      "done 0 (out of 1920)\n",
      "done 100 (out of 1920)\n",
      "done 200 (out of 1920)\n",
      "done 300 (out of 1920)\n",
      "done 400 (out of 1920)\n",
      "done 500 (out of 1920)\n",
      "done 600 (out of 1920)\n",
      "done 700 (out of 1920)\n",
      "done 800 (out of 1920)\n",
      "done 900 (out of 1920)\n",
      "done 1000 (out of 1920)\n",
      "done 1100 (out of 1920)\n",
      "done 1200 (out of 1920)\n",
      "done 1300 (out of 1920)\n",
      "done 1400 (out of 1920)\n",
      "done 1500 (out of 1920)\n",
      "done 1600 (out of 1920)\n",
      "done 1700 (out of 1920)\n",
      "done 1800 (out of 1920)\n",
      "done 1900 (out of 1920)\n",
      "time: 2s\n",
      "trcnt,tecnt: 167,167\n",
      "mean shape 1.07\n",
      "mean scale 3.0669999999999997\n",
      "mean time draws 2.7695285702688284\n",
      "cens mean 9.53\n",
      "(285, 2)\n"
     ]
    },
    {
     "name": "stderr",
     "output_type": "stream",
     "text": [
      "Only 100 samples in chain.\n",
      "Multiprocess sampling (6 chains in 6 jobs)\n",
      "PGBART: [f]\n"
     ]
    },
    {
     "data": {
      "text/html": [
       "\n",
       "<style>\n",
       "    /* Turns off some styling */\n",
       "    progress {\n",
       "        /* gets rid of default border in Firefox and Opera. */\n",
       "        border: none;\n",
       "        /* Needs to be in here for Safari polyfill so background images work as expected. */\n",
       "        background-size: auto;\n",
       "    }\n",
       "    progress:not([value]), progress:not([value])::-webkit-progress-bar {\n",
       "        background: repeating-linear-gradient(45deg, #7e7e7e, #7e7e7e 10px, #5c5c5c 10px, #5c5c5c 20px);\n",
       "    }\n",
       "    .progress-bar-interrupted, .progress-bar-interrupted::-webkit-progress-bar {\n",
       "        background: #F44336;\n",
       "    }\n",
       "</style>\n"
      ],
      "text/plain": [
       "<IPython.core.display.HTML object>"
      ]
     },
     "metadata": {},
     "output_type": "display_data"
    },
    {
     "data": {
      "text/html": [
       "\n",
       "    <div>\n",
       "      <progress value='660' class='' max='660' style='width:300px; height:20px; vertical-align: middle;'></progress>\n",
       "      100.00% [660/660 00:05&lt;00:00 Sampling 6 chains, 0 divergences]\n",
       "    </div>\n",
       "    "
      ],
      "text/plain": [
       "<IPython.core.display.HTML object>"
      ]
     },
     "metadata": {},
     "output_type": "display_data"
    },
    {
     "name": "stderr",
     "output_type": "stream",
     "text": [
      "Sampling 6 chains for 10 tune and 100 draw iterations (60 + 600 draws total) took 6 seconds.\n",
      "Sampling: [f]\n"
     ]
    },
    {
     "data": {
      "text/html": [
       "\n",
       "<style>\n",
       "    /* Turns off some styling */\n",
       "    progress {\n",
       "        /* gets rid of default border in Firefox and Opera. */\n",
       "        border: none;\n",
       "        /* Needs to be in here for Safari polyfill so background images work as expected. */\n",
       "        background-size: auto;\n",
       "    }\n",
       "    progress:not([value]), progress:not([value])::-webkit-progress-bar {\n",
       "        background: repeating-linear-gradient(45deg, #7e7e7e, #7e7e7e 10px, #5c5c5c 10px, #5c5c5c 20px);\n",
       "    }\n",
       "    .progress-bar-interrupted, .progress-bar-interrupted::-webkit-progress-bar {\n",
       "        background: #F44336;\n",
       "    }\n",
       "</style>\n"
      ],
      "text/plain": [
       "<IPython.core.display.HTML object>"
      ]
     },
     "metadata": {},
     "output_type": "display_data"
    },
    {
     "data": {
      "text/html": [
       "\n",
       "    <div>\n",
       "      <progress value='600' class='' max='600' style='width:300px; height:20px; vertical-align: middle;'></progress>\n",
       "      100.00% [600/600 00:02&lt;00:00]\n",
       "    </div>\n",
       "    "
      ],
      "text/plain": [
       "<IPython.core.display.HTML object>"
      ]
     },
     "metadata": {},
     "output_type": "display_data"
    },
    {
     "name": "stderr",
     "output_type": "stream",
     "text": [
      "Loading required package: nlme\n",
      "Loading required package: nnet\n",
      "Loading required package: survival\n"
     ]
    },
    {
     "name": "stdout",
     "output_type": "stream",
     "text": [
      "[1] \"/home/twj8/projects/bart_survival_paper/notebook\"\n",
      "*****Calling gbart: type=2\n",
      "*****Data:\n",
      "data:n,p,np: 285, 2, 20\n",
      "y1,yn: 0.000000, 1.000000\n",
      "x1,x[n*p]: 1.000000, 0.000000\n",
      "xp1,xp[np*p]: 1.000000, 1.000000\n",
      "*****Number of Trees: 50\n",
      "*****Number of Cut Points: 9 ... 1\n",
      "*****burn,nd,thin: 250,1670,10\n",
      "*****Prior:beta,alpha,tau,nu,lambda,offset: 2,0.95,0.212132,3,1,-0.529453\n",
      "*****Dirichlet:sparse,theta,omega,a,b,rho,augment: 0,0,1,0.5,1,2,0\n",
      "*****printevery: 100\n",
      "\n",
      "MCMC\n",
      "done 0 (out of 1920)\n",
      "done 100 (out of 1920)\n",
      "done 200 (out of 1920)\n",
      "done 300 (out of 1920)\n",
      "done 400 (out of 1920)\n",
      "done 500 (out of 1920)\n",
      "done 600 (out of 1920)\n",
      "done 700 (out of 1920)\n",
      "done 800 (out of 1920)\n",
      "done 900 (out of 1920)\n",
      "done 1000 (out of 1920)\n",
      "done 1100 (out of 1920)\n",
      "done 1200 (out of 1920)\n",
      "done 1300 (out of 1920)\n",
      "done 1400 (out of 1920)\n",
      "done 1500 (out of 1920)\n",
      "done 1600 (out of 1920)\n",
      "done 1700 (out of 1920)\n",
      "done 1800 (out of 1920)\n",
      "done 1900 (out of 1920)\n",
      "time: 2s\n",
      "trcnt,tecnt: 167,167\n",
      "mean shape 1.07\n",
      "mean scale 3.0669999999999997\n",
      "mean time draws 3.4301824155916423\n",
      "cens mean 10.41\n",
      "(300, 2)\n"
     ]
    },
    {
     "name": "stderr",
     "output_type": "stream",
     "text": [
      "Only 100 samples in chain.\n",
      "Multiprocess sampling (6 chains in 6 jobs)\n",
      "PGBART: [f]\n"
     ]
    },
    {
     "data": {
      "text/html": [
       "\n",
       "<style>\n",
       "    /* Turns off some styling */\n",
       "    progress {\n",
       "        /* gets rid of default border in Firefox and Opera. */\n",
       "        border: none;\n",
       "        /* Needs to be in here for Safari polyfill so background images work as expected. */\n",
       "        background-size: auto;\n",
       "    }\n",
       "    progress:not([value]), progress:not([value])::-webkit-progress-bar {\n",
       "        background: repeating-linear-gradient(45deg, #7e7e7e, #7e7e7e 10px, #5c5c5c 10px, #5c5c5c 20px);\n",
       "    }\n",
       "    .progress-bar-interrupted, .progress-bar-interrupted::-webkit-progress-bar {\n",
       "        background: #F44336;\n",
       "    }\n",
       "</style>\n"
      ],
      "text/plain": [
       "<IPython.core.display.HTML object>"
      ]
     },
     "metadata": {},
     "output_type": "display_data"
    },
    {
     "data": {
      "text/html": [
       "\n",
       "    <div>\n",
       "      <progress value='660' class='' max='660' style='width:300px; height:20px; vertical-align: middle;'></progress>\n",
       "      100.00% [660/660 00:05&lt;00:00 Sampling 6 chains, 0 divergences]\n",
       "    </div>\n",
       "    "
      ],
      "text/plain": [
       "<IPython.core.display.HTML object>"
      ]
     },
     "metadata": {},
     "output_type": "display_data"
    },
    {
     "name": "stderr",
     "output_type": "stream",
     "text": [
      "Sampling 6 chains for 10 tune and 100 draw iterations (60 + 600 draws total) took 6 seconds.\n",
      "Sampling: [f]\n"
     ]
    },
    {
     "data": {
      "text/html": [
       "\n",
       "<style>\n",
       "    /* Turns off some styling */\n",
       "    progress {\n",
       "        /* gets rid of default border in Firefox and Opera. */\n",
       "        border: none;\n",
       "        /* Needs to be in here for Safari polyfill so background images work as expected. */\n",
       "        background-size: auto;\n",
       "    }\n",
       "    progress:not([value]), progress:not([value])::-webkit-progress-bar {\n",
       "        background: repeating-linear-gradient(45deg, #7e7e7e, #7e7e7e 10px, #5c5c5c 10px, #5c5c5c 20px);\n",
       "    }\n",
       "    .progress-bar-interrupted, .progress-bar-interrupted::-webkit-progress-bar {\n",
       "        background: #F44336;\n",
       "    }\n",
       "</style>\n"
      ],
      "text/plain": [
       "<IPython.core.display.HTML object>"
      ]
     },
     "metadata": {},
     "output_type": "display_data"
    },
    {
     "data": {
      "text/html": [
       "\n",
       "    <div>\n",
       "      <progress value='600' class='' max='600' style='width:300px; height:20px; vertical-align: middle;'></progress>\n",
       "      100.00% [600/600 00:02&lt;00:00]\n",
       "    </div>\n",
       "    "
      ],
      "text/plain": [
       "<IPython.core.display.HTML object>"
      ]
     },
     "metadata": {},
     "output_type": "display_data"
    },
    {
     "name": "stderr",
     "output_type": "stream",
     "text": [
      "Loading required package: nlme\n",
      "Loading required package: nnet\n",
      "Loading required package: survival\n"
     ]
    },
    {
     "name": "stdout",
     "output_type": "stream",
     "text": [
      "[1] \"/home/twj8/projects/bart_survival_paper/notebook\"\n",
      "*****Calling gbart: type=2\n",
      "*****Data:\n",
      "data:n,p,np: 300, 2, 24\n",
      "y1,yn: 0.000000, 1.000000\n",
      "x1,x[n*p]: 1.000000, 0.000000\n",
      "xp1,xp[np*p]: 1.000000, 1.000000\n",
      "*****Number of Trees: 50\n",
      "*****Number of Cut Points: 11 ... 1\n",
      "*****burn,nd,thin: 250,1670,10\n",
      "*****Prior:beta,alpha,tau,nu,lambda,offset: 2,0.95,0.212132,3,1,-0.643345\n",
      "*****Dirichlet:sparse,theta,omega,a,b,rho,augment: 0,0,1,0.5,1,2,0\n",
      "*****printevery: 100\n",
      "\n",
      "MCMC\n",
      "done 0 (out of 1920)\n",
      "done 100 (out of 1920)\n",
      "done 200 (out of 1920)\n",
      "done 300 (out of 1920)\n",
      "done 400 (out of 1920)\n",
      "done 500 (out of 1920)\n",
      "done 600 (out of 1920)\n",
      "done 700 (out of 1920)\n",
      "done 800 (out of 1920)\n",
      "done 900 (out of 1920)\n",
      "done 1000 (out of 1920)\n",
      "done 1100 (out of 1920)\n",
      "done 1200 (out of 1920)\n",
      "done 1300 (out of 1920)\n",
      "done 1400 (out of 1920)\n",
      "done 1500 (out of 1920)\n",
      "done 1600 (out of 1920)\n",
      "done 1700 (out of 1920)\n",
      "done 1800 (out of 1920)\n",
      "done 1900 (out of 1920)\n",
      "time: 2s\n",
      "trcnt,tecnt: 167,167\n",
      "mean shape 1.07\n",
      "mean scale 3.0669999999999997\n",
      "mean time draws 3.152950231665863\n",
      "cens mean 10.47\n",
      "(297, 2)\n"
     ]
    },
    {
     "name": "stderr",
     "output_type": "stream",
     "text": [
      "Only 100 samples in chain.\n",
      "Multiprocess sampling (6 chains in 6 jobs)\n",
      "PGBART: [f]\n"
     ]
    },
    {
     "data": {
      "text/html": [
       "\n",
       "<style>\n",
       "    /* Turns off some styling */\n",
       "    progress {\n",
       "        /* gets rid of default border in Firefox and Opera. */\n",
       "        border: none;\n",
       "        /* Needs to be in here for Safari polyfill so background images work as expected. */\n",
       "        background-size: auto;\n",
       "    }\n",
       "    progress:not([value]), progress:not([value])::-webkit-progress-bar {\n",
       "        background: repeating-linear-gradient(45deg, #7e7e7e, #7e7e7e 10px, #5c5c5c 10px, #5c5c5c 20px);\n",
       "    }\n",
       "    .progress-bar-interrupted, .progress-bar-interrupted::-webkit-progress-bar {\n",
       "        background: #F44336;\n",
       "    }\n",
       "</style>\n"
      ],
      "text/plain": [
       "<IPython.core.display.HTML object>"
      ]
     },
     "metadata": {},
     "output_type": "display_data"
    },
    {
     "data": {
      "text/html": [
       "\n",
       "    <div>\n",
       "      <progress value='660' class='' max='660' style='width:300px; height:20px; vertical-align: middle;'></progress>\n",
       "      100.00% [660/660 00:07&lt;00:00 Sampling 6 chains, 0 divergences]\n",
       "    </div>\n",
       "    "
      ],
      "text/plain": [
       "<IPython.core.display.HTML object>"
      ]
     },
     "metadata": {},
     "output_type": "display_data"
    },
    {
     "name": "stderr",
     "output_type": "stream",
     "text": [
      "Sampling 6 chains for 10 tune and 100 draw iterations (60 + 600 draws total) took 9 seconds.\n",
      "Sampling: [f]\n"
     ]
    },
    {
     "data": {
      "text/html": [
       "\n",
       "<style>\n",
       "    /* Turns off some styling */\n",
       "    progress {\n",
       "        /* gets rid of default border in Firefox and Opera. */\n",
       "        border: none;\n",
       "        /* Needs to be in here for Safari polyfill so background images work as expected. */\n",
       "        background-size: auto;\n",
       "    }\n",
       "    progress:not([value]), progress:not([value])::-webkit-progress-bar {\n",
       "        background: repeating-linear-gradient(45deg, #7e7e7e, #7e7e7e 10px, #5c5c5c 10px, #5c5c5c 20px);\n",
       "    }\n",
       "    .progress-bar-interrupted, .progress-bar-interrupted::-webkit-progress-bar {\n",
       "        background: #F44336;\n",
       "    }\n",
       "</style>\n"
      ],
      "text/plain": [
       "<IPython.core.display.HTML object>"
      ]
     },
     "metadata": {},
     "output_type": "display_data"
    },
    {
     "data": {
      "text/html": [
       "\n",
       "    <div>\n",
       "      <progress value='600' class='' max='600' style='width:300px; height:20px; vertical-align: middle;'></progress>\n",
       "      100.00% [600/600 00:02&lt;00:00]\n",
       "    </div>\n",
       "    "
      ],
      "text/plain": [
       "<IPython.core.display.HTML object>"
      ]
     },
     "metadata": {},
     "output_type": "display_data"
    },
    {
     "name": "stderr",
     "output_type": "stream",
     "text": [
      "Loading required package: nlme\n",
      "Loading required package: nnet\n",
      "Loading required package: survival\n"
     ]
    },
    {
     "name": "stdout",
     "output_type": "stream",
     "text": [
      "[1] \"/home/twj8/projects/bart_survival_paper/notebook\"\n",
      "*****Calling gbart: type=2\n",
      "*****Data:\n",
      "data:n,p,np: 297, 2, 16\n",
      "y1,yn: 0.000000, 0.000000\n",
      "x1,x[n*p]: 1.000000, 0.000000\n",
      "xp1,xp[np*p]: 1.000000, 1.000000\n",
      "*****Number of Trees: 50\n",
      "*****Number of Cut Points: 7 ... 1\n",
      "*****burn,nd,thin: 250,1670,10\n",
      "*****Prior:beta,alpha,tau,nu,lambda,offset: 2,0.95,0.212132,3,1,-0.656062\n",
      "*****Dirichlet:sparse,theta,omega,a,b,rho,augment: 0,0,1,0.5,1,2,0\n",
      "*****printevery: 100\n",
      "\n",
      "MCMC\n",
      "done 0 (out of 1920)\n",
      "done 100 (out of 1920)\n",
      "done 200 (out of 1920)\n",
      "done 300 (out of 1920)\n",
      "done 400 (out of 1920)\n",
      "done 500 (out of 1920)\n",
      "done 600 (out of 1920)\n",
      "done 700 (out of 1920)\n",
      "done 800 (out of 1920)\n",
      "done 900 (out of 1920)\n",
      "done 1000 (out of 1920)\n",
      "done 1100 (out of 1920)\n",
      "done 1200 (out of 1920)\n",
      "done 1300 (out of 1920)\n",
      "done 1400 (out of 1920)\n",
      "done 1500 (out of 1920)\n",
      "done 1600 (out of 1920)\n",
      "done 1700 (out of 1920)\n",
      "done 1800 (out of 1920)\n",
      "done 1900 (out of 1920)\n",
      "time: 2s\n",
      "trcnt,tecnt: 167,167\n",
      "mean shape 1.07\n",
      "mean scale 3.0669999999999997\n",
      "mean time draws 2.986212535491634\n",
      "cens mean 10.48\n",
      "(262, 2)\n"
     ]
    },
    {
     "name": "stderr",
     "output_type": "stream",
     "text": [
      "Only 100 samples in chain.\n",
      "Multiprocess sampling (6 chains in 6 jobs)\n",
      "PGBART: [f]\n"
     ]
    },
    {
     "data": {
      "text/html": [
       "\n",
       "<style>\n",
       "    /* Turns off some styling */\n",
       "    progress {\n",
       "        /* gets rid of default border in Firefox and Opera. */\n",
       "        border: none;\n",
       "        /* Needs to be in here for Safari polyfill so background images work as expected. */\n",
       "        background-size: auto;\n",
       "    }\n",
       "    progress:not([value]), progress:not([value])::-webkit-progress-bar {\n",
       "        background: repeating-linear-gradient(45deg, #7e7e7e, #7e7e7e 10px, #5c5c5c 10px, #5c5c5c 20px);\n",
       "    }\n",
       "    .progress-bar-interrupted, .progress-bar-interrupted::-webkit-progress-bar {\n",
       "        background: #F44336;\n",
       "    }\n",
       "</style>\n"
      ],
      "text/plain": [
       "<IPython.core.display.HTML object>"
      ]
     },
     "metadata": {},
     "output_type": "display_data"
    },
    {
     "data": {
      "text/html": [
       "\n",
       "    <div>\n",
       "      <progress value='660' class='' max='660' style='width:300px; height:20px; vertical-align: middle;'></progress>\n",
       "      100.00% [660/660 00:06&lt;00:00 Sampling 6 chains, 0 divergences]\n",
       "    </div>\n",
       "    "
      ],
      "text/plain": [
       "<IPython.core.display.HTML object>"
      ]
     },
     "metadata": {},
     "output_type": "display_data"
    },
    {
     "name": "stderr",
     "output_type": "stream",
     "text": [
      "Sampling 6 chains for 10 tune and 100 draw iterations (60 + 600 draws total) took 8 seconds.\n",
      "Sampling: [f]\n"
     ]
    },
    {
     "data": {
      "text/html": [
       "\n",
       "<style>\n",
       "    /* Turns off some styling */\n",
       "    progress {\n",
       "        /* gets rid of default border in Firefox and Opera. */\n",
       "        border: none;\n",
       "        /* Needs to be in here for Safari polyfill so background images work as expected. */\n",
       "        background-size: auto;\n",
       "    }\n",
       "    progress:not([value]), progress:not([value])::-webkit-progress-bar {\n",
       "        background: repeating-linear-gradient(45deg, #7e7e7e, #7e7e7e 10px, #5c5c5c 10px, #5c5c5c 20px);\n",
       "    }\n",
       "    .progress-bar-interrupted, .progress-bar-interrupted::-webkit-progress-bar {\n",
       "        background: #F44336;\n",
       "    }\n",
       "</style>\n"
      ],
      "text/plain": [
       "<IPython.core.display.HTML object>"
      ]
     },
     "metadata": {},
     "output_type": "display_data"
    },
    {
     "data": {
      "text/html": [
       "\n",
       "    <div>\n",
       "      <progress value='600' class='' max='600' style='width:300px; height:20px; vertical-align: middle;'></progress>\n",
       "      100.00% [600/600 00:02&lt;00:00]\n",
       "    </div>\n",
       "    "
      ],
      "text/plain": [
       "<IPython.core.display.HTML object>"
      ]
     },
     "metadata": {},
     "output_type": "display_data"
    },
    {
     "name": "stderr",
     "output_type": "stream",
     "text": [
      "Loading required package: nlme\n",
      "Loading required package: nnet\n",
      "Loading required package: survival\n"
     ]
    },
    {
     "name": "stdout",
     "output_type": "stream",
     "text": [
      "[1] \"/home/twj8/projects/bart_survival_paper/notebook\"\n",
      "*****Calling gbart: type=2\n",
      "*****Data:\n",
      "data:n,p,np: 262, 2, 20\n",
      "y1,yn: 1.000000, 1.000000\n",
      "x1,x[n*p]: 1.000000, 0.000000\n",
      "xp1,xp[np*p]: 1.000000, 1.000000\n",
      "*****Number of Trees: 50\n",
      "*****Number of Cut Points: 9 ... 1\n",
      "*****burn,nd,thin: 250,1670,10\n",
      "*****Prior:beta,alpha,tau,nu,lambda,offset: 2,0.95,0.212132,3,1,-0.564345\n",
      "*****Dirichlet:sparse,theta,omega,a,b,rho,augment: 0,0,1,0.5,1,2,0\n",
      "*****printevery: 100\n",
      "\n",
      "MCMC\n",
      "done 0 (out of 1920)\n",
      "done 100 (out of 1920)\n",
      "done 200 (out of 1920)\n",
      "done 300 (out of 1920)\n",
      "done 400 (out of 1920)\n",
      "done 500 (out of 1920)\n",
      "done 600 (out of 1920)\n",
      "done 700 (out of 1920)\n",
      "done 800 (out of 1920)\n",
      "done 900 (out of 1920)\n",
      "done 1000 (out of 1920)\n",
      "done 1100 (out of 1920)\n",
      "done 1200 (out of 1920)\n",
      "done 1300 (out of 1920)\n",
      "done 1400 (out of 1920)\n",
      "done 1500 (out of 1920)\n",
      "done 1600 (out of 1920)\n",
      "done 1700 (out of 1920)\n",
      "done 1800 (out of 1920)\n",
      "done 1900 (out of 1920)\n",
      "time: 2s\n",
      "trcnt,tecnt: 167,167\n"
     ]
    }
   ],
   "source": [
    "meta_lst = []\n",
    "sv_true_lst0 = []\n",
    "k_sv_lst0 = []\n",
    "k_sv_ci_lst0 = []\n",
    "pb_sv_lst0 = []\n",
    "pb_sv_ci_lst0 = []\n",
    "r_sv_lst0 = []\n",
    "r_sv_ci_lst0 = []\n",
    "\n",
    "sv_true_lst1 = []\n",
    "k_sv_lst1 = []\n",
    "k_sv_ci_lst1 = []\n",
    "pb_sv_lst1 = []\n",
    "pb_sv_ci_lst1 = []\n",
    "r_sv_lst1 = []\n",
    "r_sv_ci_lst1 = []\n",
    "\n",
    "for i in range(10):\n",
    "    meta, sv_true, k_sv, pb_sv, r_sv = fn.sim_2s(i, 100, simple_2_1, SPLIT_RULES, model_dict, sampler_dict)\n",
    "    \n",
    "    uniq_t = meta[3][0]\n",
    "    uniq_idx = meta[3][1]\n",
    "\n",
    "    true_t = meta[1]\n",
    "    assert((true_t[uniq_t-1] == uniq_t).all)\n",
    "\n",
    "    sv_t_0 = sv_true[0][uniq_t-1]\n",
    "    sv_t_1 = sv_true[1][uniq_t-1]\n",
    "\n",
    "    k_sv_0 = k_sv[0][0][uniq_idx]\n",
    "    k_sv_1 = k_sv[1][0][uniq_idx]\n",
    "    k_sv_ci0 = k_sv[0][1][:,uniq_idx]\n",
    "    k_sv_ci1 = k_sv[1][1][:,uniq_idx]\n",
    "\n",
    "    p_sv_0 = pb_sv[0][0][uniq_idx]\n",
    "    p_sv_1 = pb_sv[1][0][uniq_idx]\n",
    "    p_sv_ci0 = pb_sv[0][1][:,uniq_idx]\n",
    "    p_sv_ci1 = pb_sv[1][1][:,uniq_idx]\n",
    "\n",
    "    r_sv_0 = r_sv[0][0][uniq_idx]\n",
    "    r_sv_1 = r_sv[1][0][uniq_idx]\n",
    "    r_sv_ci0 = r_sv[0][1][:,uniq_idx]\n",
    "    r_sv_ci1 = r_sv[1][1][:,uniq_idx]\n",
    "\n",
    "    meta_lst.append(meta)\n",
    "    sv_true_lst0.append(sv_t_0)\n",
    "    k_sv_lst0.append(k_sv_0)\n",
    "    k_sv_ci_lst0.append(k_sv_ci0)\n",
    "    pb_sv_lst0.append(p_sv_0)\n",
    "    pb_sv_ci_lst0.append(p_sv_ci0)\n",
    "    r_sv_lst0.append(r_sv_0)\n",
    "    r_sv_ci_lst0.append(r_sv_ci0)\n",
    "    sv_true_lst1.append(sv_t_1)\n",
    "    k_sv_lst1.append(k_sv_1)\n",
    "    k_sv_ci_lst1.append(k_sv_ci1)\n",
    "    pb_sv_lst1.append(p_sv_1)\n",
    "    pb_sv_ci_lst1.append(p_sv_ci1)\n",
    "    r_sv_lst1.append(r_sv_1)\n",
    "    r_sv_ci_lst1.append(r_sv_ci1)"
   ]
  },
  {
   "cell_type": "code",
   "execution_count": 208,
   "metadata": {},
   "outputs": [],
   "source": []
  },
  {
   "cell_type": "code",
   "execution_count": 228,
   "metadata": {},
   "outputs": [],
   "source": [
    "k, p, r = fn.get_metrics2(\n",
    "    sv_true_lst0, sv_true_lst1,\n",
    "    k_sv_lst0, k_sv_lst1,\n",
    "    k_sv_ci_lst0, k_sv_ci_lst1,\n",
    "    pb_sv_lst0, pb_sv_lst1,\n",
    "    pb_sv_ci_lst0, pb_sv_ci_lst1,\n",
    "    r_sv_lst0, r_sv_lst1,\n",
    "    r_sv_ci_lst0, r_sv_ci_lst1\n",
    ")"
   ]
  },
  {
   "cell_type": "code",
   "execution_count": 230,
   "metadata": {},
   "outputs": [
    {
     "data": {
      "text/plain": [
       "{'rmse': array([0.07258913, 0.08262077, 0.05198572, 0.03356208, 0.02971822]),\n",
       " 'bias': array([ 1.20937248e-02, -3.08097739e-03,  7.95616025e-03,  3.47056996e-03,\n",
       "         6.35450355e-05]),\n",
       " 'cov': array([0.9 , 0.85, 0.95, 0.95, 0.9 ]),\n",
       " 'ivl': array([0.22018502, 0.24808669, 0.20972683, 0.14971771, 0.10672575])}"
      ]
     },
     "execution_count": 230,
     "metadata": {},
     "output_type": "execute_result"
    }
   ],
   "source": [
    "r"
   ]
  },
  {
   "cell_type": "code",
   "execution_count": 226,
   "metadata": {},
   "outputs": [
    {
     "data": {
      "text/plain": [
       "<matplotlib.legend.Legend at 0x7f1fdeb5c5b0>"
      ]
     },
     "execution_count": 226,
     "metadata": {},
     "output_type": "execute_result"
    },
    {
     "data": {
      "image/png": "[encoded data removed]",
      "text/plain": [
       "<Figure size 640x480 with 1 Axes>"
      ]
     },
     "metadata": {},
     "output_type": "display_data"
    }
   ],
   "source": [
    "p0 = True\n",
    "p1 = False\n",
    "p0_k = False\n",
    "p1_k = False\n",
    "p0_p = True\n",
    "p1_p = False\n",
    "p0_r = True\n",
    "p1_r = False\n",
    "\n",
    "\n",
    "ttt = meta[1]\n",
    "t = meta[2]\n",
    "# true\n",
    "if p0:\n",
    "    plt.step(ttt, sv_true[0], color=\"black\", label=\"t0\")\n",
    "if p1:\n",
    "    plt.step(ttt, sv_true[1], color=\"grey\", label=\"t1\")\n",
    "\n",
    "#kpm\n",
    "if p0_k:\n",
    "    plt.step(t, k_sv[0][0], color = \"rosybrown\", label = \"k0\", alpha=0.8)\n",
    "    plt.step(t, k_sv[0][1][0], color = \"rosybrown\", alpha=0.2)\n",
    "    plt.step(t, k_sv[0][1][1], color = \"rosybrown\", alpha=0.2)\n",
    "if p1_k:\n",
    "    plt.step(t, k_sv[1][0], color = \"coral\", label = \"k1\", alpha=0.8)\n",
    "    plt.step(t, k_sv[1][1][0], color = \"coral\",  alpha=0.2)\n",
    "    plt.step(t, k_sv[1][1][1], color = \"coral\",  alpha=0.2)\n",
    "\n",
    "# pb\n",
    "if p0_p:\n",
    "    plt.step(t, pb_sv[0][0], label=\"pb0\", color = \"slateblue\", alpha=0.5)\n",
    "    plt.step(t, pb_sv[0][1][0], color = \"slateblue\", alpha=0.2)\n",
    "    plt.step(t, pb_sv[0][1][1], color = \"slateblue\", alpha=0.2)\n",
    "if p1_p:\n",
    "    plt.step(t, pb_sv[1][0], label=\"pb1\", color = \"blue\", alpha=0.5)\n",
    "    plt.step(t, pb_sv[1][1][0], color = \"blue\", alpha=0.2)\n",
    "    plt.step(t, pb_sv[1][1][1], color = \"blue\", alpha=0.2)\n",
    "\n",
    "# #rb\n",
    "if p0_r:\n",
    "    plt.step(t, r_sv[0][0], color=\"green\", label=\"r0\", alpha=0.5)\n",
    "    plt.step(t, r_sv[0][1][0], color=\"green\",  alpha=0.2)\n",
    "    plt.step(t, r_sv[0][1][1], color=\"green\",  alpha=0.2)\n",
    "if p1_r:\n",
    "    plt.step(t, r_sv[1][0], color=\"forestgreen\", label=\"r1\", alpha=0.5)\n",
    "    plt.step(t, r_sv[1][1][0], color=\"forestgreen\",  alpha=0.2)\n",
    "    plt.step(t, r_sv[1][1][1], color=\"forestgreen\", alpha=0.2)\n",
    "\n",
    "plt.legend()\n",
    "    "
   ]
  },
  {
   "cell_type": "markdown",
   "metadata": {},
   "source": [
    "# todo\n",
    "- need to fix the kpm to be balanced preds\n",
    "- need to do the rbart\n",
    "  - Rbart and pybart are aligned"
   ]
  },
  {
   "cell_type": "code",
   "execution_count": 26,
   "metadata": {},
   "outputs": [
    {
     "data": {
      "text/plain": [
       "array([0., 1.])"
      ]
     },
     "execution_count": 26,
     "metadata": {},
     "output_type": "execute_result"
    }
   ],
   "source": [
    "sv_true\n",
    "x_vals = np.unique(x_mat)\n",
    "x_vals\n"
   ]
  },
  {
   "cell_type": "markdown",
   "metadata": {},
   "source": [
    "# Functions"
   ]
  },
  {
   "cell_type": "markdown",
   "metadata": {},
   "source": [
    "## Simulation Functions"
   ]
  },
  {
   "cell_type": "markdown",
   "metadata": {},
   "source": [
    "2 cens\n",
    "3 smpl\n",
    "5 times\n",
    "== 30 total scenarios"
   ]
  },
  {
   "cell_type": "code",
   "execution_count": 2,
   "metadata": {},
   "outputs": [],
   "source": [
    "rng = np.random.default_rng(99)"
   ]
  },
  {
   "cell_type": "markdown",
   "metadata": {},
   "source": [
    "There is no good way to predetermine censoring. Lower cens_scale == > cens percent. 4 is generally around 20%, .5 generally around 50% censored.\n",
    "Trial to find"
   ]
  },
  {
   "cell_type": "code",
   "execution_count": 2,
   "metadata": {},
   "outputs": [],
   "source": [
    "# cns = []\n",
    "# for i in range(0,1000):\n",
    "#     event_dict, sv_true, sv_scale_true = sm.simulate_survival(\n",
    "#         x_mat = x_mat,\n",
    "#         scale_f=\"2.5*x_mat[:,0]\",\n",
    "#         shape_f=\".8\",\n",
    "#         cens_scale=3.3,\n",
    "#         rng = rng\n",
    "#     )\n",
    "#     # print(event_dict[\"cens_percentage\"])\n",
    "#     cns.append(event_dict[\"status\"][event_dict[\"status\"]==0].shape[0]/event_dict[\"status\"].shape[0])"
   ]
  },
  {
   "cell_type": "code",
   "execution_count": 6,
   "metadata": {},
   "outputs": [
    {
     "data": {
      "text/plain": [
       "{'type': 'Simple, 1 group, 50% cens',\n",
       " 'x_vars': 1,\n",
       " 'VAR_CLASS': [2],\n",
       " 'VAR_PROB': [1],\n",
       " 'scale_f': '2.5*x_mat[:,0]',\n",
       " 'shape_f': '.8',\n",
       " 'cens_scale': 3.3}"
      ]
     },
     "execution_count": 6,
     "metadata": {},
     "output_type": "execute_result"
    }
   ],
   "source": [
    "simple_1_1"
   ]
  },
  {
   "cell_type": "code",
   "execution_count": 137,
   "metadata": {},
   "outputs": [],
   "source": [
    "SPLIT_RULES =  [\n",
    "    \"pmb.ContinuousSplitRule()\", \n",
    "    # \"pmb.OneHotSplitRule()\"\n",
    "]\n",
    "model_dict = {\"trees\": 10,\n",
    "    \"split_rules\": SPLIT_RULES\n",
    "}\n",
    "sampler_dict = {\n",
    "            \"draws\": 200,\n",
    "            \"tune\": 30,\n",
    "            \"cores\": 6,\n",
    "            \"chains\": 6,\n",
    "            \"compute_convergence_checks\": False\n",
    "        }"
   ]
  },
  {
   "cell_type": "code",
   "execution_count": 1,
   "metadata": {},
   "outputs": [],
   "source": [
    "# i_lst = []\n",
    "# sv_true_r1_lst = [] \n",
    "# cens_perc_lst = []\n",
    "# uniq_t_lst = []\n",
    "# qnt_t_lst = []\n",
    "\n",
    "# k_cov_lst = []\n",
    "# pb_cov_lst = []\n",
    "# r_cov_lst = []\n",
    "# k_ci_l_lst = []\n",
    "# pb_ci_l_lst = []\n",
    "# r_ci_l_lst = []\n",
    "# k_rmse_lst = []\n",
    "# pb_rmse_lst = []\n",
    "# r_rmse_lst = []\n",
    "# k_bias_lst = [] \n",
    "# pb_bias_lst = []\n",
    "# r_bias_lst = []\n",
    "\n",
    "# for i in range(1):\n",
    "#     print(i)\n",
    "#     i_lst.append(i)\n",
    "#     sv_true, cens_perc, uniq_t, qnt_t, qnt_idx, sv_true_r1, k_sv_m, k_sv_q, pb_sv_m, pb_sv_q, r_sv_m, r_sv_q = sim_1s(seed=i, n=N[0], scenario=simple_1_1, SPLIT_RULES=SPLIT_RULES, model_dict=model_dict, sampler_dict=sampler_dict)\n",
    "#     cens_perc_lst.append(cens_perc)\n",
    "#     uniq_t_lst.append(uniq_t)\n",
    "#     qnt_t_lst.append(qnt_t)\n",
    "\n",
    "#     k_cov, pb_cov, r_cov, k_ci_l, pb_ci_l, r_ci_l, k_rmse, pb_rmse, r_rmse, k_bias, pb_bias, r_bias = get_metrics(\n",
    "#         sv_true_r1,\n",
    "#         qnt_t, qnt_idx,\n",
    "#         k_sv_m, k_sv_q,\n",
    "#         pb_sv_m, pb_sv_q,\n",
    "#         r_sv_m, r_sv_q\n",
    "#     )\n",
    "#     k_cov_lst.append(k_cov)\n",
    "#     pb_cov_lst.append(pb_cov)\n",
    "#     r_cov_lst.append(r_cov)\n",
    "#     k_ci_l_lst.append(k_ci_l)\n",
    "#     pb_ci_l_lst.append(pb_ci_l)\n",
    "#     r_ci_l_lst.append(r_ci_l)\n",
    "#     k_rmse_lst.append(k_rmse)\n",
    "#     pb_rmse_lst.append(pb_rmse)\n",
    "#     r_rmse_lst.append(r_rmse)\n",
    "#     k_bias_lst.append(k_bias)\n",
    "#     pb_bias_lst.append(pb_bias)\n",
    "#     r_bias_lst.append(r_bias)\n",
    "    "
   ]
  },
  {
   "cell_type": "code",
   "execution_count": 91,
   "metadata": {},
   "outputs": [
    {
     "data": {
      "text/plain": [
       "<matplotlib.legend.Legend at 0x7fb4d423a140>"
      ]
     },
     "execution_count": 91,
     "metadata": {},
     "output_type": "execute_result"
    },
    {
     "data": {
      "image/png": "[encoded data removed]",
      "text/plain": [
       "<Figure size 640x480 with 1 Axes>"
      ]
     },
     "metadata": {},
     "output_type": "display_data"
    }
   ],
   "source": [
    "\n",
    "# ttt = np.arange(1, svv.shape[0]+1)\n",
    "ttt = uniq_t\n",
    "plt.step(ttt,pb_sv_m, color = \"blue\", alpha=0.8, label = \"py_bart\")\n",
    "plt.step(ttt, pb_sv_q[0,:], color=\"blue\", alpha=0.2,)\n",
    "plt.step(ttt, pb_sv_q[1,:], color=\"blue\", alpha=0.2)\n",
    "plt.step(ttt, k_sv_m, color=\"green\", alpha=0.8, label=\"km\")\n",
    "plt.step(ttt, k_sv_q[0,:], color=\"green\", alpha=0.2)\n",
    "plt.step(ttt, k_sv_q[1,:], color=\"green\", alpha=0.2)\n",
    "plt.step(ttt, r_sv_m, color = \"red\", alpha=0.8, label=\"r_bart\")\n",
    "plt.step(ttt, r_sv_q[0,:], color = \"red\", alpha=0.2)\n",
    "plt.step(ttt, r_sv_q[1,:], color = \"red\", alpha=0.2)\n",
    "\n",
    "plt.step(sv_true[\"true_times\"], sv_true[\"sv_true\"].mean(0), color = \"orange\", alpha=0.8, label=\"true\")\n",
    "plt.legend()\n"
   ]
  }
 ],
 "metadata": {
  "kernelspec": {
   "display_name": "Python 3.10.12 ('.paper_venv': venv)",
   "language": "python",
   "name": "python3"
  },
  "language_info": {
   "codemirror_mode": {
    "name": "ipython",
    "version": 3
   },
   "file_extension": ".py",
   "mimetype": "text/x-python",
   "name": "python",
   "nbconvert_exporter": "python",
   "pygments_lexer": "ipython3",
   "version": "3.10.12"
  },
  "orig_nbformat": 4,
  "vscode": {
   "interpreter": {
    "hash": "e45457e90195d1585fce856b4f6dbb6d2ca5f521e76b59d4cfa3c981e92b93bd"
   }
  }
 },
 "nbformat": 4,
 "nbformat_minor": 2
}
