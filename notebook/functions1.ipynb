{
 "cells": [
  {
   "cell_type": "code",
   "execution_count": 1,
   "metadata": {},
   "outputs": [
    {
     "name": "stderr",
     "output_type": "stream",
     "text": [
      "WARNING (pytensor.tensor.blas): Using NumPy C-API based implementation for BLAS functions.\n"
     ]
    }
   ],
   "source": [
    "import pandas as pd\n",
    "import numpy as np\n",
    "import lifelines as ll\n",
    "import sksurv as sks\n",
    "from bart_survival import surv_bart as sb\n",
    "from bart_survival import simulation as sm"
   ]
  },
  {
   "cell_type": "markdown",
   "metadata": {},
   "source": [
    "# Functions"
   ]
  },
  {
   "cell_type": "markdown",
   "metadata": {},
   "source": [
    "## Simulation Functions"
   ]
  },
  {
   "cell_type": "markdown",
   "metadata": {},
   "source": [
    "2 cens\n",
    "3 smpl\n",
    "5 times\n",
    "== 30 total scenarios"
   ]
  },
  {
   "cell_type": "code",
   "execution_count": 37,
   "metadata": {},
   "outputs": [],
   "source": [
    "rng = np.random.default_rng(99)"
   ]
  },
  {
   "cell_type": "code",
   "execution_count": 45,
   "metadata": {},
   "outputs": [
    {
     "name": "stdout",
     "output_type": "stream",
     "text": [
      "mean shape 0.7999999999999998\n",
      "mean scale 2.5\n",
      "mean time draws 2.330329192792171\n",
      "cens mean 5.51\n",
      "0.78\n"
     ]
    },
    {
     "data": {
      "text/plain": [
       "0.22"
      ]
     },
     "execution_count": 45,
     "metadata": {},
     "output_type": "execute_result"
    }
   ],
   "source": [
    "x_mat = sm.get_x_matrix(\n",
    "    N = 100,\n",
    "    x_vars = 1, \n",
    "    VAR_CLASS=[2],\n",
    "    VAR_PROB=[1]\n",
    ")\n",
    "event_dict, sv_true, sv_scale_true = sm.simulate_survival(\n",
    "    x_mat = x_mat,\n",
    "    scale_f=\"2.5*x_mat[:,0]\",\n",
    "    shape_f=\".8\",\n",
    "    cens_scale=2,\n",
    "    rng = rng\n",
    ")\n",
    "\n",
    "print(event_dict[\"cens_percentage\"])\n",
    "event_dict[\"status\"][event_dict[\"status\"]==0].shape[0]/event_dict[\"status\"].shape[0]"
   ]
  }
 ],
 "metadata": {
  "kernelspec": {
   "display_name": "Python 3.10.12 ('.paper_venv': venv)",
   "language": "python",
   "name": "python3"
  },
  "language_info": {
   "codemirror_mode": {
    "name": "ipython",
    "version": 3
   },
   "file_extension": ".py",
   "mimetype": "text/x-python",
   "name": "python",
   "nbconvert_exporter": "python",
   "pygments_lexer": "ipython3",
   "version": "3.10.12"
  },
  "orig_nbformat": 4,
  "vscode": {
   "interpreter": {
    "hash": "e45457e90195d1585fce856b4f6dbb6d2ca5f521e76b59d4cfa3c981e92b93bd"
   }
  }
 },
 "nbformat": 4,
 "nbformat_minor": 2
}
