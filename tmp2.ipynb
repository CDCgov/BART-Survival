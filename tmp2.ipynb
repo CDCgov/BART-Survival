{
 "cells": [
  {
   "cell_type": "code",
   "execution_count": 4,
   "metadata": {},
   "outputs": [],
   "source": [
    "from bart_survival import simulation as sim\n",
    "from bart_survival import surv_bart as sb"
   ]
  },
  {
   "cell_type": "code",
   "execution_count": 5,
   "metadata": {},
   "outputs": [],
   "source": [
    "import importlib\n",
    "import numpy as np\n",
    "rng = np.random.default_rng(1)"
   ]
  },
  {
   "cell_type": "code",
   "execution_count": 70,
   "metadata": {},
   "outputs": [],
   "source": [
    "x_mat = sim.get_x_matrix(\n",
    "    N=100,\n",
    "    x_vars=1,\n",
    "    VAR_CLASS=[2],\n",
    "    VAR_PROB=[.5],\n",
    "    rng = rng\n",
    ")\n",
    "# x_mat"
   ]
  },
  {
   "cell_type": "code",
   "execution_count": 75,
   "metadata": {},
   "outputs": [
    {
     "name": "stdout",
     "output_type": "stream",
     "text": [
      "mean shape 1.0\n",
      "mean scale 8.951727820066358\n",
      "mean time draws 8.183425597928592\n",
      "0.6703200460356392\n",
      "1.0\n"
     ]
    }
   ],
   "source": [
    "# x_mat = np.array([1,2]).reshape(-1,1)\n",
    "event_dict, sv_true, sv_scale_true = sim.simulate_survival(\n",
    "    x_mat = x_mat,\n",
    "    scale_f = \"np.exp(2 + .4*x_mat[:,0])\",\n",
    "    shape_f = \"1\",\n",
    "    eos = 20,\n",
    "    cens_scale=None,\n",
    "    time_scale=5,\n",
    "    true_only=False,\n",
    "    rng = rng\n",
    ")\n",
    "\n",
    "# HR check\n",
    "print(np.exp(-.4))\n",
    "print(sv_true[\"hz_true\"][0,0]/sv_true[\"hz_true\"][1,0])"
   ]
  },
  {
   "cell_type": "code",
   "execution_count": 81,
   "metadata": {},
   "outputs": [],
   "source": [
    "# event_dict[\"t_event_scale\"]\n",
    "importlib.reload(sb)\n",
    "BSM = sb.BartSurvModel()\n",
    "\n",
    "BSM.fit(\n",
    "    y = \n",
    ")\n",
    "    \n",
    "    \n"
   ]
  }
 ],
 "metadata": {
  "kernelspec": {
   "display_name": "Python 3.10.12 ('.venv': venv)",
   "language": "python",
   "name": "python3"
  },
  "language_info": {
   "codemirror_mode": {
    "name": "ipython",
    "version": 3
   },
   "file_extension": ".py",
   "mimetype": "text/x-python",
   "name": "python",
   "nbconvert_exporter": "python",
   "pygments_lexer": "ipython3",
   "version": "3.10.12"
  },
  "orig_nbformat": 4,
  "vscode": {
   "interpreter": {
    "hash": "e8daa9f57b3ff41e9f0dc5be64bc96548246028283f730aa693f51a61e60e699"
   }
  }
 },
 "nbformat": 4,
 "nbformat_minor": 2
}
